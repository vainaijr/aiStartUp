{
  "nbformat": 4,
  "nbformat_minor": 0,
  "metadata": {
    "colab": {
      "name": "snippets_2.ipynb",
      "version": "0.3.2",
      "provenance": [],
      "include_colab_link": true
    },
    "kernelspec": {
      "name": "python3",
      "display_name": "Python 3"
    }
  },
  "cells": [
    {
      "cell_type": "markdown",
      "metadata": {
        "id": "view-in-github",
        "colab_type": "text"
      },
      "source": [
        "<a href=\"https://colab.research.google.com/github/vainaijr/aiStartUp/blob/master/snippets_2.ipynb\" target=\"_parent\"><img src=\"https://colab.research.google.com/assets/colab-badge.svg\" alt=\"Open In Colab\"/></a>"
      ]
    },
    {
      "cell_type": "markdown",
      "metadata": {
        "id": "BpMprGyfBqp9",
        "colab_type": "text"
      },
      "source": [
        "# networkx"
      ]
    },
    {
      "cell_type": "code",
      "metadata": {
        "id": "1lmaa6G-Bsch",
        "colab_type": "code",
        "colab": {}
      },
      "source": [
        "import networkx as nx\n",
        "from networkx import nx"
      ],
      "execution_count": 0,
      "outputs": []
    },
    {
      "cell_type": "code",
      "metadata": {
        "id": "Bt4NgrV1BtvF",
        "colab_type": "code",
        "colab": {}
      },
      "source": [
        "nx.grid_2d_graph\n",
        "nx.lollipop_graph\n",
        "nx.is_graphical\n",
        "\n",
        "nx.configuration_model\n",
        "\n",
        "for line in nx.generate_adjlist\n",
        "for v in G.nodes():\n",
        "nx.single_source_shortest_path_length\n",
        "\n",
        "nx.radius\n",
        "nx.diameter\n",
        "nx.eccentricity\n",
        "nx.center\n",
        "nx.periphery\n",
        "nx.density\n",
        "\n",
        "nx.write_edgelist\n",
        "nx.read_edgelist\n",
        "nx.draw\n"
      ],
      "execution_count": 0,
      "outputs": []
    },
    {
      "cell_type": "markdown",
      "metadata": {
        "id": "hZgxyD7vFeQS",
        "colab_type": "text"
      },
      "source": [
        "# video"
      ]
    },
    {
      "cell_type": "code",
      "metadata": {
        "id": "NnfcqQQpFf9N",
        "colab_type": "code",
        "colab": {}
      },
      "source": [
        "from IPython.display import HTML\n",
        "\n",
        "# Youtube\n",
        "HTML('<iframe width=\"560\" height=\"315\" src=\"https://www.youtube.com/embed/S_f2qV2_U00?rel=0&amp;controls=0&amp;showinfo=0\" frameborder=\"0\" allowfullscreen></iframe>')"
      ],
      "execution_count": 0,
      "outputs": []
    },
    {
      "cell_type": "markdown",
      "metadata": {
        "id": "5X_0EXa4PZfB",
        "colab_type": "text"
      },
      "source": [
        "# eliot"
      ]
    },
    {
      "cell_type": "code",
      "metadata": {
        "id": "n35BsR9IPaHT",
        "colab_type": "code",
        "colab": {}
      },
      "source": [
        "!pip install eliot\n",
        "!pip install eliot-tree"
      ],
      "execution_count": 0,
      "outputs": []
    },
    {
      "cell_type": "code",
      "metadata": {
        "id": "1hqaJ_55Pbz8",
        "colab_type": "code",
        "colab": {}
      },
      "source": [
        "from eliot import log_call, to_file\n",
        "\n",
        "to_file(open(\"out.log\", \"w\"))"
      ],
      "execution_count": 0,
      "outputs": []
    },
    {
      "cell_type": "code",
      "metadata": {
        "id": "murM9gjyPhI5",
        "colab_type": "code",
        "colab": {}
      },
      "source": [
        "!eliot-tree out.log | grep -A1 double.*started"
      ],
      "execution_count": 0,
      "outputs": []
    },
    {
      "cell_type": "markdown",
      "metadata": {
        "id": "KDXq-82S0mRk",
        "colab_type": "text"
      },
      "source": [
        "# function__"
      ]
    },
    {
      "cell_type": "code",
      "metadata": {
        "id": "VFNDTPcyyEMj",
        "colab_type": "code",
        "colab": {}
      },
      "source": [
        "def add(a: int, b: int) -> int:\n",
        "  \"\"\"adds two numbers\"\"\"\n",
        "  x = a + b\n",
        "  return x"
      ],
      "execution_count": 0,
      "outputs": []
    },
    {
      "cell_type": "code",
      "metadata": {
        "id": "hCesXI7Xz-F7",
        "colab_type": "code",
        "outputId": "45a80fa7-0e10-4632-bd99-735129eaeb4d",
        "colab": {
          "base_uri": "https://localhost:8080/",
          "height": 34
        }
      },
      "source": [
        "print(add.__doc__)"
      ],
      "execution_count": 0,
      "outputs": [
        {
          "output_type": "stream",
          "text": [
            "adds two numbers\n"
          ],
          "name": "stdout"
        }
      ]
    },
    {
      "cell_type": "code",
      "metadata": {
        "id": "l7M0Qv6x0CE9",
        "colab_type": "code",
        "outputId": "f3767127-ece2-4985-c98b-b37e9efe52b9",
        "colab": {
          "base_uri": "https://localhost:8080/",
          "height": 34
        }
      },
      "source": [
        "print(add.__annotations__)"
      ],
      "execution_count": 0,
      "outputs": [
        {
          "output_type": "stream",
          "text": [
            "{'a': <class 'int'>, 'b': <class 'int'>, 'return': <class 'int'>}\n"
          ],
          "name": "stdout"
        }
      ]
    },
    {
      "cell_type": "code",
      "metadata": {
        "id": "FXDFxlZq0JDr",
        "colab_type": "code",
        "outputId": "6da8525a-1a51-40e4-9e0e-691b923c6ede",
        "colab": {
          "base_uri": "https://localhost:8080/",
          "height": 34
        }
      },
      "source": [
        "print(add.__code__.co_varnames)"
      ],
      "execution_count": 0,
      "outputs": [
        {
          "output_type": "stream",
          "text": [
            "('a', 'b', 'x')\n"
          ],
          "name": "stdout"
        }
      ]
    },
    {
      "cell_type": "code",
      "metadata": {
        "id": "xf3-TJmc9o2D",
        "colab_type": "code",
        "outputId": "0a0f43a1-aa00-4c7b-9a87-7350c238c947",
        "colab": {
          "base_uri": "https://localhost:8080/",
          "height": 34
        }
      },
      "source": [
        "print(add.__closure__)"
      ],
      "execution_count": 0,
      "outputs": [
        {
          "output_type": "stream",
          "text": [
            "None\n"
          ],
          "name": "stdout"
        }
      ]
    },
    {
      "cell_type": "code",
      "metadata": {
        "id": "81SlVjF40bWg",
        "colab_type": "code",
        "outputId": "3d26f539-9f2f-45fb-c207-b2ff282cc9ad",
        "colab": {
          "base_uri": "https://localhost:8080/",
          "height": 34
        }
      },
      "source": [
        "from inspect import signature\n",
        "signature(add).parameters"
      ],
      "execution_count": 0,
      "outputs": [
        {
          "output_type": "execute_result",
          "data": {
            "text/plain": [
              "mappingproxy({'a': <Parameter \"a:int\">, 'b': <Parameter \"b:int\">})"
            ]
          },
          "metadata": {
            "tags": []
          },
          "execution_count": 12
        }
      ]
    },
    {
      "cell_type": "markdown",
      "metadata": {
        "id": "nWpaP4pA7qIG",
        "colab_type": "text"
      },
      "source": [
        "# call dunder"
      ]
    },
    {
      "cell_type": "code",
      "metadata": {
        "id": "WkpMO-rW0gWE",
        "colab_type": "code",
        "colab": {}
      },
      "source": [
        "class Averager():\n",
        "  def __init__(self):\n",
        "    self.series = []\n",
        "  \n",
        "  def __call__(self, new_value):\n",
        "    self.series.append(new_value)\n",
        "    total = sum(self.series)\n",
        "    return total / len(self.series)    "
      ],
      "execution_count": 0,
      "outputs": []
    },
    {
      "cell_type": "code",
      "metadata": {
        "id": "ShbtxCZw6jOr",
        "colab_type": "code",
        "colab": {}
      },
      "source": [
        "avg = Averager()"
      ],
      "execution_count": 0,
      "outputs": []
    },
    {
      "cell_type": "code",
      "metadata": {
        "id": "Sdor7wI26lf7",
        "colab_type": "code",
        "outputId": "1f662588-67b6-4ba6-a242-c878b01a4516",
        "colab": {
          "base_uri": "https://localhost:8080/",
          "height": 34
        }
      },
      "source": [
        "avg.__call__(10)"
      ],
      "execution_count": 0,
      "outputs": [
        {
          "output_type": "execute_result",
          "data": {
            "text/plain": [
              "10.0"
            ]
          },
          "metadata": {
            "tags": []
          },
          "execution_count": 17
        }
      ]
    },
    {
      "cell_type": "code",
      "metadata": {
        "id": "eF6LlSql6mNX",
        "colab_type": "code",
        "colab": {}
      },
      "source": [
        "object.__call__?"
      ],
      "execution_count": 0,
      "outputs": []
    },
    {
      "cell_type": "code",
      "metadata": {
        "id": "vsD-Yv5o6sGB",
        "colab_type": "code",
        "colab": {}
      },
      "source": [
        "def make_average():\n",
        "  series = []\n",
        "  \n",
        "  def averager(new_value):\n",
        "    series.append(new_value)\n",
        "    total = sum(series)\n",
        "    return total / len(series)\n",
        "  \n",
        "  return averager"
      ],
      "execution_count": 0,
      "outputs": []
    },
    {
      "cell_type": "code",
      "metadata": {
        "id": "bAfaR1o_7h2G",
        "colab_type": "code",
        "colab": {}
      },
      "source": [
        "avg = make_average()"
      ],
      "execution_count": 0,
      "outputs": []
    },
    {
      "cell_type": "code",
      "metadata": {
        "id": "tkcEqjXz7kTr",
        "colab_type": "code",
        "outputId": "eea3fc72-3c04-4413-d516-a1820f128d3b",
        "colab": {
          "base_uri": "https://localhost:8080/",
          "height": 34
        }
      },
      "source": [
        "avg(10)"
      ],
      "execution_count": 0,
      "outputs": [
        {
          "output_type": "execute_result",
          "data": {
            "text/plain": [
              "10.0"
            ]
          },
          "metadata": {
            "tags": []
          },
          "execution_count": 21
        }
      ]
    },
    {
      "cell_type": "markdown",
      "metadata": {
        "id": "0PqedkKQA-pb",
        "colab_type": "text"
      },
      "source": [
        "# decorators in the standard library"
      ]
    },
    {
      "cell_type": "code",
      "metadata": {
        "id": "Lff6DMgXBAsq",
        "colab_type": "code",
        "colab": {}
      },
      "source": [
        "@property\n",
        "@classmethod\n",
        "@staticmethod\n",
        "@functools.wraps\n",
        "@functools.singledispatch\n",
        "@functools.total_ordering\n",
        "@functools.lru_cache"
      ],
      "execution_count": 0,
      "outputs": []
    },
    {
      "cell_type": "markdown",
      "metadata": {
        "id": "8yJ0Se5GE8p8",
        "colab_type": "text"
      },
      "source": [
        "# descriptors"
      ]
    },
    {
      "cell_type": "code",
      "metadata": {
        "id": "SOzH-v2LFGJa",
        "colab_type": "code",
        "colab": {}
      },
      "source": [
        "# a descriptor encapsulates attribute getting / setting logic in a reusable way"
      ],
      "execution_count": 0,
      "outputs": []
    },
    {
      "cell_type": "code",
      "metadata": {
        "id": "52w7Tmb-E91X",
        "colab_type": "code",
        "colab": {}
      },
      "source": [
        "# it is posible to use any class that implements __get__ or __set__ as a descriptor"
      ],
      "execution_count": 0,
      "outputs": []
    },
    {
      "cell_type": "markdown",
      "metadata": {
        "id": "R-dTIxkuUOsS",
        "colab_type": "text"
      },
      "source": [
        "# method resolution order"
      ]
    },
    {
      "cell_type": "code",
      "metadata": {
        "id": "8qF3XEfBURRU",
        "colab_type": "code",
        "colab": {}
      },
      "source": [
        "import inspect"
      ],
      "execution_count": 0,
      "outputs": []
    },
    {
      "cell_type": "code",
      "metadata": {
        "id": "GVqyZgkjUSHF",
        "colab_type": "code",
        "outputId": "e83922ed-499e-4e00-85e4-0eebfe3e2145",
        "colab": {
          "base_uri": "https://localhost:8080/",
          "height": 34
        }
      },
      "source": [
        "inspect.getmro(type(3.14))"
      ],
      "execution_count": 0,
      "outputs": [
        {
          "output_type": "execute_result",
          "data": {
            "text/plain": [
              "(float, object)"
            ]
          },
          "metadata": {
            "tags": []
          },
          "execution_count": 4
        }
      ]
    },
    {
      "cell_type": "code",
      "metadata": {
        "id": "WSvTW10OUWcM",
        "colab_type": "code",
        "outputId": "d36ddf73-adc4-479e-eba3-1c5722cc2784",
        "colab": {
          "base_uri": "https://localhost:8080/",
          "height": 34
        }
      },
      "source": [
        "(1 == 1).__class__.__mro__"
      ],
      "execution_count": 0,
      "outputs": [
        {
          "output_type": "execute_result",
          "data": {
            "text/plain": [
              "(bool, int, object)"
            ]
          },
          "metadata": {
            "tags": []
          },
          "execution_count": 5
        }
      ]
    },
    {
      "cell_type": "markdown",
      "metadata": {
        "id": "8c7eTsEhSLyT",
        "colab_type": "text"
      },
      "source": [
        "# nvcc"
      ]
    },
    {
      "cell_type": "code",
      "metadata": {
        "id": "WBZCFNMiSMf3",
        "colab_type": "code",
        "colab": {}
      },
      "source": [
        "!pip install git+git://github.com/andreinechaev/nvcc4jupyter.git"
      ],
      "execution_count": 0,
      "outputs": []
    },
    {
      "cell_type": "code",
      "metadata": {
        "id": "b4tHHXmDSNB7",
        "colab_type": "code",
        "colab": {}
      },
      "source": [
        "%load_ext nvcc_plugin"
      ],
      "execution_count": 0,
      "outputs": []
    },
    {
      "cell_type": "code",
      "metadata": {
        "id": "UjsVsMrTSOf8",
        "colab_type": "code",
        "colab": {}
      },
      "source": [
        "%%cu"
      ],
      "execution_count": 0,
      "outputs": []
    }
  ]
}