{
  "nbformat": 4,
  "nbformat_minor": 0,
  "metadata": {
    "colab": {
      "name": "snippets_2.ipynb",
      "version": "0.3.2",
      "provenance": [],
      "collapsed_sections": [
        "nWpaP4pA7qIG",
        "0PqedkKQA-pb",
        "8yJ0Se5GE8p8",
        "R-dTIxkuUOsS",
        "8c7eTsEhSLyT",
        "xCgm18yyWFP6"
      ],
      "include_colab_link": true
    },
    "kernelspec": {
      "name": "python3",
      "display_name": "Python 3"
    }
  },
  "cells": [
    {
      "cell_type": "markdown",
      "metadata": {
        "id": "view-in-github",
        "colab_type": "text"
      },
      "source": [
        "<a href=\"https://colab.research.google.com/github/vainaijr/aiStartUp/blob/master/snippets_2.ipynb\" target=\"_parent\"><img src=\"https://colab.research.google.com/assets/colab-badge.svg\" alt=\"Open In Colab\"/></a>"
      ]
    },
    {
      "cell_type": "markdown",
      "metadata": {
        "id": "BpMprGyfBqp9",
        "colab_type": "text"
      },
      "source": [
        "# networkx"
      ]
    },
    {
      "cell_type": "code",
      "metadata": {
        "id": "1lmaa6G-Bsch",
        "colab_type": "code",
        "colab": {}
      },
      "source": [
        "import networkx as nx\n",
        "from networkx import nx"
      ],
      "execution_count": 0,
      "outputs": []
    },
    {
      "cell_type": "code",
      "metadata": {
        "id": "Bt4NgrV1BtvF",
        "colab_type": "code",
        "colab": {}
      },
      "source": [
        "nx.grid_2d_graph\n",
        "nx.lollipop_graph\n",
        "nx.is_graphical\n",
        "\n",
        "nx.configuration_model\n",
        "\n",
        "for line in nx.generate_adjlist\n",
        "for v in G.nodes():\n",
        "nx.single_source_shortest_path_length\n",
        "\n",
        "nx.radius\n",
        "nx.diameter\n",
        "nx.eccentricity\n",
        "nx.center\n",
        "nx.periphery\n",
        "nx.density\n",
        "\n",
        "nx.write_edgelist\n",
        "nx.read_edgelist\n",
        "nx.draw\n"
      ],
      "execution_count": 0,
      "outputs": []
    },
    {
      "cell_type": "markdown",
      "metadata": {
        "id": "hZgxyD7vFeQS",
        "colab_type": "text"
      },
      "source": [
        "# video"
      ]
    },
    {
      "cell_type": "code",
      "metadata": {
        "id": "NnfcqQQpFf9N",
        "colab_type": "code",
        "colab": {}
      },
      "source": [
        "from IPython.display import HTML\n",
        "\n",
        "# Youtube\n",
        "HTML('<iframe width=\"560\" height=\"315\" src=\"https://www.youtube.com/embed/S_f2qV2_U00?rel=0&amp;controls=0&amp;showinfo=0\" frameborder=\"0\" allowfullscreen></iframe>')"
      ],
      "execution_count": 0,
      "outputs": []
    },
    {
      "cell_type": "markdown",
      "metadata": {
        "id": "5X_0EXa4PZfB",
        "colab_type": "text"
      },
      "source": [
        "# eliot"
      ]
    },
    {
      "cell_type": "code",
      "metadata": {
        "id": "n35BsR9IPaHT",
        "colab_type": "code",
        "colab": {}
      },
      "source": [
        "!pip install eliot\n",
        "!pip install eliot-tree"
      ],
      "execution_count": 0,
      "outputs": []
    },
    {
      "cell_type": "code",
      "metadata": {
        "id": "1hqaJ_55Pbz8",
        "colab_type": "code",
        "colab": {}
      },
      "source": [
        "from eliot import log_call, to_file\n",
        "\n",
        "to_file(open(\"out.log\", \"w\"))"
      ],
      "execution_count": 0,
      "outputs": []
    },
    {
      "cell_type": "code",
      "metadata": {
        "id": "murM9gjyPhI5",
        "colab_type": "code",
        "colab": {}
      },
      "source": [
        "!eliot-tree out.log | grep -A1 double.*started"
      ],
      "execution_count": 0,
      "outputs": []
    },
    {
      "cell_type": "markdown",
      "metadata": {
        "id": "KDXq-82S0mRk",
        "colab_type": "text"
      },
      "source": [
        "# function__"
      ]
    },
    {
      "cell_type": "code",
      "metadata": {
        "id": "VFNDTPcyyEMj",
        "colab_type": "code",
        "colab": {}
      },
      "source": [
        "def add(a: int, b: int) -> int:\n",
        "  \"\"\"adds two numbers\"\"\"\n",
        "  x = a + b\n",
        "  return x"
      ],
      "execution_count": 0,
      "outputs": []
    },
    {
      "cell_type": "code",
      "metadata": {
        "id": "hCesXI7Xz-F7",
        "colab_type": "code",
        "outputId": "45a80fa7-0e10-4632-bd99-735129eaeb4d",
        "colab": {
          "base_uri": "https://localhost:8080/",
          "height": 34
        }
      },
      "source": [
        "print(add.__doc__)"
      ],
      "execution_count": 0,
      "outputs": [
        {
          "output_type": "stream",
          "text": [
            "adds two numbers\n"
          ],
          "name": "stdout"
        }
      ]
    },
    {
      "cell_type": "code",
      "metadata": {
        "id": "l7M0Qv6x0CE9",
        "colab_type": "code",
        "outputId": "f3767127-ece2-4985-c98b-b37e9efe52b9",
        "colab": {
          "base_uri": "https://localhost:8080/",
          "height": 34
        }
      },
      "source": [
        "print(add.__annotations__)"
      ],
      "execution_count": 0,
      "outputs": [
        {
          "output_type": "stream",
          "text": [
            "{'a': <class 'int'>, 'b': <class 'int'>, 'return': <class 'int'>}\n"
          ],
          "name": "stdout"
        }
      ]
    },
    {
      "cell_type": "code",
      "metadata": {
        "id": "FXDFxlZq0JDr",
        "colab_type": "code",
        "outputId": "6da8525a-1a51-40e4-9e0e-691b923c6ede",
        "colab": {
          "base_uri": "https://localhost:8080/",
          "height": 34
        }
      },
      "source": [
        "print(add.__code__.co_varnames)"
      ],
      "execution_count": 0,
      "outputs": [
        {
          "output_type": "stream",
          "text": [
            "('a', 'b', 'x')\n"
          ],
          "name": "stdout"
        }
      ]
    },
    {
      "cell_type": "code",
      "metadata": {
        "id": "xf3-TJmc9o2D",
        "colab_type": "code",
        "outputId": "0a0f43a1-aa00-4c7b-9a87-7350c238c947",
        "colab": {
          "base_uri": "https://localhost:8080/",
          "height": 34
        }
      },
      "source": [
        "print(add.__closure__)"
      ],
      "execution_count": 0,
      "outputs": [
        {
          "output_type": "stream",
          "text": [
            "None\n"
          ],
          "name": "stdout"
        }
      ]
    },
    {
      "cell_type": "code",
      "metadata": {
        "id": "81SlVjF40bWg",
        "colab_type": "code",
        "outputId": "3d26f539-9f2f-45fb-c207-b2ff282cc9ad",
        "colab": {
          "base_uri": "https://localhost:8080/",
          "height": 34
        }
      },
      "source": [
        "from inspect import signature\n",
        "signature(add).parameters"
      ],
      "execution_count": 0,
      "outputs": [
        {
          "output_type": "execute_result",
          "data": {
            "text/plain": [
              "mappingproxy({'a': <Parameter \"a:int\">, 'b': <Parameter \"b:int\">})"
            ]
          },
          "metadata": {
            "tags": []
          },
          "execution_count": 12
        }
      ]
    },
    {
      "cell_type": "markdown",
      "metadata": {
        "id": "nWpaP4pA7qIG",
        "colab_type": "text"
      },
      "source": [
        "# call dunder"
      ]
    },
    {
      "cell_type": "code",
      "metadata": {
        "id": "WkpMO-rW0gWE",
        "colab_type": "code",
        "colab": {}
      },
      "source": [
        "class Averager():\n",
        "  def __init__(self):\n",
        "    self.series = []\n",
        "  \n",
        "  def __call__(self, new_value):\n",
        "    self.series.append(new_value)\n",
        "    total = sum(self.series)\n",
        "    return total / len(self.series)    "
      ],
      "execution_count": 0,
      "outputs": []
    },
    {
      "cell_type": "code",
      "metadata": {
        "id": "ShbtxCZw6jOr",
        "colab_type": "code",
        "colab": {}
      },
      "source": [
        "avg = Averager()"
      ],
      "execution_count": 0,
      "outputs": []
    },
    {
      "cell_type": "code",
      "metadata": {
        "id": "Sdor7wI26lf7",
        "colab_type": "code",
        "outputId": "1f662588-67b6-4ba6-a242-c878b01a4516",
        "colab": {
          "base_uri": "https://localhost:8080/",
          "height": 34
        }
      },
      "source": [
        "avg.__call__(10)"
      ],
      "execution_count": 0,
      "outputs": [
        {
          "output_type": "execute_result",
          "data": {
            "text/plain": [
              "10.0"
            ]
          },
          "metadata": {
            "tags": []
          },
          "execution_count": 17
        }
      ]
    },
    {
      "cell_type": "code",
      "metadata": {
        "id": "eF6LlSql6mNX",
        "colab_type": "code",
        "colab": {}
      },
      "source": [
        "object.__call__?"
      ],
      "execution_count": 0,
      "outputs": []
    },
    {
      "cell_type": "code",
      "metadata": {
        "id": "vsD-Yv5o6sGB",
        "colab_type": "code",
        "colab": {}
      },
      "source": [
        "def make_average():\n",
        "  series = []\n",
        "  \n",
        "  def averager(new_value):\n",
        "    series.append(new_value)\n",
        "    total = sum(series)\n",
        "    return total / len(series)\n",
        "  \n",
        "  return averager"
      ],
      "execution_count": 0,
      "outputs": []
    },
    {
      "cell_type": "code",
      "metadata": {
        "id": "bAfaR1o_7h2G",
        "colab_type": "code",
        "colab": {}
      },
      "source": [
        "avg = make_average()"
      ],
      "execution_count": 0,
      "outputs": []
    },
    {
      "cell_type": "code",
      "metadata": {
        "id": "tkcEqjXz7kTr",
        "colab_type": "code",
        "outputId": "eea3fc72-3c04-4413-d516-a1820f128d3b",
        "colab": {
          "base_uri": "https://localhost:8080/",
          "height": 34
        }
      },
      "source": [
        "avg(10)"
      ],
      "execution_count": 0,
      "outputs": [
        {
          "output_type": "execute_result",
          "data": {
            "text/plain": [
              "10.0"
            ]
          },
          "metadata": {
            "tags": []
          },
          "execution_count": 21
        }
      ]
    },
    {
      "cell_type": "markdown",
      "metadata": {
        "id": "0PqedkKQA-pb",
        "colab_type": "text"
      },
      "source": [
        "# decorators in the standard library"
      ]
    },
    {
      "cell_type": "code",
      "metadata": {
        "id": "Lff6DMgXBAsq",
        "colab_type": "code",
        "colab": {}
      },
      "source": [
        "@property\n",
        "@classmethod\n",
        "@staticmethod\n",
        "@functools.wraps\n",
        "@functools.singledispatch\n",
        "@functools.total_ordering\n",
        "@functools.lru_cache"
      ],
      "execution_count": 0,
      "outputs": []
    },
    {
      "cell_type": "markdown",
      "metadata": {
        "id": "8yJ0Se5GE8p8",
        "colab_type": "text"
      },
      "source": [
        "# descriptors"
      ]
    },
    {
      "cell_type": "code",
      "metadata": {
        "id": "SOzH-v2LFGJa",
        "colab_type": "code",
        "colab": {}
      },
      "source": [
        "# a descriptor encapsulates attribute getting / setting logic in a reusable way"
      ],
      "execution_count": 0,
      "outputs": []
    },
    {
      "cell_type": "code",
      "metadata": {
        "id": "52w7Tmb-E91X",
        "colab_type": "code",
        "colab": {}
      },
      "source": [
        "# it is posible to use any class that implements __get__ or __set__ as a descriptor"
      ],
      "execution_count": 0,
      "outputs": []
    },
    {
      "cell_type": "markdown",
      "metadata": {
        "id": "R-dTIxkuUOsS",
        "colab_type": "text"
      },
      "source": [
        "# method resolution order"
      ]
    },
    {
      "cell_type": "code",
      "metadata": {
        "id": "8qF3XEfBURRU",
        "colab_type": "code",
        "colab": {}
      },
      "source": [
        "import inspect"
      ],
      "execution_count": 0,
      "outputs": []
    },
    {
      "cell_type": "code",
      "metadata": {
        "id": "GVqyZgkjUSHF",
        "colab_type": "code",
        "outputId": "e83922ed-499e-4e00-85e4-0eebfe3e2145",
        "colab": {
          "base_uri": "https://localhost:8080/",
          "height": 34
        }
      },
      "source": [
        "inspect.getmro(type(3.14))"
      ],
      "execution_count": 0,
      "outputs": [
        {
          "output_type": "execute_result",
          "data": {
            "text/plain": [
              "(float, object)"
            ]
          },
          "metadata": {
            "tags": []
          },
          "execution_count": 4
        }
      ]
    },
    {
      "cell_type": "code",
      "metadata": {
        "id": "WSvTW10OUWcM",
        "colab_type": "code",
        "outputId": "d36ddf73-adc4-479e-eba3-1c5722cc2784",
        "colab": {
          "base_uri": "https://localhost:8080/",
          "height": 34
        }
      },
      "source": [
        "(1 == 1).__class__.__mro__"
      ],
      "execution_count": 0,
      "outputs": [
        {
          "output_type": "execute_result",
          "data": {
            "text/plain": [
              "(bool, int, object)"
            ]
          },
          "metadata": {
            "tags": []
          },
          "execution_count": 5
        }
      ]
    },
    {
      "cell_type": "markdown",
      "metadata": {
        "id": "8c7eTsEhSLyT",
        "colab_type": "text"
      },
      "source": [
        "# nvcc"
      ]
    },
    {
      "cell_type": "code",
      "metadata": {
        "id": "WBZCFNMiSMf3",
        "colab_type": "code",
        "colab": {}
      },
      "source": [
        "!pip install git+git://github.com/andreinechaev/nvcc4jupyter.git"
      ],
      "execution_count": 0,
      "outputs": []
    },
    {
      "cell_type": "code",
      "metadata": {
        "id": "b4tHHXmDSNB7",
        "colab_type": "code",
        "colab": {}
      },
      "source": [
        "%load_ext nvcc_plugin"
      ],
      "execution_count": 0,
      "outputs": []
    },
    {
      "cell_type": "code",
      "metadata": {
        "id": "UjsVsMrTSOf8",
        "colab_type": "code",
        "colab": {}
      },
      "source": [
        "%%cu"
      ],
      "execution_count": 0,
      "outputs": []
    },
    {
      "cell_type": "markdown",
      "metadata": {
        "id": "xCgm18yyWFP6",
        "colab_type": "text"
      },
      "source": [
        "# os version "
      ]
    },
    {
      "cell_type": "code",
      "metadata": {
        "id": "2RzM9COGWHJv",
        "colab_type": "code",
        "colab": {}
      },
      "source": [
        "%%bash\n",
        "echo \"$(</etc/os-release)\""
      ],
      "execution_count": 0,
      "outputs": []
    },
    {
      "cell_type": "markdown",
      "metadata": {
        "id": "aZRARS5xEd2t",
        "colab_type": "text"
      },
      "source": [
        "# grep"
      ]
    },
    {
      "cell_type": "code",
      "metadata": {
        "id": "7s-BZKdRw7ki",
        "colab_type": "code",
        "colab": {}
      },
      "source": [
        "!grep \"WORLD\" world/hi.txt"
      ],
      "execution_count": 0,
      "outputs": []
    },
    {
      "cell_type": "code",
      "metadata": {
        "id": "GMHNXZtGxRuE",
        "colab_type": "code",
        "outputId": "f1272d59-42e5-4194-b417-e5e40e23c69a",
        "colab": {
          "base_uri": "https://localhost:8080/",
          "height": 34
        }
      },
      "source": [
        "!grep -i \"WORLD\" world/hi.txt"
      ],
      "execution_count": 0,
      "outputs": [
        {
          "output_type": "stream",
          "text": [
            "hello world\n"
          ],
          "name": "stdout"
        }
      ]
    },
    {
      "cell_type": "code",
      "metadata": {
        "id": "-FK5-ZTex4lU",
        "colab_type": "code",
        "colab": {}
      },
      "source": [
        "!grep -iv \"WORLD\" world/hi.txt"
      ],
      "execution_count": 0,
      "outputs": []
    },
    {
      "cell_type": "code",
      "metadata": {
        "id": "-mIkXRRVx6p0",
        "colab_type": "code",
        "outputId": "f05ade83-2ef9-47e9-c9e9-7b7a9ce4f017",
        "colab": {
          "base_uri": "https://localhost:8080/",
          "height": 34
        }
      },
      "source": [
        "!grep -v \"WORLD\" world/hi.txt"
      ],
      "execution_count": 0,
      "outputs": [
        {
          "output_type": "stream",
          "text": [
            "hello world\n"
          ],
          "name": "stdout"
        }
      ]
    },
    {
      "cell_type": "code",
      "metadata": {
        "id": "JRIIVk3uxlv2",
        "colab_type": "code",
        "outputId": "61cc8af2-41cd-4baf-ce74-23ccf882b7b3",
        "colab": {
          "base_uri": "https://localhost:8080/",
          "height": 34
        }
      },
      "source": [
        "!grep -rn \"he\" *"
      ],
      "execution_count": 0,
      "outputs": [
        {
          "output_type": "stream",
          "text": [
            "world/hi.txt:1:hello world\n"
          ],
          "name": "stdout"
        }
      ]
    },
    {
      "cell_type": "markdown",
      "metadata": {
        "id": "waWx0YS_al8p",
        "colab_type": "text"
      },
      "source": [
        "# AdaptiveConcatPool2d"
      ]
    },
    {
      "cell_type": "code",
      "metadata": {
        "id": "LxjV5IAWSOzz",
        "colab_type": "code",
        "colab": {}
      },
      "source": [
        "class AdaptiveConcatPool2d(nn.Module):\n",
        "  def __init__(self, sz=1):\n",
        "    super().__init__()\n",
        "    self.output_size = sz\n",
        "    self.ap = nn.AdaptiveAvgPool2d(sz)\n",
        "    self.mp = nn.AdaptiveMaxPool2d(sz)\n",
        "  \n",
        "  def forward(self, x):\n",
        "    return torch.cat([self.mp(x), self.ap(x)], 1)"
      ],
      "execution_count": 0,
      "outputs": []
    },
    {
      "cell_type": "code",
      "metadata": {
        "id": "PDLlIgSUTPwW",
        "colab_type": "code",
        "colab": {}
      },
      "source": [
        "nh = 40\n",
        "\n",
        "m_new = nn.Sequential(m_cut, AdaptiveConcatPool2d(), Flatten(), nn.Linear(ni * 2, data.c_out))"
      ],
      "execution_count": 0,
      "outputs": []
    },
    {
      "cell_type": "markdown",
      "metadata": {
        "id": "lCIs8UPuFjNc",
        "colab_type": "text"
      },
      "source": [
        "# in-place"
      ]
    },
    {
      "cell_type": "code",
      "metadata": {
        "id": "rWfUSbhfBEsF",
        "colab_type": "code",
        "colab": {}
      },
      "source": [
        "# example of not in-place"
      ],
      "execution_count": 0,
      "outputs": []
    },
    {
      "cell_type": "code",
      "metadata": {
        "id": "SxeLsH-bBGIH",
        "colab_type": "code",
        "colab": {}
      },
      "source": [
        "a = torch.randn(1)\n",
        "b = torch.randn(1)"
      ],
      "execution_count": 0,
      "outputs": []
    },
    {
      "cell_type": "code",
      "metadata": {
        "id": "gaThY3JHBH-V",
        "colab_type": "code",
        "outputId": "7c89562d-2b26-4edb-abbb-e8d423526afc",
        "colab": {
          "base_uri": "https://localhost:8080/",
          "height": 34
        }
      },
      "source": [
        "id(a)"
      ],
      "execution_count": 0,
      "outputs": [
        {
          "output_type": "execute_result",
          "data": {
            "text/plain": [
              "140060066035968"
            ]
          },
          "metadata": {
            "tags": []
          },
          "execution_count": 13
        }
      ]
    },
    {
      "cell_type": "code",
      "metadata": {
        "id": "76IAbC7GBIhh",
        "colab_type": "code",
        "outputId": "d4d20dc1-8c4b-4af4-90f6-086d0d16ddf0",
        "colab": {
          "base_uri": "https://localhost:8080/",
          "height": 34
        }
      },
      "source": [
        "id(b)"
      ],
      "execution_count": 0,
      "outputs": [
        {
          "output_type": "execute_result",
          "data": {
            "text/plain": [
              "140060066034240"
            ]
          },
          "metadata": {
            "tags": []
          },
          "execution_count": 14
        }
      ]
    },
    {
      "cell_type": "code",
      "metadata": {
        "id": "c2CkDsB8BI_j",
        "colab_type": "code",
        "colab": {}
      },
      "source": [
        "a = a + b # not in-place"
      ],
      "execution_count": 0,
      "outputs": []
    },
    {
      "cell_type": "code",
      "metadata": {
        "id": "Ch27Bpe9BKJB",
        "colab_type": "code",
        "outputId": "eea6b7a5-4485-42ec-f180-dbb74602881c",
        "colab": {
          "base_uri": "https://localhost:8080/",
          "height": 34
        }
      },
      "source": [
        "id(a) # changed because not in-place"
      ],
      "execution_count": 0,
      "outputs": [
        {
          "output_type": "execute_result",
          "data": {
            "text/plain": [
              "140060066034672"
            ]
          },
          "metadata": {
            "tags": []
          },
          "execution_count": 16
        }
      ]
    },
    {
      "cell_type": "code",
      "metadata": {
        "id": "5HHpULsTBKzl",
        "colab_type": "code",
        "colab": {}
      },
      "source": [
        "# example of in-place"
      ],
      "execution_count": 0,
      "outputs": []
    },
    {
      "cell_type": "code",
      "metadata": {
        "id": "43U4Zb_wBPAo",
        "colab_type": "code",
        "colab": {}
      },
      "source": [
        "c = torch.randn(1)\n",
        "d = torch.randn(1)"
      ],
      "execution_count": 0,
      "outputs": []
    },
    {
      "cell_type": "code",
      "metadata": {
        "id": "i-rzLkuaBRiS",
        "colab_type": "code",
        "outputId": "2ea2a727-6716-4e81-e89d-a6c8baf466d5",
        "colab": {
          "base_uri": "https://localhost:8080/",
          "height": 34
        }
      },
      "source": [
        "id(c)"
      ],
      "execution_count": 0,
      "outputs": [
        {
          "output_type": "execute_result",
          "data": {
            "text/plain": [
              "140060066037336"
            ]
          },
          "metadata": {
            "tags": []
          },
          "execution_count": 19
        }
      ]
    },
    {
      "cell_type": "code",
      "metadata": {
        "id": "8Il_dj59BSDj",
        "colab_type": "code",
        "outputId": "fa85d17b-4c78-433e-b379-e52355e0f09f",
        "colab": {
          "base_uri": "https://localhost:8080/",
          "height": 34
        }
      },
      "source": [
        "id(d)"
      ],
      "execution_count": 0,
      "outputs": [
        {
          "output_type": "execute_result",
          "data": {
            "text/plain": [
              "140060066034888"
            ]
          },
          "metadata": {
            "tags": []
          },
          "execution_count": 20
        }
      ]
    },
    {
      "cell_type": "code",
      "metadata": {
        "id": "7CdpHKkLBSgW",
        "colab_type": "code",
        "colab": {}
      },
      "source": [
        "c += d # +=, *= in-place"
      ],
      "execution_count": 0,
      "outputs": []
    },
    {
      "cell_type": "code",
      "metadata": {
        "id": "CAOHqawtBUZq",
        "colab_type": "code",
        "outputId": "a7200696-3129-4316-b7fe-26c32a9e82ee",
        "colab": {
          "base_uri": "https://localhost:8080/",
          "height": 34
        }
      },
      "source": [
        "id(c) # no change because in-place"
      ],
      "execution_count": 0,
      "outputs": [
        {
          "output_type": "execute_result",
          "data": {
            "text/plain": [
              "140060066037336"
            ]
          },
          "metadata": {
            "tags": []
          },
          "execution_count": 22
        }
      ]
    },
    {
      "cell_type": "code",
      "metadata": {
        "id": "7PVTaoU6BU52",
        "colab_type": "code",
        "colab": {}
      },
      "source": [
        "# another example of in-place"
      ],
      "execution_count": 0,
      "outputs": []
    },
    {
      "cell_type": "code",
      "metadata": {
        "id": "nfIlp3XHBahp",
        "colab_type": "code",
        "colab": {}
      },
      "source": [
        "e = torch.randn(1)\n",
        "f = torch.randn(1)"
      ],
      "execution_count": 0,
      "outputs": []
    },
    {
      "cell_type": "code",
      "metadata": {
        "id": "HOflOsenBdAp",
        "colab_type": "code",
        "outputId": "02f48a5c-ffae-4f70-bd4e-bda6f28b4a49",
        "colab": {
          "base_uri": "https://localhost:8080/",
          "height": 34
        }
      },
      "source": [
        "id(e)"
      ],
      "execution_count": 0,
      "outputs": [
        {
          "output_type": "execute_result",
          "data": {
            "text/plain": [
              "140060066050624"
            ]
          },
          "metadata": {
            "tags": []
          },
          "execution_count": 25
        }
      ]
    },
    {
      "cell_type": "code",
      "metadata": {
        "id": "Kabz6M94BdjV",
        "colab_type": "code",
        "outputId": "0c20d3b5-cd0f-4ee2-d671-68c06d67f73f",
        "colab": {
          "base_uri": "https://localhost:8080/",
          "height": 34
        }
      },
      "source": [
        "id(f)"
      ],
      "execution_count": 0,
      "outputs": [
        {
          "output_type": "execute_result",
          "data": {
            "text/plain": [
              "140060066050768"
            ]
          },
          "metadata": {
            "tags": []
          },
          "execution_count": 26
        }
      ]
    },
    {
      "cell_type": "code",
      "metadata": {
        "id": "be2jHG7WBeHm",
        "colab_type": "code",
        "outputId": "40b3b1ae-5d53-4e5a-ad76-2bf2372f2e58",
        "colab": {
          "base_uri": "https://localhost:8080/",
          "height": 34
        }
      },
      "source": [
        "e.add_(f)"
      ],
      "execution_count": 0,
      "outputs": [
        {
          "output_type": "execute_result",
          "data": {
            "text/plain": [
              "tensor([-1.9524])"
            ]
          },
          "metadata": {
            "tags": []
          },
          "execution_count": 27
        }
      ]
    },
    {
      "cell_type": "code",
      "metadata": {
        "id": "4EQTJo4JBf0e",
        "colab_type": "code",
        "outputId": "0f2e3db4-ec1f-4a66-af9a-15f9262ab009",
        "colab": {
          "base_uri": "https://localhost:8080/",
          "height": 34
        }
      },
      "source": [
        "id(e) # no change because in-place"
      ],
      "execution_count": 0,
      "outputs": [
        {
          "output_type": "execute_result",
          "data": {
            "text/plain": [
              "140060066050624"
            ]
          },
          "metadata": {
            "tags": []
          },
          "execution_count": 28
        }
      ]
    },
    {
      "cell_type": "code",
      "metadata": {
        "id": "uiLvo_ARBiVG",
        "colab_type": "code",
        "colab": {}
      },
      "source": [
        "# in PyTorch _ as postfix means in-place"
      ],
      "execution_count": 0,
      "outputs": []
    },
    {
      "cell_type": "code",
      "metadata": {
        "id": "pHOFN9JaBo0l",
        "colab_type": "code",
        "outputId": "c2312138-2393-45b1-ddfa-65e28ab47827",
        "colab": {
          "base_uri": "https://localhost:8080/",
          "height": 34
        }
      },
      "source": [
        "e.add_(f) # in-place\n",
        "e.sub_(f) # in-place"
      ],
      "execution_count": 0,
      "outputs": [
        {
          "output_type": "execute_result",
          "data": {
            "text/plain": [
              "tensor([-1.9524])"
            ]
          },
          "metadata": {
            "tags": []
          },
          "execution_count": 30
        }
      ]
    },
    {
      "cell_type": "code",
      "metadata": {
        "id": "Fpo_vnN0BtAF",
        "colab_type": "code",
        "outputId": "153c7a46-1e34-4e4c-a9f7-a3105d10771b",
        "colab": {
          "base_uri": "https://localhost:8080/",
          "height": 34
        }
      },
      "source": [
        "id(e)"
      ],
      "execution_count": 0,
      "outputs": [
        {
          "output_type": "execute_result",
          "data": {
            "text/plain": [
              "140060066050624"
            ]
          },
          "metadata": {
            "tags": []
          },
          "execution_count": 31
        }
      ]
    },
    {
      "cell_type": "markdown",
      "metadata": {
        "id": "CndHSJnfFo_n",
        "colab_type": "text"
      },
      "source": [
        "# fastai_listify"
      ]
    },
    {
      "cell_type": "code",
      "metadata": {
        "id": "C5N-ZWT0liLl",
        "colab_type": "code",
        "colab": {}
      },
      "source": [
        "!pip install fastai\n",
        "from fastai.train import listify\n",
        "import torch"
      ],
      "execution_count": 0,
      "outputs": []
    },
    {
      "cell_type": "code",
      "metadata": {
        "id": "7Fxhp9eqlo9q",
        "colab_type": "code",
        "colab": {}
      },
      "source": [
        "x = [1, 2, 3]\n",
        "y = torch.arange(12)"
      ],
      "execution_count": 0,
      "outputs": []
    },
    {
      "cell_type": "code",
      "metadata": {
        "id": "rgn7L6yrl1oN",
        "colab_type": "code",
        "outputId": "d8a78a3d-4287-4981-9ae9-3ade902b2983",
        "colab": {
          "base_uri": "https://localhost:8080/",
          "height": 34
        }
      },
      "source": [
        "x"
      ],
      "execution_count": 0,
      "outputs": [
        {
          "output_type": "execute_result",
          "data": {
            "text/plain": [
              "[1, 2, 3]"
            ]
          },
          "metadata": {
            "tags": []
          },
          "execution_count": 4
        }
      ]
    },
    {
      "cell_type": "code",
      "metadata": {
        "id": "vonk7nBCl2Wr",
        "colab_type": "code",
        "outputId": "dd8779e7-45a7-48cd-cb0a-8ec1aaf88b96",
        "colab": {
          "base_uri": "https://localhost:8080/",
          "height": 34
        }
      },
      "source": [
        "y"
      ],
      "execution_count": 0,
      "outputs": [
        {
          "output_type": "execute_result",
          "data": {
            "text/plain": [
              "tensor([ 0,  1,  2,  3,  4,  5,  6,  7,  8,  9, 10, 11])"
            ]
          },
          "metadata": {
            "tags": []
          },
          "execution_count": 5
        }
      ]
    },
    {
      "cell_type": "code",
      "metadata": {
        "id": "3_kr-jzpl2rL",
        "colab_type": "code",
        "outputId": "61c5b4ac-a14b-495e-aeab-4dc031ee79cb",
        "colab": {
          "base_uri": "https://localhost:8080/",
          "height": 34
        }
      },
      "source": [
        "z = listify((1), x)\n",
        "z"
      ],
      "execution_count": 0,
      "outputs": [
        {
          "output_type": "execute_result",
          "data": {
            "text/plain": [
              "[1, 1, 1]"
            ]
          },
          "metadata": {
            "tags": []
          },
          "execution_count": 7
        }
      ]
    },
    {
      "cell_type": "code",
      "metadata": {
        "id": "jA8bZRdel5J9",
        "colab_type": "code",
        "outputId": "fd5d3aa0-dc51-4d66-fd0a-f759e8a23e1b",
        "colab": {
          "base_uri": "https://localhost:8080/",
          "height": 34
        }
      },
      "source": [
        "a = listify(1, y)\n",
        "a"
      ],
      "execution_count": 0,
      "outputs": [
        {
          "output_type": "execute_result",
          "data": {
            "text/plain": [
              "[1, 1, 1, 1, 1, 1, 1, 1, 1, 1, 1, 1]"
            ]
          },
          "metadata": {
            "tags": []
          },
          "execution_count": 9
        }
      ]
    },
    {
      "cell_type": "code",
      "metadata": {
        "id": "gCZt-smEl-HW",
        "colab_type": "code",
        "outputId": "c8fb5ee6-f946-4869-de4c-3d6607a363ae",
        "colab": {
          "base_uri": "https://localhost:8080/",
          "height": 34
        }
      },
      "source": [
        "b = listify((1, 2, 3), x)\n",
        "b"
      ],
      "execution_count": 0,
      "outputs": [
        {
          "output_type": "execute_result",
          "data": {
            "text/plain": [
              "[1, 2, 3]"
            ]
          },
          "metadata": {
            "tags": []
          },
          "execution_count": 10
        }
      ]
    },
    {
      "cell_type": "code",
      "metadata": {
        "id": "7TUDFMXfmDvd",
        "colab_type": "code",
        "outputId": "233224f5-19c9-4f31-eb53-426edaa9c4cf",
        "colab": {
          "base_uri": "https://localhost:8080/",
          "height": 34
        }
      },
      "source": [
        "c = listify('g', x)\n",
        "c"
      ],
      "execution_count": 0,
      "outputs": [
        {
          "output_type": "execute_result",
          "data": {
            "text/plain": [
              "['g', 'g', 'g']"
            ]
          },
          "metadata": {
            "tags": []
          },
          "execution_count": 12
        }
      ]
    },
    {
      "cell_type": "markdown",
      "metadata": {
        "id": "SExXn_phF4vL",
        "colab_type": "text"
      },
      "source": [
        "# expand_as"
      ]
    },
    {
      "cell_type": "code",
      "metadata": {
        "id": "urHCi_jy3Aes",
        "colab_type": "code",
        "colab": {}
      },
      "source": [
        "a = torch.tensor([1, 2, 3])"
      ],
      "execution_count": 0,
      "outputs": []
    },
    {
      "cell_type": "code",
      "metadata": {
        "id": "AX4wvi953C5N",
        "colab_type": "code",
        "colab": {}
      },
      "source": [
        "b = torch.tensor([[1, 2, 3], [4, 5, 6], [7, 8, 9]])"
      ],
      "execution_count": 0,
      "outputs": []
    },
    {
      "cell_type": "code",
      "metadata": {
        "id": "AkPazqDx3GOU",
        "colab_type": "code",
        "colab": {}
      },
      "source": [
        "c = a.expand_as(b)"
      ],
      "execution_count": 0,
      "outputs": []
    },
    {
      "cell_type": "code",
      "metadata": {
        "id": "LDA6VAGQ3JC3",
        "colab_type": "code",
        "outputId": "55c31507-31a4-4643-cc3f-284e37662977",
        "colab": {
          "base_uri": "https://localhost:8080/",
          "height": 70
        }
      },
      "source": [
        "c"
      ],
      "execution_count": 0,
      "outputs": [
        {
          "output_type": "execute_result",
          "data": {
            "text/plain": [
              "tensor([[1, 2, 3],\n",
              "        [1, 2, 3],\n",
              "        [1, 2, 3]])"
            ]
          },
          "metadata": {
            "tags": []
          },
          "execution_count": 32
        }
      ]
    },
    {
      "cell_type": "code",
      "metadata": {
        "id": "BUrC7MtK3Jel",
        "colab_type": "code",
        "colab": {}
      },
      "source": [
        "d = a + b"
      ],
      "execution_count": 0,
      "outputs": []
    },
    {
      "cell_type": "code",
      "metadata": {
        "id": "0oiZNyCK3LQj",
        "colab_type": "code",
        "outputId": "23bb0749-b285-4540-b87d-3b418546ddc1",
        "colab": {
          "base_uri": "https://localhost:8080/",
          "height": 70
        }
      },
      "source": [
        "d"
      ],
      "execution_count": 0,
      "outputs": [
        {
          "output_type": "execute_result",
          "data": {
            "text/plain": [
              "tensor([[ 2,  4,  6],\n",
              "        [ 5,  7,  9],\n",
              "        [ 8, 10, 12]])"
            ]
          },
          "metadata": {
            "tags": []
          },
          "execution_count": 34
        }
      ]
    },
    {
      "cell_type": "markdown",
      "metadata": {
        "id": "tUjL2YkzkoFc",
        "colab_type": "text"
      },
      "source": [
        "# bs_val"
      ]
    },
    {
      "cell_type": "code",
      "metadata": {
        "id": "hROCkHJGkpXu",
        "colab_type": "code",
        "colab": {}
      },
      "source": [
        "bs*2"
      ],
      "execution_count": 0,
      "outputs": []
    },
    {
      "cell_type": "markdown",
      "metadata": {
        "id": "ghIjFE7ArH06",
        "colab_type": "text"
      },
      "source": [
        "# fastai_callbacks"
      ]
    },
    {
      "cell_type": "code",
      "metadata": {
        "id": "GGropNy4jg0M",
        "colab_type": "code",
        "colab": {}
      },
      "source": [
        "def train(learn, epochs, callback, metrics):\n",
        "  cb_handler = CallbackHandler(callbacks)\n",
        "  cb_handler.on_train_begin(epochs, learn, metrics)\n",
        "  for epoch in range(epochs):\n",
        "    learn.model.train()\n",
        "    cb_handler.on_epoch_begin(epoch)\n",
        "    for xb, yb in learn.data.train_dl:\n",
        "      xb, yb = cb_handler.on_batch_begin(xb, yb)\n",
        "      out = learn.model(xb)\n",
        "      out = cb_handler.on_loss_begin(out)\n",
        "      loss = learn.loss_func(out, yb)\n",
        "      loss, skip_backward = callbacks.on_loss_begin(loss)\n",
        "      if not skip_backward:\n",
        "        loss.backward()\n",
        "      if not cb_handler.on_step_begin():\n",
        "        learn.opt.step()\n",
        "      if not cb_handler.on_step_end():\n",
        "        learn.opt.zero_grad()\n",
        "      if not callbacks.on_batch_end():\n",
        "        break\n",
        "    val_loss, mets = validate(learn.data.valid_dl, model, metrics)\n",
        "    if not callbacks.on_epoch_end(val_loss, mets):\n",
        "      break\n",
        "  callbacks.on_train_end()"
      ],
      "execution_count": 0,
      "outputs": []
    },
    {
      "cell_type": "code",
      "metadata": {
        "id": "jjVQs3UYoXvR",
        "colab_type": "code",
        "colab": {}
      },
      "source": [
        "class LRScheduler(LearnerCallback):\n",
        "  def on_batch_begin(self, iteration, **kwargs):\n",
        "    self.learn.opt.lr = my_function(iteration)"
      ],
      "execution_count": 0,
      "outputs": []
    },
    {
      "cell_type": "code",
      "metadata": {
        "id": "oTpUdYJWoowf",
        "colab_type": "code",
        "colab": {}
      },
      "source": [
        "class EarlyStopping(Callback):\n",
        "  def on_epoch_end(self, last_metrics, **kwargs):\n",
        "    if not_happy(last_metrics):\n",
        "      return {'stop_training': True}"
      ],
      "execution_count": 0,
      "outputs": []
    },
    {
      "cell_type": "code",
      "metadata": {
        "id": "nb-0nefRooF8",
        "colab_type": "code",
        "colab": {}
      },
      "source": [
        "class ParallelTrainer(LearnerCallback):\n",
        "  _order = 20\n",
        "  def on_train_begin(self, **kwargs):\n",
        "    self.learn.model = DataParallel(self.learn.model)\n",
        "  def on_train_end(self, **kwargs):\n",
        "    self.learn.model = self.learn.model.module"
      ],
      "execution_count": 0,
      "outputs": []
    },
    {
      "cell_type": "code",
      "metadata": {
        "id": "ce5cLOE_pJWV",
        "colab_type": "code",
        "colab": {}
      },
      "source": [
        "class GradientClipping(LearnerCallback):\n",
        "  def __init__(self, learn:Learner, clip:float = 0.):\n",
        "    super().__init__(learn)\n",
        "    self.clip = clip\n",
        "  \n",
        "  def on_backward_end(self, **kwargs):\n",
        "    if self.clip:\n",
        "      nn.utils.clip_grad_norm_(self.learn.model.parameters(), self.clip)"
      ],
      "execution_count": 0,
      "outputs": []
    }
  ]
}