{
  "nbformat": 4,
  "nbformat_minor": 0,
  "metadata": {
    "colab": {
      "name": "snippets_2.ipynb",
      "version": "0.3.2",
      "provenance": [],
      "collapsed_sections": [
        "nWpaP4pA7qIG",
        "0PqedkKQA-pb",
        "8yJ0Se5GE8p8",
        "R-dTIxkuUOsS",
        "8c7eTsEhSLyT",
        "xCgm18yyWFP6"
      ],
      "include_colab_link": true
    },
    "kernelspec": {
      "name": "python3",
      "display_name": "Python 3"
    }
  },
  "cells": [
    {
      "cell_type": "markdown",
      "metadata": {
        "id": "view-in-github",
        "colab_type": "text"
      },
      "source": [
        "<a href=\"https://colab.research.google.com/github/vainaijr/aiStartUp/blob/master/snippets_2.ipynb\" target=\"_parent\"><img src=\"https://colab.research.google.com/assets/colab-badge.svg\" alt=\"Open In Colab\"/></a>"
      ]
    },
    {
      "cell_type": "markdown",
      "metadata": {
        "id": "BpMprGyfBqp9",
        "colab_type": "text"
      },
      "source": [
        "# networkx"
      ]
    },
    {
      "cell_type": "code",
      "metadata": {
        "id": "1lmaa6G-Bsch",
        "colab_type": "code",
        "colab": {}
      },
      "source": [
        "import networkx as nx\n",
        "from networkx import nx"
      ],
      "execution_count": 0,
      "outputs": []
    },
    {
      "cell_type": "code",
      "metadata": {
        "id": "Bt4NgrV1BtvF",
        "colab_type": "code",
        "colab": {}
      },
      "source": [
        "nx.grid_2d_graph\n",
        "nx.lollipop_graph\n",
        "nx.is_graphical\n",
        "\n",
        "nx.configuration_model\n",
        "\n",
        "for line in nx.generate_adjlist\n",
        "for v in G.nodes():\n",
        "nx.single_source_shortest_path_length\n",
        "\n",
        "nx.radius\n",
        "nx.diameter\n",
        "nx.eccentricity\n",
        "nx.center\n",
        "nx.periphery\n",
        "nx.density\n",
        "\n",
        "nx.write_edgelist\n",
        "nx.read_edgelist\n",
        "nx.draw\n"
      ],
      "execution_count": 0,
      "outputs": []
    },
    {
      "cell_type": "markdown",
      "metadata": {
        "id": "hZgxyD7vFeQS",
        "colab_type": "text"
      },
      "source": [
        "# video"
      ]
    },
    {
      "cell_type": "code",
      "metadata": {
        "id": "NnfcqQQpFf9N",
        "colab_type": "code",
        "colab": {}
      },
      "source": [
        "from IPython.display import HTML\n",
        "\n",
        "# Youtube\n",
        "HTML('<iframe width=\"560\" height=\"315\" src=\"https://www.youtube.com/embed/S_f2qV2_U00?rel=0&amp;controls=0&amp;showinfo=0\" frameborder=\"0\" allowfullscreen></iframe>')"
      ],
      "execution_count": 0,
      "outputs": []
    },
    {
      "cell_type": "markdown",
      "metadata": {
        "id": "5X_0EXa4PZfB",
        "colab_type": "text"
      },
      "source": [
        "# eliot"
      ]
    },
    {
      "cell_type": "code",
      "metadata": {
        "id": "n35BsR9IPaHT",
        "colab_type": "code",
        "colab": {}
      },
      "source": [
        "!pip install eliot\n",
        "!pip install eliot-tree"
      ],
      "execution_count": 0,
      "outputs": []
    },
    {
      "cell_type": "code",
      "metadata": {
        "id": "1hqaJ_55Pbz8",
        "colab_type": "code",
        "colab": {}
      },
      "source": [
        "from eliot import log_call, to_file\n",
        "\n",
        "to_file(open(\"out.log\", \"w\"))"
      ],
      "execution_count": 0,
      "outputs": []
    },
    {
      "cell_type": "code",
      "metadata": {
        "id": "murM9gjyPhI5",
        "colab_type": "code",
        "colab": {}
      },
      "source": [
        "!eliot-tree out.log | grep -A1 double.*started"
      ],
      "execution_count": 0,
      "outputs": []
    },
    {
      "cell_type": "markdown",
      "metadata": {
        "id": "KDXq-82S0mRk",
        "colab_type": "text"
      },
      "source": [
        "# function__"
      ]
    },
    {
      "cell_type": "code",
      "metadata": {
        "id": "VFNDTPcyyEMj",
        "colab_type": "code",
        "colab": {}
      },
      "source": [
        "def add(a: int, b: int) -> int:\n",
        "  \"\"\"adds two numbers\"\"\"\n",
        "  x = a + b\n",
        "  return x"
      ],
      "execution_count": 0,
      "outputs": []
    },
    {
      "cell_type": "code",
      "metadata": {
        "id": "hCesXI7Xz-F7",
        "colab_type": "code",
        "outputId": "45a80fa7-0e10-4632-bd99-735129eaeb4d",
        "colab": {
          "base_uri": "https://localhost:8080/",
          "height": 34
        }
      },
      "source": [
        "print(add.__doc__)"
      ],
      "execution_count": 0,
      "outputs": [
        {
          "output_type": "stream",
          "text": [
            "adds two numbers\n"
          ],
          "name": "stdout"
        }
      ]
    },
    {
      "cell_type": "code",
      "metadata": {
        "id": "l7M0Qv6x0CE9",
        "colab_type": "code",
        "outputId": "f3767127-ece2-4985-c98b-b37e9efe52b9",
        "colab": {
          "base_uri": "https://localhost:8080/",
          "height": 34
        }
      },
      "source": [
        "print(add.__annotations__)"
      ],
      "execution_count": 0,
      "outputs": [
        {
          "output_type": "stream",
          "text": [
            "{'a': <class 'int'>, 'b': <class 'int'>, 'return': <class 'int'>}\n"
          ],
          "name": "stdout"
        }
      ]
    },
    {
      "cell_type": "code",
      "metadata": {
        "id": "FXDFxlZq0JDr",
        "colab_type": "code",
        "outputId": "6da8525a-1a51-40e4-9e0e-691b923c6ede",
        "colab": {
          "base_uri": "https://localhost:8080/",
          "height": 34
        }
      },
      "source": [
        "print(add.__code__.co_varnames)"
      ],
      "execution_count": 0,
      "outputs": [
        {
          "output_type": "stream",
          "text": [
            "('a', 'b', 'x')\n"
          ],
          "name": "stdout"
        }
      ]
    },
    {
      "cell_type": "code",
      "metadata": {
        "id": "xf3-TJmc9o2D",
        "colab_type": "code",
        "outputId": "0a0f43a1-aa00-4c7b-9a87-7350c238c947",
        "colab": {
          "base_uri": "https://localhost:8080/",
          "height": 34
        }
      },
      "source": [
        "print(add.__closure__)"
      ],
      "execution_count": 0,
      "outputs": [
        {
          "output_type": "stream",
          "text": [
            "None\n"
          ],
          "name": "stdout"
        }
      ]
    },
    {
      "cell_type": "code",
      "metadata": {
        "id": "81SlVjF40bWg",
        "colab_type": "code",
        "outputId": "3d26f539-9f2f-45fb-c207-b2ff282cc9ad",
        "colab": {
          "base_uri": "https://localhost:8080/",
          "height": 34
        }
      },
      "source": [
        "from inspect import signature\n",
        "signature(add).parameters"
      ],
      "execution_count": 0,
      "outputs": [
        {
          "output_type": "execute_result",
          "data": {
            "text/plain": [
              "mappingproxy({'a': <Parameter \"a:int\">, 'b': <Parameter \"b:int\">})"
            ]
          },
          "metadata": {
            "tags": []
          },
          "execution_count": 12
        }
      ]
    },
    {
      "cell_type": "markdown",
      "metadata": {
        "id": "nWpaP4pA7qIG",
        "colab_type": "text"
      },
      "source": [
        "# call dunder"
      ]
    },
    {
      "cell_type": "code",
      "metadata": {
        "id": "WkpMO-rW0gWE",
        "colab_type": "code",
        "colab": {}
      },
      "source": [
        "class Averager():\n",
        "  def __init__(self):\n",
        "    self.series = []\n",
        "  \n",
        "  def __call__(self, new_value):\n",
        "    self.series.append(new_value)\n",
        "    total = sum(self.series)\n",
        "    return total / len(self.series)    "
      ],
      "execution_count": 0,
      "outputs": []
    },
    {
      "cell_type": "code",
      "metadata": {
        "id": "ShbtxCZw6jOr",
        "colab_type": "code",
        "colab": {}
      },
      "source": [
        "avg = Averager()"
      ],
      "execution_count": 0,
      "outputs": []
    },
    {
      "cell_type": "code",
      "metadata": {
        "id": "Sdor7wI26lf7",
        "colab_type": "code",
        "outputId": "1f662588-67b6-4ba6-a242-c878b01a4516",
        "colab": {
          "base_uri": "https://localhost:8080/",
          "height": 34
        }
      },
      "source": [
        "avg.__call__(10)"
      ],
      "execution_count": 0,
      "outputs": [
        {
          "output_type": "execute_result",
          "data": {
            "text/plain": [
              "10.0"
            ]
          },
          "metadata": {
            "tags": []
          },
          "execution_count": 17
        }
      ]
    },
    {
      "cell_type": "code",
      "metadata": {
        "id": "eF6LlSql6mNX",
        "colab_type": "code",
        "colab": {}
      },
      "source": [
        "object.__call__?"
      ],
      "execution_count": 0,
      "outputs": []
    },
    {
      "cell_type": "code",
      "metadata": {
        "id": "vsD-Yv5o6sGB",
        "colab_type": "code",
        "colab": {}
      },
      "source": [
        "def make_average():\n",
        "  series = []\n",
        "  \n",
        "  def averager(new_value):\n",
        "    series.append(new_value)\n",
        "    total = sum(series)\n",
        "    return total / len(series)\n",
        "  \n",
        "  return averager"
      ],
      "execution_count": 0,
      "outputs": []
    },
    {
      "cell_type": "code",
      "metadata": {
        "id": "bAfaR1o_7h2G",
        "colab_type": "code",
        "colab": {}
      },
      "source": [
        "avg = make_average()"
      ],
      "execution_count": 0,
      "outputs": []
    },
    {
      "cell_type": "code",
      "metadata": {
        "id": "tkcEqjXz7kTr",
        "colab_type": "code",
        "outputId": "eea3fc72-3c04-4413-d516-a1820f128d3b",
        "colab": {
          "base_uri": "https://localhost:8080/",
          "height": 34
        }
      },
      "source": [
        "avg(10)"
      ],
      "execution_count": 0,
      "outputs": [
        {
          "output_type": "execute_result",
          "data": {
            "text/plain": [
              "10.0"
            ]
          },
          "metadata": {
            "tags": []
          },
          "execution_count": 21
        }
      ]
    },
    {
      "cell_type": "markdown",
      "metadata": {
        "id": "0PqedkKQA-pb",
        "colab_type": "text"
      },
      "source": [
        "# decorators in the standard library"
      ]
    },
    {
      "cell_type": "code",
      "metadata": {
        "id": "Lff6DMgXBAsq",
        "colab_type": "code",
        "colab": {}
      },
      "source": [
        "@property\n",
        "@classmethod\n",
        "@staticmethod\n",
        "@functools.wraps\n",
        "@functools.singledispatch\n",
        "@functools.total_ordering\n",
        "@functools.lru_cache"
      ],
      "execution_count": 0,
      "outputs": []
    },
    {
      "cell_type": "markdown",
      "metadata": {
        "id": "8yJ0Se5GE8p8",
        "colab_type": "text"
      },
      "source": [
        "# descriptors"
      ]
    },
    {
      "cell_type": "code",
      "metadata": {
        "id": "SOzH-v2LFGJa",
        "colab_type": "code",
        "colab": {}
      },
      "source": [
        "# a descriptor encapsulates attribute getting / setting logic in a reusable way"
      ],
      "execution_count": 0,
      "outputs": []
    },
    {
      "cell_type": "code",
      "metadata": {
        "id": "52w7Tmb-E91X",
        "colab_type": "code",
        "colab": {}
      },
      "source": [
        "# it is posible to use any class that implements __get__ or __set__ as a descriptor"
      ],
      "execution_count": 0,
      "outputs": []
    },
    {
      "cell_type": "markdown",
      "metadata": {
        "id": "R-dTIxkuUOsS",
        "colab_type": "text"
      },
      "source": [
        "# method resolution order"
      ]
    },
    {
      "cell_type": "code",
      "metadata": {
        "id": "8qF3XEfBURRU",
        "colab_type": "code",
        "colab": {}
      },
      "source": [
        "import inspect"
      ],
      "execution_count": 0,
      "outputs": []
    },
    {
      "cell_type": "code",
      "metadata": {
        "id": "GVqyZgkjUSHF",
        "colab_type": "code",
        "outputId": "e83922ed-499e-4e00-85e4-0eebfe3e2145",
        "colab": {
          "base_uri": "https://localhost:8080/",
          "height": 34
        }
      },
      "source": [
        "inspect.getmro(type(3.14))"
      ],
      "execution_count": 0,
      "outputs": [
        {
          "output_type": "execute_result",
          "data": {
            "text/plain": [
              "(float, object)"
            ]
          },
          "metadata": {
            "tags": []
          },
          "execution_count": 4
        }
      ]
    },
    {
      "cell_type": "code",
      "metadata": {
        "id": "WSvTW10OUWcM",
        "colab_type": "code",
        "outputId": "d36ddf73-adc4-479e-eba3-1c5722cc2784",
        "colab": {
          "base_uri": "https://localhost:8080/",
          "height": 34
        }
      },
      "source": [
        "(1 == 1).__class__.__mro__"
      ],
      "execution_count": 0,
      "outputs": [
        {
          "output_type": "execute_result",
          "data": {
            "text/plain": [
              "(bool, int, object)"
            ]
          },
          "metadata": {
            "tags": []
          },
          "execution_count": 5
        }
      ]
    },
    {
      "cell_type": "markdown",
      "metadata": {
        "id": "8c7eTsEhSLyT",
        "colab_type": "text"
      },
      "source": [
        "# nvcc"
      ]
    },
    {
      "cell_type": "code",
      "metadata": {
        "id": "WBZCFNMiSMf3",
        "colab_type": "code",
        "colab": {}
      },
      "source": [
        "!pip install git+git://github.com/andreinechaev/nvcc4jupyter.git"
      ],
      "execution_count": 0,
      "outputs": []
    },
    {
      "cell_type": "code",
      "metadata": {
        "id": "b4tHHXmDSNB7",
        "colab_type": "code",
        "colab": {}
      },
      "source": [
        "%load_ext nvcc_plugin"
      ],
      "execution_count": 0,
      "outputs": []
    },
    {
      "cell_type": "code",
      "metadata": {
        "id": "UjsVsMrTSOf8",
        "colab_type": "code",
        "colab": {}
      },
      "source": [
        "%%cu"
      ],
      "execution_count": 0,
      "outputs": []
    },
    {
      "cell_type": "markdown",
      "metadata": {
        "id": "xCgm18yyWFP6",
        "colab_type": "text"
      },
      "source": [
        "# os version "
      ]
    },
    {
      "cell_type": "code",
      "metadata": {
        "id": "2RzM9COGWHJv",
        "colab_type": "code",
        "colab": {}
      },
      "source": [
        "%%bash\n",
        "echo \"$(</etc/os-release)\""
      ],
      "execution_count": 0,
      "outputs": []
    },
    {
      "cell_type": "markdown",
      "metadata": {
        "id": "aZRARS5xEd2t",
        "colab_type": "text"
      },
      "source": [
        "# grep"
      ]
    },
    {
      "cell_type": "code",
      "metadata": {
        "id": "7s-BZKdRw7ki",
        "colab_type": "code",
        "colab": {}
      },
      "source": [
        "!grep \"WORLD\" world/hi.txt"
      ],
      "execution_count": 0,
      "outputs": []
    },
    {
      "cell_type": "code",
      "metadata": {
        "id": "GMHNXZtGxRuE",
        "colab_type": "code",
        "outputId": "f1272d59-42e5-4194-b417-e5e40e23c69a",
        "colab": {
          "base_uri": "https://localhost:8080/",
          "height": 34
        }
      },
      "source": [
        "!grep -i \"WORLD\" world/hi.txt"
      ],
      "execution_count": 0,
      "outputs": [
        {
          "output_type": "stream",
          "text": [
            "hello world\n"
          ],
          "name": "stdout"
        }
      ]
    },
    {
      "cell_type": "code",
      "metadata": {
        "id": "-FK5-ZTex4lU",
        "colab_type": "code",
        "colab": {}
      },
      "source": [
        "!grep -iv \"WORLD\" world/hi.txt"
      ],
      "execution_count": 0,
      "outputs": []
    },
    {
      "cell_type": "code",
      "metadata": {
        "id": "-mIkXRRVx6p0",
        "colab_type": "code",
        "outputId": "f05ade83-2ef9-47e9-c9e9-7b7a9ce4f017",
        "colab": {
          "base_uri": "https://localhost:8080/",
          "height": 34
        }
      },
      "source": [
        "!grep -v \"WORLD\" world/hi.txt"
      ],
      "execution_count": 0,
      "outputs": [
        {
          "output_type": "stream",
          "text": [
            "hello world\n"
          ],
          "name": "stdout"
        }
      ]
    },
    {
      "cell_type": "code",
      "metadata": {
        "id": "JRIIVk3uxlv2",
        "colab_type": "code",
        "outputId": "61cc8af2-41cd-4baf-ce74-23ccf882b7b3",
        "colab": {
          "base_uri": "https://localhost:8080/",
          "height": 34
        }
      },
      "source": [
        "!grep -rn \"he\" *"
      ],
      "execution_count": 0,
      "outputs": [
        {
          "output_type": "stream",
          "text": [
            "world/hi.txt:1:hello world\n"
          ],
          "name": "stdout"
        }
      ]
    },
    {
      "cell_type": "markdown",
      "metadata": {
        "id": "waWx0YS_al8p",
        "colab_type": "text"
      },
      "source": [
        "# AdaptiveConcatPool2d"
      ]
    },
    {
      "cell_type": "code",
      "metadata": {
        "id": "LxjV5IAWSOzz",
        "colab_type": "code",
        "colab": {}
      },
      "source": [
        "class AdaptiveConcatPool2d(nn.Module):\n",
        "  def __init__(self, sz=1):\n",
        "    super().__init__()\n",
        "    self.output_size = sz\n",
        "    self.ap = nn.AdaptiveAvgPool2d(sz)\n",
        "    self.mp = nn.AdaptiveMaxPool2d(sz)\n",
        "  \n",
        "  def forward(self, x):\n",
        "    return torch.cat([self.mp(x), self.ap(x)], 1)"
      ],
      "execution_count": 0,
      "outputs": []
    },
    {
      "cell_type": "code",
      "metadata": {
        "id": "5RW5JCKYR6r7",
        "colab_type": "code",
        "colab": {}
      },
      "source": [
        "nh = 40\n",
        "\n",
        "m_new = nn.Sequential(\n",
        "    m_cut, AdaptiveConcatPool2d(), Flatten(),\n",
        "    nn.Linear(ni*2, data.c_out))"
      ],
      "execution_count": 0,
      "outputs": []
    },
    {
      "cell_type": "code",
      "metadata": {
        "id": "PDLlIgSUTPwW",
        "colab_type": "code",
        "colab": {}
      },
      "source": [
        "nh = 40\n",
        "\n",
        "m_new = nn.Sequential(m_cut, AdaptiveConcatPool2d(), Flatten(), nn.Linear(ni * 2, data.c_out))"
      ],
      "execution_count": 0,
      "outputs": []
    },
    {
      "cell_type": "markdown",
      "metadata": {
        "id": "lCIs8UPuFjNc",
        "colab_type": "text"
      },
      "source": [
        "# in-place"
      ]
    },
    {
      "cell_type": "code",
      "metadata": {
        "id": "rWfUSbhfBEsF",
        "colab_type": "code",
        "colab": {}
      },
      "source": [
        "# example of not in-place"
      ],
      "execution_count": 0,
      "outputs": []
    },
    {
      "cell_type": "code",
      "metadata": {
        "id": "SxeLsH-bBGIH",
        "colab_type": "code",
        "colab": {}
      },
      "source": [
        "a = torch.randn(1)\n",
        "b = torch.randn(1)"
      ],
      "execution_count": 0,
      "outputs": []
    },
    {
      "cell_type": "code",
      "metadata": {
        "id": "gaThY3JHBH-V",
        "colab_type": "code",
        "outputId": "7c89562d-2b26-4edb-abbb-e8d423526afc",
        "colab": {
          "base_uri": "https://localhost:8080/",
          "height": 34
        }
      },
      "source": [
        "id(a)"
      ],
      "execution_count": 0,
      "outputs": [
        {
          "output_type": "execute_result",
          "data": {
            "text/plain": [
              "140060066035968"
            ]
          },
          "metadata": {
            "tags": []
          },
          "execution_count": 13
        }
      ]
    },
    {
      "cell_type": "code",
      "metadata": {
        "id": "76IAbC7GBIhh",
        "colab_type": "code",
        "outputId": "d4d20dc1-8c4b-4af4-90f6-086d0d16ddf0",
        "colab": {
          "base_uri": "https://localhost:8080/",
          "height": 34
        }
      },
      "source": [
        "id(b)"
      ],
      "execution_count": 0,
      "outputs": [
        {
          "output_type": "execute_result",
          "data": {
            "text/plain": [
              "140060066034240"
            ]
          },
          "metadata": {
            "tags": []
          },
          "execution_count": 14
        }
      ]
    },
    {
      "cell_type": "code",
      "metadata": {
        "id": "c2CkDsB8BI_j",
        "colab_type": "code",
        "colab": {}
      },
      "source": [
        "a = a + b # not in-place"
      ],
      "execution_count": 0,
      "outputs": []
    },
    {
      "cell_type": "code",
      "metadata": {
        "id": "Ch27Bpe9BKJB",
        "colab_type": "code",
        "outputId": "eea6b7a5-4485-42ec-f180-dbb74602881c",
        "colab": {
          "base_uri": "https://localhost:8080/",
          "height": 34
        }
      },
      "source": [
        "id(a) # changed because not in-place"
      ],
      "execution_count": 0,
      "outputs": [
        {
          "output_type": "execute_result",
          "data": {
            "text/plain": [
              "140060066034672"
            ]
          },
          "metadata": {
            "tags": []
          },
          "execution_count": 16
        }
      ]
    },
    {
      "cell_type": "code",
      "metadata": {
        "id": "5HHpULsTBKzl",
        "colab_type": "code",
        "colab": {}
      },
      "source": [
        "# example of in-place"
      ],
      "execution_count": 0,
      "outputs": []
    },
    {
      "cell_type": "code",
      "metadata": {
        "id": "43U4Zb_wBPAo",
        "colab_type": "code",
        "colab": {}
      },
      "source": [
        "c = torch.randn(1)\n",
        "d = torch.randn(1)"
      ],
      "execution_count": 0,
      "outputs": []
    },
    {
      "cell_type": "code",
      "metadata": {
        "id": "i-rzLkuaBRiS",
        "colab_type": "code",
        "outputId": "2ea2a727-6716-4e81-e89d-a6c8baf466d5",
        "colab": {
          "base_uri": "https://localhost:8080/",
          "height": 34
        }
      },
      "source": [
        "id(c)"
      ],
      "execution_count": 0,
      "outputs": [
        {
          "output_type": "execute_result",
          "data": {
            "text/plain": [
              "140060066037336"
            ]
          },
          "metadata": {
            "tags": []
          },
          "execution_count": 19
        }
      ]
    },
    {
      "cell_type": "code",
      "metadata": {
        "id": "8Il_dj59BSDj",
        "colab_type": "code",
        "outputId": "fa85d17b-4c78-433e-b379-e52355e0f09f",
        "colab": {
          "base_uri": "https://localhost:8080/",
          "height": 34
        }
      },
      "source": [
        "id(d)"
      ],
      "execution_count": 0,
      "outputs": [
        {
          "output_type": "execute_result",
          "data": {
            "text/plain": [
              "140060066034888"
            ]
          },
          "metadata": {
            "tags": []
          },
          "execution_count": 20
        }
      ]
    },
    {
      "cell_type": "code",
      "metadata": {
        "id": "7CdpHKkLBSgW",
        "colab_type": "code",
        "colab": {}
      },
      "source": [
        "c += d # +=, *= in-place"
      ],
      "execution_count": 0,
      "outputs": []
    },
    {
      "cell_type": "code",
      "metadata": {
        "id": "CAOHqawtBUZq",
        "colab_type": "code",
        "outputId": "a7200696-3129-4316-b7fe-26c32a9e82ee",
        "colab": {
          "base_uri": "https://localhost:8080/",
          "height": 34
        }
      },
      "source": [
        "id(c) # no change because in-place"
      ],
      "execution_count": 0,
      "outputs": [
        {
          "output_type": "execute_result",
          "data": {
            "text/plain": [
              "140060066037336"
            ]
          },
          "metadata": {
            "tags": []
          },
          "execution_count": 22
        }
      ]
    },
    {
      "cell_type": "code",
      "metadata": {
        "id": "7PVTaoU6BU52",
        "colab_type": "code",
        "colab": {}
      },
      "source": [
        "# another example of in-place"
      ],
      "execution_count": 0,
      "outputs": []
    },
    {
      "cell_type": "code",
      "metadata": {
        "id": "nfIlp3XHBahp",
        "colab_type": "code",
        "colab": {}
      },
      "source": [
        "e = torch.randn(1)\n",
        "f = torch.randn(1)"
      ],
      "execution_count": 0,
      "outputs": []
    },
    {
      "cell_type": "code",
      "metadata": {
        "id": "HOflOsenBdAp",
        "colab_type": "code",
        "outputId": "02f48a5c-ffae-4f70-bd4e-bda6f28b4a49",
        "colab": {
          "base_uri": "https://localhost:8080/",
          "height": 34
        }
      },
      "source": [
        "id(e)"
      ],
      "execution_count": 0,
      "outputs": [
        {
          "output_type": "execute_result",
          "data": {
            "text/plain": [
              "140060066050624"
            ]
          },
          "metadata": {
            "tags": []
          },
          "execution_count": 25
        }
      ]
    },
    {
      "cell_type": "code",
      "metadata": {
        "id": "Kabz6M94BdjV",
        "colab_type": "code",
        "outputId": "0c20d3b5-cd0f-4ee2-d671-68c06d67f73f",
        "colab": {
          "base_uri": "https://localhost:8080/",
          "height": 34
        }
      },
      "source": [
        "id(f)"
      ],
      "execution_count": 0,
      "outputs": [
        {
          "output_type": "execute_result",
          "data": {
            "text/plain": [
              "140060066050768"
            ]
          },
          "metadata": {
            "tags": []
          },
          "execution_count": 26
        }
      ]
    },
    {
      "cell_type": "code",
      "metadata": {
        "id": "be2jHG7WBeHm",
        "colab_type": "code",
        "outputId": "40b3b1ae-5d53-4e5a-ad76-2bf2372f2e58",
        "colab": {
          "base_uri": "https://localhost:8080/",
          "height": 34
        }
      },
      "source": [
        "e.add_(f)"
      ],
      "execution_count": 0,
      "outputs": [
        {
          "output_type": "execute_result",
          "data": {
            "text/plain": [
              "tensor([-1.9524])"
            ]
          },
          "metadata": {
            "tags": []
          },
          "execution_count": 27
        }
      ]
    },
    {
      "cell_type": "code",
      "metadata": {
        "id": "4EQTJo4JBf0e",
        "colab_type": "code",
        "outputId": "0f2e3db4-ec1f-4a66-af9a-15f9262ab009",
        "colab": {
          "base_uri": "https://localhost:8080/",
          "height": 34
        }
      },
      "source": [
        "id(e) # no change because in-place"
      ],
      "execution_count": 0,
      "outputs": [
        {
          "output_type": "execute_result",
          "data": {
            "text/plain": [
              "140060066050624"
            ]
          },
          "metadata": {
            "tags": []
          },
          "execution_count": 28
        }
      ]
    },
    {
      "cell_type": "code",
      "metadata": {
        "id": "uiLvo_ARBiVG",
        "colab_type": "code",
        "colab": {}
      },
      "source": [
        "# in PyTorch _ as postfix means in-place"
      ],
      "execution_count": 0,
      "outputs": []
    },
    {
      "cell_type": "code",
      "metadata": {
        "id": "pHOFN9JaBo0l",
        "colab_type": "code",
        "outputId": "c2312138-2393-45b1-ddfa-65e28ab47827",
        "colab": {
          "base_uri": "https://localhost:8080/",
          "height": 34
        }
      },
      "source": [
        "e.add_(f) # in-place\n",
        "e.sub_(f) # in-place"
      ],
      "execution_count": 0,
      "outputs": [
        {
          "output_type": "execute_result",
          "data": {
            "text/plain": [
              "tensor([-1.9524])"
            ]
          },
          "metadata": {
            "tags": []
          },
          "execution_count": 30
        }
      ]
    },
    {
      "cell_type": "code",
      "metadata": {
        "id": "Fpo_vnN0BtAF",
        "colab_type": "code",
        "outputId": "153c7a46-1e34-4e4c-a9f7-a3105d10771b",
        "colab": {
          "base_uri": "https://localhost:8080/",
          "height": 34
        }
      },
      "source": [
        "id(e)"
      ],
      "execution_count": 0,
      "outputs": [
        {
          "output_type": "execute_result",
          "data": {
            "text/plain": [
              "140060066050624"
            ]
          },
          "metadata": {
            "tags": []
          },
          "execution_count": 31
        }
      ]
    },
    {
      "cell_type": "markdown",
      "metadata": {
        "id": "CndHSJnfFo_n",
        "colab_type": "text"
      },
      "source": [
        "# fastai_listify"
      ]
    },
    {
      "cell_type": "code",
      "metadata": {
        "id": "C5N-ZWT0liLl",
        "colab_type": "code",
        "colab": {}
      },
      "source": [
        "!pip install fastai\n",
        "from fastai.train import listify\n",
        "import torch"
      ],
      "execution_count": 0,
      "outputs": []
    },
    {
      "cell_type": "code",
      "metadata": {
        "id": "7Fxhp9eqlo9q",
        "colab_type": "code",
        "colab": {}
      },
      "source": [
        "x = [1, 2, 3]\n",
        "y = torch.arange(12)"
      ],
      "execution_count": 0,
      "outputs": []
    },
    {
      "cell_type": "code",
      "metadata": {
        "id": "rgn7L6yrl1oN",
        "colab_type": "code",
        "outputId": "d8a78a3d-4287-4981-9ae9-3ade902b2983",
        "colab": {
          "base_uri": "https://localhost:8080/",
          "height": 34
        }
      },
      "source": [
        "x"
      ],
      "execution_count": 0,
      "outputs": [
        {
          "output_type": "execute_result",
          "data": {
            "text/plain": [
              "[1, 2, 3]"
            ]
          },
          "metadata": {
            "tags": []
          },
          "execution_count": 4
        }
      ]
    },
    {
      "cell_type": "code",
      "metadata": {
        "id": "vonk7nBCl2Wr",
        "colab_type": "code",
        "outputId": "dd8779e7-45a7-48cd-cb0a-8ec1aaf88b96",
        "colab": {
          "base_uri": "https://localhost:8080/",
          "height": 34
        }
      },
      "source": [
        "y"
      ],
      "execution_count": 0,
      "outputs": [
        {
          "output_type": "execute_result",
          "data": {
            "text/plain": [
              "tensor([ 0,  1,  2,  3,  4,  5,  6,  7,  8,  9, 10, 11])"
            ]
          },
          "metadata": {
            "tags": []
          },
          "execution_count": 5
        }
      ]
    },
    {
      "cell_type": "code",
      "metadata": {
        "id": "3_kr-jzpl2rL",
        "colab_type": "code",
        "outputId": "61c5b4ac-a14b-495e-aeab-4dc031ee79cb",
        "colab": {
          "base_uri": "https://localhost:8080/",
          "height": 34
        }
      },
      "source": [
        "z = listify((1), x)\n",
        "z"
      ],
      "execution_count": 0,
      "outputs": [
        {
          "output_type": "execute_result",
          "data": {
            "text/plain": [
              "[1, 1, 1]"
            ]
          },
          "metadata": {
            "tags": []
          },
          "execution_count": 7
        }
      ]
    },
    {
      "cell_type": "code",
      "metadata": {
        "id": "jA8bZRdel5J9",
        "colab_type": "code",
        "outputId": "fd5d3aa0-dc51-4d66-fd0a-f759e8a23e1b",
        "colab": {
          "base_uri": "https://localhost:8080/",
          "height": 34
        }
      },
      "source": [
        "a = listify(1, y)\n",
        "a"
      ],
      "execution_count": 0,
      "outputs": [
        {
          "output_type": "execute_result",
          "data": {
            "text/plain": [
              "[1, 1, 1, 1, 1, 1, 1, 1, 1, 1, 1, 1]"
            ]
          },
          "metadata": {
            "tags": []
          },
          "execution_count": 9
        }
      ]
    },
    {
      "cell_type": "code",
      "metadata": {
        "id": "gCZt-smEl-HW",
        "colab_type": "code",
        "outputId": "c8fb5ee6-f946-4869-de4c-3d6607a363ae",
        "colab": {
          "base_uri": "https://localhost:8080/",
          "height": 34
        }
      },
      "source": [
        "b = listify((1, 2, 3), x)\n",
        "b"
      ],
      "execution_count": 0,
      "outputs": [
        {
          "output_type": "execute_result",
          "data": {
            "text/plain": [
              "[1, 2, 3]"
            ]
          },
          "metadata": {
            "tags": []
          },
          "execution_count": 10
        }
      ]
    },
    {
      "cell_type": "code",
      "metadata": {
        "id": "7TUDFMXfmDvd",
        "colab_type": "code",
        "outputId": "233224f5-19c9-4f31-eb53-426edaa9c4cf",
        "colab": {
          "base_uri": "https://localhost:8080/",
          "height": 34
        }
      },
      "source": [
        "c = listify('g', x)\n",
        "c"
      ],
      "execution_count": 0,
      "outputs": [
        {
          "output_type": "execute_result",
          "data": {
            "text/plain": [
              "['g', 'g', 'g']"
            ]
          },
          "metadata": {
            "tags": []
          },
          "execution_count": 12
        }
      ]
    },
    {
      "cell_type": "markdown",
      "metadata": {
        "id": "SExXn_phF4vL",
        "colab_type": "text"
      },
      "source": [
        "# expand_as"
      ]
    },
    {
      "cell_type": "code",
      "metadata": {
        "id": "urHCi_jy3Aes",
        "colab_type": "code",
        "colab": {}
      },
      "source": [
        "a = torch.tensor([1, 2, 3])"
      ],
      "execution_count": 0,
      "outputs": []
    },
    {
      "cell_type": "code",
      "metadata": {
        "id": "AX4wvi953C5N",
        "colab_type": "code",
        "colab": {}
      },
      "source": [
        "b = torch.tensor([[1, 2, 3], [4, 5, 6], [7, 8, 9]])"
      ],
      "execution_count": 0,
      "outputs": []
    },
    {
      "cell_type": "code",
      "metadata": {
        "id": "AkPazqDx3GOU",
        "colab_type": "code",
        "colab": {}
      },
      "source": [
        "c = a.expand_as(b)"
      ],
      "execution_count": 0,
      "outputs": []
    },
    {
      "cell_type": "code",
      "metadata": {
        "id": "LDA6VAGQ3JC3",
        "colab_type": "code",
        "outputId": "55c31507-31a4-4643-cc3f-284e37662977",
        "colab": {
          "base_uri": "https://localhost:8080/",
          "height": 70
        }
      },
      "source": [
        "c"
      ],
      "execution_count": 0,
      "outputs": [
        {
          "output_type": "execute_result",
          "data": {
            "text/plain": [
              "tensor([[1, 2, 3],\n",
              "        [1, 2, 3],\n",
              "        [1, 2, 3]])"
            ]
          },
          "metadata": {
            "tags": []
          },
          "execution_count": 32
        }
      ]
    },
    {
      "cell_type": "code",
      "metadata": {
        "id": "BUrC7MtK3Jel",
        "colab_type": "code",
        "colab": {}
      },
      "source": [
        "d = a + b"
      ],
      "execution_count": 0,
      "outputs": []
    },
    {
      "cell_type": "code",
      "metadata": {
        "id": "0oiZNyCK3LQj",
        "colab_type": "code",
        "outputId": "23bb0749-b285-4540-b87d-3b418546ddc1",
        "colab": {
          "base_uri": "https://localhost:8080/",
          "height": 70
        }
      },
      "source": [
        "d"
      ],
      "execution_count": 0,
      "outputs": [
        {
          "output_type": "execute_result",
          "data": {
            "text/plain": [
              "tensor([[ 2,  4,  6],\n",
              "        [ 5,  7,  9],\n",
              "        [ 8, 10, 12]])"
            ]
          },
          "metadata": {
            "tags": []
          },
          "execution_count": 34
        }
      ]
    },
    {
      "cell_type": "markdown",
      "metadata": {
        "id": "tUjL2YkzkoFc",
        "colab_type": "text"
      },
      "source": [
        "# bs_val"
      ]
    },
    {
      "cell_type": "code",
      "metadata": {
        "id": "hROCkHJGkpXu",
        "colab_type": "code",
        "colab": {}
      },
      "source": [
        "bs*2"
      ],
      "execution_count": 0,
      "outputs": []
    },
    {
      "cell_type": "markdown",
      "metadata": {
        "id": "ghIjFE7ArH06",
        "colab_type": "text"
      },
      "source": [
        "# fastai_callbacks"
      ]
    },
    {
      "cell_type": "code",
      "metadata": {
        "id": "GGropNy4jg0M",
        "colab_type": "code",
        "colab": {}
      },
      "source": [
        "def train(learn, epochs, callback, metrics):\n",
        "  cb_handler = CallbackHandler(callbacks)\n",
        "  cb_handler.on_train_begin(epochs, learn, metrics)\n",
        "  for epoch in range(epochs):\n",
        "    learn.model.train()\n",
        "    cb_handler.on_epoch_begin(epoch)\n",
        "    for xb, yb in learn.data.train_dl:\n",
        "      xb, yb = cb_handler.on_batch_begin(xb, yb)\n",
        "      out = learn.model(xb)\n",
        "      out = cb_handler.on_loss_begin(out)\n",
        "      loss = learn.loss_func(out, yb)\n",
        "      loss, skip_backward = callbacks.on_loss_begin(loss)\n",
        "      if not skip_backward:\n",
        "        loss.backward()\n",
        "      if not cb_handler.on_step_begin():\n",
        "        learn.opt.step()\n",
        "      if not cb_handler.on_step_end():\n",
        "        learn.opt.zero_grad()\n",
        "      if not callbacks.on_batch_end():\n",
        "        break\n",
        "    val_loss, mets = validate(learn.data.valid_dl, model, metrics)\n",
        "    if not callbacks.on_epoch_end(val_loss, mets):\n",
        "      break\n",
        "  callbacks.on_train_end()"
      ],
      "execution_count": 0,
      "outputs": []
    },
    {
      "cell_type": "code",
      "metadata": {
        "id": "jjVQs3UYoXvR",
        "colab_type": "code",
        "colab": {}
      },
      "source": [
        "class LRScheduler(LearnerCallback):\n",
        "  def on_batch_begin(self, iteration, **kwargs):\n",
        "    self.learn.opt.lr = my_function(iteration)"
      ],
      "execution_count": 0,
      "outputs": []
    },
    {
      "cell_type": "code",
      "metadata": {
        "id": "oTpUdYJWoowf",
        "colab_type": "code",
        "colab": {}
      },
      "source": [
        "class EarlyStopping(Callback):\n",
        "  def on_epoch_end(self, last_metrics, **kwargs):\n",
        "    if not_happy(last_metrics):\n",
        "      return {'stop_training': True}"
      ],
      "execution_count": 0,
      "outputs": []
    },
    {
      "cell_type": "code",
      "metadata": {
        "id": "nb-0nefRooF8",
        "colab_type": "code",
        "colab": {}
      },
      "source": [
        "class ParallelTrainer(LearnerCallback):\n",
        "  _order = 20\n",
        "  def on_train_begin(self, **kwargs):\n",
        "    self.learn.model = DataParallel(self.learn.model)\n",
        "  def on_train_end(self, **kwargs):\n",
        "    self.learn.model = self.learn.model.module"
      ],
      "execution_count": 0,
      "outputs": []
    },
    {
      "cell_type": "code",
      "metadata": {
        "id": "ce5cLOE_pJWV",
        "colab_type": "code",
        "colab": {}
      },
      "source": [
        "class GradientClipping(LearnerCallback):\n",
        "  def __init__(self, learn:Learner, clip:float = 0.):\n",
        "    super().__init__(learn)\n",
        "    self.clip = clip\n",
        "  \n",
        "  def on_backward_end(self, **kwargs):\n",
        "    if self.clip:\n",
        "      nn.utils.clip_grad_norm_(self.learn.model.parameters(), self.clip)"
      ],
      "execution_count": 0,
      "outputs": []
    },
    {
      "cell_type": "markdown",
      "metadata": {
        "id": "D2yTT48vxnZc",
        "colab_type": "text"
      },
      "source": [
        "# class_general"
      ]
    },
    {
      "cell_type": "code",
      "metadata": {
        "id": "uBY0mb3MxoV0",
        "colab_type": "code",
        "colab": {}
      },
      "source": [
        "class Foo():\n",
        "  xyz = 0\n",
        "  \n",
        "  def __init__(self, x):\n",
        "    self.y = x\n",
        "    self._x = x\n",
        "  \n",
        "  def __contains__(self, key):\n",
        "    return True if key in self._x else False\n",
        "  \n",
        "  def __iter__(self):\n",
        "    return iter(self._x)\n",
        "\n",
        "  def __repr__(self):\n",
        "    return str(self.y)\n",
        "  \n",
        "  def __getattribute__(self, item):\n",
        "    if item.startswith('cur'):\n",
        "      raise AttributeError\n",
        "    return object.__getattribute__(self,item)\n",
        "  \n",
        "  def __getattr__(self, item):\n",
        "    self.__dict__[item]=0\n",
        "    return 0\n",
        "  \n",
        "  def __reversed__(self):\n",
        "    for i in self._x[::-1]:\n",
        "      yield i\n",
        "  \n",
        "  @property\n",
        "  def x(self):\n",
        "    print('called x getter()')\n",
        "    return self._x\n",
        "  \n",
        "  @x.setter\n",
        "  def x(self, value):\n",
        "    print('called x.setter()')\n",
        "    self._x = value\n",
        "  \n",
        "  @staticmethod\n",
        "  def x():\n",
        "    print(\"static method\")\n",
        "  \n",
        "  @classmethod\n",
        "  def ye(cls, name):\n",
        "    print(\"class method\", cls, name)\n",
        "    cls.xyz = name\n",
        "    return cls(100)\n",
        "  \n",
        "  def __getitem__(self, key):\n",
        "    return self.y[key]\n",
        "  \n",
        "  def __add__(self, a):\n",
        "    return A(self.y + a.y)\n",
        "    \n",
        "  def __call__(self):\n",
        "    return 5"
      ],
      "execution_count": 0,
      "outputs": []
    },
    {
      "cell_type": "markdown",
      "metadata": {
        "id": "wY159eLsyx7K",
        "colab_type": "text"
      },
      "source": [
        "# closure"
      ]
    },
    {
      "cell_type": "code",
      "metadata": {
        "id": "AXxsKwOAcbug",
        "colab_type": "code",
        "colab": {}
      },
      "source": [
        "def do(x):\n",
        "  print('x:', x)\n",
        "  def _add(a):\n",
        "    print('a:', a)\n",
        "    return x + a # 2 + 1\n",
        "  \n",
        "  return _add"
      ],
      "execution_count": 0,
      "outputs": []
    },
    {
      "cell_type": "code",
      "metadata": {
        "id": "cLKXuBPAeYJE",
        "colab_type": "code",
        "outputId": "fc4d8cb3-5eb3-45a1-f638-9efdd7859d6a",
        "colab": {
          "base_uri": "https://localhost:8080/",
          "height": 34
        }
      },
      "source": [
        "x = do(2)"
      ],
      "execution_count": 0,
      "outputs": [
        {
          "output_type": "stream",
          "text": [
            "x: 2\n"
          ],
          "name": "stdout"
        }
      ]
    },
    {
      "cell_type": "code",
      "metadata": {
        "id": "Pi__6R1mekcl",
        "colab_type": "code",
        "outputId": "c47455b6-517b-4d29-ff8f-5b9f69e89b44",
        "colab": {
          "base_uri": "https://localhost:8080/",
          "height": 34
        }
      },
      "source": [
        "x"
      ],
      "execution_count": 0,
      "outputs": [
        {
          "output_type": "execute_result",
          "data": {
            "text/plain": [
              "<function __main__.do.<locals>._add>"
            ]
          },
          "metadata": {
            "tags": []
          },
          "execution_count": 74
        }
      ]
    },
    {
      "cell_type": "code",
      "metadata": {
        "id": "9u_OxNuBeZzH",
        "colab_type": "code",
        "outputId": "30252660-a190-478b-fbf5-2d2e0bcd5d3a",
        "colab": {
          "base_uri": "https://localhost:8080/",
          "height": 52
        }
      },
      "source": [
        "x(1)"
      ],
      "execution_count": 0,
      "outputs": [
        {
          "output_type": "stream",
          "text": [
            "a: 1\n"
          ],
          "name": "stdout"
        },
        {
          "output_type": "execute_result",
          "data": {
            "text/plain": [
              "3"
            ]
          },
          "metadata": {
            "tags": []
          },
          "execution_count": 75
        }
      ]
    },
    {
      "cell_type": "markdown",
      "metadata": {
        "id": "J8BgtRSwzD_M",
        "colab_type": "text"
      },
      "source": [
        "# callback class"
      ]
    },
    {
      "cell_type": "code",
      "metadata": {
        "id": "btYKGPAEZUin",
        "colab_type": "code",
        "colab": {}
      },
      "source": [
        "def do(cb1, i, *args, **kwargs):\n",
        "  return cb1(i), cb1.add_one(i)"
      ],
      "execution_count": 0,
      "outputs": []
    },
    {
      "cell_type": "code",
      "metadata": {
        "id": "OkipUGvVilMs",
        "colab_type": "code",
        "colab": {}
      },
      "source": [
        "class T():\n",
        "  def __init__(self):\n",
        "    self.x = 5\n",
        "  \n",
        "  def add_one(self, e):\n",
        "    return e + 1\n",
        "  \n",
        "  def __call__(self, d):\n",
        "    return d"
      ],
      "execution_count": 0,
      "outputs": []
    },
    {
      "cell_type": "code",
      "metadata": {
        "id": "uebnswtlraFn",
        "colab_type": "code",
        "colab": {}
      },
      "source": [
        "x = T()"
      ],
      "execution_count": 0,
      "outputs": []
    },
    {
      "cell_type": "code",
      "metadata": {
        "id": "JkaPIy5NshXZ",
        "colab_type": "code",
        "outputId": "ae6ce37f-b784-46bc-c509-f7190e6ffad8",
        "colab": {
          "base_uri": "https://localhost:8080/",
          "height": 34
        }
      },
      "source": [
        "hasattr(x, 'add_one')"
      ],
      "execution_count": 0,
      "outputs": [
        {
          "output_type": "execute_result",
          "data": {
            "text/plain": [
              "True"
            ]
          },
          "metadata": {
            "tags": []
          },
          "execution_count": 60
        }
      ]
    },
    {
      "cell_type": "code",
      "metadata": {
        "id": "Qi1WNTHcrgcF",
        "colab_type": "code",
        "outputId": "4f2fd413-9a7e-49f1-cc0e-1f124d92f3b0",
        "colab": {
          "base_uri": "https://localhost:8080/",
          "height": 34
        }
      },
      "source": [
        "do(x, 1)"
      ],
      "execution_count": 0,
      "outputs": [
        {
          "output_type": "execute_result",
          "data": {
            "text/plain": [
              "(1, 2)"
            ]
          },
          "metadata": {
            "tags": []
          },
          "execution_count": 61
        }
      ]
    },
    {
      "cell_type": "markdown",
      "metadata": {
        "id": "ClZEED5YqzxB",
        "colab_type": "text"
      },
      "source": [
        "# GeneralRelu"
      ]
    },
    {
      "cell_type": "code",
      "metadata": {
        "id": "fmocCvhYq3TU",
        "colab_type": "code",
        "colab": {}
      },
      "source": [
        "class GeneralRelu(nn.Module):\n",
        "    def __init__(self, leak=None, sub=None, maxv=None):\n",
        "        super().__init__()\n",
        "        self.leak,self.sub,self.maxv = leak,sub,maxv\n",
        "\n",
        "    def forward(self, x): \n",
        "        x = F.leaky_relu(x,self.leak) if self.leak is not None else F.relu(x)\n",
        "        if self.sub is not None: x.sub_(self.sub)\n",
        "        if self.maxv is not None: x.clamp_max_(self.maxv)\n",
        "        return x"
      ],
      "execution_count": 0,
      "outputs": []
    },
    {
      "cell_type": "markdown",
      "metadata": {
        "id": "z1LRaoOhl_Hb",
        "colab_type": "text"
      },
      "source": [
        "# LayerNorm"
      ]
    },
    {
      "cell_type": "code",
      "metadata": {
        "id": "XSGL1GYWl_9G",
        "colab_type": "code",
        "colab": {}
      },
      "source": [
        "class LayerNorm(nn.Module):\n",
        "    __constants__ = ['eps']\n",
        "    def __init__(self, eps=1e-5):\n",
        "        super().__init__()\n",
        "        self.eps = eps\n",
        "        self.mult = nn.Parameter(tensor(1.))\n",
        "        self.add  = nn.Parameter(tensor(0.))\n",
        "\n",
        "    def forward(self, x):\n",
        "        m = x.mean((1,2,3), keepdim=True)\n",
        "        v = x.std ((1,2,3), keepdim=True)\n",
        "        x = (x-m) / ((v+self.eps).sqrt())\n",
        "        return x*self.mult + self.add"
      ],
      "execution_count": 0,
      "outputs": []
    },
    {
      "cell_type": "markdown",
      "metadata": {
        "id": "GLySqRg5mFLG",
        "colab_type": "text"
      },
      "source": [
        "# InstanceNorm"
      ]
    },
    {
      "cell_type": "code",
      "metadata": {
        "id": "Qkt1mTgNmGDX",
        "colab_type": "code",
        "colab": {}
      },
      "source": [
        "class InstanceNorm(nn.Module):\n",
        "    __constants__ = ['eps']\n",
        "    def __init__(self, nf, eps=1e-0):\n",
        "        super().__init__()\n",
        "        self.eps = eps\n",
        "        self.mults = nn.Parameter(torch.ones (nf,1,1))\n",
        "        self.adds  = nn.Parameter(torch.zeros(nf,1,1))\n",
        "\n",
        "    def forward(self, x):\n",
        "        m = x.mean((2,3), keepdim=True)\n",
        "        v = x.std ((2,3), keepdim=True)\n",
        "        res = (x-m) / ((v+self.eps).sqrt())\n",
        "        return res*self.mults + self.adds"
      ],
      "execution_count": 0,
      "outputs": []
    },
    {
      "cell_type": "markdown",
      "metadata": {
        "id": "8WQtj8nRmQJp",
        "colab_type": "text"
      },
      "source": [
        "# RunningBatchNorm"
      ]
    },
    {
      "cell_type": "code",
      "metadata": {
        "id": "zAOCFka-mRTV",
        "colab_type": "code",
        "colab": {}
      },
      "source": [
        "class RunningBatchNorm(nn.Module):\n",
        "    def __init__(self, nf, mom=0.1, eps=1e-5):\n",
        "        super().__init__()\n",
        "        self.mom,self.eps = mom,eps\n",
        "        self.mults = nn.Parameter(torch.ones (nf,1,1))\n",
        "        self.adds = nn.Parameter(torch.zeros(nf,1,1))\n",
        "        self.register_buffer('sums', torch.zeros(1,nf,1,1))\n",
        "        self.register_buffer('sqrs', torch.zeros(1,nf,1,1))\n",
        "        self.register_buffer('batch', tensor(0.))\n",
        "        self.register_buffer('count', tensor(0.))\n",
        "        self.register_buffer('step', tensor(0.))\n",
        "        self.register_buffer('dbias', tensor(0.))\n",
        "\n",
        "    def update_stats(self, x):\n",
        "        bs,nc,*_ = x.shape\n",
        "        self.sums.detach_()\n",
        "        self.sqrs.detach_()\n",
        "        dims = (0,2,3)\n",
        "        s = x.sum(dims, keepdim=True)\n",
        "        ss = (x*x).sum(dims, keepdim=True)\n",
        "        c = self.count.new_tensor(x.numel()/nc)\n",
        "        mom1 = 1 - (1-self.mom)/math.sqrt(bs-1)\n",
        "        self.mom1 = self.dbias.new_tensor(mom1)\n",
        "        self.sums.lerp_(s, self.mom1)\n",
        "        self.sqrs.lerp_(ss, self.mom1)\n",
        "        self.count.lerp_(c, self.mom1)\n",
        "        self.dbias = self.dbias*(1-self.mom1) + self.mom1\n",
        "        self.batch += bs\n",
        "        self.step += 1\n",
        "\n",
        "    def forward(self, x):\n",
        "        if self.training: self.update_stats(x)\n",
        "        sums = self.sums\n",
        "        sqrs = self.sqrs\n",
        "        c = self.count\n",
        "        if self.step<100:\n",
        "            sums = sums / self.dbias\n",
        "            sqrs = sqrs / self.dbias\n",
        "            c    = c    / self.dbias\n",
        "        means = sums/c\n",
        "        vars = (sqrs/c).sub_(means*means)\n",
        "        if bool(self.batch < 20): vars.clamp_min_(0.01)\n",
        "        x = (x-means).div_((vars.add_(self.eps)).sqrt())\n",
        "        return x.mul_(self.mults).add_(self.adds)"
      ],
      "execution_count": 0,
      "outputs": []
    },
    {
      "cell_type": "markdown",
      "metadata": {
        "id": "r5P3GrhwoNZp",
        "colab_type": "text"
      },
      "source": [
        "# hooks"
      ]
    },
    {
      "cell_type": "code",
      "metadata": {
        "id": "cRj0cO3Dopcz",
        "colab_type": "code",
        "colab": {}
      },
      "source": [
        "#export\n",
        "class ListContainer():\n",
        "    def __init__(self, items): self.items = listify(items)\n",
        "    def __getitem__(self, idx):\n",
        "        if isinstance(idx, (int,slice)): return self.items[idx]\n",
        "        if isinstance(idx[0],bool):\n",
        "            assert len(idx)==len(self) # bool mask\n",
        "            return [o for m,o in zip(idx,self.items) if m]\n",
        "        return [self.items[i] for i in idx]\n",
        "    def __len__(self): return len(self.items)\n",
        "    def __iter__(self): return iter(self.items)\n",
        "    def __setitem__(self, i, o): self.items[i] = o\n",
        "    def __delitem__(self, i): del(self.items[i])\n",
        "    def __repr__(self):\n",
        "        res = f'{self.__class__.__name__} ({len(self)} items)\\n{self.items[:10]}'\n",
        "        if len(self)>10: res = res[:-1]+ '...]'\n",
        "        return res"
      ],
      "execution_count": 0,
      "outputs": []
    },
    {
      "cell_type": "code",
      "metadata": {
        "id": "3XKtNy7Rn7tP",
        "colab_type": "code",
        "colab": {}
      },
      "source": [
        "#export\n",
        "from torch.nn import init\n",
        "\n",
        "class Hooks(ListContainer):\n",
        "    def __init__(self, ms, f): super().__init__([Hook(m, f) for m in ms])\n",
        "    def __enter__(self, *args): return self\n",
        "    def __exit__ (self, *args): self.remove()\n",
        "    def __del__(self): self.remove()\n",
        "\n",
        "    def __delitem__(self, i):\n",
        "        self[i].remove()\n",
        "        super().__delitem__(i)\n",
        "        \n",
        "    def remove(self):\n",
        "        for h in self: h.remove()"
      ],
      "execution_count": 0,
      "outputs": []
    },
    {
      "cell_type": "markdown",
      "metadata": {
        "id": "6n5OTasyrdjw",
        "colab_type": "text"
      },
      "source": [
        "# @xyz.setter"
      ]
    },
    {
      "cell_type": "code",
      "metadata": {
        "id": "xCOnco6mreqP",
        "colab_type": "code",
        "colab": {}
      },
      "source": [
        "class A():\n",
        "  def __init__(self, val):\n",
        "    self.xyz = val # setter call\n",
        "    # self._xyz = val # no setter call\n",
        "\n",
        "  @property\n",
        "  def xyz(self):\n",
        "    return self._xyz\n",
        "  \n",
        "  @xyz.setter\n",
        "  def xyz(self, t):\n",
        "    self._xyz = t"
      ],
      "execution_count": 0,
      "outputs": []
    },
    {
      "cell_type": "markdown",
      "metadata": {
        "id": "VqQ6xyfCxzbZ",
        "colab_type": "text"
      },
      "source": [
        "# lsuv"
      ]
    },
    {
      "cell_type": "code",
      "metadata": {
        "id": "4qW62gw0x0KH",
        "colab_type": "code",
        "colab": {}
      },
      "source": [
        "#export\n",
        "def lsuv_module(m, xb):\n",
        "    h = Hook(m, append_stat)\n",
        "\n",
        "    while mdl(xb) is not None and abs(h.mean)  > 1e-3: m.bias -= h.mean\n",
        "    while mdl(xb) is not None and abs(h.std-1) > 1e-3: m.weight.data /= h.std\n",
        "\n",
        "    h.remove()\n",
        "    return h.mean,h.std"
      ],
      "execution_count": 0,
      "outputs": []
    },
    {
      "cell_type": "code",
      "metadata": {
        "id": "t_FP9k6ryF0B",
        "colab_type": "code",
        "colab": {}
      },
      "source": [
        "for m in mods: print(lsuv_module(m, xb))"
      ],
      "execution_count": 0,
      "outputs": []
    },
    {
      "cell_type": "markdown",
      "metadata": {
        "id": "nDpa0E268qCL",
        "colab_type": "text"
      },
      "source": [
        "# setify"
      ]
    },
    {
      "cell_type": "code",
      "metadata": {
        "id": "DphoY2Xw8qqc",
        "colab_type": "code",
        "colab": {}
      },
      "source": [
        "from fastai.train import listify\n",
        "def setify(x):\n",
        "  return x if isinstance(x, set) else set(listify(x))"
      ],
      "execution_count": 0,
      "outputs": []
    },
    {
      "cell_type": "markdown",
      "metadata": {
        "id": "dBsj6oqJ-eXS",
        "colab_type": "text"
      },
      "source": [
        "# scandir"
      ]
    },
    {
      "cell_type": "code",
      "metadata": {
        "id": "gV_tA6kY-fHz",
        "colab_type": "code",
        "colab": {}
      },
      "source": [
        "for x in os.scandir('.'):\n",
        "  print(x.name)\n",
        "  if x.is_file():\n",
        "    print(x)"
      ],
      "execution_count": 0,
      "outputs": []
    },
    {
      "cell_type": "markdown",
      "metadata": {
        "id": "fDb1Hfwqa5kx",
        "colab_type": "text"
      },
      "source": [
        "# hasattr | setattr | getattr"
      ]
    },
    {
      "cell_type": "code",
      "metadata": {
        "id": "oZebetsREo3K",
        "colab_type": "code",
        "colab": {}
      },
      "source": [
        "class A():\n",
        "  def __init__(self, x):\n",
        "    self.y = x"
      ],
      "execution_count": 0,
      "outputs": []
    },
    {
      "cell_type": "code",
      "metadata": {
        "id": "fysXDUwKEvpH",
        "colab_type": "code",
        "colab": {}
      },
      "source": [
        "t = A(1)"
      ],
      "execution_count": 0,
      "outputs": []
    },
    {
      "cell_type": "code",
      "metadata": {
        "id": "9yMdB8p4I1Jh",
        "colab_type": "code",
        "outputId": "40d2144e-ff80-45a3-b430-0efca8c41a57",
        "colab": {
          "base_uri": "https://localhost:8080/",
          "height": 34
        }
      },
      "source": [
        "t.y"
      ],
      "execution_count": 0,
      "outputs": [
        {
          "output_type": "execute_result",
          "data": {
            "text/plain": [
              "1"
            ]
          },
          "metadata": {
            "tags": []
          },
          "execution_count": 3
        }
      ]
    },
    {
      "cell_type": "code",
      "metadata": {
        "id": "yT5nezsfI1rH",
        "colab_type": "code",
        "outputId": "6e033c37-67a2-40bc-b40d-2539cbde51d4",
        "colab": {
          "base_uri": "https://localhost:8080/",
          "height": 34
        }
      },
      "source": [
        "hasattr(t, 'y')"
      ],
      "execution_count": 0,
      "outputs": [
        {
          "output_type": "execute_result",
          "data": {
            "text/plain": [
              "True"
            ]
          },
          "metadata": {
            "tags": []
          },
          "execution_count": 4
        }
      ]
    },
    {
      "cell_type": "code",
      "metadata": {
        "id": "4wM7xGJzI6DC",
        "colab_type": "code",
        "outputId": "4b8fd9bf-867c-477d-e983-e242c68f6f03",
        "colab": {
          "base_uri": "https://localhost:8080/",
          "height": 34
        }
      },
      "source": [
        "getattr(t, 'y')"
      ],
      "execution_count": 0,
      "outputs": [
        {
          "output_type": "execute_result",
          "data": {
            "text/plain": [
              "1"
            ]
          },
          "metadata": {
            "tags": []
          },
          "execution_count": 6
        }
      ]
    },
    {
      "cell_type": "code",
      "metadata": {
        "id": "RaDJrqNcI7y-",
        "colab_type": "code",
        "colab": {}
      },
      "source": [
        "setattr(t, 'y', 2)"
      ],
      "execution_count": 0,
      "outputs": []
    },
    {
      "cell_type": "code",
      "metadata": {
        "id": "eMTsNoB1I91E",
        "colab_type": "code",
        "outputId": "475a51bf-f5f4-4086-bb98-8168a2509779",
        "colab": {
          "base_uri": "https://localhost:8080/",
          "height": 34
        }
      },
      "source": [
        "getattr(t, 'y')"
      ],
      "execution_count": 0,
      "outputs": [
        {
          "output_type": "execute_result",
          "data": {
            "text/plain": [
              "2"
            ]
          },
          "metadata": {
            "tags": []
          },
          "execution_count": 9
        }
      ]
    },
    {
      "cell_type": "code",
      "metadata": {
        "id": "jkwyVH7qI_Kk",
        "colab_type": "code",
        "outputId": "e59af410-df31-486c-e5b2-5acccbfd3467",
        "colab": {
          "base_uri": "https://localhost:8080/",
          "height": 34
        }
      },
      "source": [
        "t.y"
      ],
      "execution_count": 0,
      "outputs": [
        {
          "output_type": "execute_result",
          "data": {
            "text/plain": [
              "2"
            ]
          },
          "metadata": {
            "tags": []
          },
          "execution_count": 10
        }
      ]
    },
    {
      "cell_type": "code",
      "metadata": {
        "id": "HLN-cly-JNZm",
        "colab_type": "code",
        "colab": {}
      },
      "source": [
        "setattr(t, 's', 1)"
      ],
      "execution_count": 0,
      "outputs": []
    },
    {
      "cell_type": "code",
      "metadata": {
        "id": "VBFJjjOcJcag",
        "colab_type": "code",
        "outputId": "3eabc7a3-8ce6-4ba4-fae4-35a6b98dac19",
        "colab": {
          "base_uri": "https://localhost:8080/",
          "height": 510
        }
      },
      "source": [
        "dir(t)"
      ],
      "execution_count": 0,
      "outputs": [
        {
          "output_type": "execute_result",
          "data": {
            "text/plain": [
              "['__class__',\n",
              " '__delattr__',\n",
              " '__dict__',\n",
              " '__dir__',\n",
              " '__doc__',\n",
              " '__eq__',\n",
              " '__format__',\n",
              " '__ge__',\n",
              " '__getattribute__',\n",
              " '__gt__',\n",
              " '__hash__',\n",
              " '__init__',\n",
              " '__init_subclass__',\n",
              " '__le__',\n",
              " '__lt__',\n",
              " '__module__',\n",
              " '__ne__',\n",
              " '__new__',\n",
              " '__reduce__',\n",
              " '__reduce_ex__',\n",
              " '__repr__',\n",
              " '__setattr__',\n",
              " '__sizeof__',\n",
              " '__str__',\n",
              " '__subclasshook__',\n",
              " '__weakref__',\n",
              " 's',\n",
              " 'y']"
            ]
          },
          "metadata": {
            "tags": []
          },
          "execution_count": 17
        }
      ]
    },
    {
      "cell_type": "code",
      "metadata": {
        "id": "VPpx6PeXJdiI",
        "colab_type": "code",
        "outputId": "08c35f24-c2ac-4bfc-c90c-00d4773037d3",
        "colab": {
          "base_uri": "https://localhost:8080/",
          "height": 34
        }
      },
      "source": [
        "t.s"
      ],
      "execution_count": 0,
      "outputs": [
        {
          "output_type": "execute_result",
          "data": {
            "text/plain": [
              "1"
            ]
          },
          "metadata": {
            "tags": []
          },
          "execution_count": 18
        }
      ]
    },
    {
      "cell_type": "code",
      "metadata": {
        "id": "VLn1zrLGJf5H",
        "colab_type": "code",
        "outputId": "13aba758-2d92-4884-e76a-c4a1f5194a45",
        "colab": {
          "base_uri": "https://localhost:8080/",
          "height": 34
        }
      },
      "source": [
        "t.y"
      ],
      "execution_count": 0,
      "outputs": [
        {
          "output_type": "execute_result",
          "data": {
            "text/plain": [
              "2"
            ]
          },
          "metadata": {
            "tags": []
          },
          "execution_count": 19
        }
      ]
    },
    {
      "cell_type": "code",
      "metadata": {
        "id": "2ojfpo1mavk6",
        "colab_type": "code",
        "outputId": "9e394728-978a-49e9-85a0-6b3d5036a78b",
        "colab": {
          "base_uri": "https://localhost:8080/",
          "height": 34
        }
      },
      "source": [
        "getattr(t, 'z', 0)"
      ],
      "execution_count": 0,
      "outputs": [
        {
          "output_type": "execute_result",
          "data": {
            "text/plain": [
              "0"
            ]
          },
          "metadata": {
            "tags": []
          },
          "execution_count": 8
        }
      ]
    },
    {
      "cell_type": "markdown",
      "metadata": {
        "id": "yVvDQb6-oyNY",
        "colab_type": "text"
      },
      "source": [
        "# compose"
      ]
    },
    {
      "cell_type": "code",
      "metadata": {
        "id": "pPf5UOsqlXde",
        "colab_type": "code",
        "colab": {}
      },
      "source": [
        "from funcy import compose, partial"
      ],
      "execution_count": 0,
      "outputs": []
    },
    {
      "cell_type": "code",
      "metadata": {
        "id": "zKtfJbOzlbYL",
        "colab_type": "code",
        "colab": {}
      },
      "source": [
        "def add(x, y):\n",
        "  print(\"add\", x, y)\n",
        "  return x + y"
      ],
      "execution_count": 0,
      "outputs": []
    },
    {
      "cell_type": "code",
      "metadata": {
        "id": "pv19viVnldPe",
        "colab_type": "code",
        "colab": {}
      },
      "source": [
        "def subtract(x, y):\n",
        "  print(\"subtract\", x, y)\n",
        "  return x - y"
      ],
      "execution_count": 0,
      "outputs": []
    },
    {
      "cell_type": "code",
      "metadata": {
        "id": "UKGFcAb2llTf",
        "colab_type": "code",
        "colab": {}
      },
      "source": [
        "def multiply(x, y, z):\n",
        "  print(\"multiply\", x, y, z)\n",
        "  return x * y * z"
      ],
      "execution_count": 0,
      "outputs": []
    },
    {
      "cell_type": "code",
      "metadata": {
        "id": "rr7mXqTPl5l-",
        "colab_type": "code",
        "colab": {}
      },
      "source": [
        "a = partial(add, 5)\n",
        "b = partial(subtract, 1)\n",
        "c = partial(multiply, 2, 3)"
      ],
      "execution_count": 0,
      "outputs": []
    },
    {
      "cell_type": "code",
      "metadata": {
        "id": "ts7zHEAClZ8A",
        "colab_type": "code",
        "colab": {}
      },
      "source": [
        "t = compose(a, b, c)"
      ],
      "execution_count": 0,
      "outputs": []
    },
    {
      "cell_type": "code",
      "metadata": {
        "id": "jOiUhtC6liCO",
        "colab_type": "code",
        "outputId": "58117769-5f2f-4560-8940-c5c38c0001be",
        "colab": {
          "base_uri": "https://localhost:8080/",
          "height": 87
        }
      },
      "source": [
        "t(1)"
      ],
      "execution_count": 0,
      "outputs": [
        {
          "output_type": "stream",
          "text": [
            "multiply 2 3 1\n",
            "subtract 1 6\n",
            "add 5 -5\n"
          ],
          "name": "stdout"
        },
        {
          "output_type": "execute_result",
          "data": {
            "text/plain": [
              "0"
            ]
          },
          "metadata": {
            "tags": []
          },
          "execution_count": 56
        }
      ]
    },
    {
      "cell_type": "markdown",
      "metadata": {
        "id": "OpiyMM8KQKLr",
        "colab_type": "text"
      },
      "source": [
        "# model_summary"
      ]
    },
    {
      "cell_type": "code",
      "metadata": {
        "id": "gmVM88FnQK93",
        "colab_type": "code",
        "colab": {}
      },
      "source": [
        "#export\n",
        "def model_summary(run, learn, data, find_all=False):\n",
        "    xb,yb = get_batch(data.valid_dl, run)\n",
        "    device = next(learn.model.parameters()).device#Model may not be on the GPU yet\n",
        "    xb,yb = xb.to(device),yb.to(device)\n",
        "    mods = find_modules(learn.model, is_lin_layer) if find_all else learn.model.children()\n",
        "    f = lambda hook,mod,inp,out: print(f\"{mod}\\n{out.shape}\\n\")\n",
        "    with Hooks(mods, f) as hooks: learn.model(xb)"
      ],
      "execution_count": 0,
      "outputs": []
    },
    {
      "cell_type": "markdown",
      "metadata": {
        "id": "OXqgckiRFL6d",
        "colab_type": "text"
      },
      "source": [
        "# optimizer"
      ]
    },
    {
      "cell_type": "code",
      "metadata": {
        "id": "6tkQk3NAFM-F",
        "colab_type": "code",
        "colab": {}
      },
      "source": [
        "class Optimizer():\n",
        "    def __init__(self, params, steppers, **defaults):\n",
        "        # might be a generator\n",
        "        self.param_groups = list(params)\n",
        "        # ensure params is a list of lists\n",
        "        if not isinstance(self.param_groups[0], list): self.param_groups = [self.param_groups]\n",
        "        self.hypers = [{**defaults} for p in self.param_groups]\n",
        "        self.steppers = listify(steppers)\n",
        "\n",
        "    def grad_params(self):\n",
        "        return [(p,hyper) for pg,hyper in zip(self.param_groups,self.hypers)\n",
        "            for p in pg if p.grad is not None]\n",
        "\n",
        "    def zero_grad(self):\n",
        "        for p,hyper in self.grad_params():\n",
        "            p.grad.detach_()\n",
        "            p.grad.zero_()\n",
        "\n",
        "    def step(self):\n",
        "        for p,hyper in self.grad_params(): compose(p, self.steppers, **hyper)"
      ],
      "execution_count": 0,
      "outputs": []
    },
    {
      "cell_type": "markdown",
      "metadata": {
        "id": "ajI-RYuytyhH",
        "colab_type": "text"
      },
      "source": [
        "# op"
      ]
    },
    {
      "cell_type": "code",
      "metadata": {
        "id": "iVFhruFxt0dV",
        "colab_type": "code",
        "colab": {}
      },
      "source": [
        "def add(x, y):\n",
        "  return x + y"
      ],
      "execution_count": 0,
      "outputs": []
    },
    {
      "cell_type": "code",
      "metadata": {
        "id": "0mu_zY-XuHo_",
        "colab_type": "code",
        "colab": {}
      },
      "source": [
        "def subtract(x, y):\n",
        "  return x - y"
      ],
      "execution_count": 0,
      "outputs": []
    },
    {
      "cell_type": "code",
      "metadata": {
        "id": "y6JF2mnkuJBf",
        "colab_type": "code",
        "colab": {}
      },
      "source": [
        "def multiply(x, y):\n",
        "  return x * y"
      ],
      "execution_count": 0,
      "outputs": []
    },
    {
      "cell_type": "markdown",
      "metadata": {
        "id": "zmTBsXVvR04K",
        "colab_type": "text"
      },
      "source": [
        "# set_grad"
      ]
    },
    {
      "cell_type": "code",
      "metadata": {
        "id": "qPFTkWC4XCgl",
        "colab_type": "code",
        "colab": {}
      },
      "source": [
        "def set_grad(m, b):\n",
        "    if isinstance(m, (nn.Linear,nn.BatchNorm2d)): return\n",
        "    if hasattr(m, 'weight'):\n",
        "        for p in m.parameters(): p.requires_grad_(b)"
      ],
      "execution_count": 0,
      "outputs": []
    },
    {
      "cell_type": "markdown",
      "metadata": {
        "id": "OeJF31aa5dux",
        "colab_type": "text"
      },
      "source": [
        "# test_near_zero"
      ]
    },
    {
      "cell_type": "code",
      "metadata": {
        "id": "ntgvsOXo5et2",
        "colab_type": "code",
        "colab": {}
      },
      "source": [
        "def test_near_zero(a,tol=1e-3): assert a.abs()<tol, f\"Near zero: {a}\""
      ],
      "execution_count": 0,
      "outputs": []
    },
    {
      "cell_type": "markdown",
      "metadata": {
        "id": "rWDKvWu7GYfV",
        "colab_type": "text"
      },
      "source": [
        "# stats"
      ]
    },
    {
      "cell_type": "code",
      "metadata": {
        "id": "yrcl4pjhGZHl",
        "colab_type": "code",
        "colab": {}
      },
      "source": [
        "def stats(x): return x.mean(),x.std()"
      ],
      "execution_count": 0,
      "outputs": []
    },
    {
      "cell_type": "markdown",
      "metadata": {
        "id": "o8BURQBcrRAG",
        "colab_type": "text"
      },
      "source": [
        "# Lambda"
      ]
    },
    {
      "cell_type": "code",
      "metadata": {
        "id": "r7-KNHRFrRw3",
        "colab_type": "code",
        "colab": {}
      },
      "source": [
        "class Lambda(nn.Module):\n",
        "  def __init__(self, func):\n",
        "    super().__init__()\n",
        "    self.func = func\n",
        "  \n",
        "  def forward(self, x):\n",
        "    return self.func(x)"
      ],
      "execution_count": 0,
      "outputs": []
    },
    {
      "cell_type": "code",
      "metadata": {
        "id": "5wfVYeHYqwTC",
        "colab_type": "code",
        "colab": {}
      },
      "source": [
        "def flatten(x):\n",
        "  return x.view(x.shape[0], -1)"
      ],
      "execution_count": 0,
      "outputs": []
    },
    {
      "cell_type": "code",
      "metadata": {
        "id": "g6WIL5N1quO2",
        "colab_type": "code",
        "colab": {}
      },
      "source": [
        "e = Lambda(flatten)"
      ],
      "execution_count": 0,
      "outputs": []
    },
    {
      "cell_type": "markdown",
      "metadata": {
        "id": "Zk5t4sFkbDkG",
        "colab_type": "text"
      },
      "source": [
        "# save_features"
      ]
    },
    {
      "cell_type": "code",
      "metadata": {
        "id": "Or0Umwg7bE4-",
        "colab_type": "code",
        "colab": {}
      },
      "source": [
        "# we want to see the output after our input is passed to Conv2d layer\n",
        "# and then we will be able to pass it to any layer\n",
        "\n",
        "# for saving features after every layer by registering forward hook\n",
        "class SaveFeatures():\n",
        "  features=None\n",
        "  \n",
        "  def __init__(self, m):\n",
        "    self.hook = m.register_forward_hook(self.hook_fn)\n",
        "  \n",
        "  def hook_fn(self, module, input, output):\n",
        "    self.features = output\n",
        "  \n",
        "  def close(self):\n",
        "    self.hook.remove()"
      ],
      "execution_count": 0,
      "outputs": []
    },
    {
      "cell_type": "code",
      "metadata": {
        "id": "O8VO-E4NbHM0",
        "colab_type": "code",
        "colab": {}
      },
      "source": [
        "saved_features_conv = SaveFeatures(children(model)[0])\n",
        "saved_features_relu = SaveFeatures(children(model)[1])"
      ],
      "execution_count": 0,
      "outputs": []
    },
    {
      "cell_type": "markdown",
      "metadata": {
        "id": "WcG7kyqRu1O_",
        "colab_type": "text"
      },
      "source": [
        "# General ReLU"
      ]
    },
    {
      "cell_type": "code",
      "metadata": {
        "id": "IY4DCMPhu3dE",
        "colab_type": "code",
        "colab": {}
      },
      "source": [
        "class GeneralRelu(nn.Module):\n",
        "    def __init__(self, leak=None, sub=None, maxv=None):\n",
        "        super().__init__()\n",
        "        self.leak,self.sub,self.maxv = leak,sub,maxv\n",
        "\n",
        "    def forward(self, x): \n",
        "        x = F.leaky_relu(x,self.leak) if self.leak is not None else F.relu(x)\n",
        "        if self.sub is not None: x.sub_(self.sub)\n",
        "        if self.maxv is not None: x.clamp_max_(self.maxv)\n",
        "        return x"
      ],
      "execution_count": 0,
      "outputs": []
    },
    {
      "cell_type": "markdown",
      "metadata": {
        "id": "hUjHszvphfZD",
        "colab_type": "text"
      },
      "source": [
        "# lr_suggestion"
      ]
    },
    {
      "cell_type": "code",
      "metadata": {
        "id": "MRx1o9lfvx4J",
        "colab_type": "code",
        "colab": {}
      },
      "source": [
        "from fastai.vision import untar_data, URLs, ImageDataBunch, \\\n",
        "                          cnn_learner, ClassificationInterpretation, models, accuracy"
      ],
      "execution_count": 0,
      "outputs": []
    },
    {
      "cell_type": "code",
      "metadata": {
        "id": "wui17YMHlI1E",
        "colab_type": "code",
        "outputId": "6e85da34-8562-4d60-a92d-25e009c6eb71",
        "colab": {
          "base_uri": "https://localhost:8080/",
          "height": 72
        }
      },
      "source": [
        "path = untar_data(URLs.MNIST_SAMPLE)\n",
        "data = ImageDataBunch.from_folder(path)\n",
        "learn = cnn_learner(data, models.vgg16_bn, metrics=accuracy)"
      ],
      "execution_count": 0,
      "outputs": [
        {
          "output_type": "stream",
          "text": [
            "Downloading: \"https://download.pytorch.org/models/vgg16_bn-6c64b313.pth\" to /root/.cache/torch/checkpoints/vgg16_bn-6c64b313.pth\n",
            "100%|██████████| 553507836/553507836 [00:05<00:00, 100262562.27it/s]\n"
          ],
          "name": "stderr"
        }
      ]
    },
    {
      "cell_type": "code",
      "metadata": {
        "id": "_TJlNZUaVVlD",
        "colab_type": "code",
        "outputId": "00fd9461-9fbf-4651-98ae-5b30a1601b30",
        "colab": {
          "base_uri": "https://localhost:8080/",
          "height": 34
        }
      },
      "source": [
        "learn.lr_find()"
      ],
      "execution_count": 0,
      "outputs": [
        {
          "output_type": "display_data",
          "data": {
            "text/html": [
              ""
            ],
            "text/plain": [
              "<IPython.core.display.HTML object>"
            ]
          },
          "metadata": {
            "tags": []
          }
        },
        {
          "output_type": "stream",
          "text": [
            "LR Finder is complete, type {learner_name}.recorder.plot() to see the graph.\n"
          ],
          "name": "stdout"
        }
      ]
    },
    {
      "cell_type": "code",
      "metadata": {
        "id": "Q7qgFG84Vi11",
        "colab_type": "code",
        "outputId": "ede4c62b-ace6-4b93-d6dd-d53a9bccd510",
        "colab": {
          "base_uri": "https://localhost:8080/",
          "height": 318
        }
      },
      "source": [
        "learn.recorder.plot(suggestion=True)"
      ],
      "execution_count": 0,
      "outputs": [
        {
          "output_type": "stream",
          "text": [
            "Min numerical gradient: 5.25E-03\n",
            "Min loss divided by 10: 3.63E-02\n"
          ],
          "name": "stdout"
        },
        {
          "output_type": "display_data",
          "data": {
            "image/png": "[encoded data removed]",
            "text/plain": [
              "<Figure size 432x288 with 1 Axes>"
            ]
          },
          "metadata": {
            "tags": []
          }
        }
      ]
    },
    {
      "cell_type": "code",
      "metadata": {
        "id": "0Xb06lDyVykH",
        "colab_type": "code",
        "colab": {}
      },
      "source": [
        "lr = learn.recorder.min_grad_lr"
      ],
      "execution_count": 0,
      "outputs": []
    },
    {
      "cell_type": "code",
      "metadata": {
        "id": "-GLkgVwDXP3T",
        "colab_type": "code",
        "outputId": "f932d1e9-7ce2-4375-abab-63c14e8f225d",
        "colab": {
          "base_uri": "https://localhost:8080/",
          "height": 34
        }
      },
      "source": [
        "lr"
      ],
      "execution_count": 0,
      "outputs": [
        {
          "output_type": "execute_result",
          "data": {
            "text/plain": [
              "0.005248074602497722"
            ]
          },
          "metadata": {
            "tags": []
          },
          "execution_count": 6
        }
      ]
    },
    {
      "cell_type": "code",
      "metadata": {
        "id": "mjBjAAx-V8wy",
        "colab_type": "code",
        "outputId": "fc152fa1-41a5-426e-d04c-dc2a0394a096",
        "colab": {
          "base_uri": "https://localhost:8080/",
          "height": 79
        }
      },
      "source": [
        "learn.fit_one_cycle(1, lr)"
      ],
      "execution_count": 0,
      "outputs": [
        {
          "output_type": "display_data",
          "data": {
            "text/html": [
              "<table border=\"1\" class=\"dataframe\">\n",
              "  <thead>\n",
              "    <tr style=\"text-align: left;\">\n",
              "      <th>epoch</th>\n",
              "      <th>train_loss</th>\n",
              "      <th>valid_loss</th>\n",
              "      <th>accuracy</th>\n",
              "      <th>time</th>\n",
              "    </tr>\n",
              "  </thead>\n",
              "  <tbody>\n",
              "    <tr>\n",
              "      <td>0</td>\n",
              "      <td>0.077480</td>\n",
              "      <td>0.034096</td>\n",
              "      <td>0.990186</td>\n",
              "      <td>05:17</td>\n",
              "    </tr>\n",
              "  </tbody>\n",
              "</table>"
            ],
            "text/plain": [
              "<IPython.core.display.HTML object>"
            ]
          },
          "metadata": {
            "tags": []
          }
        }
      ]
    },
    {
      "cell_type": "markdown",
      "metadata": {
        "id": "7irmWYegkNIF",
        "colab_type": "text"
      },
      "source": [
        "# fastai imports"
      ]
    },
    {
      "cell_type": "code",
      "metadata": {
        "id": "4Bs6xjL3kOLf",
        "colab_type": "code",
        "colab": {}
      },
      "source": [
        "from fastai.vision import DataBunch, URLs, ImageDataBunch, untar_data, get_transforms, \\\n",
        "                          cnn_learner, ClassificationInterpretation, models, accuracy, ImageList"
      ],
      "execution_count": 0,
      "outputs": []
    },
    {
      "cell_type": "markdown",
      "metadata": {
        "id": "Lms10nFPBIqO",
        "colab_type": "text"
      },
      "source": [
        "# descriptor"
      ]
    },
    {
      "cell_type": "code",
      "metadata": {
        "id": "AiwxNsuXvI3O",
        "colab_type": "code",
        "colab": {}
      },
      "source": [
        "class Descriptor():  \n",
        "  def __get__(self, obj, cls):\n",
        "    # set_trace()\n",
        "    print(obj, cls)\n",
        "    return self.val\n",
        "  \n",
        "  def __set__(self, obj, val):\n",
        "    # set_trace()\n",
        "    if val > 5:\n",
        "      raise ImportError(\"value greater than 5 not allowed\")\n",
        "    self.val = val"
      ],
      "execution_count": 0,
      "outputs": []
    },
    {
      "cell_type": "code",
      "metadata": {
        "id": "NNThvcaOvlUH",
        "colab_type": "code",
        "colab": {}
      },
      "source": [
        "class Base:\n",
        "  initialize_y = Descriptor()"
      ],
      "execution_count": 0,
      "outputs": []
    },
    {
      "cell_type": "code",
      "metadata": {
        "id": "ZoP9dkDqwu3a",
        "colab_type": "code",
        "colab": {}
      },
      "source": [
        "x = Base()"
      ],
      "execution_count": 0,
      "outputs": []
    },
    {
      "cell_type": "code",
      "metadata": {
        "id": "hXpteiIg5dqa",
        "colab_type": "code",
        "colab": {}
      },
      "source": [
        "class LazyProperty(object):\n",
        "  def __init__(self, func):\n",
        "    self._func = func\n",
        "    self.__name__ = func.__name__\n",
        "  \n",
        "  def __get__(self, obj, klass):\n",
        "    print(\"called the function\")\n",
        "    result = self._func(obj)\n",
        "    obj.__dict__[self.__name__] = result\n",
        "    return result"
      ],
      "execution_count": 0,
      "outputs": []
    },
    {
      "cell_type": "code",
      "metadata": {
        "id": "aex-oXUvBbrO",
        "colab_type": "code",
        "colab": {}
      },
      "source": [
        "class MyClass(object):\n",
        "  @LazyProperty\n",
        "  def x(self):\n",
        "    return 42"
      ],
      "execution_count": 0,
      "outputs": []
    },
    {
      "cell_type": "code",
      "metadata": {
        "id": "0JWpILLVBfZd",
        "colab_type": "code",
        "colab": {}
      },
      "source": [
        "obj = MyClass()"
      ],
      "execution_count": 0,
      "outputs": []
    },
    {
      "cell_type": "code",
      "metadata": {
        "id": "Xapg9L4fB5Xf",
        "colab_type": "code",
        "outputId": "83ed7f6e-313c-4ade-db61-62c4dd09ecbf",
        "colab": {
          "base_uri": "https://localhost:8080/",
          "height": 34
        }
      },
      "source": [
        "obj.__dict__"
      ],
      "execution_count": 0,
      "outputs": [
        {
          "output_type": "execute_result",
          "data": {
            "text/plain": [
              "{'x': 42}"
            ]
          },
          "metadata": {
            "tags": []
          },
          "execution_count": 185
        }
      ]
    },
    {
      "cell_type": "code",
      "metadata": {
        "id": "uwFizvFSBsFf",
        "colab_type": "code",
        "outputId": "55f73438-3440-42ba-b58f-bcceec31c91f",
        "colab": {
          "base_uri": "https://localhost:8080/",
          "height": 52
        }
      },
      "source": [
        "obj.x"
      ],
      "execution_count": 0,
      "outputs": [
        {
          "output_type": "stream",
          "text": [
            "called the function\n"
          ],
          "name": "stdout"
        },
        {
          "output_type": "execute_result",
          "data": {
            "text/plain": [
              "42"
            ]
          },
          "metadata": {
            "tags": []
          },
          "execution_count": 181
        }
      ]
    },
    {
      "cell_type": "code",
      "metadata": {
        "id": "wTsCofAiBs7V",
        "colab_type": "code",
        "outputId": "51ee087e-7c73-470c-aaf4-0fb329c79c28",
        "colab": {
          "base_uri": "https://localhost:8080/",
          "height": 34
        }
      },
      "source": [
        "obj.x"
      ],
      "execution_count": 0,
      "outputs": [
        {
          "output_type": "execute_result",
          "data": {
            "text/plain": [
              "42"
            ]
          },
          "metadata": {
            "tags": []
          },
          "execution_count": 184
        }
      ]
    },
    {
      "cell_type": "markdown",
      "metadata": {
        "id": "h_PwLtaxCgYy",
        "colab_type": "text"
      },
      "source": [
        "# re.finditer"
      ]
    },
    {
      "cell_type": "code",
      "metadata": {
        "id": "WGCDVrsg_4QA",
        "colab_type": "code",
        "colab": {}
      },
      "source": [
        "import re"
      ],
      "execution_count": 0,
      "outputs": []
    },
    {
      "cell_type": "code",
      "metadata": {
        "id": "fmqx9_xE_6hQ",
        "colab_type": "code",
        "outputId": "481cd980-74bd-4b7d-eee3-aeb007af03a4",
        "colab": {
          "base_uri": "https://localhost:8080/",
          "height": 52
        }
      },
      "source": [
        "for i in re.finditer('abc', 'abcdabc'):\n",
        "  print(i)"
      ],
      "execution_count": 0,
      "outputs": [
        {
          "output_type": "stream",
          "text": [
            "<_sre.SRE_Match object; span=(0, 3), match='abc'>\n",
            "<_sre.SRE_Match object; span=(4, 7), match='abc'>\n"
          ],
          "name": "stdout"
        }
      ]
    },
    {
      "cell_type": "code",
      "metadata": {
        "id": "QrSLFqIpABG5",
        "colab_type": "code",
        "outputId": "798f5a92-3116-4f44-b7f1-49b5afc4e856",
        "colab": {
          "base_uri": "https://localhost:8080/",
          "height": 52
        }
      },
      "source": [
        "for i in re.finditer('abc', 'abcdAbc'):\n",
        "  s = i.start()\n",
        "  e = i.end()\n",
        "  print(s)\n",
        "  print(e)"
      ],
      "execution_count": 0,
      "outputs": [
        {
          "output_type": "stream",
          "text": [
            "0\n",
            "3\n"
          ],
          "name": "stdout"
        }
      ]
    },
    {
      "cell_type": "code",
      "metadata": {
        "id": "OPJoBtwEAQq-",
        "colab_type": "code",
        "outputId": "22accc59-b0fb-43d5-9ca7-9044836a02b5",
        "colab": {
          "base_uri": "https://localhost:8080/",
          "height": 87
        }
      },
      "source": [
        "for i in re.finditer('abc', 'abcdAbc', flags=re.IGNORECASE):\n",
        "  s = i.start()\n",
        "  e = i.end()\n",
        "  print(s)\n",
        "  print(e)"
      ],
      "execution_count": 0,
      "outputs": [
        {
          "output_type": "stream",
          "text": [
            "0\n",
            "3\n",
            "4\n",
            "7\n"
          ],
          "name": "stdout"
        }
      ]
    },
    {
      "cell_type": "markdown",
      "metadata": {
        "id": "X2shBo87JIM-",
        "colab_type": "text"
      },
      "source": [
        "# iterable vs iterator"
      ]
    },
    {
      "cell_type": "code",
      "metadata": {
        "id": "vdG9mUwPJJkL",
        "colab_type": "code",
        "colab": {}
      },
      "source": [
        "# iterable - a book full of pages, any value that can produce a stream of values\n",
        "# iterator - bookmark, object that knows where we are in that stream, we can have two bookmarks in the \\\n",
        "#            same book\n",
        "# iterator = iter(iterable) # iterable.__iter__()\n",
        "# value = next(iterator)    # iterator.next() or .__next__() \n",
        "# value = next(iterator)"
      ],
      "execution_count": 0,
      "outputs": []
    },
    {
      "cell_type": "code",
      "metadata": {
        "id": "wuRRnGVrIiKv",
        "colab_type": "code",
        "colab": {}
      },
      "source": [
        "l = [1, 2, 3]"
      ],
      "execution_count": 0,
      "outputs": []
    },
    {
      "cell_type": "code",
      "metadata": {
        "id": "W89tytoGJX-k",
        "colab_type": "code",
        "colab": {}
      },
      "source": [
        "iterator = iter(l)"
      ],
      "execution_count": 0,
      "outputs": []
    },
    {
      "cell_type": "code",
      "metadata": {
        "id": "9F8XxLsgJZMC",
        "colab_type": "code",
        "colab": {}
      },
      "source": [
        "value = next(iterator)"
      ],
      "execution_count": 0,
      "outputs": []
    },
    {
      "cell_type": "code",
      "metadata": {
        "id": "CExhqEqgJanD",
        "colab_type": "code",
        "colab": {}
      },
      "source": [
        "next(iterator)"
      ],
      "execution_count": 0,
      "outputs": []
    },
    {
      "cell_type": "code",
      "metadata": {
        "id": "dr5XqDNrNFeh",
        "colab_type": "code",
        "colab": {}
      },
      "source": [
        "l = [1, 2, 3]"
      ],
      "execution_count": 0,
      "outputs": []
    },
    {
      "cell_type": "code",
      "metadata": {
        "id": "-ba7_syaNIph",
        "colab_type": "code",
        "colab": {}
      },
      "source": [
        "# iterator = iter(iterable)\n",
        "\n",
        "iterator = iter(l)"
      ],
      "execution_count": 0,
      "outputs": []
    },
    {
      "cell_type": "code",
      "metadata": {
        "id": "hDyri_pZNNMT",
        "colab_type": "code",
        "outputId": "d011a5a5-418b-4b2a-9324-ed264f4dae21",
        "colab": {
          "base_uri": "https://localhost:8080/",
          "height": 34
        }
      },
      "source": [
        "next(iterator)"
      ],
      "execution_count": 0,
      "outputs": [
        {
          "output_type": "execute_result",
          "data": {
            "text/plain": [
              "3"
            ]
          },
          "metadata": {
            "tags": []
          },
          "execution_count": 7
        }
      ]
    },
    {
      "cell_type": "code",
      "metadata": {
        "id": "GazjaCZONQPx",
        "colab_type": "code",
        "colab": {}
      },
      "source": [
        "class A:\n",
        "  def __init__(self):\n",
        "    self._l = []\n",
        "  \n",
        "  def __iter__(self):\n",
        "    return iter(self._l)"
      ],
      "execution_count": 0,
      "outputs": []
    },
    {
      "cell_type": "code",
      "metadata": {
        "id": "k96oM85XNZZB",
        "colab_type": "code",
        "colab": {}
      },
      "source": [
        "x = A()"
      ],
      "execution_count": 0,
      "outputs": []
    },
    {
      "cell_type": "code",
      "metadata": {
        "id": "NXaTLdsdNaa1",
        "colab_type": "code",
        "outputId": "8c77f8cf-88e7-4bb5-98ab-839db5af6857",
        "colab": {
          "base_uri": "https://localhost:8080/",
          "height": 34
        }
      },
      "source": [
        "for i in x:\n",
        "  print(i)"
      ],
      "execution_count": 0,
      "outputs": [
        {
          "output_type": "stream",
          "text": [
            "1\n"
          ],
          "name": "stdout"
        }
      ]
    },
    {
      "cell_type": "code",
      "metadata": {
        "id": "q-X_70g6NcJJ",
        "colab_type": "code",
        "colab": {}
      },
      "source": [
        "class B:\n",
        "  def __init__(self):\n",
        "    self._l = [1]\n",
        "  \n",
        "  def __iter__(self):\n",
        "    return iter(self._l)"
      ],
      "execution_count": 0,
      "outputs": []
    },
    {
      "cell_type": "code",
      "metadata": {
        "id": "AHum--gmNgYF",
        "colab_type": "code",
        "colab": {}
      },
      "source": [
        "y = B()"
      ],
      "execution_count": 0,
      "outputs": []
    },
    {
      "cell_type": "code",
      "metadata": {
        "id": "QJ5kdBPTNhdL",
        "colab_type": "code",
        "outputId": "7ed83edc-6f26-41fd-901d-5571e0da9355",
        "colab": {
          "base_uri": "https://localhost:8080/",
          "height": 34
        }
      },
      "source": [
        "for i in y:\n",
        "  print(i)"
      ],
      "execution_count": 0,
      "outputs": [
        {
          "output_type": "stream",
          "text": [
            "1\n"
          ],
          "name": "stdout"
        }
      ]
    },
    {
      "cell_type": "code",
      "metadata": {
        "id": "UwUdrySqNksR",
        "colab_type": "code",
        "colab": {}
      },
      "source": [
        "class C:\n",
        "  def __init__(self):\n",
        "    self._l = [1, 3]\n",
        "    self._m = [2, 4]\n",
        "  \n",
        "  def __iter__(self):\n",
        "    return iter(zip(self._l, self._m))"
      ],
      "execution_count": 0,
      "outputs": []
    },
    {
      "cell_type": "code",
      "metadata": {
        "id": "-3JE3UanNvba",
        "colab_type": "code",
        "colab": {}
      },
      "source": [
        "z = C()"
      ],
      "execution_count": 0,
      "outputs": []
    },
    {
      "cell_type": "code",
      "metadata": {
        "id": "XyikzTAmNwXV",
        "colab_type": "code",
        "outputId": "bc57d229-1907-4400-8a72-b9f66e8bbc3c",
        "colab": {
          "base_uri": "https://localhost:8080/",
          "height": 52
        }
      },
      "source": [
        "for i in z:\n",
        "  print(i)"
      ],
      "execution_count": 0,
      "outputs": [
        {
          "output_type": "stream",
          "text": [
            "(1, 2)\n",
            "(3, 4)\n"
          ],
          "name": "stdout"
        }
      ]
    },
    {
      "cell_type": "code",
      "metadata": {
        "id": "wdYtm6wcNxqk",
        "colab_type": "code",
        "colab": {}
      },
      "source": [
        "class D:\n",
        "  def __init__(self):\n",
        "    self._l = [1, 3]\n",
        "    self._m = [2, 4]\n",
        "  \n",
        "  def __iter__(self):\n",
        "    for i, j in zip(self._l, self._m):\n",
        "      if i > 1:\n",
        "        yield i, j\n",
        "  \n",
        "  def all(self):\n",
        "    return iter(zip(self._l, self._m))"
      ],
      "execution_count": 0,
      "outputs": []
    },
    {
      "cell_type": "code",
      "metadata": {
        "id": "UGhGxigdN4lw",
        "colab_type": "code",
        "colab": {}
      },
      "source": [
        "d = D()"
      ],
      "execution_count": 0,
      "outputs": []
    },
    {
      "cell_type": "code",
      "metadata": {
        "id": "ALgnvz-tN6Fr",
        "colab_type": "code",
        "outputId": "4a68b387-b388-4aa0-bcd3-946cc25d7b1a",
        "colab": {
          "base_uri": "https://localhost:8080/",
          "height": 34
        }
      },
      "source": [
        "for i in d:\n",
        "  print(i)"
      ],
      "execution_count": 0,
      "outputs": [
        {
          "output_type": "stream",
          "text": [
            "(3, 4)\n"
          ],
          "name": "stdout"
        }
      ]
    },
    {
      "cell_type": "code",
      "metadata": {
        "id": "XGAykhxXN7Rc",
        "colab_type": "code",
        "outputId": "a65b1b08-98d4-45bf-e555-207e2f6edd8f",
        "colab": {
          "base_uri": "https://localhost:8080/",
          "height": 52
        }
      },
      "source": [
        "for i in d.all():\n",
        "  print(i)"
      ],
      "execution_count": 0,
      "outputs": [
        {
          "output_type": "stream",
          "text": [
            "(1, 2)\n",
            "(3, 4)\n"
          ],
          "name": "stdout"
        }
      ]
    },
    {
      "cell_type": "markdown",
      "metadata": {
        "id": "LjNv6CQkd34J",
        "colab_type": "text"
      },
      "source": [
        "# keyword list"
      ]
    },
    {
      "cell_type": "code",
      "metadata": {
        "id": "O4uBGuA-TvIu",
        "colab_type": "code",
        "colab": {}
      },
      "source": [
        "import keyword"
      ],
      "execution_count": 0,
      "outputs": []
    },
    {
      "cell_type": "code",
      "metadata": {
        "id": "qpwgRnNRbuGG",
        "colab_type": "code",
        "outputId": "7bee82ee-f6a5-4f7e-bb82-bbe582fbfed8",
        "colab": {
          "base_uri": "https://localhost:8080/",
          "height": 54
        }
      },
      "source": [
        "print(' '.join(keyword.kwlist))"
      ],
      "execution_count": 0,
      "outputs": [
        {
          "output_type": "stream",
          "text": [
            "False None True and as assert break class continue def del elif else except finally for from global if import in is lambda nonlocal not or pass raise return try while with yield\n"
          ],
          "name": "stdout"
        }
      ]
    },
    {
      "cell_type": "markdown",
      "metadata": {
        "id": "TwAxL-qToDIJ",
        "colab_type": "text"
      },
      "source": [
        "# dir_no_dunder"
      ]
    },
    {
      "cell_type": "code",
      "metadata": {
        "id": "hj_nYGU4oEHf",
        "colab_type": "code",
        "colab": {}
      },
      "source": [
        "def dir_no_dunder(obj):\n",
        "  return [x for x in dir(obj) if not x.startswith('__')]"
      ],
      "execution_count": 0,
      "outputs": []
    },
    {
      "cell_type": "markdown",
      "metadata": {
        "id": "l1v4WoWMtbQj",
        "colab_type": "text"
      },
      "source": [
        "# simple_metaclass"
      ]
    },
    {
      "cell_type": "code",
      "metadata": {
        "id": "J0EcrrkVs-K-",
        "colab_type": "code",
        "colab": {}
      },
      "source": [
        "def simple_metaclass_1(name, bases, dict):\n",
        "  print(f'simple_metaclass({name!r}, {bases!r}, {dict!r})')\n",
        "  # 3 lines added:\n",
        "  def _dump(self):\n",
        "    print('__dict__:', self.__dict__)\n",
        "  dict['_dump'] = _dump\n",
        "  return type(name, bases, dict)"
      ],
      "execution_count": 0,
      "outputs": []
    },
    {
      "cell_type": "code",
      "metadata": {
        "id": "Sjay_4-ntPCe",
        "colab_type": "code",
        "outputId": "c1119d3b-7a68-41dc-bc59-397092330155",
        "colab": {
          "base_uri": "https://localhost:8080/",
          "height": 54
        }
      },
      "source": [
        "class Number(metaclass=simple_metaclass_1):\n",
        "  def __init__(self, amount):\n",
        "    self.amount = amount\n",
        "  \n",
        "  def add(self, value):\n",
        "    return self.amount + value"
      ],
      "execution_count": 0,
      "outputs": [
        {
          "output_type": "stream",
          "text": [
            "simple_metaclass('Number', (), {'__module__': '__main__', '__qualname__': 'Number', '__init__': <function Number.__init__ at 0x7f479e50ac80>, 'add': <function Number.add at 0x7f479e50af28>})\n"
          ],
          "name": "stdout"
        }
      ]
    },
    {
      "cell_type": "code",
      "metadata": {
        "id": "lCO3aoO0tR6n",
        "colab_type": "code",
        "colab": {}
      },
      "source": [
        "n1 = Number(1)"
      ],
      "execution_count": 0,
      "outputs": []
    },
    {
      "cell_type": "code",
      "metadata": {
        "id": "wsm3gCuFtTpi",
        "colab_type": "code",
        "outputId": "5090f034-af9f-482f-88ed-96f306dbd5d8",
        "colab": {
          "base_uri": "https://localhost:8080/",
          "height": 34
        }
      },
      "source": [
        "n1._dump()"
      ],
      "execution_count": 0,
      "outputs": [
        {
          "output_type": "stream",
          "text": [
            "__dict__: {'amount': 1}\n"
          ],
          "name": "stdout"
        }
      ]
    },
    {
      "cell_type": "markdown",
      "metadata": {
        "id": "dkxjT3Z4ezKu",
        "colab_type": "text"
      },
      "source": [
        "# metaclass__"
      ]
    },
    {
      "cell_type": "code",
      "metadata": {
        "id": "im-2zM8zR_rU",
        "colab_type": "code",
        "colab": {}
      },
      "source": [
        "class MyMeta(type):\n",
        "  def __new__(mcls, name, bases, clsdict):\n",
        "    # new change something, return\n",
        "    print('mcls', mcls, '\\nname', name, '\\nbases', bases, '\\ndict', clsdict)\n",
        "    return super().__new__(mcls, name, bases, clsdict)"
      ],
      "execution_count": 0,
      "outputs": []
    },
    {
      "cell_type": "code",
      "metadata": {
        "colab_type": "code",
        "outputId": "066e03a9-06f4-4a90-eb2f-87209ef625ca",
        "id": "NuJY_jg-Y_3y",
        "colab": {
          "base_uri": "https://localhost:8080/",
          "height": 87
        }
      },
      "source": [
        "class Foo(metaclass=MyMeta):\n",
        "  pass"
      ],
      "execution_count": 0,
      "outputs": [
        {
          "output_type": "stream",
          "text": [
            "mcls <class '__main__.MyMeta'> \n",
            "name Foo \n",
            "bases () \n",
            "dict {'__module__': '__main__', '__qualname__': 'Foo'}\n"
          ],
          "name": "stdout"
        }
      ]
    },
    {
      "cell_type": "code",
      "metadata": {
        "id": "dUJHhEOlS6X2",
        "colab_type": "code",
        "outputId": "f5829fc5-a14f-48b5-b7c9-e5f56bebf58e",
        "colab": {
          "base_uri": "https://localhost:8080/",
          "height": 34
        }
      },
      "source": [
        "type(Foo)"
      ],
      "execution_count": 0,
      "outputs": [
        {
          "output_type": "execute_result",
          "data": {
            "text/plain": [
              "__main__.MyMeta"
            ]
          },
          "metadata": {
            "tags": []
          },
          "execution_count": 11
        }
      ]
    },
    {
      "cell_type": "code",
      "metadata": {
        "id": "uGPd8WzRTtm7",
        "colab_type": "code",
        "colab": {}
      },
      "source": [
        "class MyMeta(type):\n",
        "  def __init__(cls, name, bases, clsdict):\n",
        "    # init access to something, no return\n",
        "    print('cls', cls, '\\nname', name, '\\nbases', bases, '\\ndict', clsdict)\n",
        "    super().__init__(name, bases, clsdict)"
      ],
      "execution_count": 0,
      "outputs": []
    },
    {
      "cell_type": "code",
      "metadata": {
        "id": "ylRPzBrLZGDJ",
        "colab_type": "code",
        "outputId": "ca1512be-9110-4568-fc14-c3b43cf403f7",
        "colab": {
          "base_uri": "https://localhost:8080/",
          "height": 87
        }
      },
      "source": [
        "class Foo(metaclass=MyMeta):\n",
        "  pass"
      ],
      "execution_count": 0,
      "outputs": [
        {
          "output_type": "stream",
          "text": [
            "cls <class '__main__.Foo'> \n",
            "name Foo \n",
            "bases () \n",
            "dict {'__module__': '__main__', '__qualname__': 'Foo'}\n"
          ],
          "name": "stdout"
        }
      ]
    },
    {
      "cell_type": "code",
      "metadata": {
        "id": "2kI7trPAZY4d",
        "colab_type": "code",
        "outputId": "af1df2a8-2ef0-45cd-b772-af7427555068",
        "colab": {
          "base_uri": "https://localhost:8080/",
          "height": 34
        }
      },
      "source": [
        "type(Foo)"
      ],
      "execution_count": 0,
      "outputs": [
        {
          "output_type": "execute_result",
          "data": {
            "text/plain": [
              "__main__.MyMeta"
            ]
          },
          "metadata": {
            "tags": []
          },
          "execution_count": 15
        }
      ]
    },
    {
      "cell_type": "code",
      "metadata": {
        "id": "oB3oUfJlZc4K",
        "colab_type": "code",
        "colab": {}
      },
      "source": [
        "# preventing non-callable class attributes with a metaclass"
      ],
      "execution_count": 0,
      "outputs": []
    },
    {
      "cell_type": "code",
      "metadata": {
        "id": "YWJi1--SbMKC",
        "colab_type": "code",
        "colab": {}
      },
      "source": [
        "class NoClassAttributes(type):\n",
        "  # no non-callable class attributes allowed\n",
        "  def __init__(cls, name, bases, clsdict):\n",
        "    allowed = set(['__module__', '__metaclass__', '__doc__', '__qualname__'])\n",
        "    for key, value in clsdict.items():\n",
        "      if (key not in allowed) and (not callable(value)):\n",
        "        msg = 'found non-callable class attribute \"%s\". ' % key\n",
        "        msg += 'only methods are allowed.'\n",
        "        raise Exception(msg)\n",
        "    super().__init__(name, bases, clsdict)"
      ],
      "execution_count": 0,
      "outputs": []
    },
    {
      "cell_type": "code",
      "metadata": {
        "id": "MqGzYqz_bseX",
        "colab_type": "code",
        "colab": {}
      },
      "source": [
        "class AttributeChecker(metaclass=NoClassAttributes):\n",
        "  pass"
      ],
      "execution_count": 0,
      "outputs": []
    },
    {
      "cell_type": "code",
      "metadata": {
        "id": "jrMAQpGmb3G6",
        "colab_type": "code",
        "colab": {}
      },
      "source": [
        "class AttributeLess(AttributeChecker):\n",
        "  def meth(self):\n",
        "    print('hello from AttributeLess.')"
      ],
      "execution_count": 0,
      "outputs": []
    },
    {
      "cell_type": "code",
      "metadata": {
        "id": "3wh5PYU2b8K5",
        "colab_type": "code",
        "outputId": "9d04411a-3ddf-4d87-daa5-5b9fb2b95e7b",
        "colab": {
          "base_uri": "https://localhost:8080/",
          "height": 34
        }
      },
      "source": [
        "attributeless = AttributeLess()\n",
        "attributeless.meth()"
      ],
      "execution_count": 0,
      "outputs": [
        {
          "output_type": "stream",
          "text": [
            "hello from AttributeLess.\n"
          ],
          "name": "stdout"
        }
      ]
    },
    {
      "cell_type": "code",
      "metadata": {
        "id": "4pTMYqT1b_d6",
        "colab_type": "code",
        "outputId": "46d26248-d90b-48b6-9618-1cfbbf58025f",
        "colab": {
          "base_uri": "https://localhost:8080/",
          "height": 326
        }
      },
      "source": [
        "class WithAttribute(AttributeChecker):\n",
        "  a = 10\n",
        "  def meth(self):\n",
        "    print('hello from withAttribute')"
      ],
      "execution_count": 0,
      "outputs": [
        {
          "output_type": "error",
          "ename": "Exception",
          "evalue": "ignored",
          "traceback": [
            "\u001b[0;31m---------------------------------------------------------------------------\u001b[0m",
            "\u001b[0;31mException\u001b[0m                                 Traceback (most recent call last)",
            "\u001b[0;32m<ipython-input-21-aefd5ac00cf7>\u001b[0m in \u001b[0;36m<module>\u001b[0;34m()\u001b[0m\n\u001b[0;32m----> 1\u001b[0;31m \u001b[0;32mclass\u001b[0m \u001b[0mWithAttribute\u001b[0m\u001b[0;34m(\u001b[0m\u001b[0mAttributeChecker\u001b[0m\u001b[0;34m)\u001b[0m\u001b[0;34m:\u001b[0m\u001b[0;34m\u001b[0m\u001b[0;34m\u001b[0m\u001b[0m\n\u001b[0m\u001b[1;32m      2\u001b[0m   \u001b[0ma\u001b[0m \u001b[0;34m=\u001b[0m \u001b[0;36m10\u001b[0m\u001b[0;34m\u001b[0m\u001b[0;34m\u001b[0m\u001b[0m\n\u001b[1;32m      3\u001b[0m   \u001b[0;32mdef\u001b[0m \u001b[0mmeth\u001b[0m\u001b[0;34m(\u001b[0m\u001b[0mself\u001b[0m\u001b[0;34m)\u001b[0m\u001b[0;34m:\u001b[0m\u001b[0;34m\u001b[0m\u001b[0;34m\u001b[0m\u001b[0m\n\u001b[1;32m      4\u001b[0m     \u001b[0mprint\u001b[0m\u001b[0;34m(\u001b[0m\u001b[0;34m'hello from withAttribute'\u001b[0m\u001b[0;34m)\u001b[0m\u001b[0;34m\u001b[0m\u001b[0;34m\u001b[0m\u001b[0m\n",
            "\u001b[0;32m<ipython-input-17-80e62524af09>\u001b[0m in \u001b[0;36m__init__\u001b[0;34m(cls, name, bases, clsdict)\u001b[0m\n\u001b[1;32m      7\u001b[0m         \u001b[0mmsg\u001b[0m \u001b[0;34m=\u001b[0m \u001b[0;34m'found non-callable class attribute \"%s\". '\u001b[0m \u001b[0;34m%\u001b[0m \u001b[0mkey\u001b[0m\u001b[0;34m\u001b[0m\u001b[0;34m\u001b[0m\u001b[0m\n\u001b[1;32m      8\u001b[0m         \u001b[0mmsg\u001b[0m \u001b[0;34m+=\u001b[0m \u001b[0;34m'only methods are allowed.'\u001b[0m\u001b[0;34m\u001b[0m\u001b[0;34m\u001b[0m\u001b[0m\n\u001b[0;32m----> 9\u001b[0;31m         \u001b[0;32mraise\u001b[0m \u001b[0mException\u001b[0m\u001b[0;34m(\u001b[0m\u001b[0mmsg\u001b[0m\u001b[0;34m)\u001b[0m\u001b[0;34m\u001b[0m\u001b[0;34m\u001b[0m\u001b[0m\n\u001b[0m\u001b[1;32m     10\u001b[0m     \u001b[0msuper\u001b[0m\u001b[0;34m(\u001b[0m\u001b[0;34m)\u001b[0m\u001b[0;34m.\u001b[0m\u001b[0m__init__\u001b[0m\u001b[0;34m(\u001b[0m\u001b[0mname\u001b[0m\u001b[0;34m,\u001b[0m \u001b[0mbases\u001b[0m\u001b[0;34m,\u001b[0m \u001b[0mclsdict\u001b[0m\u001b[0;34m)\u001b[0m\u001b[0;34m\u001b[0m\u001b[0;34m\u001b[0m\u001b[0m\n",
            "\u001b[0;31mException\u001b[0m: found non-callable class attribute \"a\". only methods are allowed."
          ]
        }
      ]
    },
    {
      "cell_type": "markdown",
      "metadata": {
        "id": "5Xyi-zKse5a9",
        "colab_type": "text"
      },
      "source": [
        "# decorator__"
      ]
    },
    {
      "cell_type": "code",
      "metadata": {
        "id": "9IUaDq_tcHOK",
        "colab_type": "code",
        "colab": {}
      },
      "source": [
        "def noclassattr_deco(cls):\n",
        "  ''' class decorator to allow only callable attributes '''\n",
        "  allowed = set(['__module__', '__metaclass__', '__doc__', '__qualname__', '__weakref__', '__dict__'])\n",
        "  for key, value in cls.__dict__.items():\n",
        "    if (key not in allowed) and (not callable(value)):\n",
        "      msg = 'found non-callable class attribute \"%s\". ' % key\n",
        "      msg += 'only methods are allowed.'\n",
        "      raise Exception(msg)\n",
        "  return cls"
      ],
      "execution_count": 0,
      "outputs": []
    },
    {
      "cell_type": "code",
      "metadata": {
        "id": "e8jbj6wyeEMK",
        "colab_type": "code",
        "outputId": "5ff5deed-2de0-4bf9-fe5a-1263ab1dc2fa",
        "colab": {
          "base_uri": "https://localhost:8080/",
          "height": 308
        }
      },
      "source": [
        "@noclassattr_deco\n",
        "class A:\n",
        "  x = 10"
      ],
      "execution_count": 0,
      "outputs": [
        {
          "output_type": "error",
          "ename": "Exception",
          "evalue": "ignored",
          "traceback": [
            "\u001b[0;31m---------------------------------------------------------------------------\u001b[0m",
            "\u001b[0;31mException\u001b[0m                                 Traceback (most recent call last)",
            "\u001b[0;32m<ipython-input-24-dfbf3e1784d7>\u001b[0m in \u001b[0;36m<module>\u001b[0;34m()\u001b[0m\n\u001b[0;32m----> 1\u001b[0;31m \u001b[0;34m@\u001b[0m\u001b[0mnoclassattr_deco\u001b[0m\u001b[0;34m\u001b[0m\u001b[0;34m\u001b[0m\u001b[0m\n\u001b[0m\u001b[1;32m      2\u001b[0m \u001b[0;32mclass\u001b[0m \u001b[0mA\u001b[0m\u001b[0;34m:\u001b[0m\u001b[0;34m\u001b[0m\u001b[0;34m\u001b[0m\u001b[0m\n\u001b[1;32m      3\u001b[0m   \u001b[0mx\u001b[0m \u001b[0;34m=\u001b[0m \u001b[0;36m10\u001b[0m\u001b[0;34m\u001b[0m\u001b[0;34m\u001b[0m\u001b[0m\n",
            "\u001b[0;32m<ipython-input-23-4ca61fef3bee>\u001b[0m in \u001b[0;36mnoclassattr_deco\u001b[0;34m(cls)\u001b[0m\n\u001b[1;32m      6\u001b[0m       \u001b[0mmsg\u001b[0m \u001b[0;34m=\u001b[0m \u001b[0;34m'found non-callable class attribute \"%s\". '\u001b[0m \u001b[0;34m%\u001b[0m \u001b[0mkey\u001b[0m\u001b[0;34m\u001b[0m\u001b[0;34m\u001b[0m\u001b[0m\n\u001b[1;32m      7\u001b[0m       \u001b[0mmsg\u001b[0m \u001b[0;34m+=\u001b[0m \u001b[0;34m'only methods are allowed.'\u001b[0m\u001b[0;34m\u001b[0m\u001b[0;34m\u001b[0m\u001b[0m\n\u001b[0;32m----> 8\u001b[0;31m       \u001b[0;32mraise\u001b[0m \u001b[0mException\u001b[0m\u001b[0;34m(\u001b[0m\u001b[0mmsg\u001b[0m\u001b[0;34m)\u001b[0m\u001b[0;34m\u001b[0m\u001b[0;34m\u001b[0m\u001b[0m\n\u001b[0m\u001b[1;32m      9\u001b[0m   \u001b[0;32mreturn\u001b[0m \u001b[0mcls\u001b[0m\u001b[0;34m\u001b[0m\u001b[0;34m\u001b[0m\u001b[0m\n",
            "\u001b[0;31mException\u001b[0m: found non-callable class attribute \"x\". only methods are allowed."
          ]
        }
      ]
    },
    {
      "cell_type": "markdown",
      "metadata": {
        "id": "wrDOycHxffQX",
        "colab_type": "text"
      },
      "source": [
        "# slots"
      ]
    },
    {
      "cell_type": "code",
      "metadata": {
        "id": "w2mXsi-rff6B",
        "colab_type": "code",
        "colab": {}
      },
      "source": [
        "# slots main purpose to save memory\n",
        "# every class has dict, expensive memory\n",
        "# dict takes more memory, for more instances\n",
        "# slots no dict, cannot add new attributes at runtime"
      ],
      "execution_count": 0,
      "outputs": []
    },
    {
      "cell_type": "markdown",
      "metadata": {
        "id": "SL6M6P5wOKnI",
        "colab_type": "text"
      },
      "source": [
        "# regex"
      ]
    },
    {
      "cell_type": "code",
      "metadata": {
        "id": "tqrJQ4reOLYp",
        "colab_type": "code",
        "colab": {}
      },
      "source": [
        "# . any char, once\n",
        "# \\w [A-Za-z0-9_] word char, digits are also word char, do not include whitespace, \\W non word char\n",
        "# \\d [0-9] digit, \\D non-digit\n",
        "# \\s whitespace, \\S non-whitespace\n",
        "# \\b\\b word boundary\n",
        "# {int} count, exact\n",
        "# {int,} count, int or more\n",
        "# {int, int_two} count, int or more than int, <= int_two\n",
        "# + one or more, {1,}\n",
        "# * 0 or more, {0,}\n",
        "# [] set\n",
        "# () group\n",
        "# ? 0 or 1, {0,1}\n",
        "# ^ start $ end\n",
        "# [^] not\n",
        "# re.IGNORECASE, flag\n",
        "# re.VERBOSE, readability flag, # symbol ignore\n",
        "# | or"
      ],
      "execution_count": 0,
      "outputs": []
    },
    {
      "cell_type": "markdown",
      "metadata": {
        "id": "vW5b213oCGXc",
        "colab_type": "text"
      },
      "source": [
        "# is_iterator"
      ]
    },
    {
      "cell_type": "code",
      "metadata": {
        "id": "MxGqnenS9uqv",
        "colab_type": "code",
        "colab": {}
      },
      "source": [
        "# iterators are iterables\n",
        "# iterators are their own iterators\n",
        "# iterators are single-purposed\n",
        "\n",
        "# object    | iterable | iterator\n",
        "# iterable  | True     | False\n",
        "# iterator  | True     | True\n",
        "# generator | True     | True\n",
        "# list      | True     | False"
      ],
      "execution_count": 0,
      "outputs": []
    },
    {
      "cell_type": "code",
      "metadata": {
        "id": "RTdvje_Q-NA4",
        "colab_type": "code",
        "colab": {}
      },
      "source": [
        "def is_iterator(iterable):\n",
        "  return iter(iterable) is iterable"
      ],
      "execution_count": 0,
      "outputs": []
    },
    {
      "cell_type": "code",
      "metadata": {
        "id": "5Kn8N3IqR7SQ",
        "colab_type": "code",
        "colab": {}
      },
      "source": [
        "iter(iterable) is iter(iterable)"
      ],
      "execution_count": 0,
      "outputs": []
    },
    {
      "cell_type": "code",
      "metadata": {
        "id": "00F7pGLS-Gk2",
        "colab_type": "code",
        "colab": {}
      },
      "source": [
        "is_iterator(iterable_list)"
      ],
      "execution_count": 0,
      "outputs": []
    },
    {
      "cell_type": "code",
      "metadata": {
        "id": "RTRZEh2m-J3Z",
        "colab_type": "code",
        "colab": {}
      },
      "source": [
        "is_iterator(iterable_count)"
      ],
      "execution_count": 0,
      "outputs": []
    },
    {
      "cell_type": "code",
      "metadata": {
        "id": "xK_OUZiy-LUq",
        "colab_type": "code",
        "colab": {}
      },
      "source": [
        "is_iterator(zip([1], [1]))"
      ],
      "execution_count": 0,
      "outputs": []
    },
    {
      "cell_type": "code",
      "metadata": {
        "id": "QFTUQ0uO_VEj",
        "colab_type": "code",
        "colab": {}
      },
      "source": [
        "is_iterator(enumerate(['a']))"
      ],
      "execution_count": 0,
      "outputs": []
    },
    {
      "cell_type": "code",
      "metadata": {
        "id": "iPUARANv_dF6",
        "colab_type": "code",
        "colab": {}
      },
      "source": [
        "is_iterator(reversed(['1']))"
      ],
      "execution_count": 0,
      "outputs": []
    },
    {
      "cell_type": "code",
      "metadata": {
        "id": "lAF7iTvR_f4Y",
        "colab_type": "code",
        "colab": {}
      },
      "source": [
        "is_iterator((i for i in range(3)))"
      ],
      "execution_count": 0,
      "outputs": []
    },
    {
      "cell_type": "code",
      "metadata": {
        "id": "NemG-bmNAA1t",
        "colab_type": "code",
        "colab": {}
      },
      "source": [
        "is_iterator({i:i for i in range(3)})"
      ],
      "execution_count": 0,
      "outputs": []
    },
    {
      "cell_type": "markdown",
      "metadata": {
        "id": "Fg-4NnxvfV_0",
        "colab_type": "text"
      },
      "source": [
        "# pprint"
      ]
    },
    {
      "cell_type": "code",
      "metadata": {
        "id": "vuD9aG-nfWuo",
        "colab_type": "code",
        "colab": {}
      },
      "source": [
        "from pprint import pprint\n",
        "def print(x):\n",
        "  pprint(x, compact=True)"
      ],
      "execution_count": 0,
      "outputs": []
    },
    {
      "cell_type": "markdown",
      "metadata": {
        "id": "_RNUjt5tvSYD",
        "colab_type": "text"
      },
      "source": [
        "# type_attr"
      ]
    },
    {
      "cell_type": "code",
      "metadata": {
        "id": "esVbwNY5fmB5",
        "colab_type": "code",
        "colab": {}
      },
      "source": [
        "from collections import defaultdict\n",
        "def type_attr(x):\n",
        "  print(len(dir(x)))\n",
        "  a = {f'x.{i}': type(getattr(x, i)) for i in dir(x)}\n",
        "  e = defaultdict(list)\n",
        "  for i, j in a.items():\n",
        "    e[j].append(i)\n",
        "  return e"
      ],
      "execution_count": 0,
      "outputs": []
    }
  ]
}