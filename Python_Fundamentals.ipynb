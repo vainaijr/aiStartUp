{
  "nbformat": 4,
  "nbformat_minor": 0,
  "metadata": {
    "colab": {
      "name": "Python_Fundamentals.ipynb",
      "version": "0.3.2",
      "provenance": [],
      "collapsed_sections": [
        "1gsoT8K30a3z",
        "qw7R79sQ0a3_",
        "YobnEQIT0a4H",
        "1dTO3Kk10a4L",
        "Mic7KY-v0a4U",
        "AaB9wEfM0a4f",
        "591r9RXC0a4v",
        "qNq-Sw440a4_",
        "9_C0vPI70a5M",
        "cvPZrkSa0a5O",
        "9qXJNvaD0a5Q",
        "zduVjyc60a5T",
        "Ucchnf2H0a5W",
        "i-VRBbyB0a5a",
        "064ZZE2_0a5b",
        "cnrRrkda0a5j",
        "wn8LniGB0a5m",
        "uqvUObVg0a5t",
        "AwF8dYkW0a5v",
        "YX-uY9Zk0a5x",
        "XYHLIQqD0a5z",
        "UjaM3l330a51",
        "M-PVcFJa0a57",
        "NPr5ZKzA0a5-",
        "8i3Gz9Xr0a6C",
        "OYDuMg3v0a6F",
        "OUI5kJqB0a6J",
        "e_ziLvv90a6T",
        "FS7-4BvE0a6Y",
        "WL9bgCEr0a6h",
        "vAUqIX4A0a6j",
        "0ruBlksI0a6r",
        "Ss0Neq1P0a6w",
        "xSVkH2Yy0a60",
        "VYIbYglr0a63",
        "2wmF81WU0a66",
        "FIGXRo8R0a6_",
        "-jKr1_eR0a7E",
        "0ajB_to20a7G",
        "4GaV55950a7J",
        "6xXNHR450a7M",
        "7l6FIZI60a7O",
        "KaZQqc_K0a7T",
        "EuyxCf420a7X",
        "3HBHOWKr0a7a",
        "WDdbsfV30a7b",
        "GL0rhEXI0a7g",
        "4GDdubhu0a7m",
        "STcoDGMn0a7p",
        "MNPMjxAl0a7w",
        "akCfHLZ00a7y",
        "4fbbj_010a7z",
        "8dAv4Qua0a72",
        "DN2M5Ncv0a75",
        "NBP6rlY90a78",
        "yp2ygqJc0a8B",
        "Q_Ocxey80a8C",
        "QR0p8BAB0a8D",
        "mIF-e5Si0a8E",
        "HOLhfTp00a8w",
        "D6VaXt3C0a8z",
        "Qd-VN-kB0a80",
        "CBVI9efl0a81",
        "ZqLvNaBT0a83",
        "bpoLtX4y0a83",
        "15w_2cK20a86",
        "TSDZ5XzX0a9D",
        "KNleOgAF0a9G",
        "eZApb6O20a9H",
        "56dXVCjS0a9L",
        "BsTNNzn90a9Q",
        "eqvp56Ou0a9T",
        "fnK69QbF0a9W",
        "ntqDZ3YW0a9a",
        "t9j9-f9Z0a9b",
        "EhCw0q4z0a9c",
        "vbC_5Gk-0a9d",
        "S6RdEaUq0a9f",
        "QFUaVa400a9i",
        "S1_cc30D0a9j",
        "oFcOIQGI0a9j",
        "iP_chSyw0a9k",
        "VFi3MnAm0a9n",
        "yQZ8XJEN0a9q",
        "4IYNKv2r0a9q",
        "aURV6AAm0a9s",
        "qrp-l_k-0a9t",
        "8STYNZ9k0a9u",
        "QeynX7hz0a9w",
        "UFgsvEAk0a9w",
        "63dAjTlP0a9y",
        "0SYV79020a91",
        "jzEoBEje0a91",
        "b7UDghhA0a94",
        "PrABso7Y0a95",
        "0NUwJ54j0a97",
        "0-6JccAI0a98",
        "WOuQ52C10a99",
        "NY2iiYjm0a-C",
        "55TBe8bh0a-H",
        "MK_rypWV0a-J",
        "x9MOVZ3Z0a-R",
        "hJXQfp_z0a-e",
        "6p8k6VDw0a-k",
        "aSoBCWEg0a-o",
        "irTAHJeD0a-q",
        "fD9jKfp_0a-q",
        "RPpC0vxM0a-r",
        "HA0OWFHe0a-v",
        "InotWB0j0a-w",
        "Xn_iLD_P0a-y",
        "gVfwRG-C0a-0",
        "cgHAN8pk0a-0",
        "GUFfrWMl0a-1",
        "_ZLBAMWR0a-2",
        "Y8o8n_Xk0a-3",
        "9rljbjYQ0a-4",
        "sODCNTMI0a-5",
        "lYZtbJS-0a-6",
        "eOLFWqCj0a--",
        "U9FfZjwr0a--",
        "TPjftzTy0a-_",
        "Qul2OEEA0a_A",
        "_tNek-FY0a_A",
        "rYbvxMCo0a_D",
        "0haXQAQc0a_F",
        "cu2NerDZ0a_J",
        "1m888ZXs0a_J",
        "fmYJ0TyK0a_K",
        "sR7ehVF_0a_M",
        "lfsgoyEa0a_P",
        "7FAbD3Jg0a_Q"
      ],
      "include_colab_link": true
    },
    "kernelspec": {
      "name": "python3",
      "display_name": "Python 3"
    }
  },
  "cells": [
    {
      "cell_type": "markdown",
      "metadata": {
        "id": "view-in-github",
        "colab_type": "text"
      },
      "source": [
        "<a href=\"https://colab.research.google.com/github/vainaijr/aiStartUp/blob/master/Python_Fundamentals.ipynb\" target=\"_parent\"><img src=\"https://colab.research.google.com/assets/colab-badge.svg\" alt=\"Open In Colab\"/></a>"
      ]
    },
    {
      "cell_type": "markdown",
      "metadata": {
        "id": "-PhjOl1L0a3L",
        "colab_type": "text"
      },
      "source": [
        ""
      ]
    },
    {
      "cell_type": "code",
      "metadata": {
        "id": "Pe1GS9220a3N",
        "colab_type": "code",
        "colab": {}
      },
      "source": [
        "import this"
      ],
      "execution_count": 0,
      "outputs": []
    },
    {
      "cell_type": "markdown",
      "metadata": {
        "id": "N-Mhwkja0a3U",
        "colab_type": "text"
      },
      "source": [
        "## Python Basics\n",
        "\n",
        "### Math Operators\n",
        "\n",
        "From **Highest** to **Lowest** precedence:\n",
        "\n",
        "| Operators | Operation        | Example         |\n",
        "| --------- | ---------------- | --------------- |\n",
        "| **        | Exponent         | `2 ** 3 = 8`    |\n",
        "| %         | Modulus/Remaider | `22 % 8 = 6`    |\n",
        "| //        | Integer division | `22 // 8 = 2`   |\n",
        "| /         | Division         | `22 / 8 = 2.75` |\n",
        "| *         | Multiplication   | `3 * 3 = 9`     |\n",
        "| -         | Subtraction      | `5 - 2 = 3`     |\n",
        "| +         | Addition         | `2 + 2 = 4`     |\n",
        "\n",
        "Examples of expressions in the interactive shell:"
      ]
    },
    {
      "cell_type": "code",
      "metadata": {
        "id": "LXIXBB0p0a3V",
        "colab_type": "code",
        "colab": {}
      },
      "source": [
        "2 + 3 * 6"
      ],
      "execution_count": 0,
      "outputs": []
    },
    {
      "cell_type": "code",
      "metadata": {
        "id": "trbR9I4r0a3Y",
        "colab_type": "code",
        "colab": {}
      },
      "source": [
        "(2 + 3) * 6"
      ],
      "execution_count": 0,
      "outputs": []
    },
    {
      "cell_type": "code",
      "metadata": {
        "id": "icLG5kTN0a3b",
        "colab_type": "code",
        "colab": {}
      },
      "source": [
        "2 ** 8"
      ],
      "execution_count": 0,
      "outputs": []
    },
    {
      "cell_type": "code",
      "metadata": {
        "id": "9lSQWKuC0a3d",
        "colab_type": "code",
        "colab": {}
      },
      "source": [
        "23 // 7"
      ],
      "execution_count": 0,
      "outputs": []
    },
    {
      "cell_type": "code",
      "metadata": {
        "id": "6_9zGysV0a3g",
        "colab_type": "code",
        "colab": {}
      },
      "source": [
        "23 % 7"
      ],
      "execution_count": 0,
      "outputs": []
    },
    {
      "cell_type": "code",
      "metadata": {
        "id": "0MQEvAN20a3i",
        "colab_type": "code",
        "colab": {}
      },
      "source": [
        "(5 - 1) * ((7 + 1) / (3 - 1))"
      ],
      "execution_count": 0,
      "outputs": []
    },
    {
      "cell_type": "markdown",
      "metadata": {
        "id": "GCe8uREA0a3l",
        "colab_type": "text"
      },
      "source": [
        "### Data Types\n",
        "\n",
        "| Data Type              | Examples                                  |\n",
        "| ---------------------- | ----------------------------------------- |\n",
        "| Integers               | `-2, -1, 0, 1, 2, 3, 4, 5`                |\n",
        "| Floating-point numbers | `-1.25, -1.0, --0.5, 0.0, 0.5, 1.0, 1.25` |\n",
        "| Strings                | `'a', 'aa', 'aaa', 'Hello!', '11 cats'`   |\n",
        "\n",
        "### String Concatenation and Replication\n",
        "\n",
        "String concatenation:"
      ]
    },
    {
      "cell_type": "code",
      "metadata": {
        "id": "z-muDhDK0a3m",
        "colab_type": "code",
        "colab": {}
      },
      "source": [
        "'Alice' 'Bob'"
      ],
      "execution_count": 0,
      "outputs": []
    },
    {
      "cell_type": "markdown",
      "metadata": {
        "id": "6yenR9op0a3q",
        "colab_type": "text"
      },
      "source": [
        "Note: Avoid `+` operator for string concatenation. Prefer string formatting.\n",
        "\n",
        "String Replication:"
      ]
    },
    {
      "cell_type": "code",
      "metadata": {
        "id": "TLzvwXWv0a3r",
        "colab_type": "code",
        "colab": {}
      },
      "source": [
        "'Alice' * 5"
      ],
      "execution_count": 0,
      "outputs": []
    },
    {
      "cell_type": "markdown",
      "metadata": {
        "id": "nYs8E0n20a3u",
        "colab_type": "text"
      },
      "source": [
        "### Variables\n",
        "\n",
        "You can name a variable anything as long as it obeys the following three rules:\n",
        "\n",
        "1. It can be only one word.\n",
        "2. It can use only letters, numbers, and the underscore (`_`) character.\n",
        "3. It can’t begin with a number.\n",
        "4. Variable name starting with an underscore (`_`) are considered as \"unuseful`.\n",
        "\n",
        "Example:"
      ]
    },
    {
      "cell_type": "code",
      "metadata": {
        "id": "D9OW--r00a3v",
        "colab_type": "code",
        "colab": {}
      },
      "source": [
        "spam = 'Hello'"
      ],
      "execution_count": 0,
      "outputs": []
    },
    {
      "cell_type": "code",
      "metadata": {
        "id": "noT8EuBv0a3x",
        "colab_type": "code",
        "colab": {}
      },
      "source": [
        "_spam = 'Hello'"
      ],
      "execution_count": 0,
      "outputs": []
    },
    {
      "cell_type": "markdown",
      "metadata": {
        "id": "1gsoT8K30a3z",
        "colab_type": "text"
      },
      "source": [
        "`_spam` should not be used again in the code.\n",
        "\n",
        "### Comments\n",
        "\n",
        "Inline comment:"
      ]
    },
    {
      "cell_type": "code",
      "metadata": {
        "id": "WkPEAa5H0a30",
        "colab_type": "code",
        "colab": {}
      },
      "source": [
        "# This is a comment"
      ],
      "execution_count": 0,
      "outputs": []
    },
    {
      "cell_type": "markdown",
      "metadata": {
        "id": "OdWJhf7D0a32",
        "colab_type": "text"
      },
      "source": [
        "Multiline comment:"
      ]
    },
    {
      "cell_type": "code",
      "metadata": {
        "attributes": {
          "classes": [
            "Python"
          ],
          "id": ""
        },
        "id": "HOuLnXcP0a33",
        "colab_type": "code",
        "colab": {}
      },
      "source": [
        "# This is a\n",
        "# multiline comment"
      ],
      "execution_count": 0,
      "outputs": []
    },
    {
      "cell_type": "markdown",
      "metadata": {
        "id": "CGfC8wR70a35",
        "colab_type": "text"
      },
      "source": [
        "Code with a comment:"
      ]
    },
    {
      "cell_type": "code",
      "metadata": {
        "id": "EqyJSVd90a36",
        "colab_type": "code",
        "colab": {}
      },
      "source": [
        "a = 1  # initialization"
      ],
      "execution_count": 0,
      "outputs": []
    },
    {
      "cell_type": "markdown",
      "metadata": {
        "id": "HYpmCiIm0a38",
        "colab_type": "text"
      },
      "source": [
        "Please note the two spaces in front of the comment.\n",
        "\n",
        "Function docstring:"
      ]
    },
    {
      "cell_type": "code",
      "metadata": {
        "id": "KjAk97si0a39",
        "colab_type": "code",
        "colab": {}
      },
      "source": [
        "def foo():\n",
        "    \"\"\"\n",
        "    This is a function docstring\n",
        "    You can also use:\n",
        "    ''' Function Docstring '''\n",
        "    \"\"\""
      ],
      "execution_count": 0,
      "outputs": []
    },
    {
      "cell_type": "markdown",
      "metadata": {
        "id": "qw7R79sQ0a3_",
        "colab_type": "text"
      },
      "source": [
        "### The print Function"
      ]
    },
    {
      "cell_type": "code",
      "metadata": {
        "id": "uzttSVJW0a3_",
        "colab_type": "code",
        "colab": {}
      },
      "source": [
        "print('Hello world!')"
      ],
      "execution_count": 0,
      "outputs": []
    },
    {
      "cell_type": "code",
      "metadata": {
        "id": "KEMZgu9z0a4E",
        "colab_type": "code",
        "colab": {}
      },
      "source": [
        "a = 1\n",
        "print('Hello world!', a)"
      ],
      "execution_count": 0,
      "outputs": []
    },
    {
      "cell_type": "markdown",
      "metadata": {
        "id": "YobnEQIT0a4H",
        "colab_type": "text"
      },
      "source": [
        "### The input Function\n",
        "\n",
        "Example Code:"
      ]
    },
    {
      "cell_type": "code",
      "metadata": {
        "id": "JKdai3d10a4I",
        "colab_type": "code",
        "colab": {}
      },
      "source": [
        "print('What is your name?')   # ask for their name\n",
        "myName = input()\n",
        "print('It is good to meet you, {}'.format(myName))"
      ],
      "execution_count": 0,
      "outputs": []
    },
    {
      "cell_type": "markdown",
      "metadata": {
        "id": "1dTO3Kk10a4L",
        "colab_type": "text"
      },
      "source": [
        "### The len Function\n",
        "\n",
        "Evaluates to the integer value of the number of characters in a string:"
      ]
    },
    {
      "cell_type": "code",
      "metadata": {
        "id": "ISjBD7aV0a4M",
        "colab_type": "code",
        "colab": {}
      },
      "source": [
        "len('hello')"
      ],
      "execution_count": 0,
      "outputs": []
    },
    {
      "cell_type": "markdown",
      "metadata": {
        "id": "k65jBx4V0a4O",
        "colab_type": "text"
      },
      "source": [
        "Note: test of emptiness of strings, lists, dictionary, etc, should **not** use len, but prefer direct\n",
        "boolean evaluation."
      ]
    },
    {
      "cell_type": "code",
      "metadata": {
        "id": "58QEI5U60a4O",
        "colab_type": "code",
        "colab": {}
      },
      "source": [
        "a = [1, 2, 3]\n",
        "if a:\n",
        "    print(\"the list is not empty!\")"
      ],
      "execution_count": 0,
      "outputs": []
    },
    {
      "cell_type": "markdown",
      "metadata": {
        "id": "Mic7KY-v0a4U",
        "colab_type": "text"
      },
      "source": [
        "### The str, int, and float Functions\n",
        "\n",
        "Integer to String or Float:"
      ]
    },
    {
      "cell_type": "code",
      "metadata": {
        "id": "o8ycwEjG0a4V",
        "colab_type": "code",
        "colab": {}
      },
      "source": [
        "str(29)"
      ],
      "execution_count": 0,
      "outputs": []
    },
    {
      "cell_type": "code",
      "metadata": {
        "id": "VZBMqpXc0a4X",
        "colab_type": "code",
        "colab": {}
      },
      "source": [
        "print('I am {} years old.'.format(str(29)))"
      ],
      "execution_count": 0,
      "outputs": []
    },
    {
      "cell_type": "code",
      "metadata": {
        "id": "25IWFZpU0a4Y",
        "colab_type": "code",
        "colab": {}
      },
      "source": [
        "str(-3.14)"
      ],
      "execution_count": 0,
      "outputs": []
    },
    {
      "cell_type": "markdown",
      "metadata": {
        "id": "t21tNbRd0a4a",
        "colab_type": "text"
      },
      "source": [
        "Float to Integer:"
      ]
    },
    {
      "cell_type": "code",
      "metadata": {
        "id": "HTvo59Ny0a4b",
        "colab_type": "code",
        "colab": {}
      },
      "source": [
        "int(7.7)"
      ],
      "execution_count": 0,
      "outputs": []
    },
    {
      "cell_type": "code",
      "metadata": {
        "id": "H5uvMtQI0a4d",
        "colab_type": "code",
        "colab": {}
      },
      "source": [
        "int(7.7) + 1"
      ],
      "execution_count": 0,
      "outputs": []
    },
    {
      "cell_type": "markdown",
      "metadata": {
        "id": "AaB9wEfM0a4f",
        "colab_type": "text"
      },
      "source": [
        "## Flow Control\n",
        "\n",
        "### Comparison Operators\n",
        "\n",
        "| Operator | Meaning                  |\n",
        "| -------- | ------------------------ |\n",
        "| `==`     | Equal to                 |\n",
        "| `!=`     | Not equal to             |\n",
        "| `<`      | Less than                |\n",
        "| `>`      | Greater Than             |\n",
        "| `<=`     | Less than or Equal to    |\n",
        "| `>=`     | Greater than or Equal to |\n",
        "\n",
        "These operators evaluate to True or False depending on the values you give them.\n",
        "\n",
        "Examples:"
      ]
    },
    {
      "cell_type": "code",
      "metadata": {
        "id": "IFCgsi9X0a4g",
        "colab_type": "code",
        "colab": {}
      },
      "source": [
        "42 == 42"
      ],
      "execution_count": 0,
      "outputs": []
    },
    {
      "cell_type": "code",
      "metadata": {
        "id": "uZgcR5PS0a4i",
        "colab_type": "code",
        "colab": {}
      },
      "source": [
        "40 == 42"
      ],
      "execution_count": 0,
      "outputs": []
    },
    {
      "cell_type": "code",
      "metadata": {
        "id": "H4ZGV56Y0a4l",
        "colab_type": "code",
        "colab": {}
      },
      "source": [
        "'hello' == 'hello'"
      ],
      "execution_count": 0,
      "outputs": []
    },
    {
      "cell_type": "code",
      "metadata": {
        "id": "vmykdctj0a4n",
        "colab_type": "code",
        "colab": {}
      },
      "source": [
        "'hello' == 'Hello'"
      ],
      "execution_count": 0,
      "outputs": []
    },
    {
      "cell_type": "code",
      "metadata": {
        "id": "4VIOIwTT0a4p",
        "colab_type": "code",
        "colab": {}
      },
      "source": [
        "'dog' != 'cat'"
      ],
      "execution_count": 0,
      "outputs": []
    },
    {
      "cell_type": "code",
      "metadata": {
        "id": "vdeFo5kN0a4r",
        "colab_type": "code",
        "colab": {}
      },
      "source": [
        "42 == 42.0"
      ],
      "execution_count": 0,
      "outputs": []
    },
    {
      "cell_type": "code",
      "metadata": {
        "id": "Uqw8VhQV0a4t",
        "colab_type": "code",
        "colab": {}
      },
      "source": [
        "42 == '42'"
      ],
      "execution_count": 0,
      "outputs": []
    },
    {
      "cell_type": "markdown",
      "metadata": {
        "id": "591r9RXC0a4v",
        "colab_type": "text"
      },
      "source": [
        "### Boolean evaluation\n",
        "\n",
        "Never use `==` or `!=` operator to evaluate boolean operation. Use the `is` or `is not` operators,\n",
        "or use implicit boolean evaluation.\n",
        "\n",
        "NO (even if they are valid Python):"
      ]
    },
    {
      "cell_type": "code",
      "metadata": {
        "id": "9YBjXphW0a4w",
        "colab_type": "code",
        "colab": {}
      },
      "source": [
        "True == True"
      ],
      "execution_count": 0,
      "outputs": []
    },
    {
      "cell_type": "code",
      "metadata": {
        "id": "QdxwXzi50a4y",
        "colab_type": "code",
        "colab": {}
      },
      "source": [
        "True != False"
      ],
      "execution_count": 0,
      "outputs": []
    },
    {
      "cell_type": "markdown",
      "metadata": {
        "id": "E0JXmeHu0a40",
        "colab_type": "text"
      },
      "source": [
        "YES (even if they are valid Python):"
      ]
    },
    {
      "cell_type": "code",
      "metadata": {
        "id": "OIa4VIXE0a40",
        "colab_type": "code",
        "colab": {}
      },
      "source": [
        "True is True"
      ],
      "execution_count": 0,
      "outputs": []
    },
    {
      "cell_type": "code",
      "metadata": {
        "id": "7T4J82Xc0a43",
        "colab_type": "code",
        "colab": {}
      },
      "source": [
        "True is not False"
      ],
      "execution_count": 0,
      "outputs": []
    },
    {
      "cell_type": "markdown",
      "metadata": {
        "id": "loKYNCj10a44",
        "colab_type": "text"
      },
      "source": [
        "These statements are equivalent:"
      ]
    },
    {
      "cell_type": "code",
      "metadata": {
        "attributes": {
          "classes": [
            "Python"
          ],
          "id": ""
        },
        "id": "DD_bK6W-0a45",
        "colab_type": "code",
        "colab": {}
      },
      "source": [
        "if a is True:\n",
        "   pass\n",
        "if a is not False:\n",
        "   pass\n",
        "if a:\n",
        "   pass"
      ],
      "execution_count": 0,
      "outputs": []
    },
    {
      "cell_type": "markdown",
      "metadata": {
        "id": "-BHC0-ng0a46",
        "colab_type": "text"
      },
      "source": [
        "And these as well:"
      ]
    },
    {
      "cell_type": "code",
      "metadata": {
        "attributes": {
          "classes": [
            "Python"
          ],
          "id": ""
        },
        "id": "M0IeSchm0a47",
        "colab_type": "code",
        "colab": {}
      },
      "source": [
        "if a is False:\n",
        "   pass\n",
        "if a is not True:\n",
        "   pass\n",
        "if not a:\n",
        "   pass"
      ],
      "execution_count": 0,
      "outputs": []
    },
    {
      "cell_type": "markdown",
      "metadata": {
        "id": "qNq-Sw440a4_",
        "colab_type": "text"
      },
      "source": [
        "### Boolean Operators\n",
        "\n",
        "There are three Boolean operators: and, or, and not.\n",
        "\n",
        "The *and* Operator’s *Truth* Table:\n",
        "\n",
        "| Expression      | Evaluates to |\n",
        "| --------------- | ------------ |\n",
        "| True and True   | True         |\n",
        "| True and False  | False        |\n",
        "| False and True  | False        |\n",
        "| False and False | False        |\n",
        "\n",
        "The *or* Operator’s *Truth* Table:\n",
        "\n",
        "| Expression     | Evaluates to |\n",
        "| -------------- | ------------ |\n",
        "| True or True   | True         |\n",
        "| True or False  | True         |\n",
        "| False or True  | True         |\n",
        "| False or False | False        |\n",
        "\n",
        "The *not* Operator’s *Truth* Table:\n",
        "\n",
        "| Expression | Evaluates to |\n",
        "| ---------- | ------------ |\n",
        "| not True   | False        |\n",
        "| not False  | True         |\n",
        "\n",
        "### Mixing Boolean and Comparison Operators"
      ]
    },
    {
      "cell_type": "code",
      "metadata": {
        "id": "yc5QyvZv0a4_",
        "colab_type": "code",
        "colab": {}
      },
      "source": [
        "(4 < 5) and (5 < 6)"
      ],
      "execution_count": 0,
      "outputs": []
    },
    {
      "cell_type": "code",
      "metadata": {
        "id": "HhrNkk3T0a5D",
        "colab_type": "code",
        "colab": {}
      },
      "source": [
        "(4 < 5) and (9 < 6)"
      ],
      "execution_count": 0,
      "outputs": []
    },
    {
      "cell_type": "code",
      "metadata": {
        "id": "R6emAiDV0a5G",
        "colab_type": "code",
        "colab": {}
      },
      "source": [
        "(1 == 2) or (2 == 2)"
      ],
      "execution_count": 0,
      "outputs": []
    },
    {
      "cell_type": "markdown",
      "metadata": {
        "id": "DvoOCpcv0a5J",
        "colab_type": "text"
      },
      "source": [
        "You can also use multiple Boolean operators in an expression, along with the comparison operators:"
      ]
    },
    {
      "cell_type": "code",
      "metadata": {
        "id": "yYaPzmsm0a5J",
        "colab_type": "code",
        "colab": {}
      },
      "source": [
        "2 + 2 == 4 and not 2 + 2 == 5 and 2 * 2 == 2 + 2"
      ],
      "execution_count": 0,
      "outputs": []
    },
    {
      "cell_type": "markdown",
      "metadata": {
        "id": "9_C0vPI70a5M",
        "colab_type": "text"
      },
      "source": [
        "### if Statements"
      ]
    },
    {
      "cell_type": "code",
      "metadata": {
        "id": "0V6uYdPz0a5M",
        "colab_type": "code",
        "colab": {}
      },
      "source": [
        "if name == 'Alice':\n",
        "    print('Hi, Alice.')"
      ],
      "execution_count": 0,
      "outputs": []
    },
    {
      "cell_type": "markdown",
      "metadata": {
        "id": "cvPZrkSa0a5O",
        "colab_type": "text"
      },
      "source": [
        "### else Statements"
      ]
    },
    {
      "cell_type": "code",
      "metadata": {
        "id": "TfNyGs_w0a5O",
        "colab_type": "code",
        "colab": {}
      },
      "source": [
        "name = 'Bob'\n",
        "\n",
        "if name == 'Alice':\n",
        "    print('Hi, Alice.')\n",
        "else:\n",
        "    print('Hello, stranger.')"
      ],
      "execution_count": 0,
      "outputs": []
    },
    {
      "cell_type": "markdown",
      "metadata": {
        "id": "9qXJNvaD0a5Q",
        "colab_type": "text"
      },
      "source": [
        "### elif Statements"
      ]
    },
    {
      "cell_type": "code",
      "metadata": {
        "id": "wFvi8tjg0a5Q",
        "colab_type": "code",
        "colab": {}
      },
      "source": [
        "name = 'Bob'\n",
        "age = 5\n",
        "\n",
        "if name == 'Alice':\n",
        "    print('Hi, Alice.')\n",
        "elif age < 12:\n",
        "    print('You are not Alice, kiddo.')"
      ],
      "execution_count": 0,
      "outputs": []
    },
    {
      "cell_type": "code",
      "metadata": {
        "id": "KIyzFzKs0a5S",
        "colab_type": "code",
        "colab": {}
      },
      "source": [
        "name = 'Bob'\n",
        "age = 30\n",
        "\n",
        "if name == 'Alice':\n",
        "    print('Hi, Alice.')\n",
        "elif age < 12:\n",
        "    print('You are not Alice, kiddo.')\n",
        "else:\n",
        "    print('You are neither Alice nor a little kid.')"
      ],
      "execution_count": 0,
      "outputs": []
    },
    {
      "cell_type": "markdown",
      "metadata": {
        "id": "zduVjyc60a5T",
        "colab_type": "text"
      },
      "source": [
        "### while Loop Statements"
      ]
    },
    {
      "cell_type": "code",
      "metadata": {
        "id": "E1hG5dKs0a5U",
        "colab_type": "code",
        "colab": {}
      },
      "source": [
        "spam = 0\n",
        "\n",
        "while spam < 5:\n",
        "    print('Hello, world.')\n",
        "    spam = spam + 1"
      ],
      "execution_count": 0,
      "outputs": []
    },
    {
      "cell_type": "markdown",
      "metadata": {
        "id": "Ucchnf2H0a5W",
        "colab_type": "text"
      },
      "source": [
        "### break Statements\n",
        "\n",
        " If the execution reaches a break statement, it immediately exits the while loop’s clause:"
      ]
    },
    {
      "cell_type": "code",
      "metadata": {
        "id": "l_Yr3h3r0a5W",
        "colab_type": "code",
        "colab": {}
      },
      "source": [
        "while True:\n",
        "    print('Please type your name.')\n",
        "    name = input()\n",
        "    if name == 'your name':\n",
        "        break\n",
        "\n",
        "print('Thank you!')"
      ],
      "execution_count": 0,
      "outputs": []
    },
    {
      "cell_type": "markdown",
      "metadata": {
        "id": "i-VRBbyB0a5a",
        "colab_type": "text"
      },
      "source": [
        "### continue Statements\n",
        "\n",
        "When the program execution reaches a continue statement, the program execution immediately jumps back to the start of the loop."
      ]
    },
    {
      "cell_type": "code",
      "metadata": {
        "id": "xxyJDkKR0a5a",
        "colab_type": "code",
        "colab": {}
      },
      "source": [
        "while True:\n",
        "    print('Who are you?')\n",
        "    name = input()\n",
        "    if name != 'Joe':\n",
        "        continue\n",
        "    print('Hello, Joe. What is the password? (It is a fish.)')\n",
        "    password = input()\n",
        "    if password == 'swordfish':\n",
        "        break\n",
        "\n",
        "print('Access granted.')"
      ],
      "execution_count": 0,
      "outputs": []
    },
    {
      "cell_type": "markdown",
      "metadata": {
        "id": "064ZZE2_0a5b",
        "colab_type": "text"
      },
      "source": [
        "### for Loops and the range() Function"
      ]
    },
    {
      "cell_type": "code",
      "metadata": {
        "id": "N2Qi0ASs0a5c",
        "colab_type": "code",
        "colab": {}
      },
      "source": [
        "print('My name is')\n",
        "for i in range(5):\n",
        "    print('Jimmy Five Times ({})'.format(str(i)))"
      ],
      "execution_count": 0,
      "outputs": []
    },
    {
      "cell_type": "markdown",
      "metadata": {
        "id": "n2q_sCYI0a5e",
        "colab_type": "text"
      },
      "source": [
        "The *range()* function can also be called with three arguments. The first two arguments will be the start and stop values, and the third will be the step argument. The step is the amount that the variable is increased by after each iteration."
      ]
    },
    {
      "cell_type": "code",
      "metadata": {
        "id": "Hb7GXkNA0a5e",
        "colab_type": "code",
        "colab": {}
      },
      "source": [
        "for i in range(0, 10, 2):\n",
        "   print(i)"
      ],
      "execution_count": 0,
      "outputs": []
    },
    {
      "cell_type": "markdown",
      "metadata": {
        "id": "Zh9ek_uc0a5g",
        "colab_type": "text"
      },
      "source": [
        "You can even use a negative number for the step argument to make the for loop count down instead of up."
      ]
    },
    {
      "cell_type": "code",
      "metadata": {
        "id": "4pU2sliz0a5h",
        "colab_type": "code",
        "colab": {}
      },
      "source": [
        "for i in range(5, -1, -1):\n",
        "    print(i)"
      ],
      "execution_count": 0,
      "outputs": []
    },
    {
      "cell_type": "markdown",
      "metadata": {
        "id": "cnrRrkda0a5j",
        "colab_type": "text"
      },
      "source": [
        "### For else statement\n",
        "\n",
        "This allows to specify a statement to execute in case of the full loop has been executed. Only\n",
        "useful when a `break` condition can occur in the loop:"
      ]
    },
    {
      "cell_type": "code",
      "metadata": {
        "id": "48EkkVw_0a5k",
        "colab_type": "code",
        "colab": {}
      },
      "source": [
        "for i in [1, 2, 3, 4, 5]:\n",
        "   if i == 3:\n",
        "       break\n",
        "else:\n",
        "   print(\"only executed when no item of the list is equal to 3\")"
      ],
      "execution_count": 0,
      "outputs": []
    },
    {
      "cell_type": "markdown",
      "metadata": {
        "id": "wn8LniGB0a5m",
        "colab_type": "text"
      },
      "source": [
        "### Importing Modules"
      ]
    },
    {
      "cell_type": "code",
      "metadata": {
        "id": "Csq6DTc-0a5n",
        "colab_type": "code",
        "colab": {}
      },
      "source": [
        "import random\n",
        "\n",
        "for i in range(5):\n",
        "    print(random.randint(1, 10))"
      ],
      "execution_count": 0,
      "outputs": []
    },
    {
      "cell_type": "code",
      "metadata": {
        "id": "yL89wp5k0a5o",
        "colab_type": "code",
        "colab": {}
      },
      "source": [
        "import random, sys, os, math"
      ],
      "execution_count": 0,
      "outputs": []
    },
    {
      "cell_type": "code",
      "metadata": {
        "id": "v0zZeS1v0a5s",
        "colab_type": "code",
        "colab": {}
      },
      "source": [
        "from random import *."
      ],
      "execution_count": 0,
      "outputs": []
    },
    {
      "cell_type": "markdown",
      "metadata": {
        "id": "uqvUObVg0a5t",
        "colab_type": "text"
      },
      "source": [
        "### Ending a Program with sys.exit"
      ]
    },
    {
      "cell_type": "code",
      "metadata": {
        "id": "HlGPEF6k0a5u",
        "colab_type": "code",
        "colab": {}
      },
      "source": [
        "import sys\n",
        "\n",
        "while True:\n",
        "    print('Type exit to exit.')\n",
        "    response = input()\n",
        "    if response == 'exit':\n",
        "        sys.exit()\n",
        "    print('You typed {}.'.format(response))"
      ],
      "execution_count": 0,
      "outputs": []
    },
    {
      "cell_type": "markdown",
      "metadata": {
        "id": "AwF8dYkW0a5v",
        "colab_type": "text"
      },
      "source": [
        "## Functions"
      ]
    },
    {
      "cell_type": "code",
      "metadata": {
        "id": "wiIAeYNF0a5v",
        "colab_type": "code",
        "colab": {}
      },
      "source": [
        "def hello(name):\n",
        "    print('Hello {}'.format(name))"
      ],
      "execution_count": 0,
      "outputs": []
    },
    {
      "cell_type": "markdown",
      "metadata": {
        "id": "YX-uY9Zk0a5x",
        "colab_type": "text"
      },
      "source": [
        "### Return Values and return Statements\n",
        "\n",
        "When creating a function using the def statement, you can specify what the return value should be with a return statement. A return statement consists of the following:\n",
        "\n",
        "- The return keyword.\n",
        "\n",
        "- The value or expression that the function should return."
      ]
    },
    {
      "cell_type": "code",
      "metadata": {
        "id": "GkxRiNLq0a5x",
        "colab_type": "code",
        "colab": {}
      },
      "source": [
        "import random\n",
        "def getAnswer(answerNumber):\n",
        "    if answerNumber == 1:\n",
        "        return 'It is certain'\n",
        "    elif answerNumber == 2:\n",
        "        return 'It is decidedly so'\n",
        "    elif answerNumber == 3:\n",
        "        return 'Yes'\n",
        "    elif answerNumber == 4:\n",
        "        return 'Reply hazy try again'\n",
        "    elif answerNumber == 5:\n",
        "        return 'Ask again later'\n",
        "    elif answerNumber == 6:\n",
        "        return 'Concentrate and ask again'\n",
        "    elif answerNumber == 7:\n",
        "        return 'My reply is no'\n",
        "    elif answerNumber == 8:\n",
        "        return 'Outlook not so good'\n",
        "    elif answerNumber == 9:\n",
        "        return 'Very doubtful'\n",
        "\n",
        "r = random.randint(1, 9)\n",
        "fortune = getAnswer(r)\n",
        "print(fortune)"
      ],
      "execution_count": 0,
      "outputs": []
    },
    {
      "cell_type": "markdown",
      "metadata": {
        "id": "XYHLIQqD0a5z",
        "colab_type": "text"
      },
      "source": [
        "### The None Value"
      ]
    },
    {
      "cell_type": "code",
      "metadata": {
        "id": "1YQs93pR0a5z",
        "colab_type": "code",
        "colab": {}
      },
      "source": [
        "spam = print('Hello!')\n",
        "spam is None"
      ],
      "execution_count": 0,
      "outputs": []
    },
    {
      "cell_type": "markdown",
      "metadata": {
        "id": "UjaM3l330a51",
        "colab_type": "text"
      },
      "source": [
        "Note: never compare to `None` with the `==` operator. Always use `is`.\n",
        "\n",
        "### print Keyword Arguments"
      ]
    },
    {
      "cell_type": "code",
      "metadata": {
        "id": "P7jFXKeh0a51",
        "colab_type": "code",
        "colab": {}
      },
      "source": [
        "print('Hello', end='')\n",
        "print('World')"
      ],
      "execution_count": 0,
      "outputs": []
    },
    {
      "cell_type": "code",
      "metadata": {
        "id": "sa4yAcxo0a53",
        "colab_type": "code",
        "colab": {}
      },
      "source": [
        "print('cats', 'dogs', 'mice')"
      ],
      "execution_count": 0,
      "outputs": []
    },
    {
      "cell_type": "code",
      "metadata": {
        "id": "fs-1RMqR0a55",
        "colab_type": "code",
        "colab": {}
      },
      "source": [
        "print('cats', 'dogs', 'mice', sep=',')"
      ],
      "execution_count": 0,
      "outputs": []
    },
    {
      "cell_type": "markdown",
      "metadata": {
        "id": "M-PVcFJa0a57",
        "colab_type": "text"
      },
      "source": [
        "### Local and Global Scope\n",
        "\n",
        "- Code in the global scope cannot use any local variables.\n",
        "\n",
        "- However, a local scope can access global variables.\n",
        "\n",
        "- Code in a function’s local scope cannot use variables in any other local scope.\n",
        "\n",
        "- You can use the same name for different variables if they are in different scopes. That is, there can be a local variable named spam and a global variable also named spam.\n",
        "\n",
        "### The global Statement\n",
        "\n",
        "If you need to modify a global variable from within a function, use the global statement:"
      ]
    },
    {
      "cell_type": "code",
      "metadata": {
        "id": "Y-t1rmr60a57",
        "colab_type": "code",
        "colab": {}
      },
      "source": [
        "def spam():\n",
        "    global eggs\n",
        "    eggs = 'spam'\n",
        "\n",
        "eggs = 'global'\n",
        "spam()\n",
        "print(eggs)"
      ],
      "execution_count": 0,
      "outputs": []
    },
    {
      "cell_type": "markdown",
      "metadata": {
        "id": "NPr5ZKzA0a5-",
        "colab_type": "text"
      },
      "source": [
        "There are four rules to tell whether a variable is in a local scope or global scope:\n",
        "\n",
        "1. If a variable is being used in the global scope (that is, outside of all functions), then it is always a global variable.\n",
        "\n",
        "1. If there is a global statement for that variable in a function, it is a global variable.\n",
        "\n",
        "1. Otherwise, if the variable is used in an assignment statement in the function, it is a local variable.\n",
        "\n",
        "1. But if the variable is not used in an assignment statement, it is a global variable.\n",
        "\n",
        "## Exception Handling\n",
        "\n",
        "### Basic exception handling"
      ]
    },
    {
      "cell_type": "code",
      "metadata": {
        "id": "mUNnbgq90a5-",
        "colab_type": "code",
        "colab": {}
      },
      "source": [
        "def spam(divideBy):\n",
        "    try:\n",
        "        return 42 / divideBy\n",
        "    except ZeroDivisionError as e:\n",
        "        print('Error: Invalid argument: {}'.format(e))\n",
        "\n",
        "print(spam(2))\n",
        "print(spam(12))\n",
        "print(spam(0))\n",
        "print(spam(1))"
      ],
      "execution_count": 0,
      "outputs": []
    },
    {
      "cell_type": "markdown",
      "metadata": {
        "id": "8i3Gz9Xr0a6C",
        "colab_type": "text"
      },
      "source": [
        "### Final code in exception handling\n",
        "\n",
        "Code inside the `finally` section is always executed, no matter if an exception has been raised or\n",
        "not, and even if an exception is not caught."
      ]
    },
    {
      "cell_type": "code",
      "metadata": {
        "id": "bW24pwWa0a6C",
        "colab_type": "code",
        "colab": {}
      },
      "source": [
        "def spam(divideBy):\n",
        "    try:\n",
        "        return 42 / divideBy\n",
        "    except ZeroDivisionError as e:\n",
        "        print('Error: Invalid argument: {}'.format(e))\n",
        "    finally:\n",
        "        print(\"-- division finished --\")\n",
        "\n",
        "print(spam(12))\n",
        "print(spam(0))"
      ],
      "execution_count": 0,
      "outputs": []
    },
    {
      "cell_type": "markdown",
      "metadata": {
        "id": "OYDuMg3v0a6F",
        "colab_type": "text"
      },
      "source": [
        "## Lists"
      ]
    },
    {
      "cell_type": "code",
      "metadata": {
        "id": "-FDx7yM90a6H",
        "colab_type": "code",
        "colab": {}
      },
      "source": [
        "['cat', 'bat', 'rat', 'elephant']"
      ],
      "execution_count": 0,
      "outputs": []
    },
    {
      "cell_type": "markdown",
      "metadata": {
        "id": "OUI5kJqB0a6J",
        "colab_type": "text"
      },
      "source": [
        "### Getting Individual Values in a List with Indexes"
      ]
    },
    {
      "cell_type": "code",
      "metadata": {
        "id": "drMnjfEq0a6K",
        "colab_type": "code",
        "colab": {}
      },
      "source": [
        "spam = ['cat', 'bat', 'rat', 'elephant']\n",
        "spam[0]"
      ],
      "execution_count": 0,
      "outputs": []
    },
    {
      "cell_type": "code",
      "metadata": {
        "id": "y777N_yQ0a6M",
        "colab_type": "code",
        "colab": {}
      },
      "source": [
        "spam[1]"
      ],
      "execution_count": 0,
      "outputs": []
    },
    {
      "cell_type": "code",
      "metadata": {
        "id": "oVk0wvgX0a6Q",
        "colab_type": "code",
        "colab": {}
      },
      "source": [
        "spam[2]"
      ],
      "execution_count": 0,
      "outputs": []
    },
    {
      "cell_type": "code",
      "metadata": {
        "id": "TScAXSVJ0a6S",
        "colab_type": "code",
        "colab": {}
      },
      "source": [
        "spam[3]"
      ],
      "execution_count": 0,
      "outputs": []
    },
    {
      "cell_type": "markdown",
      "metadata": {
        "id": "e_ziLvv90a6T",
        "colab_type": "text"
      },
      "source": [
        "### Negative Indexes"
      ]
    },
    {
      "cell_type": "code",
      "metadata": {
        "id": "M-_UbaxN0a6T",
        "colab_type": "code",
        "colab": {}
      },
      "source": [
        "spam = ['cat', 'bat', 'rat', 'elephant']\n",
        "spam[-1]"
      ],
      "execution_count": 0,
      "outputs": []
    },
    {
      "cell_type": "code",
      "metadata": {
        "id": "QPr38TcK0a6U",
        "colab_type": "code",
        "colab": {}
      },
      "source": [
        "spam[-3]"
      ],
      "execution_count": 0,
      "outputs": []
    },
    {
      "cell_type": "code",
      "metadata": {
        "id": "Yd8YjyO60a6W",
        "colab_type": "code",
        "colab": {}
      },
      "source": [
        "'The {} is afraid of the {}.'.format(spam[-1], spam[-3])"
      ],
      "execution_count": 0,
      "outputs": []
    },
    {
      "cell_type": "markdown",
      "metadata": {
        "id": "FS7-4BvE0a6Y",
        "colab_type": "text"
      },
      "source": [
        "### Getting Sublists with Slices"
      ]
    },
    {
      "cell_type": "code",
      "metadata": {
        "id": "AK90rzbu0a6Y",
        "colab_type": "code",
        "colab": {}
      },
      "source": [
        "spam = ['cat', 'bat', 'rat', 'elephant']\n",
        "spam[0:4]"
      ],
      "execution_count": 0,
      "outputs": []
    },
    {
      "cell_type": "code",
      "metadata": {
        "id": "a5HbJOzR0a6a",
        "colab_type": "code",
        "colab": {}
      },
      "source": [
        "spam[1:3]"
      ],
      "execution_count": 0,
      "outputs": []
    },
    {
      "cell_type": "code",
      "metadata": {
        "id": "5BJs1hB00a6c",
        "colab_type": "code",
        "colab": {}
      },
      "source": [
        "spam[0:-1]"
      ],
      "execution_count": 0,
      "outputs": []
    },
    {
      "cell_type": "code",
      "metadata": {
        "id": "8PcFp7XX0a6d",
        "colab_type": "code",
        "colab": {}
      },
      "source": [
        "spam = ['cat', 'bat', 'rat', 'elephant']\n",
        "spam[:2]"
      ],
      "execution_count": 0,
      "outputs": []
    },
    {
      "cell_type": "code",
      "metadata": {
        "id": "xUkv8SB80a6e",
        "colab_type": "code",
        "colab": {}
      },
      "source": [
        "spam[1:]"
      ],
      "execution_count": 0,
      "outputs": []
    },
    {
      "cell_type": "code",
      "metadata": {
        "id": "vkxBBg-n0a6g",
        "colab_type": "code",
        "colab": {}
      },
      "source": [
        "spam[:]"
      ],
      "execution_count": 0,
      "outputs": []
    },
    {
      "cell_type": "markdown",
      "metadata": {
        "id": "WL9bgCEr0a6h",
        "colab_type": "text"
      },
      "source": [
        "### Getting a list Length with len"
      ]
    },
    {
      "cell_type": "code",
      "metadata": {
        "id": "MhqlpTRy0a6i",
        "colab_type": "code",
        "colab": {}
      },
      "source": [
        "spam = ['cat', 'dog', 'moose']\n",
        "len(spam)"
      ],
      "execution_count": 0,
      "outputs": []
    },
    {
      "cell_type": "markdown",
      "metadata": {
        "id": "vAUqIX4A0a6j",
        "colab_type": "text"
      },
      "source": [
        "### Changing Values in a List with Indexes"
      ]
    },
    {
      "cell_type": "code",
      "metadata": {
        "id": "HYdnLqbz0a6j",
        "colab_type": "code",
        "colab": {}
      },
      "source": [
        "spam = ['cat', 'bat', 'rat', 'elephant']\n",
        "spam[1] = 'aardvark'\n",
        "spam"
      ],
      "execution_count": 0,
      "outputs": []
    },
    {
      "cell_type": "code",
      "metadata": {
        "id": "OD_-GM_l0a6n",
        "colab_type": "code",
        "colab": {}
      },
      "source": [
        "spam[2] = spam[1]\n",
        "spam"
      ],
      "execution_count": 0,
      "outputs": []
    },
    {
      "cell_type": "code",
      "metadata": {
        "id": "X9WQJGmZ0a6q",
        "colab_type": "code",
        "colab": {}
      },
      "source": [
        "spam[-1] = 12345\n",
        "spam"
      ],
      "execution_count": 0,
      "outputs": []
    },
    {
      "cell_type": "markdown",
      "metadata": {
        "id": "0ruBlksI0a6r",
        "colab_type": "text"
      },
      "source": [
        "### List Concatenation and List Replication"
      ]
    },
    {
      "cell_type": "code",
      "metadata": {
        "id": "baDHzdss0a6s",
        "colab_type": "code",
        "colab": {}
      },
      "source": [
        "[1, 2, 3] + ['A', 'B', 'C']"
      ],
      "execution_count": 0,
      "outputs": []
    },
    {
      "cell_type": "code",
      "metadata": {
        "id": "vOyTFbga0a6t",
        "colab_type": "code",
        "colab": {}
      },
      "source": [
        "['X', 'Y', 'Z'] * 3"
      ],
      "execution_count": 0,
      "outputs": []
    },
    {
      "cell_type": "code",
      "metadata": {
        "id": "hWstvjP40a6u",
        "colab_type": "code",
        "colab": {}
      },
      "source": [
        "spam = [1, 2, 3]\n",
        "spam = spam + ['A', 'B', 'C']\n",
        "spam"
      ],
      "execution_count": 0,
      "outputs": []
    },
    {
      "cell_type": "markdown",
      "metadata": {
        "id": "Ss0Neq1P0a6w",
        "colab_type": "text"
      },
      "source": [
        "### Removing Values from Lists with del Statements"
      ]
    },
    {
      "cell_type": "code",
      "metadata": {
        "id": "WU6krwHz0a6w",
        "colab_type": "code",
        "colab": {}
      },
      "source": [
        "spam = ['cat', 'bat', 'rat', 'elephant']\n",
        "del spam[2]\n",
        "spam"
      ],
      "execution_count": 0,
      "outputs": []
    },
    {
      "cell_type": "code",
      "metadata": {
        "id": "zZIThC7h0a6z",
        "colab_type": "code",
        "colab": {}
      },
      "source": [
        "del spam[2]\n",
        "spam"
      ],
      "execution_count": 0,
      "outputs": []
    },
    {
      "cell_type": "markdown",
      "metadata": {
        "id": "xSVkH2Yy0a60",
        "colab_type": "text"
      },
      "source": [
        "### Using for Loops with Lists"
      ]
    },
    {
      "cell_type": "code",
      "metadata": {
        "id": "zJD7WFwt0a61",
        "colab_type": "code",
        "colab": {}
      },
      "source": [
        "supplies = ['pens', 'staplers', 'flame-throwers', 'binders']\n",
        "\n",
        "for i, supply in enumerate(supplies):\n",
        "    print('Index {} in supplies is: {}'.format(str(i), supply))"
      ],
      "execution_count": 0,
      "outputs": []
    },
    {
      "cell_type": "markdown",
      "metadata": {
        "id": "VYIbYglr0a63",
        "colab_type": "text"
      },
      "source": [
        "### Looping Through Multiple Lists with zip"
      ]
    },
    {
      "cell_type": "code",
      "metadata": {
        "id": "magVrhG30a63",
        "colab_type": "code",
        "colab": {}
      },
      "source": [
        "name = ['Pete', 'John', 'Elizabeth']\n",
        "age = [6, 23, 44]\n",
        "\n",
        "for n, a in zip(name, age):\n",
        "    print('{} is {} years old'.format(n, a))"
      ],
      "execution_count": 0,
      "outputs": []
    },
    {
      "cell_type": "markdown",
      "metadata": {
        "id": "2wmF81WU0a66",
        "colab_type": "text"
      },
      "source": [
        "### The in and not in Operators"
      ]
    },
    {
      "cell_type": "code",
      "metadata": {
        "id": "wMOn8SF90a66",
        "colab_type": "code",
        "colab": {}
      },
      "source": [
        "'howdy' in ['hello', 'hi', 'howdy', 'heyas']"
      ],
      "execution_count": 0,
      "outputs": []
    },
    {
      "cell_type": "code",
      "metadata": {
        "id": "099ZDhSv0a67",
        "colab_type": "code",
        "colab": {}
      },
      "source": [
        "spam = ['hello', 'hi', 'howdy', 'heyas']\n",
        "False"
      ],
      "execution_count": 0,
      "outputs": []
    },
    {
      "cell_type": "code",
      "metadata": {
        "id": "Eo-71bCN0a68",
        "colab_type": "code",
        "colab": {}
      },
      "source": [
        "'howdy' not in spam"
      ],
      "execution_count": 0,
      "outputs": []
    },
    {
      "cell_type": "code",
      "metadata": {
        "id": "ikcya2Du0a68",
        "colab_type": "code",
        "colab": {}
      },
      "source": [
        "'cat' not in spam"
      ],
      "execution_count": 0,
      "outputs": []
    },
    {
      "cell_type": "markdown",
      "metadata": {
        "id": "FIGXRo8R0a6_",
        "colab_type": "text"
      },
      "source": [
        "### The Multiple Assignment Trick\n",
        "\n",
        "The multiple assignment trick is a shortcut that lets you assign multiple variables with the values in a list in one line of code. So instead of doing this:"
      ]
    },
    {
      "cell_type": "code",
      "metadata": {
        "id": "r4odK41N0a6_",
        "colab_type": "code",
        "colab": {}
      },
      "source": [
        "cat = ['fat', 'orange', 'loud']\n",
        "size = cat[0]\n",
        "color = cat[1]\n",
        "disposition = cat[2]"
      ],
      "execution_count": 0,
      "outputs": []
    },
    {
      "cell_type": "markdown",
      "metadata": {
        "id": "O8efdW6W0a7A",
        "colab_type": "text"
      },
      "source": [
        "You could type this line of code:"
      ]
    },
    {
      "cell_type": "code",
      "metadata": {
        "id": "4t32P0CH0a7A",
        "colab_type": "code",
        "colab": {}
      },
      "source": [
        "cat = ['fat', 'orange', 'loud']\n",
        "size, color, disposition = cat"
      ],
      "execution_count": 0,
      "outputs": []
    },
    {
      "cell_type": "markdown",
      "metadata": {
        "id": "xeuPJTVC0a7B",
        "colab_type": "text"
      },
      "source": [
        "The multiple assignment trick can also be used to swap the values in two variables:"
      ]
    },
    {
      "cell_type": "code",
      "metadata": {
        "id": "IQBmJ-6z0a7B",
        "colab_type": "code",
        "colab": {}
      },
      "source": [
        "a, b = 'Alice', 'Bob'\n",
        "a, b = b, a\n",
        "print(a)"
      ],
      "execution_count": 0,
      "outputs": []
    },
    {
      "cell_type": "code",
      "metadata": {
        "id": "SDkCDXCm0a7D",
        "colab_type": "code",
        "colab": {}
      },
      "source": [
        "print(b)"
      ],
      "execution_count": 0,
      "outputs": []
    },
    {
      "cell_type": "markdown",
      "metadata": {
        "id": "-jKr1_eR0a7E",
        "colab_type": "text"
      },
      "source": [
        "### Augmented Assignment Operators\n",
        "\n",
        "| Operator    | Equivalent        |\n",
        "| ----------- | ----------------- |\n",
        "| `spam += 1` | `spam = spam + 1` |\n",
        "| `spam -= 1` | `spam = spam - 1` |\n",
        "| `spam *= 1` | `spam = spam * 1` |\n",
        "| `spam /= 1` | `spam = spam / 1` |\n",
        "| `spam %= 1` | `spam = spam % 1` |\n",
        "\n",
        "Examples:"
      ]
    },
    {
      "cell_type": "code",
      "metadata": {
        "id": "TUrph8nE0a7E",
        "colab_type": "code",
        "colab": {}
      },
      "source": [
        "spam = 'Hello'\n",
        "spam += ' world!'\n",
        "spam"
      ],
      "execution_count": 0,
      "outputs": []
    },
    {
      "cell_type": "code",
      "metadata": {
        "id": "2093hOtB0a7G",
        "colab_type": "code",
        "colab": {}
      },
      "source": [
        "bacon = ['Zophie']\n",
        "bacon *= 3\n",
        "bacon"
      ],
      "execution_count": 0,
      "outputs": []
    },
    {
      "cell_type": "markdown",
      "metadata": {
        "id": "0ajB_to20a7G",
        "colab_type": "text"
      },
      "source": [
        "### Finding a Value in a List with the index Method"
      ]
    },
    {
      "cell_type": "code",
      "metadata": {
        "id": "__W365Du0a7H",
        "colab_type": "code",
        "colab": {}
      },
      "source": [
        "spam = ['Zophie', 'Pooka', 'Fat-tail', 'Pooka']\n",
        "spam.index('Pooka')"
      ],
      "execution_count": 0,
      "outputs": []
    },
    {
      "cell_type": "markdown",
      "metadata": {
        "id": "4GaV55950a7J",
        "colab_type": "text"
      },
      "source": [
        "### Adding Values to Lists with append and insert\n",
        "\n",
        "**append()**:"
      ]
    },
    {
      "cell_type": "code",
      "metadata": {
        "id": "y24EXl010a7K",
        "colab_type": "code",
        "colab": {}
      },
      "source": [
        "spam = ['cat', 'dog', 'bat']\n",
        "spam.append('moose')\n",
        "spam"
      ],
      "execution_count": 0,
      "outputs": []
    },
    {
      "cell_type": "markdown",
      "metadata": {
        "id": "C3cN1jWC0a7L",
        "colab_type": "text"
      },
      "source": [
        "**insert()**:"
      ]
    },
    {
      "cell_type": "code",
      "metadata": {
        "id": "RK6OLa-D0a7L",
        "colab_type": "code",
        "colab": {}
      },
      "source": [
        "spam = ['cat', 'dog', 'bat']\n",
        "spam.insert(1, 'chicken')\n",
        "spam"
      ],
      "execution_count": 0,
      "outputs": []
    },
    {
      "cell_type": "markdown",
      "metadata": {
        "id": "6xXNHR450a7M",
        "colab_type": "text"
      },
      "source": [
        "### Removing Values from Lists with remove"
      ]
    },
    {
      "cell_type": "code",
      "metadata": {
        "id": "QFP5i1FK0a7N",
        "colab_type": "code",
        "colab": {}
      },
      "source": [
        "spam = ['cat', 'bat', 'rat', 'elephant']\n",
        "spam.remove('bat')\n",
        "spam"
      ],
      "execution_count": 0,
      "outputs": []
    },
    {
      "cell_type": "markdown",
      "metadata": {
        "id": "7l6FIZI60a7O",
        "colab_type": "text"
      },
      "source": [
        "If the value appears multiple times in the list, only the first instance of the value will be removed.\n",
        "\n",
        "### Sorting the Values in a List with sort"
      ]
    },
    {
      "cell_type": "code",
      "metadata": {
        "id": "OJtgeT4o0a7O",
        "colab_type": "code",
        "colab": {}
      },
      "source": [
        "spam = [2, 5, 3.14, 1, -7]\n",
        "spam.sort()\n",
        "spam"
      ],
      "execution_count": 0,
      "outputs": []
    },
    {
      "cell_type": "code",
      "metadata": {
        "id": "cgxQSqxp0a7P",
        "colab_type": "code",
        "colab": {}
      },
      "source": [
        "spam = ['ants', 'cats', 'dogs', 'badgers', 'elephants']\n",
        "spam.sort()\n",
        "spam"
      ],
      "execution_count": 0,
      "outputs": []
    },
    {
      "cell_type": "markdown",
      "metadata": {
        "id": "rf1x_erG0a7Q",
        "colab_type": "text"
      },
      "source": [
        "You can also pass True for the reverse keyword argument to have sort() sort the values in reverse order:"
      ]
    },
    {
      "cell_type": "code",
      "metadata": {
        "id": "ntqAGLvH0a7Q",
        "colab_type": "code",
        "colab": {}
      },
      "source": [
        "spam.sort(reverse=True)\n",
        "spam"
      ],
      "execution_count": 0,
      "outputs": []
    },
    {
      "cell_type": "markdown",
      "metadata": {
        "id": "NS-HV8xI0a7Q",
        "colab_type": "text"
      },
      "source": [
        "If you need to sort the values in regular alphabetical order, pass str. lower for the key keyword argument in the sort() method call:"
      ]
    },
    {
      "cell_type": "code",
      "metadata": {
        "id": "3iFXz0160a7R",
        "colab_type": "code",
        "colab": {}
      },
      "source": [
        "spam = ['a', 'z', 'A', 'Z']\n",
        "spam.sort(key=str.lower)\n",
        "spam"
      ],
      "execution_count": 0,
      "outputs": []
    },
    {
      "cell_type": "markdown",
      "metadata": {
        "id": "GIsy8DCu0a7S",
        "colab_type": "text"
      },
      "source": [
        "You can use the built-in function `sorted` to return a new list:"
      ]
    },
    {
      "cell_type": "code",
      "metadata": {
        "id": "GDHs671y0a7S",
        "colab_type": "code",
        "colab": {}
      },
      "source": [
        "spam = ['ants', 'cats', 'dogs', 'badgers', 'elephants']\n",
        "sorted(spam)"
      ],
      "execution_count": 0,
      "outputs": []
    },
    {
      "cell_type": "markdown",
      "metadata": {
        "id": "KaZQqc_K0a7T",
        "colab_type": "text"
      },
      "source": [
        "## Tuple Data Type"
      ]
    },
    {
      "cell_type": "code",
      "metadata": {
        "id": "-vsLmVIW0a7T",
        "colab_type": "code",
        "colab": {}
      },
      "source": [
        "eggs = ('hello', 42, 0.5)\n",
        "eggs[0]"
      ],
      "execution_count": 0,
      "outputs": []
    },
    {
      "cell_type": "code",
      "metadata": {
        "id": "1hOimo_K0a7U",
        "colab_type": "code",
        "colab": {}
      },
      "source": [
        "eggs[1:3]"
      ],
      "execution_count": 0,
      "outputs": []
    },
    {
      "cell_type": "code",
      "metadata": {
        "id": "-EZehyk00a7V",
        "colab_type": "code",
        "colab": {}
      },
      "source": [
        "len(eggs)"
      ],
      "execution_count": 0,
      "outputs": []
    },
    {
      "cell_type": "markdown",
      "metadata": {
        "id": "EuyxCf420a7X",
        "colab_type": "text"
      },
      "source": [
        "The main way that tuples are different from lists is that tuples, like strings, are immutable.\n",
        "\n",
        "## Converting Types with the list and tuple Functions"
      ]
    },
    {
      "cell_type": "code",
      "metadata": {
        "id": "j1qTYSiS0a7X",
        "colab_type": "code",
        "colab": {}
      },
      "source": [
        "tuple(['cat', 'dog', 5])"
      ],
      "execution_count": 0,
      "outputs": []
    },
    {
      "cell_type": "code",
      "metadata": {
        "id": "oEkJH12X0a7Y",
        "colab_type": "code",
        "colab": {}
      },
      "source": [
        "list(('cat', 'dog', 5))"
      ],
      "execution_count": 0,
      "outputs": []
    },
    {
      "cell_type": "code",
      "metadata": {
        "id": "HSZunjdO0a7Z",
        "colab_type": "code",
        "colab": {}
      },
      "source": [
        "list('hello')"
      ],
      "execution_count": 0,
      "outputs": []
    },
    {
      "cell_type": "markdown",
      "metadata": {
        "id": "3HBHOWKr0a7a",
        "colab_type": "text"
      },
      "source": [
        "## Dictionaries and Structuring Data\n",
        "\n",
        "Example Dictionary:"
      ]
    },
    {
      "cell_type": "code",
      "metadata": {
        "id": "XMeMYiA20a7a",
        "colab_type": "code",
        "colab": {}
      },
      "source": [
        "myCat = {'size': 'fat', 'color': 'gray', 'disposition': 'loud'}"
      ],
      "execution_count": 0,
      "outputs": []
    },
    {
      "cell_type": "markdown",
      "metadata": {
        "id": "WDdbsfV30a7b",
        "colab_type": "text"
      },
      "source": [
        "### The keys, values, and items Methods\n",
        "\n",
        "values():"
      ]
    },
    {
      "cell_type": "code",
      "metadata": {
        "id": "r8QIeIXv0a7c",
        "colab_type": "code",
        "colab": {}
      },
      "source": [
        "spam = {'color': 'red', 'age': 42}\n",
        "\n",
        "for v in spam.values():\n",
        "    print(v)"
      ],
      "execution_count": 0,
      "outputs": []
    },
    {
      "cell_type": "markdown",
      "metadata": {
        "id": "EUfKu0i30a7d",
        "colab_type": "text"
      },
      "source": [
        "keys():"
      ]
    },
    {
      "cell_type": "code",
      "metadata": {
        "id": "fQ_Y_ICF0a7d",
        "colab_type": "code",
        "colab": {}
      },
      "source": [
        "for k in spam.keys():\n",
        "    print(k)"
      ],
      "execution_count": 0,
      "outputs": []
    },
    {
      "cell_type": "markdown",
      "metadata": {
        "id": "9aNl5PDz0a7e",
        "colab_type": "text"
      },
      "source": [
        "items():"
      ]
    },
    {
      "cell_type": "code",
      "metadata": {
        "id": "VNgROFFy0a7e",
        "colab_type": "code",
        "colab": {}
      },
      "source": [
        "for i in spam.items():\n",
        "    print(i)"
      ],
      "execution_count": 0,
      "outputs": []
    },
    {
      "cell_type": "markdown",
      "metadata": {
        "id": "FEoY2PaJ0a7f",
        "colab_type": "text"
      },
      "source": [
        "Using the keys(), values(), and items() methods, a for loop can iterate over the keys, values, or key-value pairs in a dictionary, respectively."
      ]
    },
    {
      "cell_type": "code",
      "metadata": {
        "id": "U2qSx40i0a7f",
        "colab_type": "code",
        "colab": {}
      },
      "source": [
        "spam = {'color': 'red', 'age': 42}\n",
        "\n",
        "for k, v in spam.items():\n",
        "    print('Key: {} Value: {}'.format(k, str(v)))"
      ],
      "execution_count": 0,
      "outputs": []
    },
    {
      "cell_type": "markdown",
      "metadata": {
        "id": "GL0rhEXI0a7g",
        "colab_type": "text"
      },
      "source": [
        "### Checking if a Key or Value Exists in a Dictionary"
      ]
    },
    {
      "cell_type": "code",
      "metadata": {
        "id": "_kQghQYk0a7g",
        "colab_type": "code",
        "colab": {}
      },
      "source": [
        "spam = {'name': 'Zophie', 'age': 7}\n",
        "'name' in spam.keys()"
      ],
      "execution_count": 0,
      "outputs": []
    },
    {
      "cell_type": "code",
      "metadata": {
        "id": "k6bxXFUV0a7h",
        "colab_type": "code",
        "colab": {}
      },
      "source": [
        "'Zophie' in spam.values()"
      ],
      "execution_count": 0,
      "outputs": []
    },
    {
      "cell_type": "code",
      "metadata": {
        "id": "dDmsw_460a7i",
        "colab_type": "code",
        "colab": {}
      },
      "source": [
        "# You can omit the call to keys() when checking for a key\n",
        "'color' in spam"
      ],
      "execution_count": 0,
      "outputs": []
    },
    {
      "cell_type": "code",
      "metadata": {
        "id": "B84KGri-0a7k",
        "colab_type": "code",
        "colab": {}
      },
      "source": [
        "'color' not in spam"
      ],
      "execution_count": 0,
      "outputs": []
    },
    {
      "cell_type": "code",
      "metadata": {
        "id": "mZVxPRw20a7l",
        "colab_type": "code",
        "colab": {}
      },
      "source": [
        "'color' in spam"
      ],
      "execution_count": 0,
      "outputs": []
    },
    {
      "cell_type": "markdown",
      "metadata": {
        "id": "4GDdubhu0a7m",
        "colab_type": "text"
      },
      "source": [
        "### The get Method"
      ]
    },
    {
      "cell_type": "code",
      "metadata": {
        "id": "902UyKed0a7n",
        "colab_type": "code",
        "colab": {}
      },
      "source": [
        "picnic_items = {'apples': 5, 'cups': 2}\n",
        "'I am bringing {} cups.'.format(str(picnic_items.get('cups', 0)))"
      ],
      "execution_count": 0,
      "outputs": []
    },
    {
      "cell_type": "code",
      "metadata": {
        "id": "BCAcJMUK0a7o",
        "colab_type": "code",
        "colab": {}
      },
      "source": [
        "'I am bringing {} eggs.'.format(str(picnic_items.get('eggs', 0)))"
      ],
      "execution_count": 0,
      "outputs": []
    },
    {
      "cell_type": "markdown",
      "metadata": {
        "id": "STcoDGMn0a7p",
        "colab_type": "text"
      },
      "source": [
        "### The setdefault Method\n",
        "\n",
        "Let's consider this code:"
      ]
    },
    {
      "cell_type": "code",
      "metadata": {
        "id": "xWhQ5bT00a7q",
        "colab_type": "code",
        "colab": {}
      },
      "source": [
        "spam = {'name': 'Pooka', 'age': 5}\n",
        "if 'color' not in spam:\n",
        "    spam['color'] = 'black'"
      ],
      "execution_count": 0,
      "outputs": []
    },
    {
      "cell_type": "markdown",
      "metadata": {
        "id": "0EhYZ6FY0a7r",
        "colab_type": "text"
      },
      "source": [
        "Using `setdefault` we could make the same code more shortly:"
      ]
    },
    {
      "cell_type": "code",
      "metadata": {
        "id": "ubP5EKcn0a7r",
        "colab_type": "code",
        "colab": {}
      },
      "source": [
        "spam = {'name': 'Pooka', 'age': 5}\n",
        "spam.setdefault('color', 'black')"
      ],
      "execution_count": 0,
      "outputs": []
    },
    {
      "cell_type": "code",
      "metadata": {
        "id": "BHR5unol0a7s",
        "colab_type": "code",
        "colab": {}
      },
      "source": [
        "spam"
      ],
      "execution_count": 0,
      "outputs": []
    },
    {
      "cell_type": "code",
      "metadata": {
        "id": "6MdlWRlT0a7t",
        "colab_type": "code",
        "colab": {}
      },
      "source": [
        "spam.setdefault('color', 'white')"
      ],
      "execution_count": 0,
      "outputs": []
    },
    {
      "cell_type": "code",
      "metadata": {
        "id": "ci3HtWrA0a7u",
        "colab_type": "code",
        "colab": {}
      },
      "source": [
        "spam"
      ],
      "execution_count": 0,
      "outputs": []
    },
    {
      "cell_type": "markdown",
      "metadata": {
        "id": "MNPMjxAl0a7w",
        "colab_type": "text"
      },
      "source": [
        "### Pretty Printing"
      ]
    },
    {
      "cell_type": "code",
      "metadata": {
        "id": "T35C3RH00a7w",
        "colab_type": "code",
        "colab": {}
      },
      "source": [
        "import pprint\n",
        "\n",
        "message = 'It was a bright cold day in April, and the clocks were striking thirteen.'\n",
        "count = {}\n",
        "\n",
        "for character in message:\n",
        "    count.setdefault(character, 0)\n",
        "    count[character] = count[character] + 1\n",
        "\n",
        "pprint.pprint(count)"
      ],
      "execution_count": 0,
      "outputs": []
    },
    {
      "cell_type": "markdown",
      "metadata": {
        "id": "akCfHLZ00a7y",
        "colab_type": "text"
      },
      "source": [
        "### Merge two dictionaries"
      ]
    },
    {
      "cell_type": "code",
      "metadata": {
        "id": "EGJRwUAF0a7y",
        "colab_type": "code",
        "colab": {}
      },
      "source": [
        "# in Python 3.5+:\n",
        "x = {'a': 1, 'b': 2}\n",
        "y = {'b': 3, 'c': 4}\n",
        "z = {**x, **y}\n",
        "z"
      ],
      "execution_count": 0,
      "outputs": []
    },
    {
      "cell_type": "markdown",
      "metadata": {
        "id": "4fbbj_010a7z",
        "colab_type": "text"
      },
      "source": [
        "## sets\n",
        "\n",
        "From the Python 3 [documentation](https://docs.python.org/3/tutorial/datastructures.html)\n",
        "\n",
        "> A set is an unordered collection with no duplicate elements. Basic uses include membership testing and eliminating duplicate entries. Set objects also support mathematical operations like union, intersection, difference, and symmetric difference.\n",
        "\n",
        "### Initializing a set\n",
        "\n",
        "There are two ways to create sets: using curly braces `{}` and the bult-in function `set()`"
      ]
    },
    {
      "cell_type": "code",
      "metadata": {
        "id": "gG5tk7kr0a7z",
        "colab_type": "code",
        "colab": {}
      },
      "source": [
        "s = {1, 2, 3}\n",
        "s = set([1, 2, 3])"
      ],
      "execution_count": 0,
      "outputs": []
    },
    {
      "cell_type": "markdown",
      "metadata": {
        "id": "AhwoQpX70a71",
        "colab_type": "text"
      },
      "source": [
        "When creating an empty set, be sure to not use the curly braces `{}`  or you will get an empty dictionary instead."
      ]
    },
    {
      "cell_type": "code",
      "metadata": {
        "id": "was6U9V00a71",
        "colab_type": "code",
        "colab": {}
      },
      "source": [
        "s = {}\n",
        "type(s)"
      ],
      "execution_count": 0,
      "outputs": []
    },
    {
      "cell_type": "markdown",
      "metadata": {
        "id": "8dAv4Qua0a72",
        "colab_type": "text"
      },
      "source": [
        "### sets: unordered collections of unique elements\n",
        "\n",
        "A set automatically remove all the duplicate values."
      ]
    },
    {
      "cell_type": "code",
      "metadata": {
        "id": "xZcyMR5T0a72",
        "colab_type": "code",
        "colab": {}
      },
      "source": [
        "s = {1, 2, 3, 2, 3, 4}\n",
        "s"
      ],
      "execution_count": 0,
      "outputs": []
    },
    {
      "cell_type": "markdown",
      "metadata": {
        "id": "pHpoTQQV0a73",
        "colab_type": "text"
      },
      "source": [
        "And as an unordered data type, they can't be indexed."
      ]
    },
    {
      "cell_type": "code",
      "metadata": {
        "id": "GtGmFXP20a73",
        "colab_type": "code",
        "colab": {}
      },
      "source": [
        "s = {1, 2, 3}\n",
        "s(0)"
      ],
      "execution_count": 0,
      "outputs": []
    },
    {
      "cell_type": "markdown",
      "metadata": {
        "id": "DN2M5Ncv0a75",
        "colab_type": "text"
      },
      "source": [
        "### set add and update\n",
        "\n",
        "Using the `add()` method we can add a single element to the set."
      ]
    },
    {
      "cell_type": "code",
      "metadata": {
        "id": "0M_FZy-W0a76",
        "colab_type": "code",
        "colab": {}
      },
      "source": [
        "s = {1, 2, 3}\n",
        "s.add(4)\n",
        "s"
      ],
      "execution_count": 0,
      "outputs": []
    },
    {
      "cell_type": "markdown",
      "metadata": {
        "id": "tfCrTqta0a77",
        "colab_type": "text"
      },
      "source": [
        "And with `update()`, multiple ones ."
      ]
    },
    {
      "cell_type": "code",
      "metadata": {
        "id": "NANeA2sl0a78",
        "colab_type": "code",
        "outputId": "45f406fc-dd38-4bd0-c060-058bedaa0f5d",
        "colab": {
          "base_uri": "https://localhost:8080/",
          "height": 34
        }
      },
      "source": [
        "s = {1, 2, 3}\n",
        "s.update([2, 3, 4, 5, 6])\n",
        "s  # remember, sets automatically remove duplicates"
      ],
      "execution_count": 0,
      "outputs": [
        {
          "output_type": "execute_result",
          "data": {
            "text/plain": [
              "{1, 2, 3, 4, 5, 6}"
            ]
          },
          "metadata": {
            "tags": []
          },
          "execution_count": 71
        }
      ]
    },
    {
      "cell_type": "markdown",
      "metadata": {
        "id": "NBP6rlY90a78",
        "colab_type": "text"
      },
      "source": [
        "### set remove and discard\n",
        "\n",
        "Both methods will remove an element from the set, but `remove()` will raise a `key error` if the value doesn't exist."
      ]
    },
    {
      "cell_type": "code",
      "metadata": {
        "id": "-60Wx7iu0a78",
        "colab_type": "code",
        "colab": {}
      },
      "source": [
        "s = {1, 2, 3}\n",
        "s.remove(3)\n",
        "s"
      ],
      "execution_count": 0,
      "outputs": []
    },
    {
      "cell_type": "code",
      "metadata": {
        "id": "pwugbLJe0a7-",
        "colab_type": "code",
        "colab": {}
      },
      "source": [
        "s.remove(3)"
      ],
      "execution_count": 0,
      "outputs": []
    },
    {
      "cell_type": "markdown",
      "metadata": {
        "id": "nvowDaVZ0a7_",
        "colab_type": "text"
      },
      "source": [
        "`discard()` won't raise any errors."
      ]
    },
    {
      "cell_type": "code",
      "metadata": {
        "id": "IBOGXY850a7_",
        "colab_type": "code",
        "colab": {}
      },
      "source": [
        "s = {1, 2, 3}\n",
        "s.discard(3)\n",
        "s"
      ],
      "execution_count": 0,
      "outputs": []
    },
    {
      "cell_type": "code",
      "metadata": {
        "id": "E47SevPA0a8A",
        "colab_type": "code",
        "colab": {}
      },
      "source": [
        "s.discard(3)"
      ],
      "execution_count": 0,
      "outputs": []
    },
    {
      "cell_type": "markdown",
      "metadata": {
        "id": "yp2ygqJc0a8B",
        "colab_type": "text"
      },
      "source": [
        "### set union\n",
        "\n",
        "`union()` or `|` will create a new set that contains all the elements from the sets provided."
      ]
    },
    {
      "cell_type": "code",
      "metadata": {
        "id": "2rRybwfT0a8B",
        "colab_type": "code",
        "colab": {}
      },
      "source": [
        "s1 = {1, 2, 3}\n",
        "s2 = {3, 4, 5}\n",
        "s1.union(s2)  # or 's1 | s2'"
      ],
      "execution_count": 0,
      "outputs": []
    },
    {
      "cell_type": "markdown",
      "metadata": {
        "id": "Q_Ocxey80a8C",
        "colab_type": "text"
      },
      "source": [
        "### set intersection\n",
        "\n",
        "`intersection`  or `&`  will return a set containing only the elements that are common to all of them."
      ]
    },
    {
      "cell_type": "code",
      "metadata": {
        "id": "Lp0Xd1xo0a8C",
        "colab_type": "code",
        "colab": {}
      },
      "source": [
        "s1 = {1, 2, 3}\n",
        "s2 = {2, 3, 4}\n",
        "s3 = {3, 4, 5}\n",
        "s1.intersection(s2, s3)  # or 's1 & s2 & s3'"
      ],
      "execution_count": 0,
      "outputs": []
    },
    {
      "cell_type": "markdown",
      "metadata": {
        "id": "QR0p8BAB0a8D",
        "colab_type": "text"
      },
      "source": [
        "### set difference\n",
        "\n",
        "`difference` or `-` will return only the elements that are in one of the sets."
      ]
    },
    {
      "cell_type": "code",
      "metadata": {
        "id": "hvjmyCVS0a8D",
        "colab_type": "code",
        "outputId": "fc34c590-6a40-415e-dcfd-22d51012885c",
        "colab": {
          "base_uri": "https://localhost:8080/",
          "height": 34
        }
      },
      "source": [
        "s1 = {1, 2, 3}\n",
        "s2 = {2, 3, 4}\n",
        "s1.difference(s2)  # or 's1 - s2'"
      ],
      "execution_count": 0,
      "outputs": [
        {
          "output_type": "execute_result",
          "data": {
            "text/plain": [
              "{1}"
            ]
          },
          "metadata": {
            "tags": []
          },
          "execution_count": 72
        }
      ]
    },
    {
      "cell_type": "markdown",
      "metadata": {
        "id": "mIF-e5Si0a8E",
        "colab_type": "text"
      },
      "source": [
        "### set symetric_difference\n",
        "\n",
        "`symetric_difference` or `^` will return all the elements that are not common between them."
      ]
    },
    {
      "cell_type": "code",
      "metadata": {
        "id": "nyV0FbiN0a8E",
        "colab_type": "code",
        "outputId": "a240a409-2ee2-464d-dbb1-f0c52f913b04",
        "colab": {
          "base_uri": "https://localhost:8080/",
          "height": 34
        }
      },
      "source": [
        "s1 = {1, 2, 3}\n",
        "s2 = {2, 3, 4}\n",
        "s1.symmetric_difference(s2)  # or 's1 ^ s2'"
      ],
      "execution_count": 0,
      "outputs": [
        {
          "output_type": "execute_result",
          "data": {
            "text/plain": [
              "{1, 4}"
            ]
          },
          "metadata": {
            "tags": []
          },
          "execution_count": 73
        }
      ]
    },
    {
      "cell_type": "markdown",
      "metadata": {
        "id": "0CbPatWC0a8F",
        "colab_type": "text"
      },
      "source": [
        "## itertools Module\n",
        "\n",
        "The *itertools* module is a collection of tools intented to be fast and use memory efficiently when handling iterators (like [lists](#lists) or [dictionaries](#dictionaries-and-structuring-data)).\n",
        "\n",
        "From the official [Python 3.x documentation](https://docs.python.org/3/library/itertools.html):\n",
        "\n",
        "> The module standardizes a core set of fast, memory efficient tools that are useful by themselves or in combination. Together, they form an “iterator algebra” making it possible to construct specialized tools succinctly and efficiently in pure Python.\n",
        "\n",
        "The *itertools* module comes in the standard library and must be imported.\n",
        "\n",
        "The [operator](https://docs.python.org/3/library/operator.html) module will also be used. This module is not necessary when using itertools, but needed for some of the examples below."
      ]
    },
    {
      "cell_type": "code",
      "metadata": {
        "id": "H2Uk8PZW0a8F",
        "colab_type": "code",
        "colab": {}
      },
      "source": [
        "import itertools\n",
        "import operator"
      ],
      "execution_count": 0,
      "outputs": []
    },
    {
      "cell_type": "markdown",
      "metadata": {
        "id": "WCRD-ih90a8G",
        "colab_type": "text"
      },
      "source": [
        "### accumulate\n",
        "\n",
        "Makes an iterator that returns the results of a function."
      ]
    },
    {
      "cell_type": "code",
      "metadata": {
        "id": "LSoZ3lEI0a8G",
        "colab_type": "code",
        "colab": {}
      },
      "source": [
        "itertools.accumulate(iterable[, func])"
      ],
      "execution_count": 0,
      "outputs": []
    },
    {
      "cell_type": "markdown",
      "metadata": {
        "id": "Qmhh7m7i0a8H",
        "colab_type": "text"
      },
      "source": [
        "Example:"
      ]
    },
    {
      "cell_type": "code",
      "metadata": {
        "id": "aK4IDoIl0a8H",
        "colab_type": "code",
        "colab": {}
      },
      "source": [
        "data = [1, 2, 3, 4, 5]\n",
        "result = itertools.accumulate(data, operator.mul)\n",
        "for each in result:\n",
        "   print(each)"
      ],
      "execution_count": 0,
      "outputs": []
    },
    {
      "cell_type": "markdown",
      "metadata": {
        "id": "IXsODh5j0a8H",
        "colab_type": "text"
      },
      "source": [
        "The operator.mul takes two numbers and multiplies them:"
      ]
    },
    {
      "cell_type": "code",
      "metadata": {
        "id": "ZJ0rJxtD0a8I",
        "colab_type": "code",
        "colab": {}
      },
      "source": [
        "operator.mul(1, 2)"
      ],
      "execution_count": 0,
      "outputs": []
    },
    {
      "cell_type": "code",
      "metadata": {
        "id": "JgcCT4yf0a8I",
        "colab_type": "code",
        "colab": {}
      },
      "source": [
        "operator.mul(2, 3)"
      ],
      "execution_count": 0,
      "outputs": []
    },
    {
      "cell_type": "code",
      "metadata": {
        "id": "hz38tHN10a8J",
        "colab_type": "code",
        "colab": {}
      },
      "source": [
        "operator.mul(6, 4)"
      ],
      "execution_count": 0,
      "outputs": []
    },
    {
      "cell_type": "code",
      "metadata": {
        "id": "fWYiVpEx0a8J",
        "colab_type": "code",
        "colab": {}
      },
      "source": [
        "operator.mul(24, 5)"
      ],
      "execution_count": 0,
      "outputs": []
    },
    {
      "cell_type": "markdown",
      "metadata": {
        "id": "wnFEoMq80a8K",
        "colab_type": "text"
      },
      "source": [
        "Passing a function is optional:"
      ]
    },
    {
      "cell_type": "code",
      "metadata": {
        "id": "D_vaH2EW0a8K",
        "colab_type": "code",
        "colab": {}
      },
      "source": [
        "data = [5, 2, 6, 4, 5, 9, 1]\n",
        "result = itertools.accumulate(data)\n",
        "\n",
        "for each in result:\n",
        "   print(each)"
      ],
      "execution_count": 0,
      "outputs": []
    },
    {
      "cell_type": "markdown",
      "metadata": {
        "id": "Pzrurqh10a8L",
        "colab_type": "text"
      },
      "source": [
        "If no function is designated the items will be summed:"
      ]
    },
    {
      "cell_type": "code",
      "metadata": {
        "id": "8VD1FjaT0a8L",
        "colab_type": "code",
        "colab": {}
      },
      "source": [
        "5\n",
        "5 + 2 = 7\n",
        "7 + 6 = 13\n",
        "13 + 4 = 17\n",
        "17 + 5 = 22\n",
        "22 + 9 = 31\n",
        "31 + 1 = 32"
      ],
      "execution_count": 0,
      "outputs": []
    },
    {
      "cell_type": "markdown",
      "metadata": {
        "id": "vdO4lXeA0a8M",
        "colab_type": "text"
      },
      "source": [
        "### combinations\n",
        "\n",
        "Takes an iterable and a integer. This will create all the unique combination that have r members."
      ]
    },
    {
      "cell_type": "code",
      "metadata": {
        "id": "_L_kQipK0a8M",
        "colab_type": "code",
        "colab": {}
      },
      "source": [
        "itertools.combinations(iterable, r)"
      ],
      "execution_count": 0,
      "outputs": []
    },
    {
      "cell_type": "markdown",
      "metadata": {
        "id": "T5Upq6wo0a8N",
        "colab_type": "text"
      },
      "source": [
        "Example:"
      ]
    },
    {
      "cell_type": "code",
      "metadata": {
        "id": "pje-mONt0a8N",
        "colab_type": "code",
        "outputId": "94869083-c9e0-47bf-b371-b36d045b9335",
        "colab": {
          "base_uri": "https://localhost:8080/",
          "height": 69
        }
      },
      "source": [
        "shapes = ['circle', 'triangle', 'square',]\n",
        "result = itertools.combinations(shapes, 1)\n",
        "\n",
        "for each in result:\n",
        "   print(each)"
      ],
      "execution_count": 0,
      "outputs": [
        {
          "output_type": "stream",
          "text": [
            "('circle',)\n",
            "('triangle',)\n",
            "('square',)\n"
          ],
          "name": "stdout"
        }
      ]
    },
    {
      "cell_type": "markdown",
      "metadata": {
        "id": "waSLZWdg0a8N",
        "colab_type": "text"
      },
      "source": [
        "### combinations_with_replacement\n",
        "\n",
        "Just like combinations(), but allows individual elements to be repeated more than once."
      ]
    },
    {
      "cell_type": "code",
      "metadata": {
        "id": "H5qam-bn0a8O",
        "colab_type": "code",
        "colab": {}
      },
      "source": [
        "itertools.combinations_with_replacement(iterable, r)"
      ],
      "execution_count": 0,
      "outputs": []
    },
    {
      "cell_type": "markdown",
      "metadata": {
        "id": "8i5Kr49U0a8R",
        "colab_type": "text"
      },
      "source": [
        "Example:"
      ]
    },
    {
      "cell_type": "code",
      "metadata": {
        "id": "8CXELQva0a8R",
        "colab_type": "code",
        "outputId": "a2210a5e-35c2-4476-c144-74e361b9219a",
        "colab": {
          "base_uri": "https://localhost:8080/",
          "height": 190
        }
      },
      "source": [
        "shapes = ['circle', 'triangle', 'square']\n",
        "result = itertools.combinations_with_replacement(shapes, 3)\n",
        "\n",
        "for each in result:\n",
        "   print(each)"
      ],
      "execution_count": 0,
      "outputs": [
        {
          "output_type": "stream",
          "text": [
            "('circle', 'circle', 'circle')\n",
            "('circle', 'circle', 'triangle')\n",
            "('circle', 'circle', 'square')\n",
            "('circle', 'triangle', 'triangle')\n",
            "('circle', 'triangle', 'square')\n",
            "('circle', 'square', 'square')\n",
            "('triangle', 'triangle', 'triangle')\n",
            "('triangle', 'triangle', 'square')\n",
            "('triangle', 'square', 'square')\n",
            "('square', 'square', 'square')\n"
          ],
          "name": "stdout"
        }
      ]
    },
    {
      "cell_type": "markdown",
      "metadata": {
        "id": "sBiuTwNT0a8S",
        "colab_type": "text"
      },
      "source": [
        "### count\n",
        "\n",
        "Makes an iterator that returns evenly spaced values starting with number start."
      ]
    },
    {
      "cell_type": "code",
      "metadata": {
        "id": "WZwg1XGP0a8S",
        "colab_type": "code",
        "colab": {}
      },
      "source": [
        "itertools.count(start=0, step=1)"
      ],
      "execution_count": 0,
      "outputs": []
    },
    {
      "cell_type": "markdown",
      "metadata": {
        "id": "3Fmsv5Ok0a8T",
        "colab_type": "text"
      },
      "source": [
        "Example:"
      ]
    },
    {
      "cell_type": "code",
      "metadata": {
        "id": "F8yK3hNS0a8V",
        "colab_type": "code",
        "outputId": "d2131eaa-2d1e-444e-fc44-fc3e1c30b7ef",
        "colab": {
          "base_uri": "https://localhost:8080/",
          "height": 104
        }
      },
      "source": [
        "for i in itertools.count(10,3):\n",
        "   print(i)\n",
        "   if i > 20:\n",
        "       break"
      ],
      "execution_count": 0,
      "outputs": [
        {
          "output_type": "stream",
          "text": [
            "10\n",
            "13\n",
            "16\n",
            "19\n",
            "22\n"
          ],
          "name": "stdout"
        }
      ]
    },
    {
      "cell_type": "markdown",
      "metadata": {
        "id": "jt3AcAf90a8W",
        "colab_type": "text"
      },
      "source": [
        "### cycle\n",
        "\n",
        "This function cycles through an iterator endlessly."
      ]
    },
    {
      "cell_type": "code",
      "metadata": {
        "id": "1hxWIufh0a8W",
        "colab_type": "code",
        "colab": {}
      },
      "source": [
        "itertools.cycle(iterable)"
      ],
      "execution_count": 0,
      "outputs": []
    },
    {
      "cell_type": "markdown",
      "metadata": {
        "id": "mOzeyVq-0a8X",
        "colab_type": "text"
      },
      "source": [
        "Example:"
      ]
    },
    {
      "cell_type": "code",
      "metadata": {
        "id": "6LcAsAFR0a8X",
        "colab_type": "code",
        "colab": {}
      },
      "source": [
        "colors = ['red', 'orange', 'yellow', 'green', 'blue', 'violet']\n",
        "for color in itertools.cycle(colors):\n",
        "   print(color)"
      ],
      "execution_count": 0,
      "outputs": []
    },
    {
      "cell_type": "markdown",
      "metadata": {
        "id": "03AjvPw10a8Y",
        "colab_type": "text"
      },
      "source": [
        "When reached the end of the iterable it start over again from the beginning.\n",
        "\n",
        "### chain\n",
        "\n",
        "Take a series of iterables and return them as one long iterable."
      ]
    },
    {
      "cell_type": "code",
      "metadata": {
        "id": "TTOrC4pQ0a8Y",
        "colab_type": "code",
        "colab": {}
      },
      "source": [
        "itertools.chain(*iterables)"
      ],
      "execution_count": 0,
      "outputs": []
    },
    {
      "cell_type": "markdown",
      "metadata": {
        "id": "Q_nfdqJ00a8Y",
        "colab_type": "text"
      },
      "source": [
        "Example:"
      ]
    },
    {
      "cell_type": "code",
      "metadata": {
        "id": "MuhQKY0C0a8Z",
        "colab_type": "code",
        "outputId": "16f39166-c114-4cb3-c817-780d3b22b910",
        "colab": {
          "base_uri": "https://localhost:8080/",
          "height": 173
        }
      },
      "source": [
        "colors = ['red', 'orange', 'yellow', 'green', 'blue']\n",
        "shapes = ['circle', 'triangle', 'square', 'pentagon']\n",
        "result = itertools.chain(colors, shapes)\n",
        "\n",
        "for each in result:\n",
        "   print(each)"
      ],
      "execution_count": 0,
      "outputs": [
        {
          "output_type": "stream",
          "text": [
            "red\n",
            "orange\n",
            "yellow\n",
            "green\n",
            "blue\n",
            "circle\n",
            "triangle\n",
            "square\n",
            "pentagon\n"
          ],
          "name": "stdout"
        }
      ]
    },
    {
      "cell_type": "markdown",
      "metadata": {
        "id": "j33RJd4_0a8a",
        "colab_type": "text"
      },
      "source": [
        "### compress\n",
        "\n",
        "Filters one iterable with another."
      ]
    },
    {
      "cell_type": "code",
      "metadata": {
        "id": "Qb98kpLZ0a8a",
        "colab_type": "code",
        "colab": {}
      },
      "source": [
        "itertools.compress(data, selectors)"
      ],
      "execution_count": 0,
      "outputs": []
    },
    {
      "cell_type": "markdown",
      "metadata": {
        "id": "BzPnrd520a8b",
        "colab_type": "text"
      },
      "source": [
        "Example:"
      ]
    },
    {
      "cell_type": "code",
      "metadata": {
        "id": "yt725peB0a8b",
        "colab_type": "code",
        "outputId": "f5460864-2b96-466a-809b-71425118218c",
        "colab": {
          "base_uri": "https://localhost:8080/",
          "height": 52
        }
      },
      "source": [
        "shapes = ['circle', 'triangle', 'square', 'pentagon']\n",
        "selections = [True, False, True, False]\n",
        "result = itertools.compress(shapes, selections)\n",
        "\n",
        "for each in result:\n",
        "   print(each)"
      ],
      "execution_count": 0,
      "outputs": [
        {
          "output_type": "stream",
          "text": [
            "circle\n",
            "square\n"
          ],
          "name": "stdout"
        }
      ]
    },
    {
      "cell_type": "markdown",
      "metadata": {
        "id": "cTZFnF3K0a8c",
        "colab_type": "text"
      },
      "source": [
        "### dropwhile\n",
        "\n",
        "Make an iterator that drops elements from the iterable as long as the predicate is true; afterwards, returns every element."
      ]
    },
    {
      "cell_type": "code",
      "metadata": {
        "id": "fxD7QnAL0a8c",
        "colab_type": "code",
        "colab": {}
      },
      "source": [
        "itertools.dropwhile(predicate, iterable)"
      ],
      "execution_count": 0,
      "outputs": []
    },
    {
      "cell_type": "markdown",
      "metadata": {
        "id": "PykvrxPE0a8d",
        "colab_type": "text"
      },
      "source": [
        "Example:"
      ]
    },
    {
      "cell_type": "code",
      "metadata": {
        "id": "VMZLQrFY0a8d",
        "colab_type": "code",
        "outputId": "d9893baf-96cb-4d1f-ef7e-2df9b8d84916",
        "colab": {
          "base_uri": "https://localhost:8080/",
          "height": 138
        }
      },
      "source": [
        "data = [1, 2, 3, 4, 5, 6, 7, 8, 9, 10, 1]\n",
        "result = itertools.dropwhile(lambda x: x<5, data)\n",
        "\n",
        "for each in result:\n",
        "   print(each)"
      ],
      "execution_count": 0,
      "outputs": [
        {
          "output_type": "stream",
          "text": [
            "5\n",
            "6\n",
            "7\n",
            "8\n",
            "9\n",
            "10\n",
            "1\n"
          ],
          "name": "stdout"
        }
      ]
    },
    {
      "cell_type": "markdown",
      "metadata": {
        "id": "LY0bTVeB0a8e",
        "colab_type": "text"
      },
      "source": [
        "### filterfalse\n",
        "\n",
        "Makes an iterator that filters elements from iterable returning only those for which the predicate is False."
      ]
    },
    {
      "cell_type": "code",
      "metadata": {
        "id": "aH6k6wyD0a8f",
        "colab_type": "code",
        "colab": {}
      },
      "source": [
        "itertools.filterfalse(predicate, iterable)"
      ],
      "execution_count": 0,
      "outputs": []
    },
    {
      "cell_type": "markdown",
      "metadata": {
        "id": "-0YpkNqP0a8f",
        "colab_type": "text"
      },
      "source": [
        "Example:"
      ]
    },
    {
      "cell_type": "code",
      "metadata": {
        "id": "nNB3Vt1B0a8f",
        "colab_type": "code",
        "outputId": "52364c0e-6d9f-4159-c9a8-b5fad9269e3a",
        "colab": {
          "base_uri": "https://localhost:8080/",
          "height": 121
        }
      },
      "source": [
        "data = [1, 2, 3, 4, 5, 6, 7, 8, 9, 10]\n",
        "result = itertools.filterfalse(lambda x: x<5, data)\n",
        "\n",
        "for each in result:\n",
        "   print(each)"
      ],
      "execution_count": 0,
      "outputs": [
        {
          "output_type": "stream",
          "text": [
            "5\n",
            "6\n",
            "7\n",
            "8\n",
            "9\n",
            "10\n"
          ],
          "name": "stdout"
        }
      ]
    },
    {
      "cell_type": "markdown",
      "metadata": {
        "id": "KpyFgwIM0a8g",
        "colab_type": "text"
      },
      "source": [
        "### groupby\n",
        "\n",
        "Simply put, this function groups things together."
      ]
    },
    {
      "cell_type": "code",
      "metadata": {
        "id": "abisCMfc0a8g",
        "colab_type": "code",
        "colab": {}
      },
      "source": [
        "itertools.groupby(iterable, key=None)"
      ],
      "execution_count": 0,
      "outputs": []
    },
    {
      "cell_type": "markdown",
      "metadata": {
        "id": "r68zjp950a8h",
        "colab_type": "text"
      },
      "source": [
        "Example:"
      ]
    },
    {
      "cell_type": "code",
      "metadata": {
        "id": "MdclcLIA0a8h",
        "colab_type": "code",
        "outputId": "cf3040c7-4133-45f7-d510-4addcb07cbb3",
        "colab": {
          "base_uri": "https://localhost:8080/",
          "height": 155
        }
      },
      "source": [
        "robots = [{\n",
        "    'name': 'blaster',\n",
        "    'faction': 'autobot'\n",
        "}, {\n",
        "    'name': 'galvatron',\n",
        "    'faction': 'decepticon'\n",
        "}, {\n",
        "    'name': 'jazz',\n",
        "    'faction': 'autobot'\n",
        "}, {\n",
        "    'name': 'metroplex',\n",
        "    'faction': 'autobot'\n",
        "}, {\n",
        "    'name': 'megatron',\n",
        "    'faction': 'decepticon'\n",
        "}, {\n",
        "    'name': 'starcream',\n",
        "    'faction': 'decepticon'\n",
        "}]\n",
        "\n",
        "for key, group in itertools.groupby(robots, key=lambda x: x['faction']):\n",
        "   print(key)\n",
        "   print(list(group))"
      ],
      "execution_count": 0,
      "outputs": [
        {
          "output_type": "stream",
          "text": [
            "autobot\n",
            "[{'name': 'blaster', 'faction': 'autobot'}]\n",
            "decepticon\n",
            "[{'name': 'galvatron', 'faction': 'decepticon'}]\n",
            "autobot\n",
            "[{'name': 'jazz', 'faction': 'autobot'}, {'name': 'metroplex', 'faction': 'autobot'}]\n",
            "decepticon\n",
            "[{'name': 'megatron', 'faction': 'decepticon'}, {'name': 'starcream', 'faction': 'decepticon'}]\n"
          ],
          "name": "stdout"
        }
      ]
    },
    {
      "cell_type": "markdown",
      "metadata": {
        "id": "itqBUcGc0a8h",
        "colab_type": "text"
      },
      "source": [
        "### islice\n",
        "\n",
        "This function is very much like slices. This allows you to cut out a piece of an iterable."
      ]
    },
    {
      "cell_type": "code",
      "metadata": {
        "id": "vi7I0uO_0a8h",
        "colab_type": "code",
        "colab": {}
      },
      "source": [
        "itertools.islice(iterable, start, stop[, step])"
      ],
      "execution_count": 0,
      "outputs": []
    },
    {
      "cell_type": "markdown",
      "metadata": {
        "id": "pjeR0A_G0a8i",
        "colab_type": "text"
      },
      "source": [
        "Example:"
      ]
    },
    {
      "cell_type": "code",
      "metadata": {
        "id": "A3ap5PVZ0a8i",
        "colab_type": "code",
        "outputId": "ccca1a2d-6e16-47fa-f3c0-a9ce02a52174",
        "colab": {
          "base_uri": "https://localhost:8080/",
          "height": 52
        }
      },
      "source": [
        "colors = ['red', 'orange', 'yellow', 'green', 'blue',]\n",
        "few_colors = itertools.islice(colors, 2)\n",
        "\n",
        "for each in few_colors:\n",
        "   print(each)"
      ],
      "execution_count": 0,
      "outputs": [
        {
          "output_type": "stream",
          "text": [
            "red\n",
            "orange\n"
          ],
          "name": "stdout"
        }
      ]
    },
    {
      "cell_type": "markdown",
      "metadata": {
        "id": "exTPm_LS0a8j",
        "colab_type": "text"
      },
      "source": [
        "### permutations"
      ]
    },
    {
      "cell_type": "code",
      "metadata": {
        "id": "zcDgTpf70a8j",
        "colab_type": "code",
        "colab": {}
      },
      "source": [
        "itertools.permutations(iterable, r=None)"
      ],
      "execution_count": 0,
      "outputs": []
    },
    {
      "cell_type": "markdown",
      "metadata": {
        "id": "btZir3F50a8j",
        "colab_type": "text"
      },
      "source": [
        "Example:"
      ]
    },
    {
      "cell_type": "code",
      "metadata": {
        "id": "V3MmIdzU0a8k",
        "colab_type": "code",
        "outputId": "77b76f70-198e-4186-f996-c785fb69c7f9",
        "colab": {
          "base_uri": "https://localhost:8080/",
          "height": 121
        }
      },
      "source": [
        "alpha_data = ['a', 'b', 'c']\n",
        "result = itertools.permutations(alpha_data)\n",
        "\n",
        "for each in result:\n",
        "   print(each)"
      ],
      "execution_count": 0,
      "outputs": [
        {
          "output_type": "stream",
          "text": [
            "('a', 'b', 'c')\n",
            "('a', 'c', 'b')\n",
            "('b', 'a', 'c')\n",
            "('b', 'c', 'a')\n",
            "('c', 'a', 'b')\n",
            "('c', 'b', 'a')\n"
          ],
          "name": "stdout"
        }
      ]
    },
    {
      "cell_type": "markdown",
      "metadata": {
        "id": "lIfqbsoj0a8k",
        "colab_type": "text"
      },
      "source": [
        "### product\n",
        "\n",
        "Creates the cartesian products from a series of iterables."
      ]
    },
    {
      "cell_type": "code",
      "metadata": {
        "id": "nwGeGZFQ0a8k",
        "colab_type": "code",
        "outputId": "43bd6a31-c7a0-45cf-e3e9-6855f1d56936",
        "colab": {
          "base_uri": "https://localhost:8080/",
          "height": 173
        }
      },
      "source": [
        "num_data = [1, 2, 3]\n",
        "alpha_data = ['a', 'b', 'c']\n",
        "result = itertools.product(num_data, alpha_data)\n",
        "\n",
        "for each in result:\n",
        "    print(each)"
      ],
      "execution_count": 0,
      "outputs": [
        {
          "output_type": "stream",
          "text": [
            "(1, 'a')\n",
            "(1, 'b')\n",
            "(1, 'c')\n",
            "(2, 'a')\n",
            "(2, 'b')\n",
            "(2, 'c')\n",
            "(3, 'a')\n",
            "(3, 'b')\n",
            "(3, 'c')\n"
          ],
          "name": "stdout"
        }
      ]
    },
    {
      "cell_type": "markdown",
      "metadata": {
        "id": "bIeqabgQ0a8l",
        "colab_type": "text"
      },
      "source": [
        "### repeat\n",
        "\n",
        "This function will repeat an object over and over again. Unless, there is a times argument."
      ]
    },
    {
      "cell_type": "code",
      "metadata": {
        "id": "mo-ZPozR0a8l",
        "colab_type": "code",
        "colab": {}
      },
      "source": [
        "itertools.repeat(object[, times])"
      ],
      "execution_count": 0,
      "outputs": []
    },
    {
      "cell_type": "markdown",
      "metadata": {
        "id": "rmnykrLh0a8l",
        "colab_type": "text"
      },
      "source": [
        "Example:"
      ]
    },
    {
      "cell_type": "code",
      "metadata": {
        "id": "O0qvICOE0a8m",
        "colab_type": "code",
        "outputId": "1a38fa5b-c9f9-4155-92cc-3f10d0c6aae4",
        "colab": {
          "base_uri": "https://localhost:8080/",
          "height": 69
        }
      },
      "source": [
        "for i in itertools.repeat(\"spam\", 3):\n",
        "    print(i)"
      ],
      "execution_count": 0,
      "outputs": [
        {
          "output_type": "stream",
          "text": [
            "spam\n",
            "spam\n",
            "spam\n"
          ],
          "name": "stdout"
        }
      ]
    },
    {
      "cell_type": "markdown",
      "metadata": {
        "id": "LEvjcVZg0a8m",
        "colab_type": "text"
      },
      "source": [
        "### starmap\n",
        "\n",
        "Makes an iterator that computes the function using arguments obtained from the iterable."
      ]
    },
    {
      "cell_type": "code",
      "metadata": {
        "id": "06fHfuM90a8m",
        "colab_type": "code",
        "colab": {}
      },
      "source": [
        "itertools.starmap(function, iterable)"
      ],
      "execution_count": 0,
      "outputs": []
    },
    {
      "cell_type": "markdown",
      "metadata": {
        "id": "hw-yuorG0a8n",
        "colab_type": "text"
      },
      "source": [
        "Example:"
      ]
    },
    {
      "cell_type": "code",
      "metadata": {
        "id": "8PndAeNB0a8n",
        "colab_type": "code",
        "outputId": "e130366d-2762-4ae5-dd8b-fc5ccd2dfd12",
        "colab": {
          "base_uri": "https://localhost:8080/",
          "height": 69
        }
      },
      "source": [
        "data = [(2, 6), (8, 4), (7, 3)]\n",
        "result = itertools.starmap(operator.mul, data)\n",
        "\n",
        "for each in result:\n",
        "   print(each)"
      ],
      "execution_count": 0,
      "outputs": [
        {
          "output_type": "stream",
          "text": [
            "12\n",
            "32\n",
            "21\n"
          ],
          "name": "stdout"
        }
      ]
    },
    {
      "cell_type": "markdown",
      "metadata": {
        "id": "peQukivo0a8o",
        "colab_type": "text"
      },
      "source": [
        "### takewhile\n",
        "\n",
        "The opposite of dropwhile(). Makes an iterator and returns elements from the iterable as long as the predicate is true."
      ]
    },
    {
      "cell_type": "code",
      "metadata": {
        "id": "Z-AHt6od0a8o",
        "colab_type": "code",
        "colab": {}
      },
      "source": [
        "itertools.takewhile(predicate, iterable)"
      ],
      "execution_count": 0,
      "outputs": []
    },
    {
      "cell_type": "markdown",
      "metadata": {
        "id": "2W05WY_H0a8o",
        "colab_type": "text"
      },
      "source": [
        "Example:"
      ]
    },
    {
      "cell_type": "code",
      "metadata": {
        "id": "WKan6Co00a8p",
        "colab_type": "code",
        "outputId": "e2cf4a9b-20b1-4ac0-afc0-60ac2dd0d2bc",
        "colab": {
          "base_uri": "https://localhost:8080/",
          "height": 86
        }
      },
      "source": [
        "data = [1, 2, 3, 4, 5, 6, 7, 8, 9, 10, 1]\n",
        "result = itertools.takewhile(lambda x: x<5, data)\n",
        "\n",
        "for each in result:\n",
        "   print(each)"
      ],
      "execution_count": 0,
      "outputs": [
        {
          "output_type": "stream",
          "text": [
            "1\n",
            "2\n",
            "3\n",
            "4\n"
          ],
          "name": "stdout"
        }
      ]
    },
    {
      "cell_type": "markdown",
      "metadata": {
        "id": "9e-HImoT0a8p",
        "colab_type": "text"
      },
      "source": [
        "### tee\n",
        "\n",
        "Return n independent iterators from a single iterable."
      ]
    },
    {
      "cell_type": "code",
      "metadata": {
        "id": "Fl_y6ONu0a8p",
        "colab_type": "code",
        "colab": {}
      },
      "source": [
        "itertools.tee(iterable, n=2)"
      ],
      "execution_count": 0,
      "outputs": []
    },
    {
      "cell_type": "markdown",
      "metadata": {
        "id": "zlbsP9nC0a8q",
        "colab_type": "text"
      },
      "source": [
        "Example:"
      ]
    },
    {
      "cell_type": "code",
      "metadata": {
        "id": "cjI75GNM0a8q",
        "colab_type": "code",
        "outputId": "4ff0f233-a0f3-4ec0-d1a0-73c761ff5620",
        "colab": {
          "base_uri": "https://localhost:8080/",
          "height": 104
        }
      },
      "source": [
        "colors = ['red', 'orange', 'yellow', 'green', 'blue']\n",
        "alpha_colors, beta_colors = itertools.tee(colors)\n",
        "\n",
        "for each in alpha_colors:\n",
        "   print(each)"
      ],
      "execution_count": 0,
      "outputs": [
        {
          "output_type": "stream",
          "text": [
            "red\n",
            "orange\n",
            "yellow\n",
            "green\n",
            "blue\n"
          ],
          "name": "stdout"
        }
      ]
    },
    {
      "cell_type": "code",
      "metadata": {
        "id": "kshXL9xm0a8t",
        "colab_type": "code",
        "outputId": "20d26eee-7a30-42e6-bf89-d93ece32bf5e",
        "colab": {
          "base_uri": "https://localhost:8080/",
          "height": 104
        }
      },
      "source": [
        "colors = ['red', 'orange', 'yellow', 'green', 'blue']\n",
        "alpha_colors, beta_colors = itertools.tee(colors)\n",
        "\n",
        "for each in beta_colors:\n",
        "   print(each)"
      ],
      "execution_count": 0,
      "outputs": [
        {
          "output_type": "stream",
          "text": [
            "red\n",
            "orange\n",
            "yellow\n",
            "green\n",
            "blue\n"
          ],
          "name": "stdout"
        }
      ]
    },
    {
      "cell_type": "markdown",
      "metadata": {
        "id": "07XjU_gx0a8v",
        "colab_type": "text"
      },
      "source": [
        "### zip_longest\n",
        "\n",
        "Makes an iterator that aggregates elements from each of the iterables. If the iterables are of uneven length, missing values are filled-in with fillvalue. Iteration continues until the longest iterable is exhausted."
      ]
    },
    {
      "cell_type": "code",
      "metadata": {
        "id": "makBsWh10a8v",
        "colab_type": "code",
        "colab": {}
      },
      "source": [
        "itertools.zip_longest(*iterables, fillvalue=None)"
      ],
      "execution_count": 0,
      "outputs": []
    },
    {
      "cell_type": "markdown",
      "metadata": {
        "id": "oHKSLJ9b0a8w",
        "colab_type": "text"
      },
      "source": [
        "Example:"
      ]
    },
    {
      "cell_type": "code",
      "metadata": {
        "id": "oHM1CwC90a8w",
        "colab_type": "code",
        "outputId": "bded215d-07f4-47d2-a726-abdaf874c047",
        "colab": {
          "base_uri": "https://localhost:8080/",
          "height": 190
        }
      },
      "source": [
        "colors = ['red', 'orange', 'yellow', 'green', 'blue',]\n",
        "data = [1, 2, 3, 4, 5, 6, 7, 8, 9, 10,]\n",
        "\n",
        "for each in itertools.zip_longest(colors, data, fillvalue=None):\n",
        "   print(each)"
      ],
      "execution_count": 0,
      "outputs": [
        {
          "output_type": "stream",
          "text": [
            "('red', 1)\n",
            "('orange', 2)\n",
            "('yellow', 3)\n",
            "('green', 4)\n",
            "('blue', 5)\n",
            "(None, 6)\n",
            "(None, 7)\n",
            "(None, 8)\n",
            "(None, 9)\n",
            "(None, 10)\n"
          ],
          "name": "stdout"
        }
      ]
    },
    {
      "cell_type": "markdown",
      "metadata": {
        "id": "HOLhfTp00a8w",
        "colab_type": "text"
      },
      "source": [
        "## Comprehensions\n",
        "\n",
        "### List comprehension"
      ]
    },
    {
      "cell_type": "code",
      "metadata": {
        "id": "wWUPd73l0a8x",
        "colab_type": "code",
        "colab": {}
      },
      "source": [
        "a = [1, 3, 5, 7, 9, 11]\n",
        "[i - 1 for i in a]"
      ],
      "execution_count": 0,
      "outputs": []
    },
    {
      "cell_type": "markdown",
      "metadata": {
        "id": "D6VaXt3C0a8z",
        "colab_type": "text"
      },
      "source": [
        "### Set comprehension"
      ]
    },
    {
      "cell_type": "code",
      "metadata": {
        "id": "w1aA-6fB0a8z",
        "colab_type": "code",
        "colab": {}
      },
      "source": [
        "b = {\"abc\", \"def\"}\n",
        "{s.upper() for s in b}"
      ],
      "execution_count": 0,
      "outputs": []
    },
    {
      "cell_type": "markdown",
      "metadata": {
        "id": "Qd-VN-kB0a80",
        "colab_type": "text"
      },
      "source": [
        "### Dict comprehension"
      ]
    },
    {
      "cell_type": "code",
      "metadata": {
        "id": "9L7r95DA0a80",
        "colab_type": "code",
        "colab": {}
      },
      "source": [
        "c = {'name': 'Pooka', 'age': 5}\n",
        "{v, k for k, v in c.items()}"
      ],
      "execution_count": 0,
      "outputs": []
    },
    {
      "cell_type": "markdown",
      "metadata": {
        "id": "mPQJSahm0a81",
        "colab_type": "text"
      },
      "source": [
        "A List comprehension can be generated from a dictionary:"
      ]
    },
    {
      "cell_type": "code",
      "metadata": {
        "id": "gVSdR-ag0a81",
        "colab_type": "code",
        "colab": {}
      },
      "source": [
        "c = {'name': 'Pooka', 'first_name': 'Oooka'}\n",
        "[\"{}:{}\".format(k.upper(), v.upper()) for k, v in c.items()]"
      ],
      "execution_count": 0,
      "outputs": []
    },
    {
      "cell_type": "markdown",
      "metadata": {
        "id": "CBVI9efl0a81",
        "colab_type": "text"
      },
      "source": [
        "## Manipulating Strings\n",
        "\n",
        "### Escape Characters\n",
        "\n",
        "| Escape character | Prints as            |\n",
        "| ---------------- | -------------------- |\n",
        "| `\\'`             | Single quote         |\n",
        "| `\\\"`             | Double quote         |\n",
        "| `\\t`             | Tab                  |\n",
        "| `\\n`             | Newline (line break) |\n",
        "| `\\\\`             | Backslash            |\n",
        "\n",
        "Example:"
      ]
    },
    {
      "cell_type": "code",
      "metadata": {
        "id": "jeEOFtyX0a82",
        "colab_type": "code",
        "colab": {}
      },
      "source": [
        "print(\"Hello there!\\nHow are you?\\nI\\'m doing fine.\")\n",
        "Hello there!\n",
        "How are you?"
      ],
      "execution_count": 0,
      "outputs": []
    },
    {
      "cell_type": "markdown",
      "metadata": {
        "id": "ZqLvNaBT0a83",
        "colab_type": "text"
      },
      "source": [
        "### Raw Strings\n",
        "\n",
        "A raw string completely ignores all escape characters and prints any backslash that appears in the string."
      ]
    },
    {
      "cell_type": "code",
      "metadata": {
        "id": "KyBDGCj90a83",
        "colab_type": "code",
        "colab": {}
      },
      "source": [
        "print(r'That is Carol\\'s cat.')"
      ],
      "execution_count": 0,
      "outputs": []
    },
    {
      "cell_type": "markdown",
      "metadata": {
        "id": "bpoLtX4y0a83",
        "colab_type": "text"
      },
      "source": [
        "Note: mostly used for regular expression definition (see `re` package)\n",
        "\n",
        "### Multiline Strings with Triple Quotes"
      ]
    },
    {
      "cell_type": "code",
      "metadata": {
        "id": "-rbKP6kE0a83",
        "colab_type": "code",
        "colab": {}
      },
      "source": [
        "print('''Dear Alice,\n",
        "\n",
        "Eve's cat has been arrested for catnapping, cat burglary, and extortion.\n",
        "\n",
        "Sincerely,\n",
        "Bob''')"
      ],
      "execution_count": 0,
      "outputs": []
    },
    {
      "cell_type": "markdown",
      "metadata": {
        "id": "u_9G1PaH0a84",
        "colab_type": "text"
      },
      "source": [
        "To keep a nicer flow in your code, you can use the `dedent` function from the `textwrap` standard package."
      ]
    },
    {
      "cell_type": "code",
      "metadata": {
        "id": "54qttjkU0a85",
        "colab_type": "code",
        "colab": {}
      },
      "source": [
        "from textwrap import dedent\n",
        "\n",
        "def my_function():\n",
        "    print('''\n",
        "        Dear Alice,\n",
        "\n",
        "        Eve's cat has been arrested for catnapping, cat burglary, and extortion.\n",
        "\n",
        "        Sincerely,\n",
        "        Bob\n",
        "        ''').strip()"
      ],
      "execution_count": 0,
      "outputs": []
    },
    {
      "cell_type": "markdown",
      "metadata": {
        "id": "15w_2cK20a86",
        "colab_type": "text"
      },
      "source": [
        "This generates the same string than before.\n",
        "\n",
        "### Indexing and Slicing Strings"
      ]
    },
    {
      "cell_type": "code",
      "metadata": {
        "id": "9M2cOk-B0a87",
        "colab_type": "code",
        "colab": {}
      },
      "source": [
        "H   e   l   l   o       w   o   r   l   d    !\n",
        "0   1   2   3   4   5   6   7   8   9   10   11"
      ],
      "execution_count": 0,
      "outputs": []
    },
    {
      "cell_type": "code",
      "metadata": {
        "id": "9-yjvpYo0a88",
        "colab_type": "code",
        "colab": {}
      },
      "source": [
        "spam = 'Hello world!'\n",
        "spam[0]"
      ],
      "execution_count": 0,
      "outputs": []
    },
    {
      "cell_type": "code",
      "metadata": {
        "id": "fC-wPdCG0a88",
        "colab_type": "code",
        "colab": {}
      },
      "source": [
        "spam[4]"
      ],
      "execution_count": 0,
      "outputs": []
    },
    {
      "cell_type": "code",
      "metadata": {
        "id": "wbI7lXp70a8-",
        "colab_type": "code",
        "colab": {}
      },
      "source": [
        "spam[-1]"
      ],
      "execution_count": 0,
      "outputs": []
    },
    {
      "cell_type": "markdown",
      "metadata": {
        "id": "6ZLO0Da50a8_",
        "colab_type": "text"
      },
      "source": [
        "Slicing:"
      ]
    },
    {
      "cell_type": "code",
      "metadata": {
        "id": "Mw8ZygRH0a8_",
        "colab_type": "code",
        "colab": {}
      },
      "source": [
        "\n",
        "spam[0:5]"
      ],
      "execution_count": 0,
      "outputs": []
    },
    {
      "cell_type": "code",
      "metadata": {
        "id": "UI1cV-DE0a9A",
        "colab_type": "code",
        "colab": {}
      },
      "source": [
        "spam[:5]"
      ],
      "execution_count": 0,
      "outputs": []
    },
    {
      "cell_type": "code",
      "metadata": {
        "id": "TxL76fy40a9A",
        "colab_type": "code",
        "colab": {}
      },
      "source": [
        "spam[6:]"
      ],
      "execution_count": 0,
      "outputs": []
    },
    {
      "cell_type": "code",
      "metadata": {
        "id": "vWU6V8BX0a9B",
        "colab_type": "code",
        "colab": {}
      },
      "source": [
        "spam[6:-1]"
      ],
      "execution_count": 0,
      "outputs": []
    },
    {
      "cell_type": "code",
      "metadata": {
        "id": "i35LdfRo0a9B",
        "colab_type": "code",
        "colab": {}
      },
      "source": [
        "spam[:-1]"
      ],
      "execution_count": 0,
      "outputs": []
    },
    {
      "cell_type": "code",
      "metadata": {
        "id": "AXMgyCSf0a9C",
        "colab_type": "code",
        "colab": {}
      },
      "source": [
        "spam[::-1]"
      ],
      "execution_count": 0,
      "outputs": []
    },
    {
      "cell_type": "code",
      "metadata": {
        "id": "QIBt4JVK0a9C",
        "colab_type": "code",
        "colab": {}
      },
      "source": [
        "spam = 'Hello world!'\n",
        "fizz = spam[0:5]\n",
        "fizz"
      ],
      "execution_count": 0,
      "outputs": []
    },
    {
      "cell_type": "markdown",
      "metadata": {
        "id": "TSDZ5XzX0a9D",
        "colab_type": "text"
      },
      "source": [
        "### The in and not in Operators with Strings"
      ]
    },
    {
      "cell_type": "code",
      "metadata": {
        "id": "whu-OJ930a9D",
        "colab_type": "code",
        "colab": {}
      },
      "source": [
        "'Hello' in 'Hello World'"
      ],
      "execution_count": 0,
      "outputs": []
    },
    {
      "cell_type": "code",
      "metadata": {
        "id": "nnJKsod10a9D",
        "colab_type": "code",
        "colab": {}
      },
      "source": [
        "'Hello' in 'Hello'"
      ],
      "execution_count": 0,
      "outputs": []
    },
    {
      "cell_type": "code",
      "metadata": {
        "id": "zKuL2jbg0a9E",
        "colab_type": "code",
        "colab": {}
      },
      "source": [
        "'HELLO' in 'Hello World'"
      ],
      "execution_count": 0,
      "outputs": []
    },
    {
      "cell_type": "code",
      "metadata": {
        "id": "3kcXZmWQ0a9F",
        "colab_type": "code",
        "colab": {}
      },
      "source": [
        "'' in 'spam'"
      ],
      "execution_count": 0,
      "outputs": []
    },
    {
      "cell_type": "code",
      "metadata": {
        "id": "cELfiAhv0a9F",
        "colab_type": "code",
        "colab": {}
      },
      "source": [
        "'cats' not in 'cats and dogs'"
      ],
      "execution_count": 0,
      "outputs": []
    },
    {
      "cell_type": "markdown",
      "metadata": {
        "id": "KNleOgAF0a9G",
        "colab_type": "text"
      },
      "source": [
        "### The in and not in Operators with list"
      ]
    },
    {
      "cell_type": "code",
      "metadata": {
        "id": "UseUGd6W0a9G",
        "colab_type": "code",
        "colab": {}
      },
      "source": [
        "a = [1, 2, 3, 4]\n",
        "5 in a"
      ],
      "execution_count": 0,
      "outputs": []
    },
    {
      "cell_type": "code",
      "metadata": {
        "id": "vNd3btaM0a9H",
        "colab_type": "code",
        "colab": {}
      },
      "source": [
        "2 in a"
      ],
      "execution_count": 0,
      "outputs": []
    },
    {
      "cell_type": "markdown",
      "metadata": {
        "id": "eZApb6O20a9H",
        "colab_type": "text"
      },
      "source": [
        "### The upper, lower, isupper, and islower String Methods\n",
        "\n",
        "`upper()` and `lower()`:"
      ]
    },
    {
      "cell_type": "code",
      "metadata": {
        "id": "9MVr25620a9H",
        "colab_type": "code",
        "colab": {}
      },
      "source": [
        "spam = 'Hello world!'\n",
        "spam = spam.upper()\n",
        "spam"
      ],
      "execution_count": 0,
      "outputs": []
    },
    {
      "cell_type": "code",
      "metadata": {
        "id": "rdy4mu-_0a9I",
        "colab_type": "code",
        "colab": {}
      },
      "source": [
        "spam = spam.lower()\n",
        "spam"
      ],
      "execution_count": 0,
      "outputs": []
    },
    {
      "cell_type": "markdown",
      "metadata": {
        "id": "RhucHea70a9I",
        "colab_type": "text"
      },
      "source": [
        "isupper() and islower():"
      ]
    },
    {
      "cell_type": "code",
      "metadata": {
        "id": "dg1924kt0a9I",
        "colab_type": "code",
        "colab": {}
      },
      "source": [
        "spam = 'Hello world!'\n",
        "spam.islower()"
      ],
      "execution_count": 0,
      "outputs": []
    },
    {
      "cell_type": "code",
      "metadata": {
        "id": "t2YtNnT00a9J",
        "colab_type": "code",
        "colab": {}
      },
      "source": [
        "spam.isupper()"
      ],
      "execution_count": 0,
      "outputs": []
    },
    {
      "cell_type": "code",
      "metadata": {
        "id": "Y-9jP3_k0a9J",
        "colab_type": "code",
        "colab": {}
      },
      "source": [
        "'HELLO'.isupper()"
      ],
      "execution_count": 0,
      "outputs": []
    },
    {
      "cell_type": "code",
      "metadata": {
        "id": "-110LTHn0a9J",
        "colab_type": "code",
        "colab": {}
      },
      "source": [
        "'abc12345'.islower()"
      ],
      "execution_count": 0,
      "outputs": []
    },
    {
      "cell_type": "code",
      "metadata": {
        "id": "LX79i9e80a9K",
        "colab_type": "code",
        "colab": {}
      },
      "source": [
        "'12345'.islower()"
      ],
      "execution_count": 0,
      "outputs": []
    },
    {
      "cell_type": "code",
      "metadata": {
        "id": "wi28eiAU0a9K",
        "colab_type": "code",
        "colab": {}
      },
      "source": [
        "'12345'.isupper()"
      ],
      "execution_count": 0,
      "outputs": []
    },
    {
      "cell_type": "markdown",
      "metadata": {
        "id": "56dXVCjS0a9L",
        "colab_type": "text"
      },
      "source": [
        "### The isX String Methods\n",
        "\n",
        "- **isalpha()** returns True if the string consists only of letters and is not blank.\n",
        "- **isalnum()** returns True if the string consists only of lettersand numbers and is not blank.\n",
        "- **isdecimal()** returns True if the string consists only ofnumeric characters and is not blank.\n",
        "- **isspace()** returns True if the string consists only of spaces,tabs, and new-lines and is not blank.\n",
        "- **istitle()** returns True if the string consists only of wordsthat begin with an uppercase letter followed by onlylowercase letters.\n",
        "\n",
        "### The startswith and endswith String Methods"
      ]
    },
    {
      "cell_type": "code",
      "metadata": {
        "id": "VXoOUQjc0a9L",
        "colab_type": "code",
        "colab": {}
      },
      "source": [
        "'Hello world!'.startswith('Hello')"
      ],
      "execution_count": 0,
      "outputs": []
    },
    {
      "cell_type": "code",
      "metadata": {
        "id": "rK18FdAZ0a9N",
        "colab_type": "code",
        "colab": {}
      },
      "source": [
        "'Hello world!'.endswith('world!')"
      ],
      "execution_count": 0,
      "outputs": []
    },
    {
      "cell_type": "code",
      "metadata": {
        "id": "yrVEXwJc0a9N",
        "colab_type": "code",
        "colab": {}
      },
      "source": [
        "'abc123'.startswith('abcdef')"
      ],
      "execution_count": 0,
      "outputs": []
    },
    {
      "cell_type": "code",
      "metadata": {
        "id": "NMr4qh5X0a9O",
        "colab_type": "code",
        "colab": {}
      },
      "source": [
        "'abc123'.endswith('12')"
      ],
      "execution_count": 0,
      "outputs": []
    },
    {
      "cell_type": "code",
      "metadata": {
        "id": "PSw7r62K0a9P",
        "colab_type": "code",
        "colab": {}
      },
      "source": [
        "'Hello world!'.startswith('Hello world!')"
      ],
      "execution_count": 0,
      "outputs": []
    },
    {
      "cell_type": "code",
      "metadata": {
        "id": "tMl3oJ150a9P",
        "colab_type": "code",
        "colab": {}
      },
      "source": [
        "'Hello world!'.endswith('Hello world!')"
      ],
      "execution_count": 0,
      "outputs": []
    },
    {
      "cell_type": "markdown",
      "metadata": {
        "id": "BsTNNzn90a9Q",
        "colab_type": "text"
      },
      "source": [
        "### The join and split String Methods\n",
        "\n",
        "join():"
      ]
    },
    {
      "cell_type": "code",
      "metadata": {
        "id": "O-1Hqj310a9Q",
        "colab_type": "code",
        "colab": {}
      },
      "source": [
        "', '.join(['cats', 'rats', 'bats'])"
      ],
      "execution_count": 0,
      "outputs": []
    },
    {
      "cell_type": "code",
      "metadata": {
        "id": "E7_8nZlb0a9Q",
        "colab_type": "code",
        "colab": {}
      },
      "source": [
        "' '.join(['My', 'name', 'is', 'Simon'])"
      ],
      "execution_count": 0,
      "outputs": []
    },
    {
      "cell_type": "code",
      "metadata": {
        "id": "Qg15em2J0a9R",
        "colab_type": "code",
        "colab": {}
      },
      "source": [
        "'ABC'.join(['My', 'name', 'is', 'Simon'])"
      ],
      "execution_count": 0,
      "outputs": []
    },
    {
      "cell_type": "markdown",
      "metadata": {
        "id": "rOv0_o1q0a9R",
        "colab_type": "text"
      },
      "source": [
        "split():"
      ]
    },
    {
      "cell_type": "code",
      "metadata": {
        "id": "l9w2xrsq0a9R",
        "colab_type": "code",
        "colab": {}
      },
      "source": [
        "'My name is Simon'.split()"
      ],
      "execution_count": 0,
      "outputs": []
    },
    {
      "cell_type": "code",
      "metadata": {
        "id": "RBKJiyyB0a9S",
        "colab_type": "code",
        "colab": {}
      },
      "source": [
        "'MyABCnameABCisABCSimon'.split('ABC')"
      ],
      "execution_count": 0,
      "outputs": []
    },
    {
      "cell_type": "code",
      "metadata": {
        "id": "7Y7jh5bi0a9S",
        "colab_type": "code",
        "colab": {}
      },
      "source": [
        "'My name is Simon'.split('m')"
      ],
      "execution_count": 0,
      "outputs": []
    },
    {
      "cell_type": "markdown",
      "metadata": {
        "id": "eqvp56Ou0a9T",
        "colab_type": "text"
      },
      "source": [
        "### Justifying Text with rjust, ljust, and center\n",
        "\n",
        "rjust() and ljust():"
      ]
    },
    {
      "cell_type": "code",
      "metadata": {
        "id": "EdO4Xt5m0a9T",
        "colab_type": "code",
        "colab": {}
      },
      "source": [
        "'Hello'.rjust(10)"
      ],
      "execution_count": 0,
      "outputs": []
    },
    {
      "cell_type": "code",
      "metadata": {
        "id": "AeXEZcp40a9T",
        "colab_type": "code",
        "colab": {}
      },
      "source": [
        "'Hello'.rjust(20)"
      ],
      "execution_count": 0,
      "outputs": []
    },
    {
      "cell_type": "code",
      "metadata": {
        "id": "8_1m4bt80a9U",
        "colab_type": "code",
        "colab": {}
      },
      "source": [
        "'Hello World'.rjust(20)"
      ],
      "execution_count": 0,
      "outputs": []
    },
    {
      "cell_type": "code",
      "metadata": {
        "id": "4MPuAiL-0a9U",
        "colab_type": "code",
        "colab": {}
      },
      "source": [
        "'Hello'.ljust(10)"
      ],
      "execution_count": 0,
      "outputs": []
    },
    {
      "cell_type": "markdown",
      "metadata": {
        "id": "UFy63xQ50a9V",
        "colab_type": "text"
      },
      "source": [
        "An optional second argument to rjust() and ljust() will specify a fill character other than a space character. Enter the following into the interactive shell:"
      ]
    },
    {
      "cell_type": "code",
      "metadata": {
        "id": "C0BG59-e0a9V",
        "colab_type": "code",
        "colab": {}
      },
      "source": [
        "'Hello'.rjust(20, '*')"
      ],
      "execution_count": 0,
      "outputs": []
    },
    {
      "cell_type": "code",
      "metadata": {
        "id": "4Jo3I6mk0a9V",
        "colab_type": "code",
        "colab": {}
      },
      "source": [
        "'Hello'.ljust(20, '-')"
      ],
      "execution_count": 0,
      "outputs": []
    },
    {
      "cell_type": "markdown",
      "metadata": {
        "id": "dVQsDQ4R0a9V",
        "colab_type": "text"
      },
      "source": [
        "center():"
      ]
    },
    {
      "cell_type": "code",
      "metadata": {
        "id": "Jc2lHEV90a9W",
        "colab_type": "code",
        "colab": {}
      },
      "source": [
        "'Hello'.center(20)"
      ],
      "execution_count": 0,
      "outputs": []
    },
    {
      "cell_type": "code",
      "metadata": {
        "id": "HRia7jlJ0a9W",
        "colab_type": "code",
        "colab": {}
      },
      "source": [
        "'Hello'.center(20, '=')"
      ],
      "execution_count": 0,
      "outputs": []
    },
    {
      "cell_type": "markdown",
      "metadata": {
        "id": "fnK69QbF0a9W",
        "colab_type": "text"
      },
      "source": [
        "### Removing Whitespace with strip, rstrip, and lstrip"
      ]
    },
    {
      "cell_type": "code",
      "metadata": {
        "id": "OUF6JPEM0a9X",
        "colab_type": "code",
        "colab": {}
      },
      "source": [
        "spam = '    Hello World     '\n",
        "spam.strip()"
      ],
      "execution_count": 0,
      "outputs": []
    },
    {
      "cell_type": "code",
      "metadata": {
        "id": "r91uwBa50a9X",
        "colab_type": "code",
        "colab": {}
      },
      "source": [
        "spam.lstrip()"
      ],
      "execution_count": 0,
      "outputs": []
    },
    {
      "cell_type": "code",
      "metadata": {
        "id": "AM3dNGR_0a9X",
        "colab_type": "code",
        "colab": {}
      },
      "source": [
        "spam.rstrip()"
      ],
      "execution_count": 0,
      "outputs": []
    },
    {
      "cell_type": "code",
      "metadata": {
        "id": "hY32Drs00a9Z",
        "colab_type": "code",
        "colab": {}
      },
      "source": [
        "spam = 'SpamSpamBaconSpamEggsSpamSpam'\n",
        "spam.strip('ampS')"
      ],
      "execution_count": 0,
      "outputs": []
    },
    {
      "cell_type": "markdown",
      "metadata": {
        "id": "ntqDZ3YW0a9a",
        "colab_type": "text"
      },
      "source": [
        "### Copying and Pasting Strings with the pyperclip Module\n",
        "\n",
        "First, install `pypeerclip` with pip:"
      ]
    },
    {
      "cell_type": "code",
      "metadata": {
        "attributes": {
          "classes": [
            "shell"
          ],
          "id": ""
        },
        "id": "wx-vlqPR0a9a",
        "colab_type": "code",
        "colab": {}
      },
      "source": [
        "pip install pyperclip"
      ],
      "execution_count": 0,
      "outputs": []
    },
    {
      "cell_type": "code",
      "metadata": {
        "id": "ZdRtYvC80a9a",
        "colab_type": "code",
        "colab": {}
      },
      "source": [
        "import pyperclip\n",
        "\n",
        "pyperclip.copy('Hello world!')\n",
        "pyperclip.paste()"
      ],
      "execution_count": 0,
      "outputs": []
    },
    {
      "cell_type": "markdown",
      "metadata": {
        "id": "t9j9-f9Z0a9b",
        "colab_type": "text"
      },
      "source": [
        "## String Formatting\n",
        "\n",
        "### % operator"
      ]
    },
    {
      "cell_type": "code",
      "metadata": {
        "id": "-4lp-x5b0a9b",
        "colab_type": "code",
        "colab": {}
      },
      "source": [
        "name = 'Pete'\n",
        "'Hello %s' % name"
      ],
      "execution_count": 0,
      "outputs": []
    },
    {
      "cell_type": "markdown",
      "metadata": {
        "id": "-dYHpI-K0a9b",
        "colab_type": "text"
      },
      "source": [
        "We can use the `%x` format specifier to convert an int value to a string:"
      ]
    },
    {
      "cell_type": "code",
      "metadata": {
        "id": "sGAJ7esJ0a9b",
        "colab_type": "code",
        "colab": {}
      },
      "source": [
        "num = 5\n",
        "'I have %x apples' % num"
      ],
      "execution_count": 0,
      "outputs": []
    },
    {
      "cell_type": "markdown",
      "metadata": {
        "id": "EhCw0q4z0a9c",
        "colab_type": "text"
      },
      "source": [
        "Note: For new code, using str.format or f-strings is strongly recommended over the `%` operator.\n",
        "\n",
        "### str.format\n",
        "\n",
        "Python 3 introduced a new way to do string formatting that was later back-ported to Python 2.7. This makes the syntax for string formatting more regular."
      ]
    },
    {
      "cell_type": "code",
      "metadata": {
        "id": "RXIsPgc00a9c",
        "colab_type": "code",
        "colab": {}
      },
      "source": [
        "name = 'John'\n",
        "age = 20'\n",
        "\n",
        "\"Hello I'm {}, my age is {}\".format(name, age)"
      ],
      "execution_count": 0,
      "outputs": []
    },
    {
      "cell_type": "code",
      "metadata": {
        "id": "vK5pfz9o0a9d",
        "colab_type": "code",
        "colab": {}
      },
      "source": [
        "\"Hello I'm {0}, my age is {1}\".format(name, age)"
      ],
      "execution_count": 0,
      "outputs": []
    },
    {
      "cell_type": "markdown",
      "metadata": {
        "id": "vbC_5Gk-0a9d",
        "colab_type": "text"
      },
      "source": [
        "The official [Python 3.x documentation](https://docs.python.org/3/library/stdtypes.html?highlight=sprintf#printf-style-string-formatting) recommend `str.format` over the `%` operator:\n",
        "\n",
        "> The formatting operations described here exhibit a variety of quirks that lead to a number of common errors (such as failing to display tuples and dictionaries correctly). Using the newer formatted string literals or the str.format() interface helps avoid these errors. These alternatives also provide more powerful, flexible and extensible approaches to formatting text.\n",
        "\n",
        "### Lazy string formatting\n",
        "\n",
        "You would only use `%s` string formatting on functions that can do lazy parameters evaluation,\n",
        "the most common being logging:\n",
        "\n",
        "Prefer:"
      ]
    },
    {
      "cell_type": "code",
      "metadata": {
        "id": "Uh24QNiK0a9d",
        "colab_type": "code",
        "colab": {}
      },
      "source": [
        "name = \"alice\"\n",
        "logging.debug(\"User name: %s\", name)"
      ],
      "execution_count": 0,
      "outputs": []
    },
    {
      "cell_type": "markdown",
      "metadata": {
        "id": "QstKUzY00a9e",
        "colab_type": "text"
      },
      "source": [
        "Over:"
      ]
    },
    {
      "cell_type": "code",
      "metadata": {
        "id": "AQ5mdi130a9e",
        "colab_type": "code",
        "colab": {}
      },
      "source": [
        "logging.debug(\"User name: {}\".format(name))"
      ],
      "execution_count": 0,
      "outputs": []
    },
    {
      "cell_type": "markdown",
      "metadata": {
        "id": "IKBULk3v0a9f",
        "colab_type": "text"
      },
      "source": [
        "Or:"
      ]
    },
    {
      "cell_type": "code",
      "metadata": {
        "id": "KcZUAn_F0a9f",
        "colab_type": "code",
        "colab": {}
      },
      "source": [
        "logging.debug(\"User name: \" + name)"
      ],
      "execution_count": 0,
      "outputs": []
    },
    {
      "cell_type": "markdown",
      "metadata": {
        "id": "S6RdEaUq0a9f",
        "colab_type": "text"
      },
      "source": [
        "### Formatted String Literals or f-strings\n",
        "\n",
        "Python 3.6+"
      ]
    },
    {
      "cell_type": "code",
      "metadata": {
        "id": "ObvK4y5z0a9g",
        "colab_type": "code",
        "colab": {}
      },
      "source": [
        "name = 'Elizabeth'\n",
        "f'Hello {name}!'"
      ],
      "execution_count": 0,
      "outputs": []
    },
    {
      "cell_type": "markdown",
      "metadata": {
        "id": "M-zYCpLD0a9i",
        "colab_type": "text"
      },
      "source": [
        "It is even possible to do inline arithmetic with it:"
      ]
    },
    {
      "cell_type": "code",
      "metadata": {
        "id": "pv9dGJIv0a9i",
        "colab_type": "code",
        "colab": {}
      },
      "source": [
        "a = 5\n",
        "b = 10\n",
        "f'Five plus ten is {a + b} and not {2 * (a + b)}.'"
      ],
      "execution_count": 0,
      "outputs": []
    },
    {
      "cell_type": "markdown",
      "metadata": {
        "id": "QFUaVa400a9i",
        "colab_type": "text"
      },
      "source": [
        "### Template Strings\n",
        "\n",
        " A simpler and less powerful mechanism, but it is recommended when handling format strings generated by users. Due to their reduced complexity template strings are a safer choice."
      ]
    },
    {
      "cell_type": "code",
      "metadata": {
        "id": "JZvf6U6p0a9j",
        "colab_type": "code",
        "colab": {}
      },
      "source": [
        "from string import Template\n",
        "\n",
        "name = 'Elizabeth'\n",
        "t = Template('Hey $name!')\n",
        "t.substitute(name=name)"
      ],
      "execution_count": 0,
      "outputs": []
    },
    {
      "cell_type": "markdown",
      "metadata": {
        "id": "S1_cc30D0a9j",
        "colab_type": "text"
      },
      "source": [
        "## Regular Expressions\n",
        "\n",
        "1. Import the regex module with `import re`.\n",
        "2. Create a Regex object with the `re.compile()` function. (Remember to use a raw string.)\n",
        "3. Pass the string you want to search into the Regex object’s `search()` method. This returns a `Match` object.\n",
        "4. Call the Match object’s `group()` method to return a string of the actual matched text.\n",
        "\n",
        "All the regex functions in Python are in the re module:"
      ]
    },
    {
      "cell_type": "code",
      "metadata": {
        "id": "19soFb4i0a9j",
        "colab_type": "code",
        "colab": {}
      },
      "source": [
        "import re"
      ],
      "execution_count": 0,
      "outputs": []
    },
    {
      "cell_type": "markdown",
      "metadata": {
        "id": "oFcOIQGI0a9j",
        "colab_type": "text"
      },
      "source": [
        "### Matching Regex Objects"
      ]
    },
    {
      "cell_type": "code",
      "metadata": {
        "id": "NoT_tLJ90a9k",
        "colab_type": "code",
        "colab": {}
      },
      "source": [
        "phone_num_regex = re.compile(r'\\d\\d\\d-\\d\\d\\d-\\d\\d\\d\\d')\n",
        "mo = phone_num_regex.search('My number is 415-555-4242.')\n",
        "print('Phone number found: {}'.format(mo.group()))"
      ],
      "execution_count": 0,
      "outputs": []
    },
    {
      "cell_type": "markdown",
      "metadata": {
        "id": "iP_chSyw0a9k",
        "colab_type": "text"
      },
      "source": [
        "### Grouping with Parentheses"
      ]
    },
    {
      "cell_type": "code",
      "metadata": {
        "id": "4hNB1qhj0a9k",
        "colab_type": "code",
        "colab": {}
      },
      "source": [
        "phone_num_regex = re.compile(r'(\\d\\d\\d)-(\\d\\d\\d-\\d\\d\\d\\d)')\n",
        "mo = phone_num_regex.search('My number is 415-555-4242.')\n",
        "mo.group(1)"
      ],
      "execution_count": 0,
      "outputs": []
    },
    {
      "cell_type": "code",
      "metadata": {
        "id": "SEdTffmI0a9k",
        "colab_type": "code",
        "colab": {}
      },
      "source": [
        "mo.group(2)"
      ],
      "execution_count": 0,
      "outputs": []
    },
    {
      "cell_type": "code",
      "metadata": {
        "id": "qHAjgpo80a9l",
        "colab_type": "code",
        "colab": {}
      },
      "source": [
        "mo.group(0)"
      ],
      "execution_count": 0,
      "outputs": []
    },
    {
      "cell_type": "code",
      "metadata": {
        "id": "GqSJuaP-0a9l",
        "colab_type": "code",
        "colab": {}
      },
      "source": [
        "mo.group()"
      ],
      "execution_count": 0,
      "outputs": []
    },
    {
      "cell_type": "markdown",
      "metadata": {
        "id": "MUF1JBGe0a9m",
        "colab_type": "text"
      },
      "source": [
        "To retrieve all the groups at once: use the groups() method—note the plural form for the name."
      ]
    },
    {
      "cell_type": "code",
      "metadata": {
        "id": "b5QuoT3a0a9m",
        "colab_type": "code",
        "colab": {}
      },
      "source": [
        "mo.groups()\n",
        "area_code, main_number = mo.groups()"
      ],
      "execution_count": 0,
      "outputs": []
    },
    {
      "cell_type": "code",
      "metadata": {
        "id": "lXtsLGUl0a9m",
        "colab_type": "code",
        "colab": {}
      },
      "source": [
        "print(area_code)"
      ],
      "execution_count": 0,
      "outputs": []
    },
    {
      "cell_type": "code",
      "metadata": {
        "id": "j-UkcO2c0a9n",
        "colab_type": "code",
        "colab": {}
      },
      "source": [
        "print(main_number)"
      ],
      "execution_count": 0,
      "outputs": []
    },
    {
      "cell_type": "markdown",
      "metadata": {
        "id": "VFi3MnAm0a9n",
        "colab_type": "text"
      },
      "source": [
        "### Matching Multiple Groups with the Pipe\n",
        "\n",
        "The | character is called a pipe. You can use it anywhere you want to match one of many expressions. For example, the regular expression r'Batman|Tina Fey' will match either 'Batman' or 'Tina Fey'."
      ]
    },
    {
      "cell_type": "code",
      "metadata": {
        "id": "gQeoZPaj0a9n",
        "colab_type": "code",
        "colab": {}
      },
      "source": [
        "hero_regex = re.compile (r'Batman|Tina Fey')\n",
        "mo1 = hero_regex.search('Batman and Tina Fey.')\n",
        "mo1.group()"
      ],
      "execution_count": 0,
      "outputs": []
    },
    {
      "cell_type": "code",
      "metadata": {
        "id": "wXQwUrpI0a9o",
        "colab_type": "code",
        "colab": {}
      },
      "source": [
        "mo2 = hero_regex.search('Tina Fey and Batman.')\n",
        "mo2.group()"
      ],
      "execution_count": 0,
      "outputs": []
    },
    {
      "cell_type": "markdown",
      "metadata": {
        "id": "4cYlnQNq0a9o",
        "colab_type": "text"
      },
      "source": [
        "You can also use the pipe to match one of several patterns as part of your regex:"
      ]
    },
    {
      "cell_type": "code",
      "metadata": {
        "id": "o4fssOoE0a9p",
        "colab_type": "code",
        "colab": {}
      },
      "source": [
        "bat_regex = re.compile(r'Bat(man|mobile|copter|bat)')\n",
        "mo = bat_regex.search('Batmobile lost a wheel')\n",
        "mo.group()"
      ],
      "execution_count": 0,
      "outputs": []
    },
    {
      "cell_type": "code",
      "metadata": {
        "id": "neSl9suh0a9p",
        "colab_type": "code",
        "colab": {}
      },
      "source": [
        "mo.group(1)"
      ],
      "execution_count": 0,
      "outputs": []
    },
    {
      "cell_type": "markdown",
      "metadata": {
        "id": "yQZ8XJEN0a9q",
        "colab_type": "text"
      },
      "source": [
        "### Optional Matching with the Question Mark\n",
        "\n",
        "The ? character flags the group that precedes it as an optional part of the pattern."
      ]
    },
    {
      "cell_type": "code",
      "metadata": {
        "id": "u_7k0JK00a9q",
        "colab_type": "code",
        "colab": {}
      },
      "source": [
        "bat_regex = re.compile(r'Bat(wo)?man')\n",
        "mo1 = bat_regex.search('The Adventures of Batman')\n",
        "mo1.group()"
      ],
      "execution_count": 0,
      "outputs": []
    },
    {
      "cell_type": "code",
      "metadata": {
        "id": "LnJXHZso0a9q",
        "colab_type": "code",
        "colab": {}
      },
      "source": [
        "mo2 = bat_regex.search('The Adventures of Batwoman')\n",
        "mo2.group()"
      ],
      "execution_count": 0,
      "outputs": []
    },
    {
      "cell_type": "markdown",
      "metadata": {
        "id": "4IYNKv2r0a9q",
        "colab_type": "text"
      },
      "source": [
        "### Matching Zero or More with the Star\n",
        "\n",
        "The * (called the star or asterisk) means “match zero or more”—the group that precedes the star can occur any number of times in the text."
      ]
    },
    {
      "cell_type": "code",
      "metadata": {
        "id": "e3RkZPGP0a9r",
        "colab_type": "code",
        "colab": {}
      },
      "source": [
        "bat_regex = re.compile(r'Bat(wo)*man')\n",
        "mo1 = bat_regex.search('The Adventures of Batman')\n",
        "mo1.group()"
      ],
      "execution_count": 0,
      "outputs": []
    },
    {
      "cell_type": "code",
      "metadata": {
        "id": "IHm79Lav0a9r",
        "colab_type": "code",
        "colab": {}
      },
      "source": [
        "mo2 = bat_regex.search('The Adventures of Batwoman')\n",
        "mo2.group()"
      ],
      "execution_count": 0,
      "outputs": []
    },
    {
      "cell_type": "code",
      "metadata": {
        "id": "BVgtdZV90a9r",
        "colab_type": "code",
        "colab": {}
      },
      "source": [
        "mo3 = bat_regex.search('The Adventures of Batwowowowoman')\n",
        "mo3.group()"
      ],
      "execution_count": 0,
      "outputs": []
    },
    {
      "cell_type": "markdown",
      "metadata": {
        "id": "aURV6AAm0a9s",
        "colab_type": "text"
      },
      "source": [
        "### Matching One or More with the Plus\n",
        "\n",
        "While * means “match zero or more,” the + (or plus) means “match one or more”. The group preceding a plus must appear at least once. It is not optional:"
      ]
    },
    {
      "cell_type": "code",
      "metadata": {
        "id": "IOWeJhz40a9s",
        "colab_type": "code",
        "colab": {}
      },
      "source": [
        "bat_regex = re.compile(r'Bat(wo)+man')\n",
        "mo1 = bat_regex.search('The Adventures of Batwoman')\n",
        "mo1.group()"
      ],
      "execution_count": 0,
      "outputs": []
    },
    {
      "cell_type": "code",
      "metadata": {
        "id": "PoeOMUQ30a9t",
        "colab_type": "code",
        "colab": {}
      },
      "source": [
        "mo2 = bat_regex.search('The Adventures of Batwowowowoman')\n",
        "mo2.group()"
      ],
      "execution_count": 0,
      "outputs": []
    },
    {
      "cell_type": "code",
      "metadata": {
        "id": "tS62rsKh0a9t",
        "colab_type": "code",
        "colab": {}
      },
      "source": [
        "mo3 = bat_regex.search('The Adventures of Batman')\n",
        "mo3 is None"
      ],
      "execution_count": 0,
      "outputs": []
    },
    {
      "cell_type": "markdown",
      "metadata": {
        "id": "qrp-l_k-0a9t",
        "colab_type": "text"
      },
      "source": [
        "### Matching Specific Repetitions with Curly Brackets\n",
        "\n",
        "If you have a group that you want to repeat a specific number of times, follow the group in your regex with a number in curly brackets. For example, the regex (Ha){3} will match the string 'HaHaHa', but it will not match 'HaHa', since the latter has only two repeats of the (Ha) group.\n",
        "\n",
        "Instead of one number, you can specify a range by writing a minimum, a comma, and a maximum in between the curly brackets. For example, the regex (Ha){3,5} will match 'HaHaHa', 'HaHaHaHa', and 'HaHaHaHaHa'."
      ]
    },
    {
      "cell_type": "code",
      "metadata": {
        "id": "RqLxnbJQ0a9u",
        "colab_type": "code",
        "colab": {}
      },
      "source": [
        "ha_regex = re.compile(r'(Ha){3}')\n",
        "mo1 = ha_regex.search('HaHaHa')\n",
        "mo1.group()"
      ],
      "execution_count": 0,
      "outputs": []
    },
    {
      "cell_type": "code",
      "metadata": {
        "id": "L9KujHsc0a9u",
        "colab_type": "code",
        "colab": {}
      },
      "source": [
        "mo2 = ha_regex.search('Ha')\n",
        "mo2 is None"
      ],
      "execution_count": 0,
      "outputs": []
    },
    {
      "cell_type": "markdown",
      "metadata": {
        "id": "8STYNZ9k0a9u",
        "colab_type": "text"
      },
      "source": [
        "### Greedy and Nongreedy Matching\n",
        "\n",
        "Python’s regular expressions are greedy by default, which means that in ambiguous situations they will match the longest string possible. The non-greedy version of the curly brackets, which matches the shortest string possible, has the closing curly bracket followed by a question mark."
      ]
    },
    {
      "cell_type": "code",
      "metadata": {
        "id": "t8vH45OP0a9v",
        "colab_type": "code",
        "colab": {}
      },
      "source": [
        "greedy_ha_regex = re.compile(r'(Ha){3,5}')\n",
        "mo1 = greedy_ha_regex.search('HaHaHaHaHa')\n",
        "mo1.group()"
      ],
      "execution_count": 0,
      "outputs": []
    },
    {
      "cell_type": "code",
      "metadata": {
        "id": "rR2VJhB50a9v",
        "colab_type": "code",
        "colab": {}
      },
      "source": [
        "nongreedy_ha_regex = re.compile(r'(Ha){3,5}?')\n",
        "mo2 = nongreedy_ha_regex.search('HaHaHaHaHa')\n",
        "mo2.group()"
      ],
      "execution_count": 0,
      "outputs": []
    },
    {
      "cell_type": "markdown",
      "metadata": {
        "id": "QeynX7hz0a9w",
        "colab_type": "text"
      },
      "source": [
        "### The findall Method\n",
        "\n",
        "In addition to the search() method, Regex objects also have a findall() method. While search() will return a Match object of the first matched text in the searched string, the findall() method will return the strings of every match in the searched string."
      ]
    },
    {
      "cell_type": "code",
      "metadata": {
        "id": "KMqLkwap0a9w",
        "colab_type": "code",
        "colab": {}
      },
      "source": [
        "phone_num_regex = re.compile(r'\\d\\d\\d-\\d\\d\\d-\\d\\d\\d\\d') # has no groups\n",
        "phone_num_regex.findall('Cell: 415-555-9999 Work: 212-555-0000')"
      ],
      "execution_count": 0,
      "outputs": []
    },
    {
      "cell_type": "markdown",
      "metadata": {
        "id": "UFgsvEAk0a9w",
        "colab_type": "text"
      },
      "source": [
        "To summarize what the findall() method returns, remember the following:\n",
        "\n",
        "- When called on a regex with no groups, such as \\d-\\d\\d\\d-\\d\\d\\d\\d, the method findall() returns a list of ng matches, such as ['415-555-9999', '212-555-0000'].\n",
        "\n",
        "- When called on a regex that has groups, such as (\\d\\d\\d)-d\\d)-(\\d\\ d\\d\\d), the method findall() returns a list of es of strings (one string for each group), such as [('415', ', '9999'), ('212', '555', '0000')].\n",
        "\n",
        "### Making Your Own Character Classes\n",
        "\n",
        "There are times when you want to match a set of characters but the shorthand character classes (\\d, \\w, \\s, and so on) are too broad. You can define your own character class using square brackets. For example, the character class [aeiouAEIOU] will match any vowel, both lowercase and uppercase."
      ]
    },
    {
      "cell_type": "code",
      "metadata": {
        "id": "LSilbRbx0a9x",
        "colab_type": "code",
        "colab": {}
      },
      "source": [
        "vowel_regex = re.compile(r'[aeiouAEIOU]')\n",
        "vowel_regex.findall('Robocop eats baby food. BABY FOOD.')"
      ],
      "execution_count": 0,
      "outputs": []
    },
    {
      "cell_type": "markdown",
      "metadata": {
        "id": "n30zM0yG0a9x",
        "colab_type": "text"
      },
      "source": [
        "You can also include ranges of letters or numbers by using a hyphen. For example, the character class [a-zA-Z0-9] will match all lowercase letters, uppercase letters, and numbers.\n",
        "\n",
        "By placing a caret character (^) just after the character class’s opening bracket, you can make a negative character class. A negative character class will match all the characters that are not in the character class. For example, enter the following into the interactive shell:"
      ]
    },
    {
      "cell_type": "code",
      "metadata": {
        "id": "RuC4N9AU0a9x",
        "colab_type": "code",
        "colab": {}
      },
      "source": [
        "consonant_regex = re.compile(r'[^aeiouAEIOU]')\n",
        "consonant_regex.findall('Robocop eats baby food. BABY FOOD.')"
      ],
      "execution_count": 0,
      "outputs": []
    },
    {
      "cell_type": "markdown",
      "metadata": {
        "id": "63dAjTlP0a9y",
        "colab_type": "text"
      },
      "source": [
        "### The Caret and Dollar Sign Characters\n",
        "\n",
        "- You can also use the caret symbol (^) at the start of a regex to indicate that a match must occur at the beginning of the searched text.\n",
        "\n",
        "- Likewise, you can put a dollar sign ($) at the end of the regex to indicate the string must end with this regex pattern.\n",
        "\n",
        "- And you can use the ^ and $ together to indicate that the entire string must match the regex—that is, it’s not enough for a match to be made on some subset of the string.\n",
        "\n",
        "The r'^Hello' regular expression string matches strings that begin with 'Hello':"
      ]
    },
    {
      "cell_type": "code",
      "metadata": {
        "id": "WjXLJQzx0a9y",
        "colab_type": "code",
        "colab": {}
      },
      "source": [
        "begins_with_hello = re.compile(r'^Hello')\n",
        "begins_with_hello.search('Hello world!')"
      ],
      "execution_count": 0,
      "outputs": []
    },
    {
      "cell_type": "code",
      "metadata": {
        "id": "eWOAbifj0a9y",
        "colab_type": "code",
        "colab": {}
      },
      "source": [
        "begins_with_hello.search('He said hello.') is None"
      ],
      "execution_count": 0,
      "outputs": []
    },
    {
      "cell_type": "markdown",
      "metadata": {
        "id": "wm9Ve1r50a9z",
        "colab_type": "text"
      },
      "source": [
        "The r'\\d$' regular expression string matches strings that end with a numeric character from 0 to 9:"
      ]
    },
    {
      "cell_type": "code",
      "metadata": {
        "id": "uWeRgErB0a9z",
        "colab_type": "code",
        "colab": {}
      },
      "source": [
        "whole_string_is_num = re.compile(r'^\\d+$')\n",
        "whole_string_is_num.search('1234567890')"
      ],
      "execution_count": 0,
      "outputs": []
    },
    {
      "cell_type": "code",
      "metadata": {
        "id": "WhQLkcv60a9z",
        "colab_type": "code",
        "colab": {}
      },
      "source": [
        "whole_string_is_num.search('12345xyz67890') is None"
      ],
      "execution_count": 0,
      "outputs": []
    },
    {
      "cell_type": "code",
      "metadata": {
        "id": "fbenndof0a90",
        "colab_type": "code",
        "colab": {}
      },
      "source": [
        "whole_string_is_num.search('12 34567890') is None"
      ],
      "execution_count": 0,
      "outputs": []
    },
    {
      "cell_type": "markdown",
      "metadata": {
        "id": "0SYV79020a91",
        "colab_type": "text"
      },
      "source": [
        "### The Wildcard Character\n",
        "\n",
        "The . (or dot) character in a regular expression is called a wildcard and will match any character except for a newline:"
      ]
    },
    {
      "cell_type": "code",
      "metadata": {
        "id": "c47O2l010a91",
        "colab_type": "code",
        "colab": {}
      },
      "source": [
        "at_regex = re.compile(r'.at')\n",
        "at_regex.findall('The cat in the hat sat on the flat mat.')"
      ],
      "execution_count": 0,
      "outputs": []
    },
    {
      "cell_type": "markdown",
      "metadata": {
        "id": "jzEoBEje0a91",
        "colab_type": "text"
      },
      "source": [
        "### Matching Everything with Dot-Star"
      ]
    },
    {
      "cell_type": "code",
      "metadata": {
        "id": "kyPImIfW0a91",
        "colab_type": "code",
        "colab": {}
      },
      "source": [
        "name_regex = re.compile(r'First Name: (.*) Last Name: (.*)')\n",
        "mo = name_regex.search('First Name: Some Last Name: One')\n",
        "mo.group(1)"
      ],
      "execution_count": 0,
      "outputs": []
    },
    {
      "cell_type": "code",
      "metadata": {
        "id": "Km8hk-uf0a92",
        "colab_type": "code",
        "colab": {}
      },
      "source": [
        "mo.group(2)"
      ],
      "execution_count": 0,
      "outputs": []
    },
    {
      "cell_type": "markdown",
      "metadata": {
        "id": "y0WR6FAW0a93",
        "colab_type": "text"
      },
      "source": [
        "The dot-star uses greedy mode: It will always try to match as much text as possible. To match any and all text in a nongreedy fashion, use the dot, star, and question mark (.*?). The question mark tells Python to match in a nongreedy way:"
      ]
    },
    {
      "cell_type": "code",
      "metadata": {
        "id": "__aW2rJ30a93",
        "colab_type": "code",
        "colab": {}
      },
      "source": [
        "nongreedy_regex = re.compile(r'<.*?>')\n",
        "mo = nongreedy_regex.search('<To serve man> for dinner.>')\n",
        "mo.group()"
      ],
      "execution_count": 0,
      "outputs": []
    },
    {
      "cell_type": "code",
      "metadata": {
        "id": "h-J0QWLg0a93",
        "colab_type": "code",
        "colab": {}
      },
      "source": [
        "greedy_regex = re.compile(r'<.*>')\n",
        "mo = greedy_regex.search('<To serve man> for dinner.>')\n",
        "mo.group()"
      ],
      "execution_count": 0,
      "outputs": []
    },
    {
      "cell_type": "markdown",
      "metadata": {
        "id": "b7UDghhA0a94",
        "colab_type": "text"
      },
      "source": [
        "### Matching Newlines with the Dot Character\n",
        "\n",
        "The dot-star will match everything except a newline. By passing re.DOTALL as the second argument to re.compile(), you can make the dot character match all characters, including the newline character:"
      ]
    },
    {
      "cell_type": "code",
      "metadata": {
        "id": "IlmZvNg40a94",
        "colab_type": "code",
        "colab": {}
      },
      "source": [
        "no_newline_regex = re.compile('.*')\n",
        "no_newline_regex.search('Serve the public trust.\\nProtect the innocent.\\nUphold the law.').group()"
      ],
      "execution_count": 0,
      "outputs": []
    },
    {
      "cell_type": "code",
      "metadata": {
        "id": "7GDv34Z30a95",
        "colab_type": "code",
        "colab": {}
      },
      "source": [
        "newline_regex = re.compile('.*', re.DOTALL)\n",
        "newline_regex.search('Serve the public trust.\\nProtect the innocent.\\nUphold the law.').group()"
      ],
      "execution_count": 0,
      "outputs": []
    },
    {
      "cell_type": "markdown",
      "metadata": {
        "id": "PrABso7Y0a95",
        "colab_type": "text"
      },
      "source": [
        "### Review of Regex Symbols\n",
        "\n",
        "| Symbol                   | Matches                                                      |\n",
        "| ------------------------ | ------------------------------------------------------------ |\n",
        "| `?`                      | zero or one of the preceding group.                          |\n",
        "| `*`                      | zero or more of the preceding group.                         |\n",
        "| `+`                      | one or more of the preceding group.                          |\n",
        "| `{n}`                    | exactly n of the preceding group.                            |\n",
        "| `{n,}`                   | n or more of the preceding group.                            |\n",
        "| `{,m}`                   | 0 to m of the preceding group.                               |\n",
        "| `{n,m}`                  | at least n and at most m of the preceding p.                 |\n",
        "| `{n,m}?` or `*?` or `+?` | performs a nongreedy match of the preceding p.               |\n",
        "| `^spam`                  | means the string must begin with spam.                       |\n",
        "| `spam$`                  | means the string must end with spam.                         |\n",
        "| `.`                      | any character, except newline characters.                    |\n",
        "| `\\d`, `\\w`, and `\\s`     | a digit, word, or space character, resectively.              |\n",
        "| `\\D`, `\\W`, and `\\S`     | anything except a digit, word, or space acter, respectively. |\n",
        "| `[abc]`                  | any character between the brackets (such as a, b, ).         |\n",
        "| `[^abc]`                 | any character that isn’t between the brackets.              |\n",
        "\n",
        "### Case-Insensitive Matching\n",
        "\n",
        "To make your regex case-insensitive, you can pass re.IGNORECASE or re.I as a second argument to re.compile():"
      ]
    },
    {
      "cell_type": "code",
      "metadata": {
        "id": "uMI127hw0a95",
        "colab_type": "code",
        "colab": {}
      },
      "source": [
        "robocop = re.compile(r'robocop', re.I)\n",
        "robocop.search('Robocop is part man, part machine, all cop.').group()"
      ],
      "execution_count": 0,
      "outputs": []
    },
    {
      "cell_type": "code",
      "metadata": {
        "id": "uajQ6Eln0a96",
        "colab_type": "code",
        "colab": {}
      },
      "source": [
        "robocop.search('ROBOCOP protects the innocent.').group()"
      ],
      "execution_count": 0,
      "outputs": []
    },
    {
      "cell_type": "code",
      "metadata": {
        "id": "Lk3x7qkT0a96",
        "colab_type": "code",
        "colab": {}
      },
      "source": [
        "robocop.search('Al, why does your programming book talk about robocop so much?').group()"
      ],
      "execution_count": 0,
      "outputs": []
    },
    {
      "cell_type": "markdown",
      "metadata": {
        "id": "0NUwJ54j0a97",
        "colab_type": "text"
      },
      "source": [
        "### Substituting Strings with the sub() Method\n",
        "\n",
        "The sub() method for Regex objects is passed two arguments:\n",
        "\n",
        "1. The first argument is a string to replace any matches.\n",
        "1. The second is the string for the regular expression.\n",
        "\n",
        "The sub() method returns a string with the substitutions applied:"
      ]
    },
    {
      "cell_type": "code",
      "metadata": {
        "id": "G8eILRSH0a97",
        "colab_type": "code",
        "colab": {}
      },
      "source": [
        "names_regex = re.compile(r'Agent \\w+')\n",
        "names_regex.sub('CENSORED', 'Agent Alice gave the secret documents to Agent Bob.')"
      ],
      "execution_count": 0,
      "outputs": []
    },
    {
      "cell_type": "markdown",
      "metadata": {
        "id": "vcRVorlY0a97",
        "colab_type": "text"
      },
      "source": [
        "Another example:"
      ]
    },
    {
      "cell_type": "code",
      "metadata": {
        "id": "IofuXhDs0a98",
        "colab_type": "code",
        "colab": {}
      },
      "source": [
        "agent_names_regex = re.compile(r'Agent (\\w)\\w*')\n",
        "agent_names_regex.sub(r'\\1****', 'Agent Alice told Agent Carol that Agent Eve knew Agent Bob was a double agent.')"
      ],
      "execution_count": 0,
      "outputs": []
    },
    {
      "cell_type": "markdown",
      "metadata": {
        "id": "0-6JccAI0a98",
        "colab_type": "text"
      },
      "source": [
        "### Managing Complex Regexes\n",
        "\n",
        "To tell the re.compile() function to ignore whitespace and comments inside the regular expression string, “verbose mode” can be enabled by passing the variable re.VERBOSE as the second argument to re.compile().\n",
        "\n",
        "Now instead of a hard-to-read regular expression like this:"
      ]
    },
    {
      "cell_type": "code",
      "metadata": {
        "id": "Zk8LNZo80a98",
        "colab_type": "code",
        "colab": {}
      },
      "source": [
        "phone_regex = re.compile(r'((\\d{3}|\\(\\d{3}\\))?(\\s|-|\\.)?\\d{3}(\\s|-|\\.)\\d{4}(\\s*(ext|x|ext.)\\s*\\d{2,5})?)')"
      ],
      "execution_count": 0,
      "outputs": []
    },
    {
      "cell_type": "markdown",
      "metadata": {
        "id": "4uMD170d0a99",
        "colab_type": "text"
      },
      "source": [
        "you can spread the regular expression over multiple lines with comments like this:"
      ]
    },
    {
      "cell_type": "code",
      "metadata": {
        "id": "WO5AJvFr0a99",
        "colab_type": "code",
        "colab": {}
      },
      "source": [
        "phone_regex = re.compile(r'''(\n",
        "    (\\d{3}|\\(\\d{3}\\))?            # area code\n",
        "    (\\s|-|\\.)?                    # separator\n",
        "    \\d{3}                         # first 3 digits\n",
        "    (\\s|-|\\.)                     # separator\n",
        "    \\d{4}                         # last 4 digits\n",
        "    (\\s*(ext|x|ext.)\\s*\\d{2,5})?  # extension\n",
        "    )''', re.VERBOSE)"
      ],
      "execution_count": 0,
      "outputs": []
    },
    {
      "cell_type": "markdown",
      "metadata": {
        "id": "WOuQ52C10a99",
        "colab_type": "text"
      },
      "source": [
        "## Handling File and Directory Paths\n",
        "\n",
        "There are two main modules in Python that deals with path manipulation.\n",
        "One is the `os.path` module and the other is the `pathlib` module.\n",
        "The `pathlib` module was added in Python 3.4, offering an object-oriented way\n",
        "to handle file system paths.\n",
        "\n",
        "### Backslash on Windows and Forward Slash on OS X and Linux\n",
        "\n",
        "On Windows, paths are written using backslashes (\\) as the separator between\n",
        "folder names. On Unix based operating system such as macOS, Linux, and BSDs,\n",
        "the forward slash (/) is used as the path separator. Joining paths can be\n",
        "a headache if your code needs to work on different platforms.\n",
        "\n",
        "Fortunately, Python provides easy ways to handle this. We will showcase\n",
        "how to deal with this with both `os.path.join` and `pathlib.Path.joinpath`\n",
        "\n",
        "Using `os.path.join` on Windows:"
      ]
    },
    {
      "cell_type": "code",
      "metadata": {
        "id": "p2VIT0ZO0a9-",
        "colab_type": "code",
        "colab": {}
      },
      "source": [
        "import os\n",
        "\n",
        "os.path.join('usr', 'bin', 'spam')"
      ],
      "execution_count": 0,
      "outputs": []
    },
    {
      "cell_type": "markdown",
      "metadata": {
        "id": "DX_XG42D0a9-",
        "colab_type": "text"
      },
      "source": [
        "And using `pathlib` on \\*nix:"
      ]
    },
    {
      "cell_type": "code",
      "metadata": {
        "id": "AW0D1fSb0a9-",
        "colab_type": "code",
        "colab": {}
      },
      "source": [
        "from pathlib import Path\n",
        "\n",
        "print(Path('usr').joinpath('bin').joinpath('spam'))"
      ],
      "execution_count": 0,
      "outputs": []
    },
    {
      "cell_type": "markdown",
      "metadata": {
        "id": "lodUd4VU0a9_",
        "colab_type": "text"
      },
      "source": [
        "`pathlib` also provides a shortcut to joinpath using the `/` operator:"
      ]
    },
    {
      "cell_type": "code",
      "metadata": {
        "id": "SxfZbnyI0a9_",
        "colab_type": "code",
        "colab": {}
      },
      "source": [
        "from pathlib import Path\n",
        "\n",
        "print(Path('usr') / 'bin' / 'spam')"
      ],
      "execution_count": 0,
      "outputs": []
    },
    {
      "cell_type": "markdown",
      "metadata": {
        "id": "NGmeq7bi0a-A",
        "colab_type": "text"
      },
      "source": [
        "Notice the path separator is different between Windows and Unix based operating\n",
        "system, that's why you want to use one of the above methods instead of\n",
        "adding strings together to join paths together.\n",
        "\n",
        "Joining paths is helpful if you need to create different file paths under\n",
        "the same directory.\n",
        "\n",
        "Using `os.path.join` on Windows:"
      ]
    },
    {
      "cell_type": "code",
      "metadata": {
        "id": "PECRxfJ90a-A",
        "colab_type": "code",
        "colab": {}
      },
      "source": [
        "my_files = ['accounts.txt', 'details.csv', 'invite.docx']\n",
        "\n",
        "for filename in my_files:\n",
        "    print(os.path.join('C:\\\\Users\\\\asweigart', filename))"
      ],
      "execution_count": 0,
      "outputs": []
    },
    {
      "cell_type": "markdown",
      "metadata": {
        "id": "roP6mtHE0a-B",
        "colab_type": "text"
      },
      "source": [
        "Using `pathlib` on \\*nix:"
      ]
    },
    {
      "cell_type": "code",
      "metadata": {
        "id": "bQa_p_C90a-B",
        "colab_type": "code",
        "colab": {}
      },
      "source": [
        "my_files = ['accounts.txt', 'details.csv', 'invite.docx']\n",
        "home = Path.home()\n",
        "for filename in my_files:\n",
        "    print(home / filename)"
      ],
      "execution_count": 0,
      "outputs": []
    },
    {
      "cell_type": "markdown",
      "metadata": {
        "id": "NY2iiYjm0a-C",
        "colab_type": "text"
      },
      "source": [
        "### The Current Working Directory\n",
        "\n",
        "Using `os` on Windows:"
      ]
    },
    {
      "cell_type": "code",
      "metadata": {
        "id": "gsRpb4ot0a-C",
        "colab_type": "code",
        "colab": {}
      },
      "source": [
        "import os\n",
        "\n",
        "os.getcwd()"
      ],
      "execution_count": 0,
      "outputs": []
    },
    {
      "cell_type": "code",
      "metadata": {
        "id": "rM92Hxst0a-C",
        "colab_type": "code",
        "colab": {}
      },
      "source": [
        "os.chdir('C:\\\\Windows\\\\System32')\n",
        "os.getcwd()"
      ],
      "execution_count": 0,
      "outputs": []
    },
    {
      "cell_type": "markdown",
      "metadata": {
        "id": "FrzUzhs60a-D",
        "colab_type": "text"
      },
      "source": [
        "Using `pathlib` on \\*nix:"
      ]
    },
    {
      "cell_type": "code",
      "metadata": {
        "id": "ipdoRB190a-E",
        "colab_type": "code",
        "colab": {}
      },
      "source": [
        "from pathlib import Path\n",
        "from os import chdir\n",
        "\n",
        "print(Path.cwd())"
      ],
      "execution_count": 0,
      "outputs": []
    },
    {
      "cell_type": "code",
      "metadata": {
        "id": "N-YhE39D0a-G",
        "colab_type": "code",
        "colab": {}
      },
      "source": [
        "chdir('/usr/lib/python3.6')\n",
        "print(Path.cwd())"
      ],
      "execution_count": 0,
      "outputs": []
    },
    {
      "cell_type": "markdown",
      "metadata": {
        "id": "55TBe8bh0a-H",
        "colab_type": "text"
      },
      "source": [
        "### Creating New Folders\n",
        "\n",
        "Using `os` on Windows:"
      ]
    },
    {
      "cell_type": "code",
      "metadata": {
        "id": "JYkOvB8Q0a-H",
        "colab_type": "code",
        "colab": {}
      },
      "source": [
        "import os\n",
        "\n",
        "os.makedirs('C:\\\\delicious\\\\walnut\\\\waffles')"
      ],
      "execution_count": 0,
      "outputs": []
    },
    {
      "cell_type": "markdown",
      "metadata": {
        "id": "VhbHmo_50a-H",
        "colab_type": "text"
      },
      "source": [
        "Using `pathlib` on \\*nix:"
      ]
    },
    {
      "cell_type": "code",
      "metadata": {
        "id": "zLhVWzI_0a-H",
        "colab_type": "code",
        "colab": {}
      },
      "source": [
        "from pathlib import Path\n",
        "cwd = Path.cwd()\n",
        "(cwd / 'delicious' / 'walnut' / 'waffles').mkdir()"
      ],
      "execution_count": 0,
      "outputs": []
    },
    {
      "cell_type": "markdown",
      "metadata": {
        "id": "HhPkc1_A0a-I",
        "colab_type": "text"
      },
      "source": [
        "Oh no, we got a nasty error! The reason is that the 'delicious' directory does\n",
        "not exist, so we cannot make the 'walnut' and the 'waffles' directories under\n",
        "it. To fix this, do:"
      ]
    },
    {
      "cell_type": "code",
      "metadata": {
        "id": "AV8CezX00a-I",
        "colab_type": "code",
        "colab": {}
      },
      "source": [
        "from pathlib import Path\n",
        "cwd = Path.cwd()\n",
        "(cwd / 'delicious' / 'walnut' / 'waffles').mkdir(parents=True)"
      ],
      "execution_count": 0,
      "outputs": []
    },
    {
      "cell_type": "markdown",
      "metadata": {
        "id": "MK_rypWV0a-J",
        "colab_type": "text"
      },
      "source": [
        "And all is good :)\n",
        "\n",
        "### Absolute vs. Relative Paths\n",
        "\n",
        "There are two ways to specify a file path.\n",
        "\n",
        "- An absolute path, which always begins with the root folder\n",
        "- A relative path, which is relative to the program’s current working directory\n",
        "\n",
        "There are also the dot (.) and dot-dot (..) folders. These are not real folders but special names that can be used in a path. A single period (“dot”) for a folder name is shorthand for “this directory.” Two periods (“dot-dot”) means “the parent folder.”\n",
        "\n",
        "### Handling Absolute and Relative Paths\n",
        "\n",
        "To see if a path is an absolute path:\n",
        "\n",
        "Using `os.path` on \\*nix:"
      ]
    },
    {
      "cell_type": "code",
      "metadata": {
        "id": "4-ieWfUG0a-J",
        "colab_type": "code",
        "colab": {}
      },
      "source": [
        "import os\n",
        "\n",
        "os.path.isabs('/')"
      ],
      "execution_count": 0,
      "outputs": []
    },
    {
      "cell_type": "code",
      "metadata": {
        "id": "EhZHrOC30a-J",
        "colab_type": "code",
        "colab": {}
      },
      "source": [
        "os.path.isabs('..')"
      ],
      "execution_count": 0,
      "outputs": []
    },
    {
      "cell_type": "markdown",
      "metadata": {
        "id": "ZMFTMbD20a-K",
        "colab_type": "text"
      },
      "source": [
        "Using `pathlib` on \\*nix:"
      ]
    },
    {
      "cell_type": "code",
      "metadata": {
        "id": "uJL1_d0_0a-K",
        "colab_type": "code",
        "colab": {}
      },
      "source": [
        "from pathlib import Path\n",
        "Path('/').is_absolute()"
      ],
      "execution_count": 0,
      "outputs": []
    },
    {
      "cell_type": "code",
      "metadata": {
        "id": "OwgUoAkM0a-L",
        "colab_type": "code",
        "colab": {}
      },
      "source": [
        "Path('..').is_absolute()"
      ],
      "execution_count": 0,
      "outputs": []
    },
    {
      "cell_type": "markdown",
      "metadata": {
        "id": "GHfaDGit0a-M",
        "colab_type": "text"
      },
      "source": [
        "You can extract an absolute path with both `os.path` and `pathlib`\n",
        "\n",
        "Using `os.path` on \\*nix:"
      ]
    },
    {
      "cell_type": "code",
      "metadata": {
        "id": "_LxsuzM20a-M",
        "colab_type": "code",
        "colab": {}
      },
      "source": [
        "import os\n",
        "\n",
        "os.getcwd()"
      ],
      "execution_count": 0,
      "outputs": []
    },
    {
      "cell_type": "code",
      "metadata": {
        "id": "0-OHvxsV0a-M",
        "colab_type": "code",
        "colab": {}
      },
      "source": [
        "os.path.abspath('..')"
      ],
      "execution_count": 0,
      "outputs": []
    },
    {
      "cell_type": "markdown",
      "metadata": {
        "id": "xzJbR2aG0a-N",
        "colab_type": "text"
      },
      "source": [
        "Using `pathlib` on \\*nix:"
      ]
    },
    {
      "cell_type": "code",
      "metadata": {
        "id": "bU6NBNIt0a-P",
        "colab_type": "code",
        "colab": {}
      },
      "source": [
        "from pathlib import Path\n",
        "\n",
        "print(Path.cwd())"
      ],
      "execution_count": 0,
      "outputs": []
    },
    {
      "cell_type": "code",
      "metadata": {
        "id": "xRb1EBe80a-Q",
        "colab_type": "code",
        "colab": {}
      },
      "source": [
        "print(Path('..').resolve())"
      ],
      "execution_count": 0,
      "outputs": []
    },
    {
      "cell_type": "markdown",
      "metadata": {
        "id": "Ka3GUUoL0a-Q",
        "colab_type": "text"
      },
      "source": [
        "You can get a relative path from a starting path to another path.\n",
        "\n",
        "Using `os.path` on \\*nix:"
      ]
    },
    {
      "cell_type": "code",
      "metadata": {
        "id": "Op9dcUQu0a-Q",
        "colab_type": "code",
        "colab": {}
      },
      "source": [
        "import os\n",
        "\n",
        "os.path.relpath('/etc/passwd', '/')"
      ],
      "execution_count": 0,
      "outputs": []
    },
    {
      "cell_type": "markdown",
      "metadata": {
        "id": "Ln_AedON0a-R",
        "colab_type": "text"
      },
      "source": [
        "Using `pathlib` on \\*nix:"
      ]
    },
    {
      "cell_type": "code",
      "metadata": {
        "id": "YoEf3QLI0a-R",
        "colab_type": "code",
        "colab": {}
      },
      "source": [
        "from pathlib import Path\n",
        "\n",
        "print(Path('/etc/passwd').relative_to('/'))"
      ],
      "execution_count": 0,
      "outputs": []
    },
    {
      "cell_type": "markdown",
      "metadata": {
        "id": "x9MOVZ3Z0a-R",
        "colab_type": "text"
      },
      "source": [
        "### Checking Path Validity\n",
        "\n",
        "Checking if a file/directory exists:\n",
        "\n",
        "Using `os.path` on \\*nix:"
      ]
    },
    {
      "cell_type": "code",
      "metadata": {
        "id": "6Ahw1cod0a-S",
        "colab_type": "code",
        "colab": {}
      },
      "source": [
        "import os\n",
        "os.path.exists('.')"
      ],
      "execution_count": 0,
      "outputs": []
    },
    {
      "cell_type": "code",
      "metadata": {
        "id": "WVnnuEgu0a-S",
        "colab_type": "code",
        "colab": {}
      },
      "source": [
        "os.path.exists('setup.py')"
      ],
      "execution_count": 0,
      "outputs": []
    },
    {
      "cell_type": "code",
      "metadata": {
        "id": "__xGNu9-0a-U",
        "colab_type": "code",
        "colab": {}
      },
      "source": [
        "os.path.exists('/etc')"
      ],
      "execution_count": 0,
      "outputs": []
    },
    {
      "cell_type": "code",
      "metadata": {
        "id": "6LZEdfqS0a-U",
        "colab_type": "code",
        "colab": {}
      },
      "source": [
        "os.path.exists('nonexistentfile')"
      ],
      "execution_count": 0,
      "outputs": []
    },
    {
      "cell_type": "markdown",
      "metadata": {
        "id": "xDV38rid0a-V",
        "colab_type": "text"
      },
      "source": [
        "Using `pathlib` on \\*nix:"
      ]
    },
    {
      "cell_type": "code",
      "metadata": {
        "id": "ihjh14jC0a-V",
        "colab_type": "code",
        "colab": {}
      },
      "source": [
        "from pathlib import Path\n",
        "Path('.').exists()"
      ],
      "execution_count": 0,
      "outputs": []
    },
    {
      "cell_type": "code",
      "metadata": {
        "id": "yfyTMu0i0a-W",
        "colab_type": "code",
        "colab": {}
      },
      "source": [
        "Path('setup.py').exists()"
      ],
      "execution_count": 0,
      "outputs": []
    },
    {
      "cell_type": "code",
      "metadata": {
        "id": "nohHWthL0a-X",
        "colab_type": "code",
        "colab": {}
      },
      "source": [
        "Path('/etc').exists()"
      ],
      "execution_count": 0,
      "outputs": []
    },
    {
      "cell_type": "code",
      "metadata": {
        "id": "HeGXn5ON0a-X",
        "colab_type": "code",
        "colab": {}
      },
      "source": [
        "Path('nonexistentfile').exists()"
      ],
      "execution_count": 0,
      "outputs": []
    },
    {
      "cell_type": "markdown",
      "metadata": {
        "id": "ceQSoN4u0a-Y",
        "colab_type": "text"
      },
      "source": [
        "Checking if a path is a file:\n",
        "\n",
        "Using `os.path` on \\*nix:"
      ]
    },
    {
      "cell_type": "code",
      "metadata": {
        "id": "5AsS3PfZ0a-Y",
        "colab_type": "code",
        "colab": {}
      },
      "source": [
        "import os\n",
        "os.path.isfile('setup.py')"
      ],
      "execution_count": 0,
      "outputs": []
    },
    {
      "cell_type": "code",
      "metadata": {
        "id": "Ub3bi6u90a-Z",
        "colab_type": "code",
        "colab": {}
      },
      "source": [
        "os.path.isfile('/home')"
      ],
      "execution_count": 0,
      "outputs": []
    },
    {
      "cell_type": "code",
      "metadata": {
        "id": "KuLN12um0a-Z",
        "colab_type": "code",
        "colab": {}
      },
      "source": [
        "os.path.isfile('nonexistentfile')"
      ],
      "execution_count": 0,
      "outputs": []
    },
    {
      "cell_type": "markdown",
      "metadata": {
        "id": "hvuy_e3l0a-a",
        "colab_type": "text"
      },
      "source": [
        "Using `pathlib` on \\*nix:"
      ]
    },
    {
      "cell_type": "code",
      "metadata": {
        "id": "VgEp4pt30a-a",
        "colab_type": "code",
        "colab": {}
      },
      "source": [
        "from pathlib import Path\n",
        "\n",
        "Path('setup.py').is_file()"
      ],
      "execution_count": 0,
      "outputs": []
    },
    {
      "cell_type": "code",
      "metadata": {
        "id": "HikVYN5O0a-b",
        "colab_type": "code",
        "colab": {}
      },
      "source": [
        "Path('/home').is_file()"
      ],
      "execution_count": 0,
      "outputs": []
    },
    {
      "cell_type": "code",
      "metadata": {
        "id": "A8xtoUof0a-b",
        "colab_type": "code",
        "colab": {}
      },
      "source": [
        "Path('nonexistentfile').is_file()"
      ],
      "execution_count": 0,
      "outputs": []
    },
    {
      "cell_type": "markdown",
      "metadata": {
        "id": "VGfglII10a-b",
        "colab_type": "text"
      },
      "source": [
        "Checking if a path is a directory:\n",
        "\n",
        "Using `os.path` on \\*nix:"
      ]
    },
    {
      "cell_type": "code",
      "metadata": {
        "id": "jFXE_RnK0a-b",
        "colab_type": "code",
        "colab": {}
      },
      "source": [
        "import os\n",
        "os.path.isdir('/')"
      ],
      "execution_count": 0,
      "outputs": []
    },
    {
      "cell_type": "code",
      "metadata": {
        "id": "IjGSKxDb0a-c",
        "colab_type": "code",
        "colab": {}
      },
      "source": [
        "os.path.isdir('setup.py')"
      ],
      "execution_count": 0,
      "outputs": []
    },
    {
      "cell_type": "code",
      "metadata": {
        "id": "rLJ7W0sP0a-c",
        "colab_type": "code",
        "colab": {}
      },
      "source": [
        "os.path.isdir('/spam')"
      ],
      "execution_count": 0,
      "outputs": []
    },
    {
      "cell_type": "markdown",
      "metadata": {
        "id": "e4otQe8W0a-d",
        "colab_type": "text"
      },
      "source": [
        "Using `pathlib` on \\*nix:"
      ]
    },
    {
      "cell_type": "code",
      "metadata": {
        "id": "u-ANTODc0a-d",
        "colab_type": "code",
        "colab": {}
      },
      "source": [
        "from pathlib import Path\n",
        "\n",
        "Path('/').is_dir()"
      ],
      "execution_count": 0,
      "outputs": []
    },
    {
      "cell_type": "code",
      "metadata": {
        "id": "7IeWr-pv0a-d",
        "colab_type": "code",
        "colab": {}
      },
      "source": [
        "Path('setup.py').is_dir()"
      ],
      "execution_count": 0,
      "outputs": []
    },
    {
      "cell_type": "code",
      "metadata": {
        "id": "XTQ64uJP0a-d",
        "colab_type": "code",
        "colab": {}
      },
      "source": [
        "Path('/spam').is_dir()"
      ],
      "execution_count": 0,
      "outputs": []
    },
    {
      "cell_type": "markdown",
      "metadata": {
        "id": "hJXQfp_z0a-e",
        "colab_type": "text"
      },
      "source": [
        "### Finding File Sizes and Folder Contents\n",
        "\n",
        "Getting a file's size in bytes:\n",
        "\n",
        "Using `os.path` on Windows:"
      ]
    },
    {
      "cell_type": "code",
      "metadata": {
        "id": "-22gWJ8n0a-e",
        "colab_type": "code",
        "colab": {}
      },
      "source": [
        "import os\n",
        "os.path.getsize('C:\\\\Windows\\\\System32\\\\calc.exe')"
      ],
      "execution_count": 0,
      "outputs": []
    },
    {
      "cell_type": "markdown",
      "metadata": {
        "id": "aZnH96dZ0a-g",
        "colab_type": "text"
      },
      "source": [
        "Using `pathlib` on \\*nix:"
      ]
    },
    {
      "cell_type": "code",
      "metadata": {
        "id": "NfuTnZf20a-g",
        "colab_type": "code",
        "colab": {}
      },
      "source": [
        "from pathlib import Path\n",
        "\n",
        "stat = Path('/bin/python3.6').stat()\n",
        "print(stat) # stat contains some other information about the file as well"
      ],
      "execution_count": 0,
      "outputs": []
    },
    {
      "cell_type": "code",
      "metadata": {
        "id": "U47Np_UY0a-i",
        "colab_type": "code",
        "colab": {}
      },
      "source": [
        "print(stat.st_size) # size in bytes"
      ],
      "execution_count": 0,
      "outputs": []
    },
    {
      "cell_type": "markdown",
      "metadata": {
        "id": "ITzZqS2K0a-i",
        "colab_type": "text"
      },
      "source": [
        "Listing directory contents using `os.listdir` on Windows:"
      ]
    },
    {
      "cell_type": "code",
      "metadata": {
        "id": "fsXuK3LJ0a-i",
        "colab_type": "code",
        "colab": {}
      },
      "source": [
        "import os\n",
        "os.listdir('C:\\\\Windows\\\\System32')"
      ],
      "execution_count": 0,
      "outputs": []
    },
    {
      "cell_type": "markdown",
      "metadata": {
        "id": "SbQiiFZJ0a-j",
        "colab_type": "text"
      },
      "source": [
        "Listing directory contents using `pathlib` on \\*nix:"
      ]
    },
    {
      "cell_type": "code",
      "metadata": {
        "id": "2a5DwJy20a-j",
        "colab_type": "code",
        "colab": {}
      },
      "source": [
        "from pathlib import Path\n",
        "\n",
        "for f in Path('/usr/bin').iterdir():\n",
        "    print(f)"
      ],
      "execution_count": 0,
      "outputs": []
    },
    {
      "cell_type": "markdown",
      "metadata": {
        "id": "ktc42MC70a-j",
        "colab_type": "text"
      },
      "source": [
        "To find the total size of all the files in this directory:\n",
        "\n",
        "**WARNING**: Directories themselves also have a size! So you might want to\n",
        "check for whether a path is a file or directory using the methods in the methods discussed in the above section!\n",
        "\n",
        "Using `os.path.getsize()` and `os.listdir()` together on Windows:"
      ]
    },
    {
      "cell_type": "code",
      "metadata": {
        "id": "WODDBwoK0a-j",
        "colab_type": "code",
        "colab": {}
      },
      "source": [
        "import os\n",
        "\n",
        "total_size = 0\n",
        "\n",
        "for filename in os.listdir('C:\\\\Windows\\\\System32'):\n",
        "      total_size = total_size + os.path.getsize(os.path.join('C:\\\\Windows\\\\System32', filename))\n",
        "\n",
        "print(total_size)"
      ],
      "execution_count": 0,
      "outputs": []
    },
    {
      "cell_type": "markdown",
      "metadata": {
        "id": "iTYziWel0a-k",
        "colab_type": "text"
      },
      "source": [
        "Using `pathlib` on \\*nix:"
      ]
    },
    {
      "cell_type": "code",
      "metadata": {
        "id": "5ayTw2Vf0a-k",
        "colab_type": "code",
        "colab": {}
      },
      "source": [
        "from pathlib import Path\n",
        "total_size = 0\n",
        "\n",
        "for sub_path in Path('/usr/bin').iterdir():\n",
        "    total_size += sub_path.stat().st_size\n",
        "\n",
        "print(total_size)"
      ],
      "execution_count": 0,
      "outputs": []
    },
    {
      "cell_type": "markdown",
      "metadata": {
        "id": "6p8k6VDw0a-k",
        "colab_type": "text"
      },
      "source": [
        "### Copying Files and Folders\n",
        "\n",
        "The shutil module provides functions for copying files, as well as entire folders."
      ]
    },
    {
      "cell_type": "code",
      "metadata": {
        "id": "2EdN-n9E0a-l",
        "colab_type": "code",
        "colab": {}
      },
      "source": [
        "import shutil, os\n",
        "\n",
        "os.chdir('C:\\\\')\n",
        "\n",
        "shutil.copy('C:\\\\spam.txt', 'C:\\\\delicious')"
      ],
      "execution_count": 0,
      "outputs": []
    },
    {
      "cell_type": "code",
      "metadata": {
        "id": "WY_N9dOx0a-m",
        "colab_type": "code",
        "colab": {}
      },
      "source": [
        "shutil.copy('eggs.txt', 'C:\\\\delicious\\\\eggs2.txt')\n",
        "   'C:\\\\delicious\\\\eggs2.txt'"
      ],
      "execution_count": 0,
      "outputs": []
    },
    {
      "cell_type": "markdown",
      "metadata": {
        "id": "LJIL-UYR0a-n",
        "colab_type": "text"
      },
      "source": [
        "While shutil.copy() will copy a single file, shutil.copytree() will copy an entire folder and every folder and file contained in it:"
      ]
    },
    {
      "cell_type": "code",
      "metadata": {
        "id": "fi2rhOD60a-n",
        "colab_type": "code",
        "colab": {}
      },
      "source": [
        "import shutil, os\n",
        "\n",
        "os.chdir('C:\\\\')\n",
        "shutil.copytree('C:\\\\bacon', 'C:\\\\bacon_backup')"
      ],
      "execution_count": 0,
      "outputs": []
    },
    {
      "cell_type": "markdown",
      "metadata": {
        "id": "aSoBCWEg0a-o",
        "colab_type": "text"
      },
      "source": [
        "### Moving and Renaming Files and Folders"
      ]
    },
    {
      "cell_type": "code",
      "metadata": {
        "id": "u2XyCjsa0a-o",
        "colab_type": "code",
        "colab": {}
      },
      "source": [
        "import shutil\n",
        "\n",
        "shutil.move('C:\\\\bacon.txt', 'C:\\\\eggs')"
      ],
      "execution_count": 0,
      "outputs": []
    },
    {
      "cell_type": "markdown",
      "metadata": {
        "id": "T41HJaVJ0a-o",
        "colab_type": "text"
      },
      "source": [
        "The destination path can also specify a filename. In the following example, the source file is moved and renamed:"
      ]
    },
    {
      "cell_type": "code",
      "metadata": {
        "id": "Z6XK8dib0a-o",
        "colab_type": "code",
        "colab": {}
      },
      "source": [
        "shutil.move('C:\\\\bacon.txt', 'C:\\\\eggs\\\\new_bacon.txt')"
      ],
      "execution_count": 0,
      "outputs": []
    },
    {
      "cell_type": "markdown",
      "metadata": {
        "id": "X8UyKmDf0a-p",
        "colab_type": "text"
      },
      "source": [
        "If there is no eggs folder, then move() will rename bacon.txt to a file named eggs."
      ]
    },
    {
      "cell_type": "code",
      "metadata": {
        "id": "3qDR1P6G0a-p",
        "colab_type": "code",
        "colab": {}
      },
      "source": [
        "shutil.move('C:\\\\bacon.txt', 'C:\\\\eggs')"
      ],
      "execution_count": 0,
      "outputs": []
    },
    {
      "cell_type": "markdown",
      "metadata": {
        "id": "irTAHJeD0a-q",
        "colab_type": "text"
      },
      "source": [
        "### Permanently Deleting Files and Folders\n",
        "\n",
        "- Calling os.unlink(path) or Path.unlink() will delete the file at path.\n",
        "\n",
        "- Calling os.rmdir(path) or Path.rmdir() will delete the folder at path. This folder must be empty of any files or folders.\n",
        "\n",
        "- Calling shutil.rmtree(path) will remove the folder at path, and all files and folders it contains will also be deleted.\n",
        "\n",
        "### Safe Deletes with the send2trash Module\n",
        "\n",
        " You can install this module by running pip install send2trash from a Terminal window."
      ]
    },
    {
      "cell_type": "code",
      "metadata": {
        "id": "ncjZ0sij0a-q",
        "colab_type": "code",
        "colab": {}
      },
      "source": [
        "import send2trash\n",
        "\n",
        "with open('bacon.txt', 'a') as bacon_file: # creates the file\n",
        "    bacon_file.write('Bacon is not a vegetable.')\n",
        "\n",
        "send2trash.send2trash('bacon.txt')"
      ],
      "execution_count": 0,
      "outputs": []
    },
    {
      "cell_type": "markdown",
      "metadata": {
        "id": "fD9jKfp_0a-q",
        "colab_type": "text"
      },
      "source": [
        "### Walking a Directory Tree"
      ]
    },
    {
      "cell_type": "code",
      "metadata": {
        "id": "erEYO59u0a-q",
        "colab_type": "code",
        "colab": {}
      },
      "source": [
        "import os\n",
        "\n",
        "for folder_name, subfolders, filenames in os.walk('C:\\\\delicious'):\n",
        "    print('The current folder is {}'.format(folder_name))\n",
        "\n",
        "    for subfolder in subfolders:\n",
        "        print('SUBFOLDER OF {}: {}'.format(folder_name, subfolder))\n",
        "    for filename in filenames:\n",
        "        print('FILE INSIDE {}: {}'.format(folder_name, filename))\n",
        "\n",
        "    print('')"
      ],
      "execution_count": 0,
      "outputs": []
    },
    {
      "cell_type": "markdown",
      "metadata": {
        "id": "RPpC0vxM0a-r",
        "colab_type": "text"
      },
      "source": [
        "`pathlib` provides a lot more functionality than the ones listed above,\n",
        "like getting file name, getting file extension, reading/writing a file without\n",
        "manually opening it, etc. Check out the\n",
        "[official documentation](https://docs.python.org/3/library/pathlib.html)\n",
        "if you want to know more!\n",
        "\n",
        "## Reading and Writing Files\n",
        "\n",
        "### The File Reading/Writing Process\n",
        "\n",
        "To read/write to a file in Python, you will want to use the `with`\n",
        "statement, which will close the file for you after you are done.\n",
        "\n",
        "### Opening and reading files with the open function"
      ]
    },
    {
      "cell_type": "code",
      "metadata": {
        "id": "dWZjLEg80a-r",
        "colab_type": "code",
        "colab": {}
      },
      "source": [
        "with open('C:\\\\Users\\\\your_home_folder\\\\hello.txt') as hello_file:\n",
        "    hello_content = hello_file.read()\n",
        "\n",
        "hello_content"
      ],
      "execution_count": 0,
      "outputs": []
    },
    {
      "cell_type": "markdown",
      "metadata": {
        "id": "InCpPmnA0a-u",
        "colab_type": "text"
      },
      "source": [
        "Alternatively, you can use the *readlines()* method to get a list of string values from the file, one string for each line of text:"
      ]
    },
    {
      "cell_type": "code",
      "metadata": {
        "id": "6DoJRld60a-u",
        "colab_type": "code",
        "colab": {}
      },
      "source": [
        "with open('sonnet29.txt') as sonnet_file:\n",
        "    sonnet_file.readlines()"
      ],
      "execution_count": 0,
      "outputs": []
    },
    {
      "cell_type": "markdown",
      "metadata": {
        "id": "SHXrqk2M0a-u",
        "colab_type": "text"
      },
      "source": [
        "You can also iterate through the file line by line:"
      ]
    },
    {
      "cell_type": "code",
      "metadata": {
        "id": "wRDIL6jC0a-u",
        "colab_type": "code",
        "colab": {}
      },
      "source": [
        "with open('sonnet29.txt') as sonnet_file:\n",
        "    for line in sonnet_file: # note the new line character will be included in the line\n",
        "        print(line, end='')"
      ],
      "execution_count": 0,
      "outputs": []
    },
    {
      "cell_type": "markdown",
      "metadata": {
        "id": "HA0OWFHe0a-v",
        "colab_type": "text"
      },
      "source": [
        "### Writing to Files"
      ]
    },
    {
      "cell_type": "code",
      "metadata": {
        "id": "rRRfO5xI0a-v",
        "colab_type": "code",
        "colab": {}
      },
      "source": [
        "with open('bacon.txt', 'w') as bacon_file:\n",
        "    bacon_file.write('Hello world!\\n')"
      ],
      "execution_count": 0,
      "outputs": []
    },
    {
      "cell_type": "code",
      "metadata": {
        "id": "waQ0G3Cw0a-v",
        "colab_type": "code",
        "colab": {}
      },
      "source": [
        "with open('bacon.txt', 'a') as bacon_file:\n",
        "    bacon_file.write('Bacon is not a vegetable.')"
      ],
      "execution_count": 0,
      "outputs": []
    },
    {
      "cell_type": "code",
      "metadata": {
        "id": "p_YXg57Q0a-w",
        "colab_type": "code",
        "colab": {}
      },
      "source": [
        "with open('bacon.txt') as bacon_file:\n",
        "    content = bacon_file.read()\n",
        "\n",
        "print(content)"
      ],
      "execution_count": 0,
      "outputs": []
    },
    {
      "cell_type": "markdown",
      "metadata": {
        "id": "InotWB0j0a-w",
        "colab_type": "text"
      },
      "source": [
        "### Saving Variables with the shelve Module\n",
        "\n",
        "To save variables:"
      ]
    },
    {
      "cell_type": "code",
      "metadata": {
        "id": "y7DNY7-J0a-w",
        "colab_type": "code",
        "colab": {}
      },
      "source": [
        "import shelve\n",
        "\n",
        "cats = ['Zophie', 'Pooka', 'Simon']\n",
        "with shelve.open('mydata') as shelf_file:\n",
        "    shelf_file['cats'] = cats"
      ],
      "execution_count": 0,
      "outputs": []
    },
    {
      "cell_type": "markdown",
      "metadata": {
        "id": "IsiAx04u0a-x",
        "colab_type": "text"
      },
      "source": [
        "To open and read variables:"
      ]
    },
    {
      "cell_type": "code",
      "metadata": {
        "id": "aUj4G4_y0a-x",
        "colab_type": "code",
        "colab": {}
      },
      "source": [
        "with shelve.open('mydata') as shelf_file:\n",
        "    print(type(shelf_file))\n",
        "    print(shelf_file['cats'])"
      ],
      "execution_count": 0,
      "outputs": []
    },
    {
      "cell_type": "markdown",
      "metadata": {
        "id": "faoK6P7L0a-x",
        "colab_type": "text"
      },
      "source": [
        "Just like dictionaries, shelf values have keys() and values() methods that will return list-like values of the keys and values in the shelf. Since these methods return list-like values instead of true lists, you should pass them to the list() function to get them in list form."
      ]
    },
    {
      "cell_type": "code",
      "metadata": {
        "id": "7kxBDrP00a-y",
        "colab_type": "code",
        "colab": {}
      },
      "source": [
        "with shelve.open('mydata') as shelf_file:\n",
        "    print(list(shelf_file.keys()))\n",
        "    print(list(shelf_file.values()))"
      ],
      "execution_count": 0,
      "outputs": []
    },
    {
      "cell_type": "markdown",
      "metadata": {
        "id": "Xn_iLD_P0a-y",
        "colab_type": "text"
      },
      "source": [
        "### Saving Variables with pprint.pformat"
      ]
    },
    {
      "cell_type": "code",
      "metadata": {
        "id": "s3Mq-rSe0a-z",
        "colab_type": "code",
        "colab": {}
      },
      "source": [
        "import pprint\n",
        "\n",
        "cats = [{'name': 'Zophie', 'desc': 'chubby'}, {'name': 'Pooka', 'desc': 'fluffy'}]\n",
        "pprint.pformat(cats)"
      ],
      "execution_count": 0,
      "outputs": []
    },
    {
      "cell_type": "code",
      "metadata": {
        "id": "PuOVT16h0a-z",
        "colab_type": "code",
        "colab": {}
      },
      "source": [
        "with open('myCats.py', 'w') as file_obj:\n",
        "    file_obj.write('cats = {}\\n'.format(pprint.pformat(cats)))"
      ],
      "execution_count": 0,
      "outputs": []
    },
    {
      "cell_type": "markdown",
      "metadata": {
        "id": "gVfwRG-C0a-0",
        "colab_type": "text"
      },
      "source": [
        "### Reading ZIP Files"
      ]
    },
    {
      "cell_type": "code",
      "metadata": {
        "id": "WeiWI_h70a-0",
        "colab_type": "code",
        "colab": {}
      },
      "source": [
        "import zipfile, os\n",
        "\n",
        "os.chdir('C:\\\\')    # move to the folder with example.zip\n",
        "with zipfile.ZipFile('example.zip') as example_zip:\n",
        "    print(example_zip.namelist())\n",
        "    spam_info = example_zip.getinfo('spam.txt')\n",
        "    print(spam_info.file_size)\n",
        "    print(spam_info.compress_size)\n",
        "    print('Compressed file is %sx smaller!' % (round(spam_info.file_size / spam_info.compress_size, 2)))"
      ],
      "execution_count": 0,
      "outputs": []
    },
    {
      "cell_type": "markdown",
      "metadata": {
        "id": "cgHAN8pk0a-0",
        "colab_type": "text"
      },
      "source": [
        "### Extracting from ZIP Files\n",
        "\n",
        "The extractall() method for ZipFile objects extracts all the files and folders from a ZIP file into the current working directory."
      ]
    },
    {
      "cell_type": "code",
      "metadata": {
        "id": "HXMhnYbb0a-0",
        "colab_type": "code",
        "colab": {}
      },
      "source": [
        "import zipfile, os\n",
        "\n",
        "os.chdir('C:\\\\')    # move to the folder with example.zip\n",
        "\n",
        "with zipfile.ZipFile('example.zip') as example_zip:\n",
        "    example_zip.extractall()"
      ],
      "execution_count": 0,
      "outputs": []
    },
    {
      "cell_type": "markdown",
      "metadata": {
        "id": "KWscsbNO0a-1",
        "colab_type": "text"
      },
      "source": [
        "The extract() method for ZipFile objects will extract a single file from the ZIP file. Continue the interactive shell example:"
      ]
    },
    {
      "cell_type": "code",
      "metadata": {
        "id": "HDUGNRh50a-1",
        "colab_type": "code",
        "colab": {}
      },
      "source": [
        "with zipfile.ZipFile('example.zip') as example_zip:\n",
        "    print(example_zip.extract('spam.txt'))\n",
        "    print(example_zip.extract('spam.txt', 'C:\\\\some\\\\new\\\\folders'))"
      ],
      "execution_count": 0,
      "outputs": []
    },
    {
      "cell_type": "markdown",
      "metadata": {
        "id": "GUFfrWMl0a-1",
        "colab_type": "text"
      },
      "source": [
        "### Creating and Adding to ZIP Files"
      ]
    },
    {
      "cell_type": "code",
      "metadata": {
        "id": "s51R39zU0a-1",
        "colab_type": "code",
        "colab": {}
      },
      "source": [
        "import zipfile\n",
        "\n",
        "with zipfile.ZipFile('new.zip', 'w') as new_zip:\n",
        "    new_zip.write('spam.txt', compress_type=zipfile.ZIP_DEFLATED)"
      ],
      "execution_count": 0,
      "outputs": []
    },
    {
      "cell_type": "markdown",
      "metadata": {
        "id": "_ZLBAMWR0a-2",
        "colab_type": "text"
      },
      "source": [
        "This code will create a new ZIP file named new.zip that has the compressed contents of spam.txt.\n",
        "\n",
        "## JSON, YAML and configuration files\n",
        "\n",
        "### JSON\n",
        "\n",
        "Open a JSON file with:"
      ]
    },
    {
      "cell_type": "code",
      "metadata": {
        "id": "oDQMMakr0a-2",
        "colab_type": "code",
        "colab": {}
      },
      "source": [
        "import json\n",
        "with open(\"filename.json\", \"r\") as f:\n",
        "    content = json.loads(f.read())"
      ],
      "execution_count": 0,
      "outputs": []
    },
    {
      "cell_type": "markdown",
      "metadata": {
        "id": "mEzW5vSk0a-3",
        "colab_type": "text"
      },
      "source": [
        "Write a JSON file with:"
      ]
    },
    {
      "cell_type": "code",
      "metadata": {
        "id": "awzWOT2r0a-3",
        "colab_type": "code",
        "colab": {}
      },
      "source": [
        "import json\n",
        "\n",
        "content = {\"name\": \"Joe\", \"age\": 20}\n",
        "with open(\"filename.json\", \"w\") as f:\n",
        "    f.write(json.dumps(content, indent=2))"
      ],
      "execution_count": 0,
      "outputs": []
    },
    {
      "cell_type": "markdown",
      "metadata": {
        "id": "Y8o8n_Xk0a-3",
        "colab_type": "text"
      },
      "source": [
        "### YAML\n",
        "\n",
        "Compared to JSON, YAML allows a much better humain maintainance and gives ability to add comments.\n",
        "It is a convinient choice for configuration files where human will have to edit.\n",
        "\n",
        "There are two main librairies allowing to access to YAML files:\n",
        "\n",
        "- [PyYaml](https://pypi.python.org/pypi/PyYAML)\n",
        "- [Ruamel.yaml](https://pypi.python.org/pypi/ruamel.yaml)\n",
        "\n",
        "Install them using `pip install` in your virtual environment.\n",
        "\n",
        "The first one it easier to use but the second one, Ruamel, implements much better the YAML\n",
        "specification, and allow for example to modify a YAML content without altering comments.\n",
        "\n",
        "Open a YAML file with:"
      ]
    },
    {
      "cell_type": "code",
      "metadata": {
        "id": "iPtVEhSE0a-3",
        "colab_type": "code",
        "colab": {}
      },
      "source": [
        "from ruamel.yaml import YAML\n",
        "\n",
        "with open(\"filename.yaml\") as f:\n",
        "    yaml=YAML()\n",
        "    yaml.load(f)"
      ],
      "execution_count": 0,
      "outputs": []
    },
    {
      "cell_type": "markdown",
      "metadata": {
        "id": "9rljbjYQ0a-4",
        "colab_type": "text"
      },
      "source": [
        "### Anyconfig\n",
        "\n",
        "[Anyconfig](https://pypi.python.org/pypi/anyconfig) is a very handy package allowing to abstract completly the underlying configuration file format. It allows to load a Python dictionary from JSON, YAML, TOML, and so on.\n",
        "\n",
        "Install it with:"
      ]
    },
    {
      "cell_type": "code",
      "metadata": {
        "id": "-RXpM0Mi0a-4",
        "colab_type": "code",
        "colab": {}
      },
      "source": [
        "%%bash\n",
        "pip install anyconfig"
      ],
      "execution_count": 0,
      "outputs": []
    },
    {
      "cell_type": "markdown",
      "metadata": {
        "id": "OvSBD15W0a-4",
        "colab_type": "text"
      },
      "source": [
        "Usage:"
      ]
    },
    {
      "cell_type": "code",
      "metadata": {
        "id": "sWLLxB760a-4",
        "colab_type": "code",
        "colab": {}
      },
      "source": [
        "import anyconfig\n",
        "\n",
        "conf1 = anyconfig.load(\"/path/to/foo/conf.d/a.yml\")"
      ],
      "execution_count": 0,
      "outputs": []
    },
    {
      "cell_type": "markdown",
      "metadata": {
        "id": "sODCNTMI0a-5",
        "colab_type": "text"
      },
      "source": [
        "## Debugging\n",
        "\n",
        "### Raising Exceptions\n",
        "\n",
        "Exceptions are raised with a raise statement. In code, a raise statement consists of the following:\n",
        "\n",
        "- The raise keyword\n",
        "- A call to the Exception() function\n",
        "- A string with a helpful error message passed to the Exception() function"
      ]
    },
    {
      "cell_type": "code",
      "metadata": {
        "id": "1kHnBVJl0a-5",
        "colab_type": "code",
        "colab": {}
      },
      "source": [
        "raise Exception('This is the error message.')\n",
        "Traceback (most recent call last):\n",
        "  File \"<pyshell#191>\", line 1, in <module>\n",
        "    raise Exception('This is the error message.')\n",
        "Exception: This is the error message."
      ],
      "execution_count": 0,
      "outputs": []
    },
    {
      "cell_type": "markdown",
      "metadata": {
        "id": "yIVu8STr0a-5",
        "colab_type": "text"
      },
      "source": [
        "Often it’s the code that calls the function, not the function itself, that knows how to handle an expection. So you will commonly see a raise statement inside a function and the try and except statements in the code calling the function."
      ]
    },
    {
      "cell_type": "code",
      "metadata": {
        "id": "4FFvcRgu0a-5",
        "colab_type": "code",
        "colab": {}
      },
      "source": [
        "def box_print(symbol, width, height):\n",
        "    if len(symbol) != 1:\n",
        "      raise Exception('Symbol must be a single character string.')\n",
        "    if width <= 2:\n",
        "      raise Exception('Width must be greater than 2.')\n",
        "    if height <= 2:\n",
        "      raise Exception('Height must be greater than 2.')\n",
        "    print(symbol * width)\n",
        "    for i in range(height - 2):\n",
        "        print(symbol + (' ' * (width - 2)) + symbol)\n",
        "    print(symbol * width)\n",
        "for sym, w, h in (('*', 4, 4), ('O', 20, 5), ('x', 1, 3), ('ZZ', 3, 3)):\n",
        "    try:\n",
        "        box_print(sym, w, h)\n",
        "    except Exception as err:\n",
        "        print('An exception happened: ' + str(err))"
      ],
      "execution_count": 0,
      "outputs": []
    },
    {
      "cell_type": "markdown",
      "metadata": {
        "id": "lYZtbJS-0a-6",
        "colab_type": "text"
      },
      "source": [
        "### Getting the Traceback as a String\n",
        "\n",
        "The traceback is displayed by Python whenever a raised exception goes unhandled. But can also obtain it as a string by calling traceback.format_exc(). This function is useful if you want the information from an exception’s traceback but also want an except statement to gracefully handle the exception. You will need to import Python’s traceback module before calling this function."
      ]
    },
    {
      "cell_type": "code",
      "metadata": {
        "id": "72eQYwVT0a-6",
        "colab_type": "code",
        "colab": {}
      },
      "source": [
        "import traceback\n",
        "\n",
        "try:\n",
        "     raise Exception('This is the error message.')\n",
        "except:\n",
        "     with open('errorInfo.txt', 'w') as error_file:\n",
        "         error_file.write(traceback.format_exc())\n",
        "     print('The traceback info was written to errorInfo.txt.')"
      ],
      "execution_count": 0,
      "outputs": []
    },
    {
      "cell_type": "markdown",
      "metadata": {
        "id": "dteCSeUM0a-6",
        "colab_type": "text"
      },
      "source": [
        "The 116 is the return value from the write() method, since 116 characters were written to the file. The traceback text was written to errorInfo.txt."
      ]
    },
    {
      "cell_type": "code",
      "metadata": {
        "id": "0b3npIoY0a-7",
        "colab_type": "code",
        "colab": {}
      },
      "source": [
        "Traceback (most recent call last):\n",
        "  File \"<pyshell#28>\", line 2, in <module>\n",
        "Exception: This is the error message."
      ],
      "execution_count": 0,
      "outputs": []
    },
    {
      "cell_type": "markdown",
      "metadata": {
        "id": "eOLFWqCj0a--",
        "colab_type": "text"
      },
      "source": [
        "### Assertions\n",
        "\n",
        "An assertion is a sanity check to make sure your code isn’t doing something obviously wrong. These sanity checks are performed by assert statements. If the sanity check fails, then an AssertionError exception is raised. In code, an assert statement consists of the following:\n",
        "\n",
        "- The assert keyword\n",
        "- A condition (that is, an expression that evaluates to True or False)\n",
        "- A comma\n",
        "- A string to display when the condition is False"
      ]
    },
    {
      "cell_type": "code",
      "metadata": {
        "id": "kr97s98y0a--",
        "colab_type": "code",
        "colab": {}
      },
      "source": [
        "pod_bay_door_status = 'open'\n",
        "\n",
        "assert pod_bay_door_status == 'open', 'The pod bay doors need to be \"open\".'\n",
        "\n",
        "pod_bay_door_status = 'I\\'m sorry, Dave. I\\'m afraid I can\\'t do that.'\n",
        "\n",
        "assert pod_bay_door_status == 'open', 'The pod bay doors need to be \"open\".'"
      ],
      "execution_count": 0,
      "outputs": []
    },
    {
      "cell_type": "markdown",
      "metadata": {
        "id": "U9FfZjwr0a--",
        "colab_type": "text"
      },
      "source": [
        "In plain English, an assert statement says, “I assert that this condition holds true, and if not, there is a bug somewhere in the program.” Unlike exceptions, your code should not handle assert statements with try and except; if an assert fails, your program should crash. By failing fast like this, you shorten the time between the original cause of the bug and when you first notice the bug. This will reduce the amount of code you will have to check before finding the code that’s causing the bug.\n",
        "\n",
        "Disabling Assertions\n",
        "\n",
        "Assertions can be disabled by passing the -O option when running Python.\n",
        "\n",
        "### Logging\n",
        "\n",
        "To enable the logging module to display log messages on your screen as your program runs, copy the following to the top of your program (but under the #! python shebang line):"
      ]
    },
    {
      "cell_type": "code",
      "metadata": {
        "id": "fywu2RwO0a-_",
        "colab_type": "code",
        "colab": {}
      },
      "source": [
        "import logging\n",
        "\n",
        "logging.basicConfig(level=logging.DEBUG, format=' %(asctime)s - %(levelname)s- %(message)s')"
      ],
      "execution_count": 0,
      "outputs": []
    },
    {
      "cell_type": "markdown",
      "metadata": {
        "id": "Ya_MJj7E0a-_",
        "colab_type": "text"
      },
      "source": [
        "Say you wrote a function to calculate the factorial of a number. In mathematics, factorial 4 is 1 × 2 × 3 × 4, or 24. Factorial 7 is 1 × 2 × 3 × 4 × 5 × 6 × 7, or 5,040. Open a new file editor window and enter the following code. It has a bug in it, but you will also enter several log messages to help yourself figure out what is going wrong. Save the program as factorialLog.py."
      ]
    },
    {
      "cell_type": "code",
      "metadata": {
        "id": "isPrqDen0a-_",
        "colab_type": "code",
        "colab": {}
      },
      "source": [
        "import logging\n",
        "\n",
        "logging.basicConfig(level=logging.DEBUG, format=' %(asctime)s - %(levelname)s- %(message)s')\n",
        "\n",
        "logging.debug('Start of program')\n",
        "\n",
        "def factorial(n):\n",
        "\n",
        "    logging.debug('Start of factorial(%s)' % (n))\n",
        "    total = 1\n",
        "\n",
        "    for i in range(1, n + 1):\n",
        "        total *= i\n",
        "        logging.debug('i is ' + str(i) + ', total is ' + str(total))\n",
        "\n",
        "    logging.debug('End of factorial(%s)' % (n))\n",
        "\n",
        "    return total\n",
        "\n",
        "print(factorial(5))\n",
        "logging.debug('End of program')"
      ],
      "execution_count": 0,
      "outputs": []
    },
    {
      "cell_type": "markdown",
      "metadata": {
        "id": "TPjftzTy0a-_",
        "colab_type": "text"
      },
      "source": [
        "### Logging Levels\n",
        "\n",
        "Logging levels provide a way to categorize your log messages by importance. There are five logging levels, described in Table 10-1 from least to most important. Messages can be logged at each level using a different logging function.\n",
        "\n",
        "| Level      | Logging Function     | Description                                                                                                                    |\n",
        "| ---------- | -------------------- | ------------------------------------------------------------------------------------------------------------------------------ |\n",
        "| `DEBUG`    | `logging.debug()`    | The lowest level. Used for small details. Usually you care about these messages only when diagnosing problems.                 |\n",
        "| `INFO`     | `logging.info()`     | Used to record information on general events in your program or confirm that things are working at their point in the program. |\n",
        "| `WARNING`  | `logging.warning()`  | Used to indicate a potential problem that doesn’t prevent the program from working but might do so in the future.             |\n",
        "| `ERROR`    | `logging.error()`    | Used to record an error that caused the program to fail to do something.                                                       |\n",
        "| `CRITICAL` | `logging.critical()` | The highest level. Used to indicate a fatal error that has caused or is about to cause the program to stop running entirely.   |\n",
        "\n",
        "### Disabling Logging\n",
        "\n",
        "After you’ve debugged your program, you probably don’t want all these log messages cluttering the screen. The logging.disable() function disables these so that you don’t have to go into your program and remove all the logging calls by hand."
      ]
    },
    {
      "cell_type": "code",
      "metadata": {
        "id": "yk3PEPHn0a_A",
        "colab_type": "code",
        "colab": {}
      },
      "source": [
        "import logging\n",
        "\n",
        "logging.basicConfig(level=logging.INFO, format=' %(asctime)s -%(levelname)s - %(message)s')\n",
        "logging.critical('Critical error! Critical error!')\n",
        "logging.disable(logging.CRITICAL)\n",
        "logging.critical('Critical error! Critical error!')\n",
        "logging.error('Error! Error!')"
      ],
      "execution_count": 0,
      "outputs": []
    },
    {
      "cell_type": "markdown",
      "metadata": {
        "id": "Qul2OEEA0a_A",
        "colab_type": "text"
      },
      "source": [
        "### Logging to a File\n",
        "\n",
        "Instead of displaying the log messages to the screen, you can write them to a text file. The logging.basicConfig() function takes a filename keyword argument, like so:"
      ]
    },
    {
      "cell_type": "code",
      "metadata": {
        "id": "Y2M7zMY00a_A",
        "colab_type": "code",
        "colab": {}
      },
      "source": [
        "import logging\n",
        "\n",
        "logging.basicConfig(filename='myProgramLog.txt', level=logging.DEBUG, format='%(asctime)s - %(levelname)s - %(message)s')"
      ],
      "execution_count": 0,
      "outputs": []
    },
    {
      "cell_type": "markdown",
      "metadata": {
        "id": "_tNek-FY0a_A",
        "colab_type": "text"
      },
      "source": [
        "## Lambda Functions\n",
        "\n",
        "This function:"
      ]
    },
    {
      "cell_type": "code",
      "metadata": {
        "id": "qUvMgE2W0a_B",
        "colab_type": "code",
        "colab": {}
      },
      "source": [
        "def add(x, y):\n",
        "        return x + y\n",
        "\n",
        "add(5, 3)"
      ],
      "execution_count": 0,
      "outputs": []
    },
    {
      "cell_type": "markdown",
      "metadata": {
        "id": "jYa7ar5k0a_B",
        "colab_type": "text"
      },
      "source": [
        "Is equivalent to the *lambda* function:"
      ]
    },
    {
      "cell_type": "code",
      "metadata": {
        "id": "k3GUm4k70a_B",
        "colab_type": "code",
        "colab": {}
      },
      "source": [
        "add = lambda x, y: x + y\n",
        "add(5, 3)"
      ],
      "execution_count": 0,
      "outputs": []
    },
    {
      "cell_type": "markdown",
      "metadata": {
        "id": "bAaudLoM0a_C",
        "colab_type": "text"
      },
      "source": [
        "It's not even need to bind it to a name like add before:"
      ]
    },
    {
      "cell_type": "code",
      "metadata": {
        "id": "C34ctGMr0a_C",
        "colab_type": "code",
        "colab": {}
      },
      "source": [
        "(lambda x, y: x + y)(5, 3)"
      ],
      "execution_count": 0,
      "outputs": []
    },
    {
      "cell_type": "markdown",
      "metadata": {
        "id": "rr51iv3W0a_C",
        "colab_type": "text"
      },
      "source": [
        "Like regular nested functions, lambdas also work as lexical closures:"
      ]
    },
    {
      "cell_type": "code",
      "metadata": {
        "id": "TxsOKxO80a_C",
        "colab_type": "code",
        "colab": {}
      },
      "source": [
        "def make_adder(n):\n",
        "        return lambda x: x + n\n",
        "\n",
        "plus_3 = make_adder(3)\n",
        "plus_5(4)"
      ],
      "execution_count": 0,
      "outputs": []
    },
    {
      "cell_type": "markdown",
      "metadata": {
        "id": "rYbvxMCo0a_D",
        "colab_type": "text"
      },
      "source": [
        "Note: lambda can only evaluate an expression, like a single line of code.\n",
        "\n",
        "## Ternary Conditional Operator\n",
        "\n",
        "Many programming languages have a ternary operator, which define a conditional expression. The most common usage is to make a terse simple conditional assignment statement. In other words, it offers one-line code to evaluate the first expression if the condition is true, otherwise it evaluates the second expression."
      ]
    },
    {
      "cell_type": "code",
      "metadata": {
        "id": "ULhV-_be0a_D",
        "colab_type": "code",
        "colab": {}
      },
      "source": [
        "<expression1> if <condition> else <expression2>"
      ],
      "execution_count": 0,
      "outputs": []
    },
    {
      "cell_type": "markdown",
      "metadata": {
        "id": "zh-_3u4L0a_D",
        "colab_type": "text"
      },
      "source": [
        "Example:"
      ]
    },
    {
      "cell_type": "code",
      "metadata": {
        "id": "5OiH9nSM0a_D",
        "colab_type": "code",
        "colab": {}
      },
      "source": [
        "age = 15\n",
        "\n",
        "print('kid' if age < 18 else 'adult')"
      ],
      "execution_count": 0,
      "outputs": []
    },
    {
      "cell_type": "markdown",
      "metadata": {
        "id": "DWpBZMHZ0a_E",
        "colab_type": "text"
      },
      "source": [
        "Ternary operators can be changed:"
      ]
    },
    {
      "cell_type": "code",
      "metadata": {
        "id": "LjYCBbMy0a_E",
        "colab_type": "code",
        "colab": {}
      },
      "source": [
        "age = 15\n",
        "print('kid' if age < 13 else 'teenager' if age < 18 else 'adult')"
      ],
      "execution_count": 0,
      "outputs": []
    },
    {
      "cell_type": "markdown",
      "metadata": {
        "id": "QcJ8KPkH0a_E",
        "colab_type": "text"
      },
      "source": [
        "The code above is equivalent to:"
      ]
    },
    {
      "cell_type": "code",
      "metadata": {
        "id": "PI5fnZ2h0a_E",
        "colab_type": "code",
        "colab": {}
      },
      "source": [
        "if age < 18:\n",
        "    if age < 12:\n",
        "        print('kid')\n",
        "    else:\n",
        "        print('teenager')\n",
        "else:\n",
        "    print('adult')"
      ],
      "execution_count": 0,
      "outputs": []
    },
    {
      "cell_type": "markdown",
      "metadata": {
        "id": "0haXQAQc0a_F",
        "colab_type": "text"
      },
      "source": [
        "## args and kwargs\n",
        "\n",
        "The names ```args and kwargs``` are arbitrary - the important thing are the ```*``` and ```**``` operators. They can mean:\n",
        "\n",
        "1. In a function declaration, ```*``` means “pack all remaining positional arguments into a tuple named `<name>`”, while ```**``` is the same for keyword arguments (except it uses a dictionary, not a tuple).\n",
        "\n",
        "2. In a function call, ```*``` means “unpack tuple or list named `<name>` to positional arguments at this position”, while ```**``` is the same for keyword arguments.\n",
        "\n",
        "For example you can make a function that you can use to call any other function, no matter what parameters it has:"
      ]
    },
    {
      "cell_type": "code",
      "metadata": {
        "id": "5_zFuA4x0a_F",
        "colab_type": "code",
        "colab": {}
      },
      "source": [
        "def forward(f, *args, **kwargs):\n",
        "    return f(*args, **kwargs)"
      ],
      "execution_count": 0,
      "outputs": []
    },
    {
      "cell_type": "markdown",
      "metadata": {
        "id": "PC-OShah0a_F",
        "colab_type": "text"
      },
      "source": [
        "Inside forward, args is a tuple (of all positional arguments except the first one, because we specified it - the f), kwargs is a dict. Then we call f and unpack them so they become normal arguments to f.\n",
        "\n",
        "You use ```*args``` when you have an indefinite amount of positional arguments."
      ]
    },
    {
      "cell_type": "code",
      "metadata": {
        "id": "bQvczNC_0a_F",
        "colab_type": "code",
        "colab": {}
      },
      "source": [
        "def fruits(*args):\n",
        "   for fruit in args:\n",
        "      print(fruit)\n",
        "\n",
        "fruits(\"apples\", \"bananas\", \"grapes\")"
      ],
      "execution_count": 0,
      "outputs": []
    },
    {
      "cell_type": "markdown",
      "metadata": {
        "id": "ud3Tholj0a_G",
        "colab_type": "text"
      },
      "source": [
        "Similarly, you use ```**kwargs``` when you have an indefinite number of keyword arguments."
      ]
    },
    {
      "cell_type": "code",
      "metadata": {
        "id": "HuTcu-GA0a_G",
        "colab_type": "code",
        "colab": {}
      },
      "source": [
        "def fruit(**kwargs):\n",
        "   for key, value in kwargs.items():\n",
        "       print(\"{0}: {1}\".format(key, value))\n",
        "\n",
        "fruit(name = \"apple\", color = \"red\")"
      ],
      "execution_count": 0,
      "outputs": []
    },
    {
      "cell_type": "code",
      "metadata": {
        "id": "bNXzry5J0a_G",
        "colab_type": "code",
        "colab": {}
      },
      "source": [
        "def show(arg1, arg2, *args, kwarg1=None, kwarg2=None, **kwargs):\n",
        "  print(arg1)\n",
        "  print(arg2)\n",
        "  print(args)\n",
        "  print(kwarg1)\n",
        "  print(kwarg2)\n",
        "  print(kwargs)\n",
        "\n",
        "data1 = [1,2,3]\n",
        "data2 = [4,5,6]\n",
        "data3 = {'a':7,'b':8,'c':9}\n",
        "\n",
        "show(*data1,*data2, kwarg1=\"python\",kwarg2=\"cheatsheet\",**data3)"
      ],
      "execution_count": 0,
      "outputs": []
    },
    {
      "cell_type": "code",
      "metadata": {
        "id": "2sk3n4vu0a_H",
        "colab_type": "code",
        "colab": {}
      },
      "source": [
        "show(*data1, *data2, **data3)"
      ],
      "execution_count": 0,
      "outputs": []
    },
    {
      "cell_type": "markdown",
      "metadata": {
        "id": "I-KBwGHo0a_H",
        "colab_type": "text"
      },
      "source": [
        "If you do not specify ** for kwargs"
      ]
    },
    {
      "cell_type": "code",
      "metadata": {
        "id": "g8Upao2i0a_I",
        "colab_type": "code",
        "colab": {}
      },
      "source": [
        "show(*data1, *data2, *data3)"
      ],
      "execution_count": 0,
      "outputs": []
    },
    {
      "cell_type": "markdown",
      "metadata": {
        "id": "cu2NerDZ0a_J",
        "colab_type": "text"
      },
      "source": [
        "### Thinks to Remember(args)\n",
        "\n",
        "1. Functions can accept a variable number of positional arguments by using ```*args``` in the def statement.\n",
        "2. You can use the items from a sequence as the positional arguments for a function with the ```*``` operator.\n",
        "3. Using the ```*``` operator with a generator may cause your program to run out of memory and crash.\n",
        "4. Adding new positional parameters to functions that accept ```*args``` can introduce hard-to-find bugs.\n",
        "\n",
        "### Thinks to remember(kwargs)\n",
        "\n",
        "1. Function arguments can be specified by position or by keyword.\n",
        "2. Keywords make it clear what the purpose of each argument is when it would be confusing with only positional arguments.\n",
        "3. Keyword arguments with default values make it easy to add new behaviors to a function, especially when the function has existing callers.\n",
        "4. Optional keyword arguments should always be passed by keyword instead of by position.\n",
        "\n",
        "## Context Manager\n",
        "\n",
        "While Python's context managers are widely used, few understand the purpose behind their use. These statements, commonly used with reading and writing files, assist the application in conserving system memory and improve resource management by ensuring specific resources are only in use for certain processes.\n",
        "\n",
        "### with statement\n",
        "\n",
        "A context manager is an object that is notified when a context (a block of code) starts and ends. You commonly use one with the with statement. It takes care of the notifying.\n",
        "\n",
        "For example, file objects are context managers. When a context ends, the file object is closed automatically:"
      ]
    },
    {
      "cell_type": "code",
      "metadata": {
        "id": "0cEODajA0a_J",
        "colab_type": "code",
        "colab": {}
      },
      "source": [
        "with open(filename) as f:\n",
        "    file_contents = f.read()\n",
        "\n",
        "# the open_file object has automatically been closed."
      ],
      "execution_count": 0,
      "outputs": []
    },
    {
      "cell_type": "markdown",
      "metadata": {
        "id": "1m888ZXs0a_J",
        "colab_type": "text"
      },
      "source": [
        "Anything that ends execution of the block causes the context manager's exit method to be called. This includes exceptions, and can be useful when an error causes you to prematurely exit from an open file or connection. Exiting a script without properly closing files/connections is a bad idea, that may cause data loss or other problems. By using a context manager you can ensure that precautions are always taken to prevent damage or loss in this way.\n",
        "\n",
        "### Writing your own contextmanager using generator syntax\n",
        "\n",
        "It is also possible to write a context manager using generator syntax thanks to the ```contextlib.contextmanager``` decorator:"
      ]
    },
    {
      "cell_type": "code",
      "metadata": {
        "id": "gPuyDr8g0a_J",
        "colab_type": "code",
        "colab": {}
      },
      "source": [
        "import contextlib\n",
        "\n",
        "@contextlib.contextmanager\n",
        "def context_manager(num):\n",
        "    print('Enter')\n",
        "    yield num + 1\n",
        "    print('Exit')\n",
        "with context_manager(2) as cm:\n",
        "    # the following instructions are run when the 'yield' point of the context\n",
        "    # manager is reached.\n",
        "    # 'cm' will have the value that was yielded\n",
        "    print('Right in the middle with cm = {}'.format(cm))"
      ],
      "execution_count": 0,
      "outputs": []
    },
    {
      "cell_type": "markdown",
      "metadata": {
        "id": "fmYJ0TyK0a_K",
        "colab_type": "text"
      },
      "source": [
        "## `__main__` Top-level script environment\n",
        "\n",
        "`__main__` is the name of the scope in which top-level code executes.\n",
        "A module’s __name__ is set equal to `__main__` when read from standard input, a script, or from an interactive prompt.\n",
        "\n",
        "A module can discover whether or not it is running in the main scope by checking its own `__name__`, which allows a common idiom for conditionally executing code in a module when it is run as a script or with `python -m` but not when it is imported:"
      ]
    },
    {
      "cell_type": "code",
      "metadata": {
        "id": "G1DnyLBi0a_K",
        "colab_type": "code",
        "colab": {}
      },
      "source": [
        "if __name__ == \"__main__\":\n",
        "    # execute only if run as a script\n",
        "    main()"
      ],
      "execution_count": 0,
      "outputs": []
    },
    {
      "cell_type": "markdown",
      "metadata": {
        "id": "1tQmtpBJ0a_K",
        "colab_type": "text"
      },
      "source": [
        "For a package, the same effect can be achieved by including a __main__.py module, the contents of which will be executed when the module is run with -m.\n",
        "\n",
        "For example we are developing script which is designed to be used as module, we should do:"
      ]
    },
    {
      "cell_type": "code",
      "metadata": {
        "id": "lhmyssza0a_K",
        "colab_type": "code",
        "colab": {}
      },
      "source": [
        "# Python program to execute function directly\n",
        "def add(a, b):\n",
        "    return a+b\n",
        "\n",
        "add(10, 20) # we can test it by calling the function save it as calculate.py"
      ],
      "execution_count": 0,
      "outputs": []
    },
    {
      "cell_type": "code",
      "metadata": {
        "id": "uwEv2BEH0a_L",
        "colab_type": "code",
        "colab": {}
      },
      "source": [
        "# Now if we want to use that module by importing we have to comment out our call,\n",
        "# Instead we can write like this in calculate.py\n",
        "if __name__ == \"__main__\":\n",
        "    add(3, 5)"
      ],
      "execution_count": 0,
      "outputs": []
    },
    {
      "cell_type": "code",
      "metadata": {
        "id": "FF2Rdwuo0a_L",
        "colab_type": "code",
        "colab": {}
      },
      "source": [
        "import calculate\n",
        "\n",
        "calculate.add(3, 5)"
      ],
      "execution_count": 0,
      "outputs": []
    },
    {
      "cell_type": "markdown",
      "metadata": {
        "id": "sR7ehVF_0a_M",
        "colab_type": "text"
      },
      "source": [
        "### Advantages\n",
        "\n",
        "1. Every Python module has it’s `__name__` defined and if this is `__main__`, it implies that the module is being run standalone by the user and we can do corresponding appropriate actions.\n",
        "2. If you import this script as a module in another script, the __name__ is set to the name of the script/module.\n",
        "3. Python files can act as either reusable modules, or as standalone programs.\n",
        "4. if `__name__ == “main”:` is used to execute some code only if the file was run directly, and not imported.\n",
        "\n",
        "## setup.py\n",
        "\n",
        "The setup script is the centre of all activity in building, distributing, and installing modules using the Distutils. The main purpose of the setup script is to describe your module distribution to the Distutils, so that the various commands that operate on your modules do the right thing.\n",
        "\n",
        "The `setup.py` file is at the heart of a Python project. It describes all of the metadata about your project. There a quite a few fields you can add to a project to give it a rich set of metadata describing the project. However, there are only three required fields: name, version, and packages. The name field must be unique if you wish to publish your package on the Python Package Index (PyPI). The version field keeps track of different releases of the project. The packages field describes where you’ve put the Python source code within your project.\n",
        "\n",
        "This allows you to easily install Python packages. Often it's enough to write:"
      ]
    },
    {
      "cell_type": "code",
      "metadata": {
        "id": "ywnoIDXX0a_N",
        "colab_type": "code",
        "colab": {}
      },
      "source": [
        "%%bash\n",
        "python setup.py install"
      ],
      "execution_count": 0,
      "outputs": []
    },
    {
      "cell_type": "markdown",
      "metadata": {
        "id": "T_M5O1ZB0a_O",
        "colab_type": "text"
      },
      "source": [
        "and module will install itself.\n",
        "\n",
        "Our initial setup.py will also include information about the license and will re-use the README.txt file for the long_description field. This will look like:"
      ]
    },
    {
      "cell_type": "code",
      "metadata": {
        "id": "av0dn8pZ0a_O",
        "colab_type": "code",
        "colab": {}
      },
      "source": [
        "from distutils.core import setup\n",
        "setup(\n",
        "   name='pythonCheatsheet',\n",
        "   version='0.1',\n",
        "   packages=['pipenv',],\n",
        "   license='MIT',\n",
        "   long_description=open('README.txt').read(),\n",
        ")"
      ],
      "execution_count": 0,
      "outputs": []
    },
    {
      "cell_type": "markdown",
      "metadata": {
        "id": "ZftiJ6H80a_O",
        "colab_type": "text"
      },
      "source": [
        "Find more information visit [http://docs.python.org/install/index.html](http://docs.python.org/install/index.html).\n",
        "\n",
        "## Dataclasses\n",
        "\n",
        "`Dataclasses` are python classes but are suited for storing data objects.\n",
        "This module provides a decorator and functions for automatically adding generated special methods such as `__init__()` and `__repr__()` to user-defined classes.\n",
        "\n",
        "### Features\n",
        "\n",
        "1. They store data and represent a certain data type. Ex: A number. For people familiar with ORMs, a model instance is a data object. It represents a specific kind of entity. It holds attributes that define or represent the entity.\n",
        "\n",
        "2. They can be compared to other objects of the same type. Ex: A number can be greater than, less than, or equal to another number.\n",
        "\n",
        "Python 3.7 provides a decorator dataclass that is used to convert a class into a dataclass.\n",
        "\n",
        "python 2.7"
      ]
    },
    {
      "cell_type": "code",
      "metadata": {
        "id": "DFB3RzP20a_O",
        "colab_type": "code",
        "colab": {}
      },
      "source": [
        "class Number:\n",
        "    def __init__(self, val):\n",
        "        self.val = val\n",
        "\n",
        "obj = Number(2)\n",
        "obj.val"
      ],
      "execution_count": 0,
      "outputs": []
    },
    {
      "cell_type": "markdown",
      "metadata": {
        "id": "lZyparpl0a_P",
        "colab_type": "text"
      },
      "source": [
        "with dataclass"
      ]
    },
    {
      "cell_type": "code",
      "metadata": {
        "id": "a6I8k8Pw0a_P",
        "colab_type": "code",
        "colab": {}
      },
      "source": [
        "from dataclasses import dataclass\n",
        "\n",
        "@dataclass\n",
        "class Number:\n",
        "    val: int\n",
        "\n",
        "obj = Number(2)\n",
        "obj.val"
      ],
      "execution_count": 0,
      "outputs": []
    },
    {
      "cell_type": "markdown",
      "metadata": {
        "id": "lfsgoyEa0a_P",
        "colab_type": "text"
      },
      "source": [
        "### Default values\n",
        "\n",
        "It is easy to add default values to the fields of your data class."
      ]
    },
    {
      "cell_type": "code",
      "metadata": {
        "id": "R4572gkr0a_P",
        "colab_type": "code",
        "colab": {}
      },
      "source": [
        "from dataclasses import dataclass\n",
        "\n",
        "@dataclass\n",
        "class Product:\n",
        "    name: str\n",
        "    count: int = 0\n",
        "    price: float = 0.0\n",
        "\n",
        "obj = Product(\"Python\")\n",
        "obj.name"
      ],
      "execution_count": 0,
      "outputs": []
    },
    {
      "cell_type": "code",
      "metadata": {
        "id": "ierF5D420a_P",
        "colab_type": "code",
        "colab": {}
      },
      "source": [
        "obj.count"
      ],
      "execution_count": 0,
      "outputs": []
    },
    {
      "cell_type": "code",
      "metadata": {
        "id": "nTTN5C8n0a_Q",
        "colab_type": "code",
        "colab": {}
      },
      "source": [
        "obj.price"
      ],
      "execution_count": 0,
      "outputs": []
    },
    {
      "cell_type": "markdown",
      "metadata": {
        "id": "7FAbD3Jg0a_Q",
        "colab_type": "text"
      },
      "source": [
        "### Type hints\n",
        "\n",
        "It is mandatory to define the data type in dataclass. However, If you don't want specify the datatype then, use ```typing.Any```."
      ]
    },
    {
      "cell_type": "code",
      "metadata": {
        "id": "nczQ19XU0a_Q",
        "colab_type": "code",
        "colab": {}
      },
      "source": [
        "from dataclasses import dataclass\n",
        "from typing import Any\n",
        "\n",
        "@dataclass\n",
        "class WithoutExplicitTypes:\n",
        "   name: Any\n",
        "   value: Any = 42"
      ],
      "execution_count": 0,
      "outputs": []
    },
    {
      "cell_type": "markdown",
      "metadata": {
        "id": "uTY0kPZAtqfl",
        "colab_type": "text"
      },
      "source": [
        "### more"
      ]
    },
    {
      "cell_type": "code",
      "metadata": {
        "id": "cx55Ewfatsff",
        "colab_type": "code",
        "colab": {}
      },
      "source": [
        "Mutable Data Class\n",
        "\n",
        ">>> from dataclasses import dataclass\n",
        ">>> @dataclass\n",
        "... class DCls(object):\n",
        "...     x: str\n",
        "...     y: str\n",
        "...\n",
        ">>> d = DCls(\"foo\", \"bar\")\n",
        ">>> d\n",
        "DCls(x='foo', y='bar')\n",
        ">>> d = DCls(x=\"foo\", y=\"baz\")\n",
        ">>> d\n",
        "DCls(x='foo', y='baz')\n",
        ">>> d.z = \"bar\"\n",
        "\n",
        "Immutable Data Class\n",
        "\n",
        ">>> from dataclasses import dataclass\n",
        ">>> from dataclasses import FrozenInstanceError\n",
        ">>> @dataclass(frozen=True)\n",
        "... class DCls(object):\n",
        "...     x: str\n",
        "...     y: str\n",
        "...\n",
        ">>> try:\n",
        "...     d.x = \"baz\"\n",
        "... except FrozenInstanceError as e:\n",
        "...     print(e)\n",
        "...\n",
        "cannot assign to field 'x'\n",
        ">>> try:\n",
        "...     d.z = \"baz\"\n",
        "... except FrozenInstanceError as e:\n",
        "...     print(e)\n",
        "...\n",
        "cannot assign to field 'z'"
      ],
      "execution_count": 0,
      "outputs": []
    },
    {
      "cell_type": "markdown",
      "metadata": {
        "id": "nWTR3yeRzecs",
        "colab_type": "text"
      },
      "source": [
        "# Meta classes"
      ]
    },
    {
      "cell_type": "code",
      "metadata": {
        "id": "38wtjqgqzfjL",
        "colab_type": "code",
        "outputId": "f1ba3846-538e-44cc-dfe1-4abae767edef",
        "colab": {
          "base_uri": "https://localhost:8080/",
          "height": 248
        }
      },
      "source": [
        "\"\"\"\n",
        "MyClass uses MyMeta as metaclass\n",
        "\"\"\"\n",
        "\n",
        "class MyMeta(type):\n",
        "    def __new__(cls, name, bases, attr):\n",
        "        \"\"\"\n",
        "        Change the attr dict to dynamically add methods and attributes\n",
        "        \"\"\"\n",
        "        print('MyMeta.__new__', cls, name, bases, attr)\n",
        "        def g1(self):\n",
        "            print('g1() defined in MyMeta.__new__')\n",
        "            return self.x * -10\n",
        "        attr['g1'] = g1\n",
        "        name += 'Amended' # manipulate class name\n",
        "        return super().__new__(cls, name, bases, attr)\n",
        "    \n",
        "    \n",
        "    def __init__(cls, name, bases, attr):\n",
        "        \"\"\"\n",
        "        http://stackoverflow.com/questions/1840421/is-there-any-reason-to-choose-new-over-init-when-defining-a-metaclass\n",
        "        \n",
        "        If you want to alter the attributes dict before the class is created, \n",
        "        or change the bases tuple, you have to use __new__. \n",
        "        By the time __init__ sees the arguments, the class object already exists. \n",
        "        Also, you have to use __new__ if you want to return something other than \n",
        "        a newly created class of the type in question.\n",
        "\n",
        "        On the other hand, by the time __init__ runs, the class does exist. \n",
        "        Thus, you can do things like give a reference to the just-created class \n",
        "        to one of its member objects.\n",
        "        \n",
        "        __new__ can do everything that __init__ can do, but not the other way around. \n",
        "        __init__ can be more convenient to use though\n",
        "        \"\"\"\n",
        "        print('MyMeta.__init__', cls, name, bases, attr)\n",
        "        # WARNING: this line has NO EFFECT, instantiated class will NOT have g2()!\n",
        "        attr['g2_no_effect'] = lambda self: self.x * -20\n",
        "        name = 'RenameClassInInitHasNoEffect'\n",
        "        super().__init__(name, bases, attr)\n",
        "        # you can add attrs to class\n",
        "        cls.g3 = lambda self: self.x * -30\n",
        "    \n",
        "    \n",
        "    def __call__(cls, *args, **kwargs):\n",
        "        \"\"\"\n",
        "        http://stackoverflow.com/a/39363704/3453033\n",
        "        \n",
        "        Make sure a method always gets called *after* any subclass's __init__\n",
        "        metaclass's __call__ calls class's __new__ and then __init__, before \n",
        "        it returns a fully created instance\n",
        "\n",
        "        __call__'s signature: (cls, *obj_init_args and kwargs)\n",
        "        type.__call__ means an instantiated type is being called: type(...)()\n",
        "        == a class is being called on args and kwargs\n",
        "        == an object of that class is being instantiated\n",
        "        \"\"\"\n",
        "        obj = super().__call__(*args, **kwargs)\n",
        "        print('MyMeta.__call__', obj, 'instantiated')\n",
        "        # now do anything immediately *after* obj.__init__()\n",
        "        if cls.__name__ != 'BaseClass': # not base class\n",
        "            obj.my_after_call() # directly manipulate obj *instance*\n",
        "            pass\n",
        "        return obj\n",
        "\n",
        "\n",
        "class MyClass(metaclass=MyMeta):\n",
        "    def __new__(cls, *args, **kwargs):\n",
        "        \"\"\"\n",
        "        - https://concentricsky.com/articles/detail/pythons-hidden-new\n",
        "          explains the incredible power of __new__\n",
        "\n",
        "        ALWAYS use *args, **kwargs in __new__ signature, because subclasses \n",
        "        might have different __init__ parameters.\n",
        "        \n",
        "        __new__ is useful when you want to enforce certain properties even when\n",
        "        your subclasses forget to call super().__init__()\n",
        "        \"\"\"\n",
        "        print('MyClass.__new__', cls, args, kwargs)\n",
        "        obj = super().__new__(cls)\n",
        "        obj.y = 1000 + args[0] # args[0] is __init__(x)\n",
        "        # when defined on instance, should not include `self`\n",
        "        obj.f3 = lambda : obj.x + 30\n",
        "        # when defined on class, must include `self`\n",
        "        cls.f4 = lambda self: self.x + 40\n",
        "        return obj\n",
        "    \n",
        "    \n",
        "    def __init__(self, x):\n",
        "        # self.y already exists BEFORE __init__ !\n",
        "        assert hasattr(self, 'y') and self.y == 1000 + x\n",
        "        print('MyClass.__init__: x=', x, 'y=', self.y)\n",
        "        self.x = x\n",
        "        # when defined on instance, should not include `self`\n",
        "        self.f5 = lambda : self.x + 50\n",
        "    \n",
        "    def f1(self):\n",
        "        return self.x + 10\n",
        "\n",
        "    def f2(self):\n",
        "        return self.x + 20\n",
        "    \n",
        "    def my_after_call(self):\n",
        "        print('MyClass.my_after_call: x=', self.x, 'y=', self.y)\n",
        "\n",
        "\n",
        "print('----- begin instantiation -----')\n",
        "assert MyClass.__name__ == 'MyClassAmended'\n",
        "obj = MyClass(6)\n",
        "assert obj.f1() == 16\n",
        "assert obj.f2() == 26\n",
        "assert obj.f3() == 36\n",
        "assert obj.f4() == 46\n",
        "assert obj.f5() == 56\n",
        "assert obj.g1() == -60\n",
        "assert not hasattr(obj, 'g2')\n",
        "assert obj.g3() == -180\n",
        "assert obj.y == 1000 + 6\n",
        "\n",
        "obj2 = MyClass(8)\n",
        "assert obj2.y == 1000 + 8"
      ],
      "execution_count": 0,
      "outputs": [
        {
          "output_type": "stream",
          "text": [
            "MyMeta.__new__ <class '__main__.MyMeta'> MyClass () {'__module__': '__main__', '__qualname__': 'MyClass', '__new__': <function MyClass.__new__ at 0x7ff89680c048>, '__init__': <function MyClass.__init__ at 0x7ff89680c0d0>, 'f1': <function MyClass.f1 at 0x7ff89680c158>, 'f2': <function MyClass.f2 at 0x7ff89680cf28>, 'my_after_call': <function MyClass.my_after_call at 0x7ff89680cea0>, '__classcell__': <cell at 0x7ff896819cd8: empty>}\n",
            "MyMeta.__init__ <class '__main__.MyClass'> MyClass () {'__module__': '__main__', '__qualname__': 'MyClass', '__new__': <function MyClass.__new__ at 0x7ff89680c048>, '__init__': <function MyClass.__init__ at 0x7ff89680c0d0>, 'f1': <function MyClass.f1 at 0x7ff89680c158>, 'f2': <function MyClass.f2 at 0x7ff89680cf28>, 'my_after_call': <function MyClass.my_after_call at 0x7ff89680cea0>, '__classcell__': <cell at 0x7ff896819cd8: MyMeta object at 0x2dd5c18>, 'g1': <function MyMeta.__new__.<locals>.g1 at 0x7ff89680c840>}\n",
            "----- begin instantiation -----\n",
            "MyClass.__new__ <class '__main__.MyClass'> (6,) {}\n",
            "MyClass.__init__: x= 6 y= 1006\n",
            "MyMeta.__call__ <__main__.MyClass object at 0x7ff895f9d5f8> instantiated\n",
            "MyClass.my_after_call: x= 6 y= 1006\n",
            "g1() defined in MyMeta.__new__\n",
            "MyClass.__new__ <class '__main__.MyClass'> (8,) {}\n",
            "MyClass.__init__: x= 8 y= 1008\n",
            "MyMeta.__call__ <__main__.MyClass object at 0x7ff895f9ff60> instantiated\n",
            "MyClass.my_after_call: x= 8 y= 1008\n"
          ],
          "name": "stdout"
        }
      ]
    },
    {
      "cell_type": "code",
      "metadata": {
        "id": "uEy0_5FAzowx",
        "colab_type": "code",
        "outputId": "9f8738c9-16ab-4420-d592-4ece2523f825",
        "colab": {
          "base_uri": "https://localhost:8080/",
          "height": 34
        }
      },
      "source": [
        "\"\"\"\n",
        "More concrete examples\n",
        "\"\"\"\n",
        "\n",
        "class Gimme5(object):\n",
        "    def __new__(cls, *args, **kwargs):\n",
        "        print('Gimme5.__new__', args, kwargs)\n",
        "        return 5\n",
        "    \n",
        "    def __init__(self, whatever):\n",
        "        raise RuntimeError('SHOULD NOT BE CALLED')\n",
        "\n",
        "assert Gimme5('yo') is 5\n",
        "\n",
        "\n",
        "class MonsterA(object):\n",
        "    \"\"\"\n",
        "    Monstrous abuse of __new__:\n",
        "    https://concentricsky.com/articles/detail/pythons-hidden-new\n",
        "    \"\"\"\n",
        "    def __new__(cls, *args, **kwargs):\n",
        "        return super(MonsterA,cls).__new__(MonsterB)\n",
        "\n",
        "    def __init__(self):\n",
        "        # init will NOT be called when __new__ returns an incompatible type\n",
        "        self.name = \"MonsterA\"\n",
        "\n",
        "\n",
        "class MonsterB(object):\n",
        "    def __new__(cls, *args, **kwargs):\n",
        "        return super(MonsterB,cls).__new__(MonsterA)\n",
        "\n",
        "    def __init__(self):\n",
        "        self.name = \"MonsterB\"\n",
        "\n",
        "\n",
        "a = MonsterA()\n",
        "b = MonsterB()\n",
        "assert type(a) == MonsterB\n",
        "assert type(b) == MonsterA\n",
        "assert hasattr(a, 'name') is False\n",
        "assert hasattr(b, 'name') is False"
      ],
      "execution_count": 0,
      "outputs": [
        {
          "output_type": "stream",
          "text": [
            "Gimme5.__new__ ('yo',) {}\n"
          ],
          "name": "stdout"
        }
      ]
    },
    {
      "cell_type": "code",
      "metadata": {
        "id": "lig894DzziGU",
        "colab_type": "code",
        "colab": {}
      },
      "source": [
        ""
      ],
      "execution_count": 0,
      "outputs": []
    },
    {
      "cell_type": "markdown",
      "metadata": {
        "id": "710iD1buwZqw",
        "colab_type": "text"
      },
      "source": [
        "# walrus"
      ]
    },
    {
      "cell_type": "code",
      "metadata": {
        "id": "S8lsznktwapi",
        "colab_type": "code",
        "colab": {}
      },
      "source": [
        "foo = [y := f(x), y**2, y**3]\n",
        "\n",
        "results = [y for x in data if (y := f(x))]\n",
        "\n",
        "if (match := pattern.search(data)):\n",
        "  do_something(match)"
      ],
      "execution_count": 0,
      "outputs": []
    },
    {
      "cell_type": "markdown",
      "metadata": {
        "id": "LXvtL5bsh9e3",
        "colab_type": "text"
      },
      "source": [
        "# return conditional"
      ]
    },
    {
      "cell_type": "code",
      "metadata": {
        "id": "D1KBgmWOiAGh",
        "colab_type": "code",
        "colab": {}
      },
      "source": [
        "# This statement:\n",
        "if x < 5:\n",
        "    return 10\n",
        "else:\n",
        "    return 20\n",
        "\n",
        "# Can be reduced to this one:\n",
        "return 10 if x < 5 else 20"
      ],
      "execution_count": 0,
      "outputs": []
    },
    {
      "cell_type": "markdown",
      "metadata": {
        "id": "l0NdcF2LiA5Q",
        "colab_type": "text"
      },
      "source": [
        "# singleton"
      ]
    },
    {
      "cell_type": "code",
      "metadata": {
        "id": "3IqXKn78m0-n",
        "colab_type": "code",
        "outputId": "a9cdbc2b-c1ae-4d68-b3f3-56d52a7c8ac6",
        "colab": {
          "base_uri": "https://localhost:8080/",
          "height": 69
        }
      },
      "source": [
        "class Tigger:\n",
        "\n",
        "    def __str__(self):\n",
        "        return \"I'm the only one!\"\n",
        "\n",
        "    def roar(self):\n",
        "        return 'Grrr!'\n",
        "\n",
        "a = Tigger()\n",
        "b = Tigger()\n",
        "\n",
        "print(f'ID(a) = {id(a)}')\n",
        "print(f'ID(b) = {id(b)}')\n",
        "print(f'Are they the same object? {a is b}')"
      ],
      "execution_count": 0,
      "outputs": [
        {
          "output_type": "stream",
          "text": [
            "ID(a) = 140326648637312\n",
            "ID(b) = 140326648635576\n",
            "Are they the same object? False\n"
          ],
          "name": "stdout"
        }
      ]
    },
    {
      "cell_type": "code",
      "metadata": {
        "id": "qk3UbvmUofoK",
        "colab_type": "code",
        "colab": {}
      },
      "source": [
        "class _Tigger:\n",
        "  def __str__(self):\n",
        "    return \"I'm the only one\"\n",
        "  def roar(self):\n",
        "    return 'Grrr!'\n",
        "\n",
        "_instance = None\n",
        "\n",
        "def Tigger():\n",
        "  global _instance\n",
        "  if _instance is None:\n",
        "    print(\"sas\")\n",
        "    _instance = _Tigger()\n",
        "  return _instance\n",
        "\n",
        "a = Tigger()\n",
        "b = Tigger()\n",
        "\n",
        "print(f'ID(a) = {id(a)}')\n",
        "print(f'ID(b) = {id(b)}')\n",
        "print(f'Are they the same object? {a is b}')"
      ],
      "execution_count": 0,
      "outputs": []
    },
    {
      "cell_type": "markdown",
      "metadata": {
        "id": "yFGHO2wRqMN3",
        "colab_type": "text"
      },
      "source": [
        "# ABC abstract base class"
      ]
    },
    {
      "cell_type": "code",
      "metadata": {
        "id": "qGwhLL0HqO-e",
        "colab_type": "code",
        "colab": {}
      },
      "source": [
        "from abc import ABC, abstractmethod\n",
        "class AverageCalculator(ABC): \n",
        "\n",
        "    def average(self): \n",
        "        try:\n",
        "            num_items = 0\n",
        "            total_sum = 0\n",
        "            while self.has_next():\n",
        "                total_sum += self.next_item()\n",
        "                num_items += 1\n",
        "            if num_items == 0:\n",
        "                raise RuntimeError(\"Can't compute the average of zero items.\")\n",
        "            return total_sum / num_items\n",
        "        finally:\n",
        "            self.dispose()\n",
        "\n",
        "    @abstractmethod\n",
        "    def has_next(self): \n",
        "        pass\n",
        "\n",
        "    @abstractmethod\n",
        "    def next_item(self): \n",
        "        pass\n",
        "\n",
        "    def dispose(self): \n",
        "        pass"
      ],
      "execution_count": 0,
      "outputs": []
    },
    {
      "cell_type": "code",
      "metadata": {
        "id": "CnVvdRoxsEQC",
        "colab_type": "code",
        "colab": {}
      },
      "source": [
        "class FileAverageCalculator(AverageCalculator):\n",
        "\n",
        "    def __init__(self, file): \n",
        "        self.file = file\n",
        "        self.last_line = self.file.readline() \n",
        "\n",
        "    def has_next(self):\n",
        "        return self.last_line != '' \n",
        "\n",
        "    def next_item(self):\n",
        "        result = float(self.last_line)\n",
        "        self.last_line = self.file.readline() \n",
        "        return result\n",
        "\n",
        "    def dispose(self):\n",
        "        self.file.close()"
      ],
      "execution_count": 0,
      "outputs": []
    },
    {
      "cell_type": "markdown",
      "metadata": {
        "id": "Xfi3z8hjwy5i",
        "colab_type": "text"
      },
      "source": [
        "# Adapter Design Pattern"
      ]
    },
    {
      "cell_type": "code",
      "metadata": {
        "id": "GDzTFmvUw0vl",
        "colab_type": "code",
        "colab": {}
      },
      "source": [
        "g = (2 ** i for i in range(10))"
      ],
      "execution_count": 0,
      "outputs": []
    },
    {
      "cell_type": "code",
      "metadata": {
        "id": "5vAbwvAoxb6T",
        "colab_type": "code",
        "outputId": "22e0d360-4ab2-472a-8844-380fbd24762a",
        "colab": {
          "base_uri": "https://localhost:8080/",
          "height": 34
        }
      },
      "source": [
        "next(g)"
      ],
      "execution_count": 0,
      "outputs": [
        {
          "output_type": "execute_result",
          "data": {
            "text/plain": [
              "1"
            ]
          },
          "metadata": {
            "tags": []
          },
          "execution_count": 13
        }
      ]
    },
    {
      "cell_type": "code",
      "metadata": {
        "id": "Z6jIR4Z7xdib",
        "colab_type": "code",
        "outputId": "32687d25-c328-49fc-bf18-94855a1e8309",
        "colab": {
          "base_uri": "https://localhost:8080/",
          "height": 34
        }
      },
      "source": [
        "next(g)"
      ],
      "execution_count": 0,
      "outputs": [
        {
          "output_type": "execute_result",
          "data": {
            "text/plain": [
              "2"
            ]
          },
          "metadata": {
            "tags": []
          },
          "execution_count": 14
        }
      ]
    },
    {
      "cell_type": "code",
      "metadata": {
        "id": "30SFdNhNxePq",
        "colab_type": "code",
        "outputId": "f99ae9cf-1d54-4fdb-da31-61f1e35759d9",
        "colab": {
          "base_uri": "https://localhost:8080/",
          "height": 34
        }
      },
      "source": [
        "next(g)"
      ],
      "execution_count": 0,
      "outputs": [
        {
          "output_type": "execute_result",
          "data": {
            "text/plain": [
              "4"
            ]
          },
          "metadata": {
            "tags": []
          },
          "execution_count": 15
        }
      ]
    },
    {
      "cell_type": "code",
      "metadata": {
        "id": "tseEOo1Hxe-i",
        "colab_type": "code",
        "outputId": "5dd9199a-ebc7-4b2f-d51c-c0019a6fe535",
        "colab": {
          "base_uri": "https://localhost:8080/",
          "height": 34
        }
      },
      "source": [
        "list(g)"
      ],
      "execution_count": 0,
      "outputs": [
        {
          "output_type": "execute_result",
          "data": {
            "text/plain": [
              "[8, 16, 32, 64, 128, 256, 512]"
            ]
          },
          "metadata": {
            "tags": []
          },
          "execution_count": 16
        }
      ]
    },
    {
      "cell_type": "code",
      "metadata": {
        "id": "6vAc0jo0zNMX",
        "colab_type": "code",
        "colab": {}
      },
      "source": [
        "class AverageCalculator(ABC): \n",
        "\n",
        "    def average(self): \n",
        "        try:\n",
        "            num_items = 0\n",
        "            total_sum = 0\n",
        "            while self.has_next():\n",
        "                total_sum += self.next_item()\n",
        "                num_items += 1\n",
        "            if num_items == 0:\n",
        "                raise RuntimeError(\"Can't compute the average of zero items.\")\n",
        "            return total_sum / num_items\n",
        "        finally:\n",
        "            self.dispose()\n",
        "\n",
        "    @abstractmethod\n",
        "    def has_next(self): \n",
        "        pass\n",
        "\n",
        "    @abstractmethod\n",
        "    def next_item(self): \n",
        "        pass\n",
        "\n",
        "    def dispose(self): \n",
        "        pass"
      ],
      "execution_count": 0,
      "outputs": []
    },
    {
      "cell_type": "code",
      "metadata": {
        "id": "VJIbESKSzMEq",
        "colab_type": "code",
        "colab": {}
      },
      "source": [
        "class FileAverageCalculator(AverageCalculator):\n",
        "\n",
        "    def __init__(self, file): \n",
        "        self.file = file\n",
        "        self.last_line = self.file.readline() \n",
        "\n",
        "    def has_next(self):\n",
        "        return self.last_line != '' \n",
        "\n",
        "    def next_item(self):\n",
        "        result = float(self.last_line)\n",
        "        self.last_line = self.file.readline() \n",
        "        return result\n",
        "\n",
        "    def dispose(self):\n",
        "        self.file.close()"
      ],
      "execution_count": 0,
      "outputs": []
    },
    {
      "cell_type": "code",
      "metadata": {
        "id": "5kwqiKAExgLo",
        "colab_type": "code",
        "colab": {}
      },
      "source": [
        "class GeneratorAdapter:\n",
        "\n",
        "    def __init__(self, adaptee): \n",
        "        self.adaptee = adaptee\n",
        "\n",
        "    def readline(self):\n",
        "        try:\n",
        "            return next(self.adaptee) \n",
        "        except StopIteration:\n",
        "            return '' \n",
        "\n",
        "    def close(self): \n",
        "        pass"
      ],
      "execution_count": 0,
      "outputs": []
    },
    {
      "cell_type": "code",
      "metadata": {
        "id": "3fmZNupzzG5W",
        "colab_type": "code",
        "outputId": "6440b8de-4822-473a-bacf-52d18a11e301",
        "colab": {
          "base_uri": "https://localhost:8080/",
          "height": 34
        }
      },
      "source": [
        "from random import randint\n",
        "\n",
        "g = (randint(1, 100) for i in range(1000000)) \n",
        "fac = FileAverageCalculator(GeneratorAdapter(g)) \n",
        "print(fac.average()) # Call the template method"
      ],
      "execution_count": 0,
      "outputs": [
        {
          "output_type": "stream",
          "text": [
            "50.519254\n"
          ],
          "name": "stdout"
        }
      ]
    },
    {
      "cell_type": "code",
      "metadata": {
        "id": "Ri9gHfglzmR_",
        "colab_type": "code",
        "colab": {}
      },
      "source": [
        "class Duck:\n",
        "  def quack(self):\n",
        "    print('quack')\n",
        "  \n",
        "  def fly(self):\n",
        "    print(\"I'm flying\")"
      ],
      "execution_count": 0,
      "outputs": []
    },
    {
      "cell_type": "code",
      "metadata": {
        "id": "uI36b1Bo1JjO",
        "colab_type": "code",
        "colab": {}
      },
      "source": [
        "class Turkey:\n",
        "  def gobble(self):\n",
        "    print('gobble gobble')\n",
        "  def fly(self):\n",
        "    print(\"I'm flying a short distance\")"
      ],
      "execution_count": 0,
      "outputs": []
    },
    {
      "cell_type": "code",
      "metadata": {
        "id": "bVIDtXZY1Q4u",
        "colab_type": "code",
        "colab": {}
      },
      "source": [
        "class TurkeyAdapter:\n",
        "  def __init__(self, adaptee):\n",
        "    self.adaptee = adaptee\n",
        "  def quack(self):\n",
        "    self.adaptee.gobble()\n",
        "  def fly(self):\n",
        "    for i in range(5):\n",
        "      self.adaptee.fly()"
      ],
      "execution_count": 0,
      "outputs": []
    },
    {
      "cell_type": "code",
      "metadata": {
        "id": "9gHEWdl81n9P",
        "colab_type": "code",
        "colab": {}
      },
      "source": [
        "def duck_interaction(duck):\n",
        "  duck.quack()\n",
        "  duck.fly()"
      ],
      "execution_count": 0,
      "outputs": []
    },
    {
      "cell_type": "code",
      "metadata": {
        "id": "TIrYd-ov1slh",
        "colab_type": "code",
        "colab": {}
      },
      "source": [
        "duck = Duck()\n",
        "turkey = Turkey()\n",
        "turkey_adapter = TurkeyAdapter(turkey)"
      ],
      "execution_count": 0,
      "outputs": []
    },
    {
      "cell_type": "code",
      "metadata": {
        "id": "JTA7WnMM2ADs",
        "colab_type": "code",
        "outputId": "9a3ba865-985f-4330-98bf-7e9ce312a3e9",
        "colab": {
          "base_uri": "https://localhost:8080/",
          "height": 69
        }
      },
      "source": [
        "print('The turkey says...')\n",
        "turkey.gobble()\n",
        "turkey.fly()"
      ],
      "execution_count": 0,
      "outputs": [
        {
          "output_type": "stream",
          "text": [
            "The turkey says...\n",
            "gobble gobble\n",
            "I'm flying a short distance\n"
          ],
          "name": "stdout"
        }
      ]
    },
    {
      "cell_type": "code",
      "metadata": {
        "id": "DCRVZCGh2Fyx",
        "colab_type": "code",
        "outputId": "2daef702-133b-4757-c19b-6c5d03816efe",
        "colab": {
          "base_uri": "https://localhost:8080/",
          "height": 86
        }
      },
      "source": [
        "print('\\nThe Duck says...')\n",
        "duck_interaction(duck)"
      ],
      "execution_count": 0,
      "outputs": [
        {
          "output_type": "stream",
          "text": [
            "\n",
            "The Duck says...\n",
            "quack\n",
            "I'm flying\n"
          ],
          "name": "stdout"
        }
      ]
    },
    {
      "cell_type": "code",
      "metadata": {
        "id": "8kSmYFEH2LCy",
        "colab_type": "code",
        "outputId": "12e7c185-c6b7-4eae-f4b5-69fc3a08a4bf",
        "colab": {
          "base_uri": "https://localhost:8080/",
          "height": 155
        }
      },
      "source": [
        "print('\\nThe TurkeyAdapter says...')\n",
        "duck_interaction(turkey_adapter)"
      ],
      "execution_count": 0,
      "outputs": [
        {
          "output_type": "stream",
          "text": [
            "\n",
            "The TurkeyAdapter says...\n",
            "gobble gobble\n",
            "I'm flying a short distance\n",
            "I'm flying a short distance\n",
            "I'm flying a short distance\n",
            "I'm flying a short distance\n",
            "I'm flying a short distance\n"
          ],
          "name": "stdout"
        }
      ]
    },
    {
      "cell_type": "markdown",
      "metadata": {
        "id": "lXNLx0q_2sXi",
        "colab_type": "text"
      },
      "source": [
        "# Observer"
      ]
    },
    {
      "cell_type": "code",
      "metadata": {
        "id": "9fD1d8Wv2vBU",
        "colab_type": "code",
        "colab": {}
      },
      "source": [
        "from abc import ABC, abstractmethod\n",
        "\n",
        "\n",
        "class Observer(ABC):\n",
        "\n",
        "    @abstractmethod\n",
        "    def update(self, observable, *args):\n",
        "        pass\n",
        "\n",
        "\n",
        "class Observable:\n",
        "\n",
        "    def __init__(self):\n",
        "        self.__observers = []\n",
        "\n",
        "    def add_observer(self, observer):\n",
        "        self.__observers.append(observer)\n",
        "\n",
        "    def delete_observer(self, observer):\n",
        "        self.__observers.remove(observer)\n",
        "\n",
        "    def notify_observers(self, *args):\n",
        "        for observer in self.__observers:\n",
        "            observer.update(self, *args)"
      ],
      "execution_count": 0,
      "outputs": []
    },
    {
      "cell_type": "code",
      "metadata": {
        "id": "Bu5lHVc934dm",
        "colab_type": "code",
        "colab": {}
      },
      "source": [
        "class Employee(Observable): \n",
        "\n",
        "    def __init__(self, name, salary):\n",
        "        super().__init__() \n",
        "        self._name = name\n",
        "        self._salary = salary\n",
        "\n",
        "    @property\n",
        "    def name(self):\n",
        "        return self._name\n",
        "\n",
        "    @property\n",
        "    def salary(self):\n",
        "        return self._salary\n",
        "\n",
        "    @salary.setter\n",
        "    def salary(self, new_salary):\n",
        "        self._salary = new_salary\n",
        "        self.notify_observers(new_salary) \n",
        "\n",
        "\n",
        "class Payroll(Observer): \n",
        "\n",
        "    def update(self, changed_employee, new_salary):\n",
        "        print(f'Cut a new check for {changed_employee.name}! '\n",
        "            f'Her/his salary is now {new_salary}!')\n",
        "\n",
        "\n",
        "class TaxMan(Observer): \n",
        "\n",
        "    def update(self, changed_employee, new_salary):\n",
        "        print(f'Send {changed_employee.name} a new tax bill!')"
      ],
      "execution_count": 0,
      "outputs": []
    },
    {
      "cell_type": "code",
      "metadata": {
        "id": "UfEcRXqC5SyS",
        "colab_type": "code",
        "outputId": "533027c0-bd85-42a7-d6ad-428ed67cebc3",
        "colab": {
          "base_uri": "https://localhost:8080/",
          "height": 121
        }
      },
      "source": [
        "\n",
        "\n",
        "e = Employee('Amy Fowler Fawcett', 50000)\n",
        "p = Payroll()\n",
        "t = TaxMan()\n",
        "\n",
        "e.add_observer(p)\n",
        "e.add_observer(t)\n",
        "\n",
        "print('Update 1')\n",
        "e.salary = 60000\n",
        "\n",
        "e.delete_observer(t)\n",
        "\n",
        "print('\\nUpdate 2')\n",
        "e.salary = 65000\n",
        "\n"
      ],
      "execution_count": 0,
      "outputs": [
        {
          "output_type": "stream",
          "text": [
            "Update 1\n",
            "Cut a new check for Amy Fowler Fawcett! Her/his salary is now 60000!\n",
            "Send Amy Fowler Fawcett a new tax bill!\n",
            "\n",
            "Update 2\n",
            "Cut a new check for Amy Fowler Fawcett! Her/his salary is now 65000!\n"
          ],
          "name": "stdout"
        }
      ]
    },
    {
      "cell_type": "markdown",
      "metadata": {
        "id": "P_1BaaCVGMc5",
        "colab_type": "text"
      },
      "source": [
        "# oop array"
      ]
    },
    {
      "cell_type": "code",
      "metadata": {
        "id": "d6oBSs6P5aYp",
        "colab_type": "code",
        "colab": {}
      },
      "source": [
        "class TwilightBus:\n",
        "  \n",
        "  def __init__(self, passengers=None):\n",
        "    if passengers is None:\n",
        "      self.passengers = []\n",
        "    else:\n",
        "      self.passengers = list(passengers)\n",
        "      \n",
        "    # list(passengers) if passengers else None\n",
        "  \n",
        "  def pick(self, name):\n",
        "    self.passengers.append(name)\n",
        "  \n",
        "  def drop(self, name):\n",
        "    self.passengers.remove(name)"
      ],
      "execution_count": 0,
      "outputs": []
    },
    {
      "cell_type": "code",
      "metadata": {
        "id": "MEE0rj7LGh6o",
        "colab_type": "code",
        "outputId": "d8cfc4fc-5535-4c79-efc7-217f8fc1de9b",
        "colab": {
          "base_uri": "https://localhost:8080/",
          "height": 34
        }
      },
      "source": [
        "hockey_team = ['1', '2', '3', '4', '5']\n",
        "bus = TwilightBus(hockey_team)\n",
        "bus.passengers"
      ],
      "execution_count": 0,
      "outputs": [
        {
          "output_type": "execute_result",
          "data": {
            "text/plain": [
              "['1', '2', '3', '4', '5']"
            ]
          },
          "metadata": {
            "tags": []
          },
          "execution_count": 38
        }
      ]
    },
    {
      "cell_type": "markdown",
      "metadata": {
        "id": "r8iBd53PHFMb",
        "colab_type": "text"
      },
      "source": [
        "# namedtuple"
      ]
    },
    {
      "cell_type": "code",
      "metadata": {
        "id": "q2ALw1pFH01X",
        "colab_type": "code",
        "outputId": "28d14d67-196b-4aa0-fbbc-467f441d6d9c",
        "colab": {
          "base_uri": "https://localhost:8080/",
          "height": 34
        }
      },
      "source": [
        "from collections import namedtuple\n",
        "Coordinate = namedtuple('Coordinate', 'lat long')\n",
        "cle = Coordinate(41.40, -81.85)\n",
        "cle"
      ],
      "execution_count": 0,
      "outputs": [
        {
          "output_type": "execute_result",
          "data": {
            "text/plain": [
              "Coordinate(lat=41.4, long=-81.85)"
            ]
          },
          "metadata": {
            "tags": []
          },
          "execution_count": 39
        }
      ]
    },
    {
      "cell_type": "code",
      "metadata": {
        "id": "Xd-RkReVH-Bb",
        "colab_type": "code",
        "outputId": "fb73fe39-c7ec-4094-984e-b687c0e22fca",
        "colab": {
          "base_uri": "https://localhost:8080/",
          "height": 34
        }
      },
      "source": [
        "latitude, longitude = cle\n",
        "latitude"
      ],
      "execution_count": 0,
      "outputs": [
        {
          "output_type": "execute_result",
          "data": {
            "text/plain": [
              "41.4"
            ]
          },
          "metadata": {
            "tags": []
          },
          "execution_count": 40
        }
      ]
    },
    {
      "cell_type": "code",
      "metadata": {
        "id": "OmeCQhAsIBlZ",
        "colab_type": "code",
        "outputId": "b5aa8506-d44d-4237-9270-1296f067fc96",
        "colab": {
          "base_uri": "https://localhost:8080/",
          "height": 34
        }
      },
      "source": [
        "longitude"
      ],
      "execution_count": 0,
      "outputs": [
        {
          "output_type": "execute_result",
          "data": {
            "text/plain": [
              "-81.85"
            ]
          },
          "metadata": {
            "tags": []
          },
          "execution_count": 41
        }
      ]
    },
    {
      "cell_type": "code",
      "metadata": {
        "id": "-W3nzbEIICuI",
        "colab_type": "code",
        "outputId": "69555a13-7c50-45b2-fee9-555c35c3eb90",
        "colab": {
          "base_uri": "https://localhost:8080/",
          "height": 34
        }
      },
      "source": [
        "(latitude, longitude) == cle"
      ],
      "execution_count": 0,
      "outputs": [
        {
          "output_type": "execute_result",
          "data": {
            "text/plain": [
              "True"
            ]
          },
          "metadata": {
            "tags": []
          },
          "execution_count": 42
        }
      ]
    },
    {
      "cell_type": "markdown",
      "metadata": {
        "id": "davMRELXIl8n",
        "colab_type": "text"
      },
      "source": [
        "# typing NamedTuple"
      ]
    },
    {
      "cell_type": "code",
      "metadata": {
        "id": "stykAydBInte",
        "colab_type": "code",
        "colab": {}
      },
      "source": [
        "from typing import NamedTuple, ClassVar\n",
        "\n",
        "class Coordinate(NamedTuple):\n",
        "  lat: float = 0\n",
        "  long: float = 0\n",
        "  \n",
        "  reference_system = 'WGS84'\n",
        "  \n",
        "  def __str__(self):\n",
        "    ns = 'NS'[self.lat < 0]\n",
        "    we = 'EW'[self.long < 0]\n",
        "    return f'{abs(self.lat):.1f}{ns}'\n",
        "  "
      ],
      "execution_count": 0,
      "outputs": []
    },
    {
      "cell_type": "code",
      "metadata": {
        "id": "NYke3IujJIGV",
        "colab_type": "code",
        "colab": {}
      },
      "source": [
        "cle = Coordinate(2, 5)"
      ],
      "execution_count": 0,
      "outputs": []
    },
    {
      "cell_type": "code",
      "metadata": {
        "id": "H2HBVMNYkt9d",
        "colab_type": "code",
        "outputId": "cb365f1e-55f8-4110-80c1-1fb247cbb7f3",
        "colab": {
          "base_uri": "https://localhost:8080/",
          "height": 34
        }
      },
      "source": [
        "cle"
      ],
      "execution_count": 0,
      "outputs": [
        {
          "output_type": "execute_result",
          "data": {
            "text/plain": [
              "Coordinate(lat=2, long=5)"
            ]
          },
          "metadata": {
            "tags": []
          },
          "execution_count": 3
        }
      ]
    },
    {
      "cell_type": "markdown",
      "metadata": {
        "id": "I93tQ279i1YR",
        "colab_type": "text"
      },
      "source": [
        "# dataClasses"
      ]
    },
    {
      "cell_type": "code",
      "metadata": {
        "id": "GFtOBBGei3jN",
        "colab_type": "code",
        "colab": {}
      },
      "source": [
        "from dataclasses import dataclass\n",
        "from typing import ClassVar\n",
        "\n",
        "@dataclass\n",
        "class Coordinate:\n",
        "  lat: float\n",
        "  long: float = 0\n",
        "  \n",
        "  reference_system: ClassVar[str] = 'WGS84'\n",
        "  \n",
        "  def __str__(self):\n",
        "    ns = 'NS'[self.lat < 0]\n",
        "    we = 'WE'[self.long < 0]\n",
        "    return f'{abs(self.lat):.1f}{ns}'"
      ],
      "execution_count": 0,
      "outputs": []
    },
    {
      "cell_type": "code",
      "metadata": {
        "id": "UC7YMUzflgxY",
        "colab_type": "code",
        "colab": {}
      },
      "source": [
        "cle = Coordinate(10, 20)"
      ],
      "execution_count": 0,
      "outputs": []
    },
    {
      "cell_type": "code",
      "metadata": {
        "id": "sg1-J5DEl4i8",
        "colab_type": "code",
        "outputId": "6105d062-087e-4bdb-a93e-c220b30a6099",
        "colab": {
          "base_uri": "https://localhost:8080/",
          "height": 34
        }
      },
      "source": [
        "cle"
      ],
      "execution_count": 0,
      "outputs": [
        {
          "output_type": "execute_result",
          "data": {
            "text/plain": [
              "Coordinate(lat=10, long=20)"
            ]
          },
          "metadata": {
            "tags": []
          },
          "execution_count": 7
        }
      ]
    },
    {
      "cell_type": "code",
      "metadata": {
        "id": "M-UFkr9Wl5Eq",
        "colab_type": "code",
        "colab": {}
      },
      "source": [
        "from dataclasses import dataclass, field, fields\n",
        "from typing import List\n",
        "\n",
        "@dataclass\n",
        "class Resource:\n",
        "  \"\"\"\n",
        "  media resource description\n",
        "  \"\"\"\n",
        "  identifier: str = \"0\" * 13\n",
        "  title: str = \"<untitled>\"\n",
        "  creators: List[str] = field(default_factory=list)\n",
        "  date: str = \"\"\n",
        "  type: str = \"\"\n",
        "  description: str = \"\"\n",
        "  language: str = \"\"\n",
        "  subjects: List[str] = field(default_factory=list)\n",
        "  \n",
        "  def __repr__(self):\n",
        "    cls = self.__class__\n",
        "    cls_name = cls.__name__\n",
        "    res = ['f{cls_name}(']\n",
        "    for field in fields(cls):\n",
        "      value = getattr(self, field.name)\n",
        "      res.append(f' {field.name} = {value!r},')\n",
        "    res.append(f')')\n",
        "    return '\\n'.join(res)    "
      ],
      "execution_count": 0,
      "outputs": []
    },
    {
      "cell_type": "code",
      "metadata": {
        "id": "E6TQyCmrsDW3",
        "colab_type": "code",
        "outputId": "34927187-1bb7-4d6d-c59d-27f922a5bb67",
        "colab": {
          "base_uri": "https://localhost:8080/",
          "height": 190
        }
      },
      "source": [
        "description = 'A hands-on guide to idiomatic Python code.'\n",
        "book = Resource('9781491946008', 'Fluent Python', \n",
        "    ['Luciano Ramalho'], '2015-08-20', 'book', description,\n",
        "    'EN', ['computer programming', 'Python'])\n",
        "book"
      ],
      "execution_count": 0,
      "outputs": [
        {
          "output_type": "execute_result",
          "data": {
            "text/plain": [
              "f{cls_name}(\n",
              " identifier = '9781491946008',\n",
              " title = 'Fluent Python',\n",
              " creators = ['Luciano Ramalho'],\n",
              " date = '2015-08-20',\n",
              " type = 'book',\n",
              " description = 'A hands-on guide to idiomatic Python code.',\n",
              " language = 'EN',\n",
              " subjects = ['computer programming', 'Python'],\n",
              ")"
            ]
          },
          "metadata": {
            "tags": []
          },
          "execution_count": 14
        }
      ]
    },
    {
      "cell_type": "code",
      "metadata": {
        "id": "8CEcm19fsGfL",
        "colab_type": "code",
        "outputId": "e29d9baf-bc6e-4710-f7ec-060949043e33",
        "colab": {
          "base_uri": "https://localhost:8080/",
          "height": 190
        }
      },
      "source": [
        "empty = Resource()\n",
        "empty"
      ],
      "execution_count": 0,
      "outputs": [
        {
          "output_type": "execute_result",
          "data": {
            "text/plain": [
              "f{cls_name}(\n",
              " identifier = '0000000000000',\n",
              " title = '<untitled>',\n",
              " creators = [],\n",
              " date = '',\n",
              " type = '',\n",
              " description = '',\n",
              " language = '',\n",
              " subjects = [],\n",
              ")"
            ]
          },
          "metadata": {
            "tags": []
          },
          "execution_count": 15
        }
      ]
    },
    {
      "cell_type": "code",
      "metadata": {
        "id": "yOM0oWz9oiQJ",
        "colab_type": "code",
        "colab": {}
      },
      "source": [
        "field?"
      ],
      "execution_count": 0,
      "outputs": []
    },
    {
      "cell_type": "markdown",
      "metadata": {
        "id": "pnz4IZLwqvP7",
        "colab_type": "text"
      },
      "source": [
        "# private attributes"
      ]
    },
    {
      "cell_type": "code",
      "metadata": {
        "id": "gB7tbWDJqwnd",
        "colab_type": "code",
        "outputId": "5992b346-40ec-4e3c-a0b2-d5b0b3c37d04",
        "colab": {
          "base_uri": "https://localhost:8080/",
          "height": 34
        }
      },
      "source": [
        "class BlackBox:\n",
        "  \n",
        "  def __init__(self, top_content, bottom_content):\n",
        "    self._top = top_content\n",
        "    self.__bottom = bottom_content\n",
        "\n",
        "b = BlackBox('gold', 'diamonds')\n",
        "b._top"
      ],
      "execution_count": 0,
      "outputs": [
        {
          "output_type": "execute_result",
          "data": {
            "text/plain": [
              "'gold'"
            ]
          },
          "metadata": {
            "tags": []
          },
          "execution_count": 18
        }
      ]
    },
    {
      "cell_type": "code",
      "metadata": {
        "id": "UEiGrzSerCdm",
        "colab_type": "code",
        "outputId": "5d30a0d7-026b-468b-9b70-1df459f883cf",
        "colab": {
          "base_uri": "https://localhost:8080/",
          "height": 34
        }
      },
      "source": [
        "hasattr(b, '__bottom')"
      ],
      "execution_count": 0,
      "outputs": [
        {
          "output_type": "execute_result",
          "data": {
            "text/plain": [
              "False"
            ]
          },
          "metadata": {
            "tags": []
          },
          "execution_count": 11
        }
      ]
    },
    {
      "cell_type": "code",
      "metadata": {
        "id": "TtoNH1HYrGKE",
        "colab_type": "code",
        "outputId": "51e96bb9-4903-496c-cc27-2bc672066bab",
        "colab": {
          "base_uri": "https://localhost:8080/",
          "height": 34
        }
      },
      "source": [
        "b.__dict__"
      ],
      "execution_count": 0,
      "outputs": [
        {
          "output_type": "execute_result",
          "data": {
            "text/plain": [
              "{'_BlackBox__bottom': 'diamonds', '_top': 'gold'}"
            ]
          },
          "metadata": {
            "tags": []
          },
          "execution_count": 12
        }
      ]
    },
    {
      "cell_type": "code",
      "metadata": {
        "id": "pj_MG06trIPV",
        "colab_type": "code",
        "outputId": "35f782e5-5f0c-412c-ba55-0abd196e3d11",
        "colab": {
          "base_uri": "https://localhost:8080/",
          "height": 34
        }
      },
      "source": [
        "b._BlackBox__bottom"
      ],
      "execution_count": 0,
      "outputs": [
        {
          "output_type": "execute_result",
          "data": {
            "text/plain": [
              "'diamonds'"
            ]
          },
          "metadata": {
            "tags": []
          },
          "execution_count": 13
        }
      ]
    },
    {
      "cell_type": "markdown",
      "metadata": {
        "id": "fbK4b4J-yQ8i",
        "colab_type": "text"
      },
      "source": [
        "# inheritance"
      ]
    },
    {
      "cell_type": "code",
      "metadata": {
        "id": "Qkkz_0Z2ySmH",
        "colab_type": "code",
        "colab": {}
      },
      "source": [
        "class Bingo:\n",
        "    def __init__(self, items):\n",
        "        self._items = list(items)\n",
        "        random.shuffle(self._items)\n",
        "\n",
        "    def pop(self):\n",
        "        return self._items.pop()\n",
        "\n",
        "    def __len__(self):\n",
        "        return len(self._items)"
      ],
      "execution_count": 0,
      "outputs": []
    },
    {
      "cell_type": "code",
      "metadata": {
        "id": "4yQrX0eJyTCi",
        "colab_type": "code",
        "colab": {}
      },
      "source": [
        "import abc\n",
        "\n",
        "class Tombola(abc.ABC):  # <1>\n",
        "\n",
        "    @abc.abstractmethod\n",
        "    def load(self, iterable):  # <2>\n",
        "        \"\"\"Add items from an iterable.\"\"\"\n",
        "\n",
        "    @abc.abstractmethod\n",
        "    def pick(self):  # <3>\n",
        "        \"\"\"Remove item at random, returning it.\n",
        "        This method should raise `LookupError` when the instance is empty.\n",
        "        \"\"\"\n",
        "\n",
        "    def loaded(self):  # <4>\n",
        "        \"\"\"Return `True` if there's at least 1 item, `False` otherwise.\"\"\"\n",
        "        return bool(self.inspect())  # <5>\n",
        "\n",
        "\n",
        "    def inspect(self):\n",
        "        \"\"\"Return a sorted tuple with the items currently inside.\"\"\"\n",
        "        items = []\n",
        "        while True:  # <6>\n",
        "            try:\n",
        "                items.append(self.pick())\n",
        "            except LookupError:\n",
        "                break\n",
        "        self.load(items)  # <7>\n",
        "        return tuple(sorted(items))"
      ],
      "execution_count": 0,
      "outputs": []
    },
    {
      "cell_type": "markdown",
      "metadata": {
        "id": "2HSPVJZHAGc0",
        "colab_type": "text"
      },
      "source": [
        "# generator"
      ]
    },
    {
      "cell_type": "code",
      "metadata": {
        "id": "1ApgLRwlAHmM",
        "colab_type": "code",
        "colab": {}
      },
      "source": [
        "def plus_one():\n",
        "  while True:\n",
        "    value = yield\n",
        "    print(value + 1)"
      ],
      "execution_count": 0,
      "outputs": []
    },
    {
      "cell_type": "code",
      "metadata": {
        "id": "zxBwv4PxAOJI",
        "colab_type": "code",
        "outputId": "985c822a-2f10-45a0-cf46-17df4551b417",
        "colab": {
          "base_uri": "https://localhost:8080/",
          "height": 34
        }
      },
      "source": [
        "plus_one()"
      ],
      "execution_count": 0,
      "outputs": [
        {
          "output_type": "execute_result",
          "data": {
            "text/plain": [
              "<generator object plus_one at 0x7ff4fc90c9e8>"
            ]
          },
          "metadata": {
            "tags": []
          },
          "execution_count": 7
        }
      ]
    },
    {
      "cell_type": "code",
      "metadata": {
        "id": "m0WLAIM5ASDy",
        "colab_type": "code",
        "colab": {}
      },
      "source": [
        "gen = plus_one()"
      ],
      "execution_count": 0,
      "outputs": []
    },
    {
      "cell_type": "code",
      "metadata": {
        "id": "ZkYwr7z-ATUk",
        "colab_type": "code",
        "colab": {}
      },
      "source": [
        "gen.send(None)"
      ],
      "execution_count": 0,
      "outputs": []
    },
    {
      "cell_type": "code",
      "metadata": {
        "id": "6ZYFD79eAWXb",
        "colab_type": "code",
        "outputId": "6df30d87-163b-4d0d-ce43-025e30db4e70",
        "colab": {
          "base_uri": "https://localhost:8080/",
          "height": 34
        }
      },
      "source": [
        "gen.send(5)"
      ],
      "execution_count": 0,
      "outputs": [
        {
          "output_type": "stream",
          "text": [
            "6\n"
          ],
          "name": "stdout"
        }
      ]
    },
    {
      "cell_type": "code",
      "metadata": {
        "id": "K3y_jQ5Yacc2",
        "colab_type": "code",
        "colab": {}
      },
      "source": [
        "def a_generator():\n",
        "  yield from another_generator()"
      ],
      "execution_count": 0,
      "outputs": []
    },
    {
      "cell_type": "code",
      "metadata": {
        "id": "Zgs9hYqsa1n7",
        "colab_type": "code",
        "colab": {}
      },
      "source": [
        "def testgen():\n",
        "  while x < 100:\n",
        "    if x == 3:\n",
        "      return \"not an error anymore\"\n",
        "    x += 1 + x\n",
        "    yield x"
      ],
      "execution_count": 0,
      "outputs": []
    },
    {
      "cell_type": "code",
      "metadata": {
        "id": "gy22gxb1xOAD",
        "colab_type": "code",
        "outputId": "875b694f-110b-4392-e618-5fedb4a08858",
        "colab": {
          "base_uri": "https://localhost:8080/",
          "height": 228
        }
      },
      "source": [
        "# A simple generator function\n",
        "\n",
        "def countdown(n):\n",
        "    print (\"Counting down from\", n)\n",
        "    while n > 0:\n",
        "        yield n\n",
        "        n -= 1\n",
        "    print (\"Done counting down\")\n",
        "\n",
        "# Example use\n",
        "if __name__ == '__main__':\n",
        "    for i in countdown(10):\n",
        "        print (i)"
      ],
      "execution_count": 0,
      "outputs": [
        {
          "output_type": "stream",
          "text": [
            "Counting down from 10\n",
            "10\n",
            "9\n",
            "8\n",
            "7\n",
            "6\n",
            "5\n",
            "4\n",
            "3\n",
            "2\n",
            "1\n",
            "Done counting down\n"
          ],
          "name": "stdout"
        }
      ]
    },
    {
      "cell_type": "markdown",
      "metadata": {
        "id": "4IoFJPXNUthp",
        "colab_type": "text"
      },
      "source": [
        "# decorator"
      ]
    },
    {
      "cell_type": "code",
      "metadata": {
        "id": "ILGOI28nUzr0",
        "colab_type": "code",
        "colab": {}
      },
      "source": [
        "@mydeco\n",
        "def add(a, b):\n",
        "  return a + b "
      ],
      "execution_count": 0,
      "outputs": []
    },
    {
      "cell_type": "code",
      "metadata": {
        "id": "axaCWkfEU39-",
        "colab_type": "code",
        "colab": {}
      },
      "source": [
        "def add(a, b):\n",
        "  return a + b\n",
        "\n",
        "add = mydeco(add)"
      ],
      "execution_count": 0,
      "outputs": []
    },
    {
      "cell_type": "code",
      "metadata": {
        "id": "g6hc3LyFVFVu",
        "colab_type": "code",
        "colab": {}
      },
      "source": [
        "def mydeco(func):\n",
        "  def wrapper(*args, **kwargs):\n",
        "    return f'{func(*args, **kwargs)}!!!'\n",
        "  return wrapper"
      ],
      "execution_count": 0,
      "outputs": []
    },
    {
      "cell_type": "code",
      "metadata": {
        "id": "qchLcWWrV0Ze",
        "colab_type": "code",
        "colab": {}
      },
      "source": [
        "def logtime(func):\n",
        "  def wrapper(*args, **kwargs):\n",
        "    start_time = time.time()\n",
        "    \n",
        "    result = func(*args, *kwargs)\n",
        "    \n",
        "    total_time = time.time() - start_time\n",
        "    \n",
        "    return result\n",
        "  \n",
        "  return wrapper"
      ],
      "execution_count": 0,
      "outputs": []
    },
    {
      "cell_type": "code",
      "metadata": {
        "id": "dREX6gmAXBrB",
        "colab_type": "code",
        "colab": {}
      },
      "source": [
        "@once_per_minute\n",
        "def slow_add(a, b):\n",
        "  time.sleep(2)\n",
        "  return a + b"
      ],
      "execution_count": 0,
      "outputs": []
    },
    {
      "cell_type": "code",
      "metadata": {
        "id": "rbGXUbwIXJVM",
        "colab_type": "code",
        "colab": {}
      },
      "source": [
        "import time\n",
        "def once_per_minute(func):\n",
        "  last_invoked = 0\n",
        "  \n",
        "  def wrapper(*args, **kwargs):\n",
        "    nonlocal last_invoked\n",
        "    \n",
        "    elapsed_time = time.time() - last_invoked\n",
        "    \n",
        "    last_invoked = time.time()\n",
        "    \n",
        "    return func(*args, **kwargs)\n",
        "  \n",
        "  return wrapper"
      ],
      "execution_count": 0,
      "outputs": []
    },
    {
      "cell_type": "code",
      "metadata": {
        "id": "Q2k6Qs5RYDTZ",
        "colab_type": "code",
        "outputId": "a1b46a59-8d04-4387-bf4a-a185d39a18dd",
        "colab": {
          "base_uri": "https://localhost:8080/",
          "height": 34
        }
      },
      "source": [
        "print(slow_add(2, 2))"
      ],
      "execution_count": 0,
      "outputs": [
        {
          "output_type": "stream",
          "text": [
            "4\n"
          ],
          "name": "stdout"
        }
      ]
    },
    {
      "cell_type": "code",
      "metadata": {
        "id": "hXWPoSZLYLbL",
        "colab_type": "code",
        "outputId": "736eefe6-ef8a-47c0-80d5-2f36f17a18e2",
        "colab": {
          "base_uri": "https://localhost:8080/",
          "height": 34
        }
      },
      "source": [
        "print(slow_add(3, 3))"
      ],
      "execution_count": 0,
      "outputs": [
        {
          "output_type": "stream",
          "text": [
            "6\n"
          ],
          "name": "stdout"
        }
      ]
    },
    {
      "cell_type": "code",
      "metadata": {
        "id": "uY_vLqDzYRKc",
        "colab_type": "code",
        "colab": {}
      },
      "source": [
        "def once_per_n(n):\n",
        "  def middle(func):\n",
        "    last_invoked = 0\n",
        "    def wrapper(*args, **kwargs):\n",
        "      nonlocal last_invoked\n",
        "      if time.time() - last_invoked < n:\n",
        "        raise CalledTooOftenError(f\"Only {elapse.time} has passed\")\n",
        "      last_invoked = time.time()\n",
        "      return func(*args, **kwargs)\n",
        "    return wrapper\n",
        "  return middle"
      ],
      "execution_count": 0,
      "outputs": []
    },
    {
      "cell_type": "code",
      "metadata": {
        "id": "F5UuSW0cZG81",
        "colab_type": "code",
        "colab": {}
      },
      "source": [
        "def memoize(func):\n",
        "  cache = {}\n",
        "  def wrapper(*args, **kwargs):\n",
        "    if args not in cache:\n",
        "      print(f\"caching new value for {func.__name__}{args}\")\n",
        "      cache[args] = func(*args, **kwargs)\n",
        "    else:\n",
        "      print(f\"using old value for {func.__name__}{args}\")\n",
        "    return cache[args]\n",
        "  return wrapper"
      ],
      "execution_count": 0,
      "outputs": []
    },
    {
      "cell_type": "code",
      "metadata": {
        "id": "lQjMS_d4ZOcL",
        "colab_type": "code",
        "colab": {}
      },
      "source": [
        "@memoize\n",
        "def add(a, b):\n",
        "  print('add')\n",
        "  return a + b "
      ],
      "execution_count": 0,
      "outputs": []
    },
    {
      "cell_type": "code",
      "metadata": {
        "id": "5V4VOSwWZYrt",
        "colab_type": "code",
        "outputId": "83ad3ce0-d4cf-40f7-f865-caa31e61b8b6",
        "colab": {
          "base_uri": "https://localhost:8080/",
          "height": 70
        }
      },
      "source": [
        "add(3, 3)"
      ],
      "execution_count": 0,
      "outputs": [
        {
          "output_type": "stream",
          "text": [
            "caching new value for add(3, 3)\n",
            "add\n"
          ],
          "name": "stdout"
        },
        {
          "output_type": "execute_result",
          "data": {
            "text/plain": [
              "6"
            ]
          },
          "metadata": {
            "tags": []
          },
          "execution_count": 64
        }
      ]
    },
    {
      "cell_type": "code",
      "metadata": {
        "id": "D43w9DH_ag9B",
        "colab_type": "code",
        "outputId": "b2efdf4c-c648-4dff-defd-956801adf4e0",
        "colab": {
          "base_uri": "https://localhost:8080/",
          "height": 70
        }
      },
      "source": [
        "add(4, 4)"
      ],
      "execution_count": 0,
      "outputs": [
        {
          "output_type": "stream",
          "text": [
            "caching new value for add(4, 4)\n",
            "add\n"
          ],
          "name": "stdout"
        },
        {
          "output_type": "execute_result",
          "data": {
            "text/plain": [
              "8"
            ]
          },
          "metadata": {
            "tags": []
          },
          "execution_count": 65
        }
      ]
    },
    {
      "cell_type": "code",
      "metadata": {
        "id": "tQsBiXcBayMC",
        "colab_type": "code",
        "outputId": "0be2b83c-e640-4eff-e851-bad9fbbe0368",
        "colab": {
          "base_uri": "https://localhost:8080/",
          "height": 52
        }
      },
      "source": [
        "add(3, 3)"
      ],
      "execution_count": 0,
      "outputs": [
        {
          "output_type": "stream",
          "text": [
            "using old value for add(3, 3)\n"
          ],
          "name": "stdout"
        },
        {
          "output_type": "execute_result",
          "data": {
            "text/plain": [
              "6"
            ]
          },
          "metadata": {
            "tags": []
          },
          "execution_count": 66
        }
      ]
    },
    {
      "cell_type": "code",
      "metadata": {
        "id": "l5Es4hNwa14q",
        "colab_type": "code",
        "colab": {}
      },
      "source": [
        "def memoize(func):\n",
        "  cache = {}\n",
        "  def wrapper(*args, **kwargs):\n",
        "    t = (pickle.dumps(args), pickle.dumps(kwargs))\n",
        "    if t not in cache:\n",
        "      print(f\"caching new value for {func.__name__}{args}\")\n",
        "      cache[t] = func(*args, **kwargs)\n",
        "    else:\n",
        "      print(f\"using old value for {func.__name__}{args}\")\n",
        "    return cache[t]\n",
        "  return wrapper"
      ],
      "execution_count": 0,
      "outputs": []
    },
    {
      "cell_type": "code",
      "metadata": {
        "id": "Eie-5M0ZbWus",
        "colab_type": "code",
        "colab": {}
      },
      "source": [
        "def better_repr(c):\n",
        "  c.__repr__ = fancy_repr\n",
        "  def wrapper(*args, **kwargs):\n",
        "    o = c(*args, **kwargs)\n",
        "    return o\n",
        "  return wrapper"
      ],
      "execution_count": 0,
      "outputs": []
    },
    {
      "cell_type": "code",
      "metadata": {
        "id": "XK2mM0Oub69F",
        "colab_type": "code",
        "colab": {}
      },
      "source": [
        "def better_repr(c):\n",
        "  c.__repr__ = fancy_repr\n",
        "  return c"
      ],
      "execution_count": 0,
      "outputs": []
    },
    {
      "cell_type": "code",
      "metadata": {
        "id": "RiJkBl4nc7s8",
        "colab_type": "code",
        "colab": {}
      },
      "source": [
        "def object_birthday(c):\n",
        "  def wrapper(*args, **kwargs):\n",
        "    o = c(*args, **kwargs)\n",
        "    o._creted_at = time.time()\n",
        "    return o\n",
        "  return wrapper"
      ],
      "execution_count": 0,
      "outputs": []
    },
    {
      "cell_type": "code",
      "metadata": {
        "id": "1oL0cV5rdGTW",
        "colab_type": "code",
        "colab": {}
      },
      "source": [
        "def object_birthday(c):\n",
        "  c.__repr__ = fancy_repr\n",
        "  def wrapper(*args, **kwargs):\n",
        "    o = c(*args, **kwargs)\n",
        "    o._creted_at = time.time()\n",
        "    return o\n",
        "  return wrapper"
      ],
      "execution_count": 0,
      "outputs": []
    },
    {
      "cell_type": "markdown",
      "metadata": {
        "id": "i9Jr1U9sds3Q",
        "colab_type": "text"
      },
      "source": [
        "# composition"
      ]
    },
    {
      "cell_type": "code",
      "metadata": {
        "id": "VgerGdKYerMT",
        "colab_type": "code",
        "colab": {}
      },
      "source": [
        "class Engine:\n",
        "  pass\n",
        "\n",
        "class Car:\n",
        "  def __init__(self):\n",
        "    self.engine = Engine()"
      ],
      "execution_count": 0,
      "outputs": []
    },
    {
      "cell_type": "markdown",
      "metadata": {
        "id": "nGIMbjtDdnod",
        "colab_type": "text"
      },
      "source": [
        "# numpy"
      ]
    },
    {
      "cell_type": "code",
      "metadata": {
        "id": "F423xyLHdoc0",
        "colab_type": "code",
        "colab": {}
      },
      "source": [
        "import numpy as np"
      ],
      "execution_count": 0,
      "outputs": []
    },
    {
      "cell_type": "code",
      "metadata": {
        "id": "xdDotM3hdriM",
        "colab_type": "code",
        "outputId": "c8031036-466a-4041-e270-4febbf5c0224",
        "colab": {
          "base_uri": "https://localhost:8080/",
          "height": 52
        }
      },
      "source": [
        "# first dimension is number of rows, second dimension is number of columns\n",
        "c = np.array([[10, 11, 12], [20, 21, 22]])\n",
        "c"
      ],
      "execution_count": 0,
      "outputs": [
        {
          "output_type": "execute_result",
          "data": {
            "text/plain": [
              "array([[10, 11, 12],\n",
              "       [20, 21, 22]])"
            ]
          },
          "metadata": {
            "tags": []
          },
          "execution_count": 2
        }
      ]
    },
    {
      "cell_type": "code",
      "metadata": {
        "id": "-gWiPZineOd8",
        "colab_type": "code",
        "outputId": "72399cf9-87a6-4699-b459-a2ed269bcd62",
        "colab": {
          "base_uri": "https://localhost:8080/",
          "height": 34
        }
      },
      "source": [
        "c.shape"
      ],
      "execution_count": 0,
      "outputs": [
        {
          "output_type": "execute_result",
          "data": {
            "text/plain": [
              "(2, 3)"
            ]
          },
          "metadata": {
            "tags": []
          },
          "execution_count": 3
        }
      ]
    },
    {
      "cell_type": "code",
      "metadata": {
        "id": "kFnSc10QeQFf",
        "colab_type": "code",
        "outputId": "be027714-46a4-45cd-dce5-f6a06a984a03",
        "colab": {
          "base_uri": "https://localhost:8080/",
          "height": 34
        }
      },
      "source": [
        "c.ndim"
      ],
      "execution_count": 0,
      "outputs": [
        {
          "output_type": "execute_result",
          "data": {
            "text/plain": [
              "2"
            ]
          },
          "metadata": {
            "tags": []
          },
          "execution_count": 4
        }
      ]
    },
    {
      "cell_type": "code",
      "metadata": {
        "id": "Rw-MbtlyeSTR",
        "colab_type": "code",
        "colab": {}
      },
      "source": [
        "# row major\n",
        "# we are dealing with arrays, not matrices"
      ],
      "execution_count": 0,
      "outputs": []
    },
    {
      "cell_type": "code",
      "metadata": {
        "id": "gTktuU_ceT7S",
        "colab_type": "code",
        "outputId": "f4d0be6e-0327-4402-8c38-8f0bb3951d13",
        "colab": {
          "base_uri": "https://localhost:8080/",
          "height": 34
        }
      },
      "source": [
        "c.size"
      ],
      "execution_count": 0,
      "outputs": [
        {
          "output_type": "execute_result",
          "data": {
            "text/plain": [
              "6"
            ]
          },
          "metadata": {
            "tags": []
          },
          "execution_count": 7
        }
      ]
    },
    {
      "cell_type": "code",
      "metadata": {
        "id": "KcSnDOa_ejMC",
        "colab_type": "code",
        "outputId": "f8f3eb33-f225-4468-8ed9-cf243e360134",
        "colab": {
          "base_uri": "https://localhost:8080/",
          "height": 34
        }
      },
      "source": [
        "c.nbytes"
      ],
      "execution_count": 0,
      "outputs": [
        {
          "output_type": "execute_result",
          "data": {
            "text/plain": [
              "48"
            ]
          },
          "metadata": {
            "tags": []
          },
          "execution_count": 8
        }
      ]
    },
    {
      "cell_type": "code",
      "metadata": {
        "id": "KJ2VgRp6emaj",
        "colab_type": "code",
        "outputId": "3b749522-c91a-469f-f245-b9f610d805fd",
        "colab": {
          "base_uri": "https://localhost:8080/",
          "height": 34
        }
      },
      "source": [
        "c[0, 0]"
      ],
      "execution_count": 0,
      "outputs": [
        {
          "output_type": "execute_result",
          "data": {
            "text/plain": [
              "10"
            ]
          },
          "metadata": {
            "tags": []
          },
          "execution_count": 9
        }
      ]
    },
    {
      "cell_type": "code",
      "metadata": {
        "id": "W9RDQbbget0F",
        "colab_type": "code",
        "outputId": "0b177860-56fd-4cef-9cab-5d5a0c7412aa",
        "colab": {
          "base_uri": "https://localhost:8080/",
          "height": 34
        }
      },
      "source": [
        "c[:, 1]"
      ],
      "execution_count": 0,
      "outputs": [
        {
          "output_type": "execute_result",
          "data": {
            "text/plain": [
              "array([11, 21])"
            ]
          },
          "metadata": {
            "tags": []
          },
          "execution_count": 10
        }
      ]
    },
    {
      "cell_type": "code",
      "metadata": {
        "id": "QfBBXnrQfPNX",
        "colab_type": "code",
        "outputId": "659f7188-61b0-4322-cde8-30d95377d74d",
        "colab": {
          "base_uri": "https://localhost:8080/",
          "height": 52
        }
      },
      "source": [
        "c"
      ],
      "execution_count": 0,
      "outputs": [
        {
          "output_type": "execute_result",
          "data": {
            "text/plain": [
              "array([[10, 11, 12],\n",
              "       [20, 21, 22]])"
            ]
          },
          "metadata": {
            "tags": []
          },
          "execution_count": 11
        }
      ]
    },
    {
      "cell_type": "code",
      "metadata": {
        "id": "0_4EzhfjfQUT",
        "colab_type": "code",
        "outputId": "f1e38ed9-14dd-4658-97ba-a8acee930147",
        "colab": {
          "base_uri": "https://localhost:8080/",
          "height": 34
        }
      },
      "source": [
        "a = np.array([3, -1, -2, 4, -6, 8])\n",
        "a"
      ],
      "execution_count": 0,
      "outputs": [
        {
          "output_type": "execute_result",
          "data": {
            "text/plain": [
              "array([ 3, -1, -2,  4, -6,  8])"
            ]
          },
          "metadata": {
            "tags": []
          },
          "execution_count": 12
        }
      ]
    },
    {
      "cell_type": "code",
      "metadata": {
        "id": "4gCjyvH8hn-P",
        "colab_type": "code",
        "colab": {}
      },
      "source": [
        "negatives = a < 0"
      ],
      "execution_count": 0,
      "outputs": []
    },
    {
      "cell_type": "code",
      "metadata": {
        "id": "2AI2MjBZhqZw",
        "colab_type": "code",
        "outputId": "4776da21-b3f4-4805-a800-1b5e1c5f4d96",
        "colab": {
          "base_uri": "https://localhost:8080/",
          "height": 34
        }
      },
      "source": [
        "a[negatives]"
      ],
      "execution_count": 0,
      "outputs": [
        {
          "output_type": "execute_result",
          "data": {
            "text/plain": [
              "array([-1, -2, -6])"
            ]
          },
          "metadata": {
            "tags": []
          },
          "execution_count": 14
        }
      ]
    },
    {
      "cell_type": "code",
      "metadata": {
        "id": "xBPpEGj8hrt_",
        "colab_type": "code",
        "outputId": "4418238b-df9a-4615-b6e7-361e2a3e25a5",
        "colab": {
          "base_uri": "https://localhost:8080/",
          "height": 34
        }
      },
      "source": [
        "a[a < 0]"
      ],
      "execution_count": 0,
      "outputs": [
        {
          "output_type": "execute_result",
          "data": {
            "text/plain": [
              "array([-1, -2, -6])"
            ]
          },
          "metadata": {
            "tags": []
          },
          "execution_count": 15
        }
      ]
    },
    {
      "cell_type": "code",
      "metadata": {
        "id": "niOJJlxPhtXw",
        "colab_type": "code",
        "colab": {}
      },
      "source": [
        "a[a < 0] = 0"
      ],
      "execution_count": 0,
      "outputs": []
    },
    {
      "cell_type": "code",
      "metadata": {
        "id": "a9Bjs70ch7en",
        "colab_type": "code",
        "outputId": "5c25491d-5293-4407-b834-6ace09e5b461",
        "colab": {
          "base_uri": "https://localhost:8080/",
          "height": 34
        }
      },
      "source": [
        "a"
      ],
      "execution_count": 0,
      "outputs": [
        {
          "output_type": "execute_result",
          "data": {
            "text/plain": [
              "array([3, 0, 0, 4, 0, 8])"
            ]
          },
          "metadata": {
            "tags": []
          },
          "execution_count": 17
        }
      ]
    },
    {
      "cell_type": "code",
      "metadata": {
        "id": "O_I-eUXzh74o",
        "colab_type": "code",
        "outputId": "c041a32d-ccc0-4c72-ec4c-13c71c720456",
        "colab": {
          "base_uri": "https://localhost:8080/",
          "height": 34
        }
      },
      "source": [
        "a < 8"
      ],
      "execution_count": 0,
      "outputs": [
        {
          "output_type": "execute_result",
          "data": {
            "text/plain": [
              "array([ True,  True,  True,  True,  True, False])"
            ]
          },
          "metadata": {
            "tags": []
          },
          "execution_count": 18
        }
      ]
    },
    {
      "cell_type": "code",
      "metadata": {
        "id": "xzQ8ybCkh-gA",
        "colab_type": "code",
        "outputId": "20267456-af6a-4c0a-b4db-d9244dcd5b8d",
        "colab": {
          "base_uri": "https://localhost:8080/",
          "height": 34
        }
      },
      "source": [
        "a > 3"
      ],
      "execution_count": 0,
      "outputs": [
        {
          "output_type": "execute_result",
          "data": {
            "text/plain": [
              "array([False, False, False,  True, False,  True])"
            ]
          },
          "metadata": {
            "tags": []
          },
          "execution_count": 19
        }
      ]
    },
    {
      "cell_type": "code",
      "metadata": {
        "id": "8ovOCewRh_qA",
        "colab_type": "code",
        "outputId": "91f828aa-6819-4542-c1db-6a48777b5267",
        "colab": {
          "base_uri": "https://localhost:8080/",
          "height": 167
        }
      },
      "source": [
        "a > 3 and a < 8"
      ],
      "execution_count": 0,
      "outputs": [
        {
          "output_type": "error",
          "ename": "ValueError",
          "evalue": "ignored",
          "traceback": [
            "\u001b[0;31m---------------------------------------------------------------------------\u001b[0m",
            "\u001b[0;31mValueError\u001b[0m                                Traceback (most recent call last)",
            "\u001b[0;32m<ipython-input-20-a611552ecf48>\u001b[0m in \u001b[0;36m<module>\u001b[0;34m()\u001b[0m\n\u001b[0;32m----> 1\u001b[0;31m \u001b[0ma\u001b[0m \u001b[0;34m>\u001b[0m \u001b[0;36m3\u001b[0m \u001b[0;32mand\u001b[0m \u001b[0ma\u001b[0m \u001b[0;34m<\u001b[0m \u001b[0;36m8\u001b[0m\u001b[0;34m\u001b[0m\u001b[0;34m\u001b[0m\u001b[0m\n\u001b[0m",
            "\u001b[0;31mValueError\u001b[0m: The truth value of an array with more than one element is ambiguous. Use a.any() or a.all()"
          ]
        }
      ]
    },
    {
      "cell_type": "code",
      "metadata": {
        "id": "vZu4NENuiCdk",
        "colab_type": "code",
        "outputId": "4be72479-489e-4a48-edb8-f24b34e7fc9b",
        "colab": {
          "base_uri": "https://localhost:8080/",
          "height": 34
        }
      },
      "source": [
        "(a > 3) | (a < 8)"
      ],
      "execution_count": 0,
      "outputs": [
        {
          "output_type": "execute_result",
          "data": {
            "text/plain": [
              "array([ True,  True,  True,  True,  True,  True])"
            ]
          },
          "metadata": {
            "tags": []
          },
          "execution_count": 24
        }
      ]
    },
    {
      "cell_type": "code",
      "metadata": {
        "id": "zfVueBGqiRwC",
        "colab_type": "code",
        "colab": {}
      },
      "source": [
        "a = np.arange(24).reshape(6, 4)"
      ],
      "execution_count": 0,
      "outputs": []
    },
    {
      "cell_type": "code",
      "metadata": {
        "id": "1xzIjHBEs_rq",
        "colab_type": "code",
        "outputId": "729edf38-03dc-4cdc-a88a-f879cd72ba3b",
        "colab": {
          "base_uri": "https://localhost:8080/",
          "height": 122
        }
      },
      "source": [
        "a"
      ],
      "execution_count": 0,
      "outputs": [
        {
          "output_type": "execute_result",
          "data": {
            "text/plain": [
              "array([[ 0,  1,  2,  3],\n",
              "       [ 4,  5,  6,  7],\n",
              "       [ 8,  9, 10, 11],\n",
              "       [12, 13, 14, 15],\n",
              "       [16, 17, 18, 19],\n",
              "       [20, 21, 22, 23]])"
            ]
          },
          "metadata": {
            "tags": []
          },
          "execution_count": 26
        }
      ]
    },
    {
      "cell_type": "code",
      "metadata": {
        "id": "YHMl6T6CtAar",
        "colab_type": "code",
        "outputId": "cf45692b-f213-41b3-d028-9bc1b4c633bb",
        "colab": {
          "base_uri": "https://localhost:8080/",
          "height": 34
        }
      },
      "source": [
        "a.shape"
      ],
      "execution_count": 0,
      "outputs": [
        {
          "output_type": "execute_result",
          "data": {
            "text/plain": [
              "(6, 4)"
            ]
          },
          "metadata": {
            "tags": []
          },
          "execution_count": 27
        }
      ]
    },
    {
      "cell_type": "code",
      "metadata": {
        "id": "6VakBBTotBpw",
        "colab_type": "code",
        "outputId": "7fe20a20-b60f-4739-c21e-18f7581586a1",
        "colab": {
          "base_uri": "https://localhost:8080/",
          "height": 34
        }
      },
      "source": [
        "a.sum(1)"
      ],
      "execution_count": 0,
      "outputs": [
        {
          "output_type": "execute_result",
          "data": {
            "text/plain": [
              "array([ 6, 22, 38, 54, 70, 86])"
            ]
          },
          "metadata": {
            "tags": []
          },
          "execution_count": 28
        }
      ]
    },
    {
      "cell_type": "code",
      "metadata": {
        "id": "F-nKHxh5tEQI",
        "colab_type": "code",
        "outputId": "315742fd-7005-41da-c33f-90862b494cb9",
        "colab": {
          "base_uri": "https://localhost:8080/",
          "height": 34
        }
      },
      "source": [
        "a.sum(0)"
      ],
      "execution_count": 0,
      "outputs": [
        {
          "output_type": "execute_result",
          "data": {
            "text/plain": [
              "array([60, 66, 72, 78])"
            ]
          },
          "metadata": {
            "tags": []
          },
          "execution_count": 29
        }
      ]
    },
    {
      "cell_type": "code",
      "metadata": {
        "id": "dgE3VcoftFv9",
        "colab_type": "code",
        "outputId": "85cf4223-6eed-4139-e056-8d6867fc7a2b",
        "colab": {
          "base_uri": "https://localhost:8080/",
          "height": 34
        }
      },
      "source": [
        "a.sum(0).shape # the axis we specify gets removed"
      ],
      "execution_count": 0,
      "outputs": [
        {
          "output_type": "execute_result",
          "data": {
            "text/plain": [
              "(4,)"
            ]
          },
          "metadata": {
            "tags": []
          },
          "execution_count": 31
        }
      ]
    },
    {
      "cell_type": "code",
      "metadata": {
        "id": "79oMv02QtRUV",
        "colab_type": "code",
        "outputId": "14ca9746-2578-41b0-f0b7-a5e23ed855e2",
        "colab": {
          "base_uri": "https://localhost:8080/",
          "height": 34
        }
      },
      "source": [
        "a.sum(1).shape"
      ],
      "execution_count": 0,
      "outputs": [
        {
          "output_type": "execute_result",
          "data": {
            "text/plain": [
              "(6,)"
            ]
          },
          "metadata": {
            "tags": []
          },
          "execution_count": 32
        }
      ]
    },
    {
      "cell_type": "markdown",
      "metadata": {
        "id": "ytGfI-tQtFPJ",
        "colab_type": "text"
      },
      "source": [
        "# magic str, magic add"
      ]
    },
    {
      "cell_type": "code",
      "metadata": {
        "id": "ryIUjjn6tIc5",
        "colab_type": "code",
        "colab": {}
      },
      "source": [
        "class Money:\n",
        "  \n",
        "  currency_rates = {\n",
        "      '$': 1,\n",
        "      '€': 0.88,\n",
        "  }\n",
        "  \n",
        "  def __init__(self, symbol, amount):\n",
        "    self.symbol = symbol\n",
        "    self.amount = amount\n",
        "  \n",
        "  def __str__(self):\n",
        "    return '%s%.2f hello' % (self.symbol, self.amount)\n",
        "  \n",
        "  def __add__(self, other):\n",
        "    \"\"\"\n",
        "    Add 2 Money instances using '+'\n",
        "    \"\"\"\n",
        "    new_amount = self.amount + self.convert(other).amount\n",
        "    # print(self)\n",
        "    # print(other)\n",
        "    return Money(self.symbol, new_amount)\n",
        "  \n",
        "  def convert(self, other):\n",
        "    \"\"\"\n",
        "    Convert other amount to our currency\n",
        "    \"\"\"\n",
        "    new_amount = (other.amount / self.currency_rates[other.symbol] + self.currency_rates[self.symbol])\n",
        "    return Money(self.symbol, new_amount)\n",
        "  "
      ],
      "execution_count": 0,
      "outputs": []
    },
    {
      "cell_type": "code",
      "metadata": {
        "id": "Bbk4PrZDtdf4",
        "colab_type": "code",
        "colab": {}
      },
      "source": [
        "soda_cost = Money('$', 5.25)"
      ],
      "execution_count": 0,
      "outputs": []
    },
    {
      "cell_type": "code",
      "metadata": {
        "id": "LDlIgKqkt36t",
        "colab_type": "code",
        "outputId": "1edaf75a-8046-40b0-d630-fa387e8ebacd",
        "colab": {
          "base_uri": "https://localhost:8080/",
          "height": 34
        }
      },
      "source": [
        "print(soda_cost)"
      ],
      "execution_count": 39,
      "outputs": [
        {
          "output_type": "stream",
          "text": [
            "$5.25 hello\n"
          ],
          "name": "stdout"
        }
      ]
    },
    {
      "cell_type": "code",
      "metadata": {
        "id": "vdhgQlPet5-V",
        "colab_type": "code",
        "colab": {}
      },
      "source": [
        "pizza_cost = Money('€', 7.99)"
      ],
      "execution_count": 0,
      "outputs": []
    },
    {
      "cell_type": "code",
      "metadata": {
        "id": "enmEHZ3IufvV",
        "colab_type": "code",
        "outputId": "3bbd69e2-91fe-4695-8b40-cf000197515c",
        "colab": {
          "base_uri": "https://localhost:8080/",
          "height": 34
        }
      },
      "source": [
        "print(soda_cost + pizza_cost)"
      ],
      "execution_count": 41,
      "outputs": [
        {
          "output_type": "stream",
          "text": [
            "$15.33 hello\n"
          ],
          "name": "stdout"
        }
      ]
    },
    {
      "cell_type": "markdown",
      "metadata": {
        "id": "JCPMwLoPwy3s",
        "colab_type": "text"
      },
      "source": [
        "# magic getitem, magic len"
      ]
    },
    {
      "cell_type": "code",
      "metadata": {
        "id": "XZHkINxhw0zq",
        "colab_type": "code",
        "colab": {}
      },
      "source": [
        "d = {'one': 1, 'two': 2}"
      ],
      "execution_count": 0,
      "outputs": []
    },
    {
      "cell_type": "code",
      "metadata": {
        "id": "b5VPWhFlw3wf",
        "colab_type": "code",
        "colab": {
          "base_uri": "https://localhost:8080/",
          "height": 34
        },
        "outputId": "ddbe6e5e-4d7a-4988-b7c3-dd1c2170a179"
      },
      "source": [
        "d['two']"
      ],
      "execution_count": 43,
      "outputs": [
        {
          "output_type": "execute_result",
          "data": {
            "text/plain": [
              "2"
            ]
          },
          "metadata": {
            "tags": []
          },
          "execution_count": 43
        }
      ]
    },
    {
      "cell_type": "code",
      "metadata": {
        "id": "Yeya_OGEw4s-",
        "colab_type": "code",
        "colab": {
          "base_uri": "https://localhost:8080/",
          "height": 34
        },
        "outputId": "ae552692-fc2f-47cb-9aea-c881af0b298d"
      },
      "source": [
        "d.__getitem__('two')"
      ],
      "execution_count": 44,
      "outputs": [
        {
          "output_type": "execute_result",
          "data": {
            "text/plain": [
              "2"
            ]
          },
          "metadata": {
            "tags": []
          },
          "execution_count": 44
        }
      ]
    },
    {
      "cell_type": "code",
      "metadata": {
        "id": "6Eeuq_mUw6ZZ",
        "colab_type": "code",
        "colab": {}
      },
      "source": [
        "class SquareShape:\n",
        "  def __len__(self):\n",
        "    \"\"\"\n",
        "    return the number of sides in our shape\n",
        "    \"\"\"\n",
        "    return 4"
      ],
      "execution_count": 0,
      "outputs": []
    },
    {
      "cell_type": "code",
      "metadata": {
        "id": "V3-QLBVjxGzB",
        "colab_type": "code",
        "colab": {}
      },
      "source": [
        "my_square = SquareShape()"
      ],
      "execution_count": 0,
      "outputs": []
    },
    {
      "cell_type": "code",
      "metadata": {
        "id": "5eGliXPixJMV",
        "colab_type": "code",
        "colab": {
          "base_uri": "https://localhost:8080/",
          "height": 34
        },
        "outputId": "c787ce65-67b1-412d-9702-27803c8793ec"
      },
      "source": [
        "len(my_square)"
      ],
      "execution_count": 47,
      "outputs": [
        {
          "output_type": "execute_result",
          "data": {
            "text/plain": [
              "4"
            ]
          },
          "metadata": {
            "tags": []
          },
          "execution_count": 47
        }
      ]
    }
  ]
}